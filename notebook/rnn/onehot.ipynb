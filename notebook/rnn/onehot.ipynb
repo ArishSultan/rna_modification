{
 "cells": [
  {
   "cell_type": "code",
   "outputs": [],
   "source": [
    "from src.dataset import load_dataset, Species, Modification\n",
    "\n",
    "from tensorflow.keras.preprocessing.text import Tokenizer\n",
    "from tensorflow.keras.preprocessing.sequence import pad_sequences\n",
    "from tensorflow.keras.models import Sequential\n",
    "from tensorflow.keras.layers import SimpleRNN, Dense, Embedding, Dropout"
   ],
   "metadata": {
    "collapsed": false,
    "ExecuteTime": {
     "end_time": "2024-01-29T06:15:55.780257Z",
     "start_time": "2024-01-29T06:15:51.040417Z"
    }
   },
   "id": "a2d641410e08bfae",
   "execution_count": 1
  },
  {
   "cell_type": "code",
   "outputs": [],
   "source": [
    "train_data = load_dataset(Species.human, Modification.psi)"
   ],
   "metadata": {
    "collapsed": false,
    "ExecuteTime": {
     "end_time": "2024-01-29T06:15:55.814032Z",
     "start_time": "2024-01-29T06:15:55.780651Z"
    }
   },
   "id": "511b2094428cbfd6",
   "execution_count": 2
  },
  {
   "cell_type": "code",
   "outputs": [],
   "source": [
    "max_length = 41\n",
    "\n",
    "# Tokenize the sequences\n",
    "tokenizer = Tokenizer(char_level=True)  # Set char_level to True for character-level tokenization\n",
    "tokenizer.fit_on_texts([x[0] for x in train_data.samples.values])\n",
    "\n",
    "# Convert sequences to numerical format\n",
    "train_sequences = tokenizer.texts_to_sequences([x[0] for x in train_data.samples.values])\n",
    "# test_sequences = tokenizer.texts_to_sequences(test_data.sequences)\n",
    "\n",
    "# Pad the sequences\n",
    "train_sequences_padded = pad_sequences(train_sequences, maxlen=max_length, padding='post')\n",
    "# test_sequences_padded = pad_sequences(test_sequences, maxlen=max_length, padding='post')"
   ],
   "metadata": {
    "collapsed": true,
    "ExecuteTime": {
     "end_time": "2024-01-29T06:15:55.975220Z",
     "start_time": "2024-01-29T06:15:55.818644Z"
    }
   },
   "id": "initial_id",
   "execution_count": 3
  },
  {
   "cell_type": "code",
   "outputs": [
    {
     "data": {
      "text/plain": "array([[1, 1, 3, ..., 2, 4, 1],\n       [2, 1, 2, ..., 1, 1, 4],\n       [4, 1, 3, ..., 1, 3, 2],\n       ...,\n       [3, 3, 1, ..., 2, 2, 4],\n       [4, 1, 3, ..., 4, 3, 2],\n       [4, 4, 2, ..., 4, 1, 2]], dtype=int32)"
     },
     "execution_count": 4,
     "metadata": {},
     "output_type": "execute_result"
    }
   ],
   "source": [
    "train_sequences_padded"
   ],
   "metadata": {
    "collapsed": false,
    "ExecuteTime": {
     "end_time": "2024-01-29T06:15:55.997133Z",
     "start_time": "2024-01-29T06:15:55.977217Z"
    }
   },
   "id": "b2bf5149a3ae441f",
   "execution_count": 4
  },
  {
   "cell_type": "code",
   "outputs": [
    {
     "name": "stdout",
     "output_type": "stream",
     "text": [
      "Epoch 1/10\n",
      "286/286 [==============================] - 5s 15ms/step - loss: 0.6786 - accuracy: 0.5757 - val_loss: 0.6380 - val_accuracy: 0.6227\n",
      "Epoch 2/10\n",
      "286/286 [==============================] - 4s 15ms/step - loss: 0.6247 - accuracy: 0.6420 - val_loss: 0.6165 - val_accuracy: 0.6499\n",
      "Epoch 3/10\n",
      "286/286 [==============================] - 4s 15ms/step - loss: 0.5909 - accuracy: 0.6800 - val_loss: 0.5643 - val_accuracy: 0.6981\n",
      "Epoch 4/10\n",
      "286/286 [==============================] - 4s 15ms/step - loss: 0.5612 - accuracy: 0.7061 - val_loss: 0.5271 - val_accuracy: 0.7349\n",
      "Epoch 5/10\n",
      "286/286 [==============================] - 4s 15ms/step - loss: 0.5391 - accuracy: 0.7280 - val_loss: 0.5196 - val_accuracy: 0.7287\n",
      "Epoch 6/10\n",
      "286/286 [==============================] - 4s 15ms/step - loss: 0.5012 - accuracy: 0.7512 - val_loss: 0.5496 - val_accuracy: 0.7274\n",
      "Epoch 7/10\n",
      "286/286 [==============================] - 4s 15ms/step - loss: 0.4735 - accuracy: 0.7642 - val_loss: 0.4699 - val_accuracy: 0.7713\n",
      "Epoch 8/10\n",
      "286/286 [==============================] - 4s 15ms/step - loss: 0.4517 - accuracy: 0.7858 - val_loss: 0.5108 - val_accuracy: 0.7524\n",
      "Epoch 9/10\n",
      "286/286 [==============================] - 4s 15ms/step - loss: 0.4389 - accuracy: 0.7982 - val_loss: 0.5330 - val_accuracy: 0.7555\n",
      "Epoch 10/10\n",
      "286/286 [==============================] - 4s 15ms/step - loss: 0.4211 - accuracy: 0.8040 - val_loss: 0.4745 - val_accuracy: 0.7787\n"
     ]
    },
    {
     "data": {
      "text/plain": "<keras.src.callbacks.History at 0x2a0bcde50>"
     },
     "execution_count": 5,
     "metadata": {},
     "output_type": "execute_result"
    }
   ],
   "source": [
    "model_rnn = Sequential()\n",
    "model_rnn.add(Embedding(input_dim=len(tokenizer.word_index) + 1, output_dim=100, input_length=max_length))\n",
    "\n",
    "# First RNN layer with more units\n",
    "model_rnn.add(SimpleRNN(100, return_sequences=True))  # return_sequences=True for stacking RNN layers\n",
    "\n",
    "# Dropout layer for regularization\n",
    "model_rnn.add(Dropout(0.2))\n",
    "\n",
    "# Second RNN layer\n",
    "model_rnn.add(SimpleRNN(100))\n",
    "\n",
    "# Another Dropout layer\n",
    "model_rnn.add(Dropout(0.2))\n",
    "\n",
    "# Dense layer\n",
    "model_rnn.add(Dense(64, activation='relu'))\n",
    "\n",
    "# Final Dense layer with sigmoid activation for binary classification\n",
    "model_rnn.add(Dense(1, activation='sigmoid'))\n",
    "\n",
    "# Compile the model\n",
    "model_rnn.compile(loss='binary_crossentropy', optimizer='adam', metrics=['accuracy'])\n",
    "\n",
    "# Train the model\n",
    "model_rnn.fit(train_sequences_padded, train_data.targets, epochs=10, validation_split=0.2)"
   ],
   "metadata": {
    "collapsed": false,
    "ExecuteTime": {
     "end_time": "2024-01-29T06:16:38.847518Z",
     "start_time": "2024-01-29T06:15:55.981892Z"
    }
   },
   "id": "67a6cfadb8c5bba7",
   "execution_count": 5
  },
  {
   "cell_type": "code",
   "outputs": [
    {
     "name": "stdout",
     "output_type": "stream",
     "text": [
      "Epoch 1/20\n",
      "286/286 [==============================] - 4s 15ms/step - loss: 0.2490 - accuracy: 0.8969 - val_loss: 0.4437 - val_accuracy: 0.8216\n",
      "Epoch 2/20\n",
      "286/286 [==============================] - 4s 15ms/step - loss: 0.2141 - accuracy: 0.9144 - val_loss: 0.4646 - val_accuracy: 0.8103\n",
      "Epoch 3/20\n",
      "286/286 [==============================] - 4s 15ms/step - loss: 0.2413 - accuracy: 0.9011 - val_loss: 0.4514 - val_accuracy: 0.8155\n",
      "Epoch 4/20\n",
      "286/286 [==============================] - 4s 15ms/step - loss: 0.2044 - accuracy: 0.9197 - val_loss: 0.4290 - val_accuracy: 0.8300\n",
      "Epoch 5/20\n",
      "286/286 [==============================] - 4s 15ms/step - loss: 0.2317 - accuracy: 0.9076 - val_loss: 0.5081 - val_accuracy: 0.8076\n",
      "Epoch 6/20\n",
      "286/286 [==============================] - 4s 15ms/step - loss: 0.2380 - accuracy: 0.9028 - val_loss: 0.4435 - val_accuracy: 0.8247\n",
      "Epoch 7/20\n",
      "286/286 [==============================] - 4s 15ms/step - loss: 0.2121 - accuracy: 0.9159 - val_loss: 0.4932 - val_accuracy: 0.8190\n",
      "Epoch 8/20\n",
      "286/286 [==============================] - 4s 15ms/step - loss: 0.2016 - accuracy: 0.9188 - val_loss: 0.4797 - val_accuracy: 0.8252\n",
      "Epoch 9/20\n",
      "286/286 [==============================] - 4s 15ms/step - loss: 0.1988 - accuracy: 0.9218 - val_loss: 0.4607 - val_accuracy: 0.8273\n",
      "Epoch 10/20\n",
      "286/286 [==============================] - 4s 15ms/step - loss: 0.2200 - accuracy: 0.9118 - val_loss: 0.4849 - val_accuracy: 0.8208\n",
      "Epoch 11/20\n",
      "286/286 [==============================] - 4s 15ms/step - loss: 0.2100 - accuracy: 0.9151 - val_loss: 0.4607 - val_accuracy: 0.8326\n",
      "Epoch 12/20\n",
      "286/286 [==============================] - 4s 15ms/step - loss: 0.1996 - accuracy: 0.9243 - val_loss: 0.4516 - val_accuracy: 0.8335\n",
      "Epoch 13/20\n",
      "286/286 [==============================] - 4s 15ms/step - loss: 0.1898 - accuracy: 0.9264 - val_loss: 0.4544 - val_accuracy: 0.8339\n",
      "Epoch 14/20\n",
      "286/286 [==============================] - 4s 15ms/step - loss: 0.1943 - accuracy: 0.9275 - val_loss: 0.4491 - val_accuracy: 0.8352\n",
      "Epoch 15/20\n",
      "286/286 [==============================] - 4s 15ms/step - loss: 0.2018 - accuracy: 0.9193 - val_loss: 0.5321 - val_accuracy: 0.8081\n",
      "Epoch 16/20\n",
      "286/286 [==============================] - 4s 15ms/step - loss: 0.2079 - accuracy: 0.9160 - val_loss: 0.4680 - val_accuracy: 0.8317\n",
      "Epoch 17/20\n",
      "286/286 [==============================] - 4s 15ms/step - loss: 0.1954 - accuracy: 0.9235 - val_loss: 0.5126 - val_accuracy: 0.8256\n",
      "Epoch 18/20\n",
      "286/286 [==============================] - 4s 15ms/step - loss: 0.1878 - accuracy: 0.9257 - val_loss: 0.4903 - val_accuracy: 0.8230\n",
      "Epoch 19/20\n",
      "286/286 [==============================] - 4s 15ms/step - loss: 0.2038 - accuracy: 0.9205 - val_loss: 0.4708 - val_accuracy: 0.8269\n",
      "Epoch 20/20\n",
      "286/286 [==============================] - 4s 15ms/step - loss: 0.2109 - accuracy: 0.9190 - val_loss: 0.4486 - val_accuracy: 0.8186\n"
     ]
    },
    {
     "data": {
      "text/plain": "<keras.src.callbacks.History at 0x2a1950990>"
     },
     "execution_count": 7,
     "metadata": {},
     "output_type": "execute_result"
    }
   ],
   "source": [
    "model_rnn.fit(train_sequences_padded, train_data.targets, epochs=20, validation_split=0.2)"
   ],
   "metadata": {
    "collapsed": false,
    "ExecuteTime": {
     "end_time": "2024-01-29T06:19:32.018629Z",
     "start_time": "2024-01-29T06:18:08.014820Z"
    }
   },
   "id": "8df0619a34abe474",
   "execution_count": 7
  },
  {
   "cell_type": "code",
   "outputs": [],
   "source": [],
   "metadata": {
    "collapsed": false,
    "ExecuteTime": {
     "end_time": "2024-01-29T06:18:03.329939Z",
     "start_time": "2024-01-29T06:18:03.315469Z"
    }
   },
   "id": "6f01caea063c9ac5",
   "execution_count": 6
  }
 ],
 "metadata": {
  "kernelspec": {
   "display_name": "Python 3",
   "language": "python",
   "name": "python3"
  },
  "language_info": {
   "codemirror_mode": {
    "name": "ipython",
    "version": 2
   },
   "file_extension": ".py",
   "mimetype": "text/x-python",
   "name": "python",
   "nbconvert_exporter": "python",
   "pygments_lexer": "ipython2",
   "version": "2.7.6"
  }
 },
 "nbformat": 4,
 "nbformat_minor": 5
}
