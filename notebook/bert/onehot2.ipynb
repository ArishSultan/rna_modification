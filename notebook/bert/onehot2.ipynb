{
 "cells": [
  {
   "cell_type": "code",
   "source": [
    "import tensorflow as tf\n",
    "from transformers import BertTokenizer\n",
    "from transformers import TFBertForSequenceClassification\n",
    "\n",
    "from sklearn.model_selection import train_test_split"
   ],
   "metadata": {
    "collapsed": false,
    "ExecuteTime": {
     "end_time": "2024-03-24T10:16:24.764397Z",
     "start_time": "2024-03-24T10:16:24.759155Z"
    }
   },
   "id": "c6e44ccfaec72c1c",
   "outputs": [],
   "execution_count": 17
  },
  {
   "cell_type": "code",
   "source": "from src.dataset import load_dataset, Species, Modification",
   "metadata": {
    "collapsed": false,
    "ExecuteTime": {
     "end_time": "2024-03-24T10:07:03.864018Z",
     "start_time": "2024-03-24T10:07:03.533428Z"
    }
   },
   "id": "a2d641410e08bfae",
   "outputs": [],
   "execution_count": 2
  },
  {
   "cell_type": "code",
   "source": [
    "tokenizer = BertTokenizer.from_pretrained('bert-base-cased')"
   ],
   "metadata": {
    "collapsed": false,
    "ExecuteTime": {
     "end_time": "2024-03-24T10:07:05.429443Z",
     "start_time": "2024-03-24T10:07:04.431315Z"
    }
   },
   "id": "dff7fb1d2ad5af1a",
   "outputs": [],
   "execution_count": 3
  },
  {
   "cell_type": "code",
   "source": [
    "train_data = load_dataset(Species.human, Modification.psi)"
   ],
   "metadata": {
    "collapsed": false,
    "ExecuteTime": {
     "end_time": "2024-03-24T10:07:05.884283Z",
     "start_time": "2024-03-24T10:07:05.867249Z"
    }
   },
   "id": "511b2094428cbfd6",
   "outputs": [],
   "execution_count": 4
  },
  {
   "metadata": {
    "ExecuteTime": {
     "end_time": "2024-03-24T10:17:50.812178Z",
     "start_time": "2024-03-24T10:17:50.801838Z"
    }
   },
   "cell_type": "code",
   "source": [
    "x_train, x_test, y_train, y_test = train_test_split(\n",
    "    train_data.samples,\n",
    "    train_data.targets,\n",
    "    test_size=0.2\n",
    ")"
   ],
   "id": "6a2457412227b32c",
   "outputs": [],
   "execution_count": 19
  },
  {
   "cell_type": "code",
   "source": [
    "x_train_encodings = tokenizer(\n",
    "    [value[0] for value in x_train.sequence.values],\n",
    "    truncation=True, padding=True, max_length=41\n",
    ")\n",
    "\n",
    "x_test_encodings = tokenizer(\n",
    "    [value[0] for value in x_test.sequence.values],\n",
    "    truncation=True, padding=True, max_length=41\n",
    ")"
   ],
   "metadata": {
    "collapsed": false,
    "ExecuteTime": {
     "end_time": "2024-03-24T10:25:16.860604Z",
     "start_time": "2024-03-24T10:25:16.735384Z"
    }
   },
   "id": "bde3bac41787590b",
   "outputs": [],
   "execution_count": 26
  },
  {
   "cell_type": "code",
   "source": [
    "train_dataset = tf.data.Dataset.from_tensor_slices((\n",
    "    dict(x_train_encodings),\n",
    "    y_train\n",
    "))\n",
    "test_dataset = tf.data.Dataset.from_tensor_slices((\n",
    "    dict(x_test_encodings),\n",
    "    y_test\n",
    "))"
   ],
   "metadata": {
    "collapsed": true,
    "ExecuteTime": {
     "end_time": "2024-03-24T10:26:46.624174Z",
     "start_time": "2024-03-24T10:26:46.524655Z"
    }
   },
   "id": "initial_id",
   "outputs": [],
   "execution_count": 33
  },
  {
   "cell_type": "code",
   "source": "model_bert = TFBertForSequenceClassification.from_pretrained('bert-base-cased')",
   "metadata": {
    "collapsed": false
   },
   "id": "67a6cfadb8c5bba7",
   "outputs": [],
   "execution_count": null
  },
  {
   "cell_type": "code",
   "source": [
    "optimizer = tf.keras.optimizers.Adam(learning_rate=5e-5)\n",
    "loss = tf.keras.losses.SparseCategoricalCrossentropy(from_logits=True)\n",
    "model_bert.compile(optimizer=optimizer, loss=loss, metrics=['accuracy'])"
   ],
   "metadata": {
    "collapsed": false,
    "ExecuteTime": {
     "end_time": "2024-03-24T10:26:48.791315Z",
     "start_time": "2024-03-24T10:26:48.780610Z"
    }
   },
   "id": "16a168b91f83f342",
   "outputs": [
    {
     "name": "stderr",
     "output_type": "stream",
     "text": [
      "WARNING:absl:At this time, the v2.11+ optimizer `tf.keras.optimizers.Adam` runs slowly on M1/M2 Macs, please use the legacy TF-Keras optimizer instead, located at `tf.keras.optimizers.legacy.Adam`.\n"
     ]
    }
   ],
   "execution_count": 34
  },
  {
   "cell_type": "code",
   "source": "model_bert.fit(train_dataset.shuffle(100).batch(32), validation_data=test_dataset.batch(32), epochs=3, batch_size=32)",
   "metadata": {
    "collapsed": false,
    "jupyter": {
     "is_executing": true
    },
    "ExecuteTime": {
     "start_time": "2024-03-24T10:27:05.241354Z"
    }
   },
   "id": "179f490630b97b74",
   "outputs": [
    {
     "name": "stdout",
     "output_type": "stream",
     "text": [
      "Epoch 1/3\n",
      "198/198 [==============================] - 91s 350ms/step - loss: 0.7043 - accuracy: 0.5020 - val_loss: 0.6931 - val_accuracy: 0.4991\n",
      "Epoch 2/3\n",
      " 41/198 [=====>........................] - ETA: 49s - loss: 0.7012 - accuracy: 0.4931"
     ]
    }
   ],
   "execution_count": null
  },
  {
   "metadata": {},
   "cell_type": "code",
   "outputs": [],
   "execution_count": null,
   "source": "",
   "id": "81f9a706d76905c9"
  }
 ],
 "metadata": {
  "kernelspec": {
   "display_name": "Python 3",
   "language": "python",
   "name": "python3"
  },
  "language_info": {
   "codemirror_mode": {
    "name": "ipython",
    "version": 2
   },
   "file_extension": ".py",
   "mimetype": "text/x-python",
   "name": "python",
   "nbconvert_exporter": "python",
   "pygments_lexer": "ipython2",
   "version": "2.7.6"
  }
 },
 "nbformat": 4,
 "nbformat_minor": 5
}
