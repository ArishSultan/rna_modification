{
 "cells": [
  {
   "cell_type": "code",
   "id": "initial_id",
   "metadata": {
    "collapsed": true,
    "ExecuteTime": {
     "end_time": "2024-07-13T08:00:52.181881Z",
     "start_time": "2024-07-13T08:00:49.466866Z"
    }
   },
   "source": [
    "from src.features.encodings import kmer, sparsity\n",
    "from src.dataset import load_benchmark_dataset, Species, Modification"
   ],
   "outputs": [],
   "execution_count": 1
  },
  {
   "metadata": {
    "ExecuteTime": {
     "end_time": "2024-07-13T08:00:52.189786Z",
     "start_time": "2024-07-13T08:00:52.183075Z"
    }
   },
   "cell_type": "code",
   "source": [
    "test_dataset = load_benchmark_dataset(Species.human, Modification.psi, True)\n",
    "train_dataset = load_benchmark_dataset(Species.human, Modification.psi)"
   ],
   "id": "f120513bda7c80bb",
   "outputs": [],
   "execution_count": 2
  },
  {
   "metadata": {
    "ExecuteTime": {
     "end_time": "2024-07-13T08:11:44.782359Z",
     "start_time": "2024-07-13T08:11:44.780376Z"
    }
   },
   "cell_type": "code",
   "source": [
    "encoder = kmer.Encoder(k=8, normalize=True)\n",
    "sparsity_remover = sparsity.SparseColumnsRemover()"
   ],
   "id": "9a806e47087f2945",
   "outputs": [],
   "execution_count": 7
  },
  {
   "metadata": {
    "ExecuteTime": {
     "end_time": "2024-07-13T08:12:09.851451Z",
     "start_time": "2024-07-13T08:11:45.197394Z"
    }
   },
   "cell_type": "code",
   "source": [
    "encoded_train_samples = encoder.fit_transform(train_dataset.samples)\n",
    "encoded_test_samples = encoder.transform(test_dataset.samples)\n",
    "\n",
    "train_targets = train_dataset.targets\n",
    "test_targets = test_dataset.targets"
   ],
   "id": "4b0620d3408c5abb",
   "outputs": [],
   "execution_count": 8
  },
  {
   "metadata": {
    "ExecuteTime": {
     "end_time": "2024-07-13T08:12:13.232192Z",
     "start_time": "2024-07-13T08:12:09.853282Z"
    }
   },
   "cell_type": "code",
   "source": [
    "encoded_train_samples = sparsity_remover.fit_transform(encoded_train_samples)\n",
    "encoded_test_samples = sparsity_remover.transform(encoded_test_samples)"
   ],
   "id": "cfa24123c7300f53",
   "outputs": [
    {
     "name": "stdout",
     "output_type": "stream",
     "text": [
      "Columns Removed: 53880\n",
      "Columns Removed: 63288\n"
     ]
    }
   ],
   "execution_count": 9
  },
  {
   "metadata": {
    "ExecuteTime": {
     "end_time": "2024-07-13T08:06:44.504909Z",
     "start_time": "2024-07-13T08:06:44.501184Z"
    }
   },
   "cell_type": "code",
   "source": "encoded_train_samples.shape",
   "id": "a462c62074fbff79",
   "outputs": [
    {
     "data": {
      "text/plain": [
       "(990, 11656)"
      ]
     },
     "execution_count": 6,
     "metadata": {},
     "output_type": "execute_result"
    }
   ],
   "execution_count": 6
  }
 ],
 "metadata": {
  "kernelspec": {
   "display_name": "Python 3",
   "language": "python",
   "name": "python3"
  },
  "language_info": {
   "codemirror_mode": {
    "name": "ipython",
    "version": 2
   },
   "file_extension": ".py",
   "mimetype": "text/x-python",
   "name": "python",
   "nbconvert_exporter": "python",
   "pygments_lexer": "ipython2",
   "version": "2.7.6"
  }
 },
 "nbformat": 4,
 "nbformat_minor": 5
}
