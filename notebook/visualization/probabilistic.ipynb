{
 "cells": [
  {
   "metadata": {
    "ExecuteTime": {
     "end_time": "2024-06-12T19:12:34.375882Z",
     "start_time": "2024-06-12T19:12:34.374086Z"
    }
   },
   "cell_type": "code",
   "source": [
    "from collections import Counter\n",
    "from src.dataset import load_benchmark_dataset, Species, Modification"
   ],
   "id": "c133b86e6c43ce99",
   "outputs": [],
   "execution_count": 18
  },
  {
   "metadata": {
    "ExecuteTime": {
     "end_time": "2024-06-12T19:12:35.010588Z",
     "start_time": "2024-06-12T19:12:35.005137Z"
    }
   },
   "cell_type": "code",
   "source": "dataset = load_benchmark_dataset(Species.human, Modification.psi)",
   "id": "a257d67e6591af92",
   "outputs": [],
   "execution_count": 19
  },
  {
   "metadata": {
    "ExecuteTime": {
     "end_time": "2024-06-12T19:12:35.365567Z",
     "start_time": "2024-06-12T19:12:35.363Z"
    }
   },
   "cell_type": "code",
   "source": [
    "positive_samples = dataset.samples[dataset.targets == 1]['sequence'].values\n",
    "negative_samples = dataset.samples[dataset.targets == 0]['sequence'].values"
   ],
   "id": "a8318a8e980d4cfc",
   "outputs": [],
   "execution_count": 20
  },
  {
   "metadata": {
    "ExecuteTime": {
     "end_time": "2024-06-12T20:22:04.389446Z",
     "start_time": "2024-06-12T20:22:04.385775Z"
    }
   },
   "cell_type": "code",
   "source": [
    "def process_one_side(start, end, samples, proba, reverse=False):\n",
    "    uniques = set()\n",
    "    for sample in samples:\n",
    "        uniques.add(sample[start: end])\n",
    "\n",
    "    index = start - 1 if reverse else end\n",
    "\n",
    "    if end == start:\n",
    "        nucleotides = []\n",
    "        for sample in samples:\n",
    "            nucleotides.append(sample[index])\n",
    "        proba[''] = Counter(nucleotides)\n",
    "        return\n",
    "\n",
    "    for item in uniques:\n",
    "        nucleotides = []\n",
    "        for sample in samples:\n",
    "            if sample[start: end] == item:\n",
    "                nucleotides.append(sample[index])\n",
    "        proba[item] = Counter(nucleotides)\n",
    "\n",
    "\n",
    "def prepare_probabilities(samples):\n",
    "    if len(samples) == 0:\n",
    "        return None\n",
    "\n",
    "    r_prob = dict()\n",
    "    l_prob = dict()\n",
    "    mid = len(samples[0]) // 2\n",
    "\n",
    "    for i in range(mid):\n",
    "        l_limit = mid - i\n",
    "        r_limit = mid + i + 1\n",
    "\n",
    "        process_one_side(mid + 1, r_limit, samples, r_prob)\n",
    "        process_one_side(l_limit, mid, samples, l_prob, True)\n",
    "\n",
    "    return r_prob, l_prob"
   ],
   "id": "e70db4d95e241b6e",
   "outputs": [],
   "execution_count": 29
  },
  {
   "metadata": {
    "ExecuteTime": {
     "end_time": "2024-06-12T20:22:23.997294Z",
     "start_time": "2024-06-12T20:22:23.675247Z"
    }
   },
   "cell_type": "code",
   "source": [
    "pos_prob = prepare_probabilities(positive_samples)\n",
    "neg_prob = prepare_probabilities(negative_samples)"
   ],
   "id": "933c507c55e80f36",
   "outputs": [],
   "execution_count": 30
  },
  {
   "metadata": {
    "ExecuteTime": {
     "end_time": "2024-06-12T21:33:40.227421Z",
     "start_time": "2024-06-12T21:33:40.223196Z"
    }
   },
   "cell_type": "code",
   "source": [
    "def _resolve_value(motif, nucleotide, proba):\n",
    "    return proba[motif][nucleotide] if motif in proba else 0\n",
    "\n",
    "\n",
    "def encode(sequence: str):\n",
    "    mid = len(sequence) // 2\n",
    "    pos_result = [0] * mid * 2\n",
    "    neg_result = [0] * mid * 2\n",
    "\n",
    "    for i in range(mid):\n",
    "        l_limit = mid - i - 1\n",
    "        r_limit = mid + i + 2\n",
    "\n",
    "        l_seq = sequence[l_limit: mid][1:]\n",
    "        r_seq = sequence[mid + 1: r_limit][:-1]\n",
    "\n",
    "        pos_result[l_limit] = _resolve_value(l_seq, sequence[l_limit], pos_prob[0])\n",
    "        pos_result[r_limit - 2] = _resolve_value(r_seq, sequence[r_limit -1], pos_prob[1])\n",
    "        \n",
    "        neg_result[l_limit] = _resolve_value(l_seq, sequence[l_limit], neg_prob[0])\n",
    "        neg_result[r_limit - 2] = _resolve_value(r_seq, sequence[r_limit -1], neg_prob[1])\n",
    "\n",
    "    return pos_result + neg_result\n",
    "\n",
    "\n",
    "encode('CAUGGAGAGAUGUUCUUUACU')"
   ],
   "id": "9dde2fb002c9b49e",
   "outputs": [
    {
     "data": {
      "text/plain": [
       "[0,\n",
       " 0,\n",
       " 0,\n",
       " 0,\n",
       " 0,\n",
       " 2,\n",
       " 6,\n",
       " 5,\n",
       " 32,\n",
       " 176,\n",
       " 112,\n",
       " 51,\n",
       " 11,\n",
       " 1,\n",
       " 1,\n",
       " 0,\n",
       " 0,\n",
       " 0,\n",
       " 0,\n",
       " 0,\n",
       " 0,\n",
       " 0,\n",
       " 1,\n",
       " 0,\n",
       " 0,\n",
       " 2,\n",
       " 2,\n",
       " 12,\n",
       " 26,\n",
       " 126,\n",
       " 91,\n",
       " 29,\n",
       " 9,\n",
       " 0,\n",
       " 1,\n",
       " 0,\n",
       " 0,\n",
       " 0,\n",
       " 0,\n",
       " 0]"
      ]
     },
     "execution_count": 68,
     "metadata": {},
     "output_type": "execute_result"
    }
   ],
   "execution_count": 68
  },
  {
   "metadata": {},
   "cell_type": "code",
   "outputs": [],
   "execution_count": null,
   "source": "",
   "id": "565221545e08d4e1"
  }
 ],
 "metadata": {
  "kernelspec": {
   "display_name": "Python 3",
   "language": "python",
   "name": "python3"
  },
  "language_info": {
   "codemirror_mode": {
    "name": "ipython",
    "version": 2
   },
   "file_extension": ".py",
   "mimetype": "text/x-python",
   "name": "python",
   "nbconvert_exporter": "python",
   "pygments_lexer": "ipython2",
   "version": "2.7.6"
  }
 },
 "nbformat": 4,
 "nbformat_minor": 5
}
