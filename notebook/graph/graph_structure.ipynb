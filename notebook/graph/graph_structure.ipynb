{
 "cells": [
  {
   "cell_type": "code",
   "id": "initial_id",
   "metadata": {
    "collapsed": true,
    "ExecuteTime": {
     "end_time": "2024-07-12T12:15:25.093076Z",
     "start_time": "2024-07-12T12:15:22.245167Z"
    }
   },
   "source": [
    "import RNA\n",
    "import numpy as np\n",
    "import networkx as nx\n",
    "import matplotlib.pyplot as plt\n",
    "\n",
    "from src.dataset import load_benchmark_dataset, Species, Modification"
   ],
   "outputs": [],
   "execution_count": 2
  },
  {
   "metadata": {
    "ExecuteTime": {
     "end_time": "2024-07-12T12:15:25.114808Z",
     "start_time": "2024-07-12T12:15:25.094301Z"
    }
   },
   "cell_type": "code",
   "source": [
    "test_dataset = load_benchmark_dataset(Species.human, Modification.psi, True)\n",
    "train_dataset = load_benchmark_dataset(Species.human, Modification.psi)"
   ],
   "id": "f052a425b034b398",
   "outputs": [],
   "execution_count": 3
  },
  {
   "metadata": {
    "ExecuteTime": {
     "end_time": "2024-07-12T12:17:39.744737Z",
     "start_time": "2024-07-12T12:17:39.725249Z"
    }
   },
   "cell_type": "code",
   "source": [
    "def rna_to_graph(sequence: str):\n",
    "    dot_bracket, mfe = RNA.fold(sequence)\n",
    "    \n",
    "    graph = nx.Graph()\n",
    "    \n",
    "    for i, (base, structure) in enumerate(zip(sequence, dot_bracket)):\n",
    "        graph.add_node(i, base=base, structure=structure)\n",
    "    \n",
    "    \n",
    "    stack = []\n",
    "    for i, char in enumerate(dot_bracket):\n",
    "        if char == '(':\n",
    "            stack.append(i)\n",
    "        elif char == ')':\n",
    "            if stack:\n",
    "                start = stack.pop()\n",
    "                graph.add_edge(start, i, type='base_pair')\n",
    "        if i > 0:\n",
    "            graph.add_edge(i-1, i, type='backbone')\n",
    "    \n",
    "    bases = ['A', 'U', 'G', 'C']\n",
    "    node_features = np.zeros((len(sequence), len(bases)))\n",
    "    for i, base in enumerate(sequence):\n",
    "        node_features[i, bases.index(base)] = 1\n",
    "    \n",
    "    # Adjacency matrix\n",
    "    adj_matrix = nx.to_numpy_array(graph)\n",
    "\n",
    "    return graph, node_features, adj_matrix\n",
    "\n",
    "def render_graph(graph):\n",
    "    pos = nx.spring_layout(graph)\n",
    "    plt.figure(figsize=(12, 8))\n",
    "    nx.draw(graph, pos, with_labels=True, node_color='lightblue', node_size=500, font_size=10, font_weight='bold')\n",
    "    \n",
    "    # Add base labels\n",
    "    node_labels = nx.get_node_attributes(graph, 'base')\n",
    "    nx.draw_networkx_labels(graph, pos, node_labels, font_size=8)\n",
    "    \n",
    "    # Color base pair edges differently\n",
    "    base_pair_edges = [(u, v) for (u, v, d) in graph.edges(data=True) if d['type'] == 'base_pair']\n",
    "    nx.draw_networkx_edges(graph, pos, edgelist=base_pair_edges, edge_color='r', width=2)\n",
    "    \n",
    "    plt.title(\"RNA Secondary Structure Graph\")\n",
    "    plt.axis('off')\n",
    "    plt.tight_layout()\n",
    "    plt.show()"
   ],
   "id": "5c0ca2f85ccbce06",
   "outputs": [],
   "execution_count": 7
  },
  {
   "metadata": {
    "ExecuteTime": {
     "end_time": "2024-07-12T12:15:25.122782Z",
     "start_time": "2024-07-12T12:15:25.120195Z"
    }
   },
   "cell_type": "code",
   "source": "train_sequences = train_dataset.samples['sequence'].values",
   "id": "57aa491627344984",
   "outputs": [],
   "execution_count": 5
  },
  {
   "metadata": {
    "ExecuteTime": {
     "end_time": "2024-07-12T12:17:56.900821Z",
     "start_time": "2024-07-12T12:17:56.883711Z"
    }
   },
   "cell_type": "code",
   "source": [
    "for seq in train_sequences[:1]:\n",
    "    graph, features, matrix = rna_to_graph(seq)\n",
    "    print(features)\n",
    "    print(matrix)"
   ],
   "id": "ae0a513dcb6769c9",
   "outputs": [
    {
     "name": "stdout",
     "output_type": "stream",
     "text": [
      "[[0. 0. 0. 1.]\n",
      " [1. 0. 0. 0.]\n",
      " [0. 1. 0. 0.]\n",
      " [0. 0. 1. 0.]\n",
      " [0. 0. 1. 0.]\n",
      " [1. 0. 0. 0.]\n",
      " [0. 0. 1. 0.]\n",
      " [1. 0. 0. 0.]\n",
      " [0. 0. 1. 0.]\n",
      " [1. 0. 0. 0.]\n",
      " [0. 1. 0. 0.]\n",
      " [0. 0. 1. 0.]\n",
      " [0. 1. 0. 0.]\n",
      " [0. 1. 0. 0.]\n",
      " [0. 0. 0. 1.]\n",
      " [0. 1. 0. 0.]\n",
      " [0. 1. 0. 0.]\n",
      " [0. 1. 0. 0.]\n",
      " [1. 0. 0. 0.]\n",
      " [0. 0. 0. 1.]\n",
      " [0. 1. 0. 0.]]\n",
      "[[0. 1. 0. 0. 0. 0. 0. 0. 0. 0. 0. 0. 0. 0. 0. 0. 0. 0. 0. 0. 0.]\n",
      " [1. 0. 1. 0. 0. 0. 0. 0. 0. 0. 0. 0. 0. 0. 0. 0. 0. 0. 0. 0. 0.]\n",
      " [0. 1. 0. 1. 0. 0. 0. 0. 0. 0. 0. 0. 0. 0. 0. 0. 0. 0. 1. 0. 0.]\n",
      " [0. 0. 1. 0. 1. 0. 0. 0. 0. 0. 0. 0. 0. 0. 0. 0. 0. 1. 0. 0. 0.]\n",
      " [0. 0. 0. 1. 0. 1. 0. 0. 0. 0. 0. 0. 0. 0. 0. 0. 1. 0. 0. 0. 0.]\n",
      " [0. 0. 0. 0. 1. 0. 1. 0. 0. 0. 0. 0. 0. 0. 0. 1. 0. 0. 0. 0. 0.]\n",
      " [0. 0. 0. 0. 0. 1. 0. 1. 0. 0. 0. 0. 0. 0. 1. 0. 0. 0. 0. 0. 0.]\n",
      " [0. 0. 0. 0. 0. 0. 1. 0. 1. 0. 0. 0. 0. 1. 0. 0. 0. 0. 0. 0. 0.]\n",
      " [0. 0. 0. 0. 0. 0. 0. 1. 0. 1. 0. 0. 0. 0. 0. 0. 0. 0. 0. 0. 0.]\n",
      " [0. 0. 0. 0. 0. 0. 0. 0. 1. 0. 1. 0. 0. 0. 0. 0. 0. 0. 0. 0. 0.]\n",
      " [0. 0. 0. 0. 0. 0. 0. 0. 0. 1. 0. 1. 0. 0. 0. 0. 0. 0. 0. 0. 0.]\n",
      " [0. 0. 0. 0. 0. 0. 0. 0. 0. 0. 1. 0. 1. 0. 0. 0. 0. 0. 0. 0. 0.]\n",
      " [0. 0. 0. 0. 0. 0. 0. 0. 0. 0. 0. 1. 0. 1. 0. 0. 0. 0. 0. 0. 0.]\n",
      " [0. 0. 0. 0. 0. 0. 0. 1. 0. 0. 0. 0. 1. 0. 1. 0. 0. 0. 0. 0. 0.]\n",
      " [0. 0. 0. 0. 0. 0. 1. 0. 0. 0. 0. 0. 0. 1. 0. 1. 0. 0. 0. 0. 0.]\n",
      " [0. 0. 0. 0. 0. 1. 0. 0. 0. 0. 0. 0. 0. 0. 1. 0. 1. 0. 0. 0. 0.]\n",
      " [0. 0. 0. 0. 1. 0. 0. 0. 0. 0. 0. 0. 0. 0. 0. 1. 0. 1. 0. 0. 0.]\n",
      " [0. 0. 0. 1. 0. 0. 0. 0. 0. 0. 0. 0. 0. 0. 0. 0. 1. 0. 1. 0. 0.]\n",
      " [0. 0. 1. 0. 0. 0. 0. 0. 0. 0. 0. 0. 0. 0. 0. 0. 0. 1. 0. 1. 0.]\n",
      " [0. 0. 0. 0. 0. 0. 0. 0. 0. 0. 0. 0. 0. 0. 0. 0. 0. 0. 1. 0. 1.]\n",
      " [0. 0. 0. 0. 0. 0. 0. 0. 0. 0. 0. 0. 0. 0. 0. 0. 0. 0. 0. 1. 0.]]\n"
     ]
    }
   ],
   "execution_count": 8
  },
  {
   "metadata": {},
   "cell_type": "code",
   "outputs": [],
   "execution_count": null,
   "source": [
    "# def rna_to_graph(sequence):\n",
    "#     # Step 1: Generate dot-parenthesis notation\n",
    "#     (dot_bracket, mfe) = RNA.fold(sequence)\n",
    "#     print(f\"Sequence: {sequence}\")\n",
    "#     print(f\"Dot-bracket: {dot_bracket}\")\n",
    "#     print(f\"Minimum free energy: {mfe}\")\n",
    "# \n",
    "#     # Step 2: Create graph representation\n",
    "#     G = nx.Graph()\n",
    "#     \n",
    "#     # Add nodes (nucleotides)\n",
    "#     for i, (base, structure) in enumerate(zip(sequence, dot_bracket)):\n",
    "#         G.add_node(i, base=base, structure=structure)\n",
    "#     \n",
    "#     # Add edges (connections)\n",
    "#     stack = []\n",
    "#     for i, char in enumerate(dot_bracket):\n",
    "#         if char == '(':\n",
    "#             stack.append(i)\n",
    "#         elif char == ')':\n",
    "#             if stack:\n",
    "#                 start = stack.pop()\n",
    "#                 G.add_edge(start, i, type='base_pair')\n",
    "#         \n",
    "#         # Add backbone connections\n",
    "#         if i > 0:\n",
    "#             G.add_edge(i-1, i, type='backbone')\n",
    "# \n",
    "#     # Step 3: Visualize the graph\n",
    "#     pos = nx.spring_layout(G)\n",
    "#     plt.figure(figsize=(12, 8))\n",
    "#     nx.draw(G, pos, with_labels=True, node_color='lightblue', node_size=500, font_size=10, font_weight='bold')\n",
    "#     \n",
    "#     # Add base labels\n",
    "#     node_labels = nx.get_node_attributes(G, 'base')\n",
    "#     nx.draw_networkx_labels(G, pos, node_labels, font_size=8)\n",
    "#     \n",
    "#     # Color base pair edges differently\n",
    "#     base_pair_edges = [(u, v) for (u, v, d) in G.edges(data=True) if d['type'] == 'base_pair']\n",
    "#     nx.draw_networkx_edges(G, pos, edgelist=base_pair_edges, edge_color='r', width=2)\n",
    "#     \n",
    "#     plt.title(\"RNA Secondary Structure Graph\")\n",
    "#     plt.axis('off')\n",
    "#     plt.tight_layout()\n",
    "#     plt.show()\n",
    "# \n",
    "#     # Step 4: Prepare data for GCN\n",
    "#     # Node features: One-hot encoding of bases\n",
    "#     bases = ['A', 'U', 'G', 'C']\n",
    "#     node_features = np.zeros((len(sequence), len(bases)))\n",
    "#     for i, base in enumerate(sequence):\n",
    "#         node_features[i, bases.index(base)] = 1\n",
    "#     \n",
    "#     # Adjacency matrix\n",
    "#     adj_matrix = nx.to_numpy_array(G)\n",
    "# \n",
    "#     return G, node_features, adj_matrix\n",
    "# \n",
    "# # Example usage\n",
    "# sequence = \"GGGCUAUUAGCUCAGUUGGUUAGAGCGCACCCCUGAUAAGGGUGAGGUCGCUGAUUCGAAUUCAGCAUAGCCCA\"\n",
    "# G, node_features, adj_matrix = rna_to_graph(sequence)\n",
    "# \n",
    "# print(\"Node features shape:\", node_features.shape)\n",
    "# print(\"Adjacency matrix shape:\", adj_matrix.shape)"
   ],
   "id": "eb8e5c33db5f0b84"
  }
 ],
 "metadata": {
  "kernelspec": {
   "display_name": "Python 3",
   "language": "python",
   "name": "python3"
  },
  "language_info": {
   "codemirror_mode": {
    "name": "ipython",
    "version": 2
   },
   "file_extension": ".py",
   "mimetype": "text/x-python",
   "name": "python",
   "nbconvert_exporter": "python",
   "pygments_lexer": "ipython2",
   "version": "2.7.6"
  }
 },
 "nbformat": 4,
 "nbformat_minor": 5
}
