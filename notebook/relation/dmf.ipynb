{
 "cells": [
  {
   "metadata": {
    "ExecuteTime": {
     "end_time": "2024-07-05T21:12:41.938689Z",
     "start_time": "2024-07-05T21:12:41.936378Z"
    }
   },
   "cell_type": "code",
   "source": [
    "from src.features.encodings import dmf\n",
    "from src.dataset import load_benchmark_dataset, load_dataset, Species, Modification"
   ],
   "id": "initial_id",
   "outputs": [],
   "execution_count": 30
  },
  {
   "metadata": {
    "ExecuteTime": {
     "end_time": "2024-07-05T21:12:42.298154Z",
     "start_time": "2024-07-05T21:12:42.285366Z"
    }
   },
   "cell_type": "code",
   "source": [
    "external_dataset = load_dataset(Species.human, Modification.psi)\n",
    "test_dataset = load_benchmark_dataset(Species.human, Modification.psi, True)\n",
    "train_dataset = load_benchmark_dataset(Species.human, Modification.psi)"
   ],
   "id": "5a598440c43ad8ca",
   "outputs": [],
   "execution_count": 31
  },
  {
   "metadata": {
    "ExecuteTime": {
     "end_time": "2024-07-05T21:14:12.238441Z",
     "start_time": "2024-07-05T21:14:12.236452Z"
    }
   },
   "cell_type": "code",
   "source": "encoder = dmf.Encoder(3, 32)",
   "id": "1c0f2674857d7ae1",
   "outputs": [],
   "execution_count": 40
  },
  {
   "metadata": {
    "ExecuteTime": {
     "end_time": "2024-07-05T21:14:12.661571Z",
     "start_time": "2024-07-05T21:14:12.617561Z"
    }
   },
   "cell_type": "code",
   "source": [
    "encoder.fit(external_dataset.samples, external_dataset.targets)\n",
    "external_motifs = encoder.top_motifs\n",
    "external_motifs"
   ],
   "id": "27f4d738a6d76260",
   "outputs": [
    {
     "data": {
      "text/plain": [
       "['UUU',\n",
       " 'CGU',\n",
       " 'ACG',\n",
       " 'CGA',\n",
       " 'GCG',\n",
       " 'CCG',\n",
       " 'AAA',\n",
       " 'CGC',\n",
       " 'UCG',\n",
       " 'GUC',\n",
       " 'CUG',\n",
       " 'UGG',\n",
       " 'UUC',\n",
       " 'CUU',\n",
       " 'UAG',\n",
       " 'UCU',\n",
       " 'CGG',\n",
       " 'AAG',\n",
       " 'GAC',\n",
       " 'AGA',\n",
       " 'CAG',\n",
       " 'CAC',\n",
       " 'GUA',\n",
       " 'UAC',\n",
       " 'CCU',\n",
       " 'AAC',\n",
       " 'ACC',\n",
       " 'AUA',\n",
       " 'GGC',\n",
       " 'GAA',\n",
       " 'CUA',\n",
       " 'GCU']"
      ]
     },
     "execution_count": 41,
     "metadata": {},
     "output_type": "execute_result"
    }
   ],
   "execution_count": 41
  },
  {
   "metadata": {
    "ExecuteTime": {
     "end_time": "2024-07-05T21:14:13.145092Z",
     "start_time": "2024-07-05T21:14:13.138970Z"
    }
   },
   "cell_type": "code",
   "source": [
    "encoder.fit(train_dataset.samples, train_dataset.targets)\n",
    "train_motifs = encoder.top_motifs\n",
    "train_motifs"
   ],
   "id": "5fef82edc3e44c5d",
   "outputs": [
    {
     "data": {
      "text/plain": [
       "['GCG',\n",
       " 'CGU',\n",
       " 'CGC',\n",
       " 'CCG',\n",
       " 'UCG',\n",
       " 'CGG',\n",
       " 'AAA',\n",
       " 'CGA',\n",
       " 'ACG',\n",
       " 'UAC',\n",
       " 'AUA',\n",
       " 'UGC',\n",
       " 'UAA',\n",
       " 'CAA',\n",
       " 'GCC',\n",
       " 'AAC',\n",
       " 'AAU',\n",
       " 'AUU',\n",
       " 'GGG',\n",
       " 'UAU',\n",
       " 'GUU',\n",
       " 'ACC',\n",
       " 'AGU',\n",
       " 'CAU',\n",
       " 'CUC',\n",
       " 'AGA',\n",
       " 'UUG',\n",
       " 'GGC',\n",
       " 'UCU',\n",
       " 'ACA',\n",
       " 'GUA',\n",
       " 'UCA']"
      ]
     },
     "execution_count": 42,
     "metadata": {},
     "output_type": "execute_result"
    }
   ],
   "execution_count": 42
  },
  {
   "metadata": {
    "ExecuteTime": {
     "end_time": "2024-07-05T21:14:13.723039Z",
     "start_time": "2024-07-05T21:14:13.718463Z"
    }
   },
   "cell_type": "code",
   "source": [
    "encoder.fit(test_dataset.samples, test_dataset.targets)\n",
    "test_motifs = encoder.top_motifs\n",
    "test_motifs"
   ],
   "id": "d80822cb2e8ff854",
   "outputs": [
    {
     "data": {
      "text/plain": [
       "['UCG',\n",
       " 'UAU',\n",
       " 'AUC',\n",
       " 'CGA',\n",
       " 'ACC',\n",
       " 'CGG',\n",
       " 'GUA',\n",
       " 'GGC',\n",
       " 'GCC',\n",
       " 'ACA',\n",
       " 'GCG',\n",
       " 'GAA',\n",
       " 'CAU',\n",
       " 'GUC',\n",
       " 'AGU',\n",
       " 'UUG',\n",
       " 'AAA',\n",
       " 'CAC',\n",
       " 'CCC',\n",
       " 'GGG',\n",
       " 'CCA',\n",
       " 'GAC',\n",
       " 'CUU',\n",
       " 'AUG',\n",
       " 'UGA',\n",
       " 'CGC',\n",
       " 'AGG',\n",
       " 'AUA',\n",
       " 'GGA',\n",
       " 'UAA',\n",
       " 'CAG',\n",
       " 'UUC']"
      ]
     },
     "execution_count": 43,
     "metadata": {},
     "output_type": "execute_result"
    }
   ],
   "execution_count": 43
  },
  {
   "metadata": {
    "ExecuteTime": {
     "end_time": "2024-07-05T21:15:30.364002Z",
     "start_time": "2024-07-05T21:15:30.361182Z"
    }
   },
   "cell_type": "code",
   "source": "set(external_motifs) & set(train_motifs) & set(test_motifs)",
   "id": "b0a54f3b094e0868",
   "outputs": [
    {
     "data": {
      "text/plain": [
       "{'AAA', 'ACC', 'AUA', 'CGA', 'CGC', 'CGG', 'GCG', 'GGC', 'GUA', 'UCG'}"
      ]
     },
     "execution_count": 46,
     "metadata": {},
     "output_type": "execute_result"
    }
   ],
   "execution_count": 46
  },
  {
   "metadata": {},
   "cell_type": "markdown",
   "source": "",
   "id": "cacad2a39318f23c"
  },
  {
   "metadata": {},
   "cell_type": "code",
   "outputs": [],
   "execution_count": null,
   "source": "",
   "id": "4dee96fbc5af6ca1"
  }
 ],
 "metadata": {
  "kernelspec": {
   "display_name": "Python 3",
   "language": "python",
   "name": "python3"
  },
  "language_info": {
   "codemirror_mode": {
    "name": "ipython",
    "version": 2
   },
   "file_extension": ".py",
   "mimetype": "text/x-python",
   "name": "python",
   "nbconvert_exporter": "python",
   "pygments_lexer": "ipython2",
   "version": "2.7.6"
  }
 },
 "nbformat": 4,
 "nbformat_minor": 5
}
