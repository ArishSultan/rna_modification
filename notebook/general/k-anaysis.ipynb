{
 "cells": [
  {
   "metadata": {
    "ExecuteTime": {
     "end_time": "2024-06-10T08:48:00.867023Z",
     "start_time": "2024-06-10T08:48:00.857790Z"
    }
   },
   "cell_type": "code",
   "source": [
    "import json\n",
    "import numpy as np\n",
    "import plotly.express as px\n",
    "from pandas import DataFrame\n",
    "from collections import Counter\n",
    "from sklearn.manifold import TSNE\n",
    "\n",
    "from src.dataset import load_benchmark_dataset, Species, Modification, SeqBunch"
   ],
   "id": "5e394e29652dec81",
   "outputs": [],
   "execution_count": 52
  },
  {
   "metadata": {
    "ExecuteTime": {
     "end_time": "2024-06-10T09:15:03.388971Z",
     "start_time": "2024-06-10T09:15:03.386306Z"
    }
   },
   "cell_type": "code",
   "source": [
    "def remove_central(sample):\n",
    "    sample = sample[0]\n",
    "    mid = len(sample) // 2\n",
    "\n",
    "    return sample[:mid] + sample[mid + 1:]\n",
    "\n",
    "\n",
    "def extract_sequences_from_df(df: DataFrame):\n",
    "    return list(map(remove_central, df.values.tolist()))\n",
    "\n",
    "\n",
    "def extract_data(bunch: SeqBunch):\n",
    "    return extract_sequences_from_df(bunch.samples), bunch.targets.values.tolist()"
   ],
   "id": "595ed7a58fee977e",
   "outputs": [],
   "execution_count": 70
  },
  {
   "metadata": {
    "ExecuteTime": {
     "end_time": "2024-06-10T09:15:03.707752Z",
     "start_time": "2024-06-10T09:15:03.699028Z"
    }
   },
   "cell_type": "code",
   "source": [
    "h_train_samples, h_train_targets = extract_data(\n",
    "    load_benchmark_dataset(Species.human, Modification.psi)\n",
    ")\n",
    "\n",
    "h_test_samples, h_test_targets = extract_data(\n",
    "    load_benchmark_dataset(Species.human, Modification.psi, True)\n",
    ")"
   ],
   "id": "84caa962e2da7dd9",
   "outputs": [],
   "execution_count": 71
  },
  {
   "metadata": {
    "ExecuteTime": {
     "end_time": "2024-06-10T09:15:04.003987Z",
     "start_time": "2024-06-10T09:15:03.997060Z"
    }
   },
   "cell_type": "code",
   "source": [
    "def generate_probabilities(samples: list[str], targets):\n",
    "    pos_samples = []\n",
    "    neg_samples = []\n",
    "\n",
    "    for i in range(len(samples)):\n",
    "        for j in range(len(samples[i]) - 1):\n",
    "            if targets[i] == 1:\n",
    "                pos_samples.append(samples[i][:j + 1])\n",
    "            else:\n",
    "                neg_samples.append(samples[i][:j + 1])\n",
    "\n",
    "    return Counter(pos_samples), Counter(neg_samples)\n",
    "\n",
    "\n",
    "result = generate_probabilities(h_train_samples, h_train_targets)"
   ],
   "id": "a7062a90566c4d9",
   "outputs": [],
   "execution_count": 72
  },
  {
   "metadata": {
    "ExecuteTime": {
     "end_time": "2024-06-10T09:15:04.317307Z",
     "start_time": "2024-06-10T09:15:04.315368Z"
    }
   },
   "cell_type": "code",
   "source": [
    "pos_result = result[0]\n",
    "neg_result = result[1]"
   ],
   "id": "103f93e5b467b6bf",
   "outputs": [],
   "execution_count": 73
  },
  {
   "metadata": {
    "ExecuteTime": {
     "end_time": "2024-06-10T09:15:04.629871Z",
     "start_time": "2024-06-10T09:15:04.619143Z"
    }
   },
   "cell_type": "code",
   "source": [
    "results = dict()\n",
    "only_pos_results = dict()\n",
    "only_neg_results = dict()\n",
    "\n",
    "pos_keys = list(pos_result.keys())\n",
    "neg_keys = list(neg_result.keys())\n",
    "\n",
    "for key in neg_keys:\n",
    "    if key not in results:\n",
    "        if pos_result[key] == 0 and neg_result[key] > 1:\n",
    "            only_neg_results[key] = neg_result[key]\n",
    "\n",
    "        if neg_result[key] == 0:\n",
    "            only_pos_results[key] = pos_result[key]\n",
    "\n",
    "        results[key] = (pos_result[key], neg_result[key])\n",
    "\n",
    "print(only_pos_results)\n",
    "print(only_neg_results)"
   ],
   "id": "a20ec2d76acd2ccd",
   "outputs": [
    {
     "name": "stdout",
     "output_type": "stream",
     "text": [
      "{}\n",
      "{'CAUA': 4, 'CAUAU': 2, 'AUUAU': 2, 'CCAAG': 2, 'CCAAGG': 2, 'UUCUC': 2, 'UCCCC': 2, 'CCCCCCU': 2, 'CCCCCCUU': 2, 'AAGU': 3, 'CACC': 3, 'GGGUC': 2, 'UUUCC': 2, 'CAACA': 3, 'AUCCU': 2, 'AUCCUA': 2, 'GAUG': 3, 'GAUGA': 2, 'GGGCAC': 2, 'CACUC': 3, 'GAUCA': 2, 'GAUCAA': 2, 'GAUCAAA': 2, 'GAUCAAAA': 2, 'CAUUC': 2, 'ACAGGA': 2, 'UCUA': 4, 'UCUAU': 2, 'UCUAUU': 2, 'AAAAGGG': 2, 'AAAAGGGA': 2, 'CCCCU': 2, 'CCCCUG': 2, 'CCCCUGG': 2, 'UUGAA': 2, 'UUCCG': 2, 'UUCCGG': 2, 'AAUGAA': 2, 'ACCAG': 2, 'ACCAGA': 2, 'UACA': 3, 'UGAAA': 2, 'GCUCA': 3, 'GCUCAG': 2, 'UUGGU': 2, 'UUACA': 2, 'UUACAG': 2, 'UUACAGG': 2, 'UCCCA': 2, 'UAAAA': 4, 'CACUCU': 2, 'UGGC': 2, 'UGGCA': 2, 'UAUU': 3, 'UAUUA': 2, 'AUGGU': 2, 'UUCCC': 2, 'AAUAC': 2, 'UUUUUUUA': 2, 'CAUAA': 2, 'AAAGA': 2, 'GUAUA': 2, 'ACUU': 2, 'ACUUG': 2, 'UGAG': 4, 'UGAGC': 2, 'UGUAAA': 2, 'CAGGC': 2, 'CAGGCA': 2, 'CAGGCAG': 2, 'CAGGCAGA': 2, 'CAGGCAGAC': 2, 'UCAA': 3, 'UCAAG': 2, 'UCUGU': 2, 'GACAG': 2, 'GACAGU': 2, 'GACAGUG': 2, 'AGAGG': 2, 'CACUG': 2, 'CACUGU': 2, 'AGCAA': 3, 'AGCAAU': 2, 'UAAG': 3, 'UAAGU': 2, 'AGAGA': 3, 'AAUGGU': 2, 'UGGAU': 3, 'GUUUG': 2, 'GUUUGG': 2, 'GUUUGGA': 2, 'UUAG': 2, 'UUAGG': 2, 'UUAGGA': 2, 'AGAGAC': 2, 'AGAGACA': 2, 'AGAGACAA': 2, 'GAAUG': 2, 'CUCUC': 3, 'UUACCU': 2, 'CCACA': 2, 'UAUAA': 3, 'UAUAAA': 2, 'UAUAAAA': 2, 'AGCACC': 2, 'GAUUGU': 2, 'GAUUGUG': 2, 'AUUUU': 2, 'AAACU': 2, 'AUGCC': 2, 'UGGGU': 2, 'UGGGUC': 2, 'UUUGCC': 2, 'AACUA': 3, 'UAAAAA': 2, 'UAAAAAG': 2, 'AGGAG': 2, 'AGGAGA': 2}\n"
     ]
    }
   ],
   "execution_count": 74
  },
  {
   "metadata": {
    "ExecuteTime": {
     "end_time": "2024-06-10T09:46:30.717122Z",
     "start_time": "2024-06-10T09:46:30.713775Z"
    }
   },
   "cell_type": "code",
   "source": [
    "def positional_probabilities(samples: list[str], targets: list[int]):\n",
    "    probabilities = []\n",
    "    pos_nucleotides = []\n",
    "    neg_nucleotides = []\n",
    "\n",
    "    for i in range(len(samples)):\n",
    "        for j in range(len(samples[i])):\n",
    "            if targets[i] == 1:\n",
    "                if len(pos_nucleotides) > j:\n",
    "                    pos_nucleotides[j].append(samples[i][j])\n",
    "                else:\n",
    "                    pos_nucleotides.append([samples[i][j]])\n",
    "            else:\n",
    "                if len(neg_nucleotides) > j:\n",
    "                    neg_nucleotides[j].append(samples[i][j])\n",
    "                else:\n",
    "                    neg_nucleotides.append([samples[i][j]])\n",
    "\n",
    "    pos_nucleotides = list(map(lambda x: Counter(x), pos_nucleotides))\n",
    "    neg_nucleotides = list(map(lambda x: Counter(x), neg_nucleotides))\n",
    "\n",
    "    for i in range(len(pos_nucleotides)):\n",
    "        pos_counter = pos_nucleotides[i]\n",
    "        neg_counter = neg_nucleotides[i]\n",
    "\n",
    "        pos_dict = {}\n",
    "        neg_dict = {}\n",
    "        for nuc in ['A', 'C', 'G', 'U']:\n",
    "            count = pos_counter[nuc] + neg_counter[nuc]\n",
    "            pos_dict[nuc] = pos_counter[nuc] / count\n",
    "            neg_dict[nuc] = neg_counter[nuc] / count\n",
    "\n",
    "        probabilities.append({'pos': pos_dict, 'neg': neg_dict})\n",
    "\n",
    "    return probabilities"
   ],
   "id": "3e9134844b5d84bd",
   "outputs": [],
   "execution_count": 95
  },
  {
   "metadata": {
    "ExecuteTime": {
     "end_time": "2024-06-10T09:46:57.178745Z",
     "start_time": "2024-06-10T09:46:57.174205Z"
    }
   },
   "cell_type": "code",
   "source": [
    "with open('1_positional_probabilities.json', 'w') as file:\n",
    "    file.write(json.dumps(positional_probabilities(h_train_samples, h_train_targets)))"
   ],
   "id": "c3b5baa53b46d271",
   "outputs": [],
   "execution_count": 97
  },
  {
   "metadata": {
    "ExecuteTime": {
     "end_time": "2024-06-10T09:48:13.642534Z",
     "start_time": "2024-06-10T09:48:13.636959Z"
    }
   },
   "cell_type": "code",
   "source": [
    "with open('1_ue_positional_probabilities.json', 'w') as file:\n",
    "    file.write(json.dumps(positional_probabilities(h_train_samples + h_test_samples, h_train_targets + h_test_targets)))"
   ],
   "id": "59960ae945caf39",
   "outputs": [],
   "execution_count": 100
  },
  {
   "metadata": {},
   "cell_type": "code",
   "outputs": [],
   "execution_count": null,
   "source": "",
   "id": "bcefd26cfd73148d"
  }
 ],
 "metadata": {
  "kernelspec": {
   "display_name": "Python 3",
   "language": "python",
   "name": "python3"
  },
  "language_info": {
   "codemirror_mode": {
    "name": "ipython",
    "version": 2
   },
   "file_extension": ".py",
   "mimetype": "text/x-python",
   "name": "python",
   "nbconvert_exporter": "python",
   "pygments_lexer": "ipython2",
   "version": "2.7.6"
  }
 },
 "nbformat": 4,
 "nbformat_minor": 5
}
