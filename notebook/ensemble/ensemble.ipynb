{
 "cells": [
  {
   "cell_type": "code",
   "id": "initial_id",
   "metadata": {
    "collapsed": true,
    "ExecuteTime": {
     "end_time": "2024-06-24T06:12:07.985678Z",
     "start_time": "2024-06-24T06:12:07.983221Z"
    }
   },
   "source": [
    "from xgboost import XGBClassifier\n",
    "\n",
    "from sklearn.svm import SVC\n",
    "from src.model.porpoise import Encoder, Model\n",
    "from src.features.encodings import multiple, binary, ncp, pstnpss, pse_knc\n",
    "from src.dataset import load_benchmark_dataset, Species, Modification"
   ],
   "outputs": [],
   "execution_count": 12
  },
  {
   "metadata": {
    "ExecuteTime": {
     "end_time": "2024-06-24T06:09:41.169409Z",
     "start_time": "2024-06-24T06:09:41.166976Z"
    }
   },
   "cell_type": "code",
   "source": [
    "#encoder = multiple.Encoder(encoders=[\n",
    "#     binary.Encoder(),\n",
    "#     ncp.Encoder(),\n",
    "#     pstnpss.Encoder(),\n",
    "#     pse_knc.Encoder()\n",
    "# ])\n",
    "\n",
    "encoder = Encoder(species=Species.human)"
   ],
   "id": "727e2e9e501cbd16",
   "outputs": [],
   "execution_count": 2
  },
  {
   "metadata": {
    "ExecuteTime": {
     "end_time": "2024-06-24T06:09:41.178861Z",
     "start_time": "2024-06-24T06:09:41.169909Z"
    }
   },
   "cell_type": "code",
   "source": [
    "train_dataset = load_benchmark_dataset(Species.human, Modification.psi)\n",
    "test_dataset = load_benchmark_dataset(Species.human, Modification.psi, True)"
   ],
   "id": "e734d8abfbc792d5",
   "outputs": [],
   "execution_count": 3
  },
  {
   "metadata": {
    "ExecuteTime": {
     "end_time": "2024-06-24T06:09:41.336611Z",
     "start_time": "2024-06-24T06:09:41.179566Z"
    }
   },
   "cell_type": "code",
   "source": [
    "train_y = train_dataset.targets\n",
    "train_x = encoder.fit_transform(train_dataset, y=train_y).samples\n",
    "# \n",
    "test_y = test_dataset.targets\n",
    "test_x = encoder.transform(test_dataset).samples"
   ],
   "id": "da7e6d01237362e9",
   "outputs": [],
   "execution_count": 4
  },
  {
   "metadata": {
    "ExecuteTime": {
     "end_time": "2024-06-24T06:12:48.437512Z",
     "start_time": "2024-06-24T06:12:45.571617Z"
    }
   },
   "cell_type": "code",
   "source": [
    "import numpy as np\n",
    "from sklearn.cluster import KMeans\n",
    "from sklearn.mixture import GaussianMixture\n",
    "# from sklearn.gaussian_process import GaussianProcessClassifier\n",
    "from sklearn.ensemble import RandomForestClassifier\n",
    "from sklearn.metrics import classification_report\n",
    "from sklearn.model_selection import train_test_split\n",
    "\n",
    "# Function to cluster data and classify each cluster\n",
    "def cluster_and_classify(train_x, train_y, test_x, test_y, n_clusters=3, clustering_algorithm='kmeans', classifier=None):\n",
    "    # if clustering_algorithm == 'kmeans':\n",
    "    # cluster_model = GaussianMixture(n_components=n_clusters, random_state=42)\n",
    "    cluster_model = GaussianMixture(n_components=n_clusters, random_state=42)\n",
    "    # elif clustering_algorithm == 'gmm':\n",
    "    #     cluster_model = GaussianMixture(n_components=n_clusters, random_state=42)\n",
    "    # else:\n",
    "    #     raise ValueError(\"Unsupported clustering algorithm. Use 'kmeans' or 'gmm'.\")\n",
    "\n",
    "    clusters_train = cluster_model.fit_predict(train_x)\n",
    "    clusters_test = cluster_model.predict(test_x)\n",
    "    \n",
    "    if classifier is None:\n",
    "        classifier = SVC(kernel='linear')\n",
    "\n",
    "    cluster_classifiers = []\n",
    "    for cluster_id in range(n_clusters):\n",
    "        cluster_train_x = train_x[clusters_train == cluster_id]\n",
    "        cluster_train_y = train_y[clusters_train == cluster_id]\n",
    "\n",
    "        if len(cluster_train_y) == 0:\n",
    "            print(f\"No data for cluster {cluster_id}. Skipping.\")\n",
    "            cluster_classifiers.append(None)\n",
    "            continue\n",
    "\n",
    "        clf = classifier.fit(cluster_train_x, cluster_train_y)\n",
    "        cluster_classifiers.append(clf)\n",
    "\n",
    "    for cluster_id in range(n_clusters):\n",
    "        cluster_test_x = test_x[clusters_test == cluster_id]\n",
    "        cluster_test_y = test_y[clusters_test == cluster_id]\n",
    "\n",
    "        if cluster_classifiers[cluster_id] is None or len(cluster_test_y) == 0:\n",
    "            print(cluster_classifiers[cluster_id])\n",
    "            print(f\"No data for cluster {cluster_id}. Skipping.\")\n",
    "            continue\n",
    "\n",
    "        predictions = cluster_classifiers[cluster_id].predict(cluster_test_x)\n",
    "        print(f\"Classification report for cluster {cluster_id}:\")\n",
    "        print(classification_report(cluster_test_y, predictions))\n",
    "\n",
    "# Example usage:\n",
    "# Assuming train_x, train_y, test_x, and test_y are already defined and loaded\n",
    "\n",
    "# Define the number of clusters and the clustering algorithm\n",
    "n_clusters = 3\n",
    "clustering_algorithm = 'kmeans'  # or 'gmm'\n",
    "\n",
    "# Call the function\n",
    "cluster_and_classify(train_x, train_y, test_x, test_y, n_clusters=n_clusters, clustering_algorithm=clustering_algorithm)\n"
   ],
   "id": "c6f71060a5e41c51",
   "outputs": [
    {
     "name": "stdout",
     "output_type": "stream",
     "text": [
      "Classification report for cluster 0:\n",
      "              precision    recall  f1-score   support\n",
      "\n",
      "           0       0.82      0.38      0.51        24\n",
      "           1       0.38      0.82      0.51        11\n",
      "\n",
      "    accuracy                           0.51        35\n",
      "   macro avg       0.60      0.60      0.51        35\n",
      "weighted avg       0.68      0.51      0.51        35\n",
      "\n",
      "Classification report for cluster 1:\n",
      "              precision    recall  f1-score   support\n",
      "\n",
      "           0       0.50      0.33      0.40        49\n",
      "           1       0.65      0.79      0.72        78\n",
      "\n",
      "    accuracy                           0.61       127\n",
      "   macro avg       0.58      0.56      0.56       127\n",
      "weighted avg       0.59      0.61      0.59       127\n",
      "\n",
      "Classification report for cluster 2:\n",
      "              precision    recall  f1-score   support\n",
      "\n",
      "           0       0.82      0.67      0.73        27\n",
      "           1       0.44      0.64      0.52        11\n",
      "\n",
      "    accuracy                           0.66        38\n",
      "   macro avg       0.63      0.65      0.63        38\n",
      "weighted avg       0.71      0.66      0.67        38\n",
      "\n"
     ]
    }
   ],
   "execution_count": 15
  },
  {
   "metadata": {},
   "cell_type": "code",
   "outputs": [],
   "execution_count": null,
   "source": "",
   "id": "2ebbb0947a15c7a5"
  }
 ],
 "metadata": {
  "kernelspec": {
   "display_name": "Python 3",
   "language": "python",
   "name": "python3"
  },
  "language_info": {
   "codemirror_mode": {
    "name": "ipython",
    "version": 2
   },
   "file_extension": ".py",
   "mimetype": "text/x-python",
   "name": "python",
   "nbconvert_exporter": "python",
   "pygments_lexer": "ipython2",
   "version": "2.7.6"
  }
 },
 "nbformat": 4,
 "nbformat_minor": 5
}
