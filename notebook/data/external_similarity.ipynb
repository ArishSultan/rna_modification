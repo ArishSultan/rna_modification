{
 "cells": [
  {
   "cell_type": "code",
   "id": "initial_id",
   "metadata": {
    "collapsed": true,
    "ExecuteTime": {
     "end_time": "2024-07-05T13:23:55.469375Z",
     "start_time": "2024-07-05T13:23:55.466051Z"
    }
   },
   "source": [
    "from src.utils import get_path\n",
    "from pandas import DataFrame, read_csv\n",
    "\n",
    "from src.dataset import load_benchmark_dataset, Species, Modification"
   ],
   "outputs": [],
   "execution_count": 37
  },
  {
   "metadata": {
    "ExecuteTime": {
     "end_time": "2024-07-05T13:23:55.656458Z",
     "start_time": "2024-07-05T13:23:55.648899Z"
    }
   },
   "cell_type": "code",
   "source": "external_dataset = read_csv(get_path('dataset/intermediate/psi/h.sapiens.csv'), header=None)",
   "id": "fcfbf2e147092ffc",
   "outputs": [],
   "execution_count": 38
  },
  {
   "metadata": {
    "ExecuteTime": {
     "end_time": "2024-07-05T16:14:07.340065Z",
     "start_time": "2024-07-05T16:14:07.329331Z"
    }
   },
   "cell_type": "code",
   "source": [
    "train_dataset = load_benchmark_dataset(Species.human, Modification.psi)\n",
    "test_dataset = load_benchmark_dataset(Species.human, Modification.psi, True)"
   ],
   "id": "7776df60771ac11e",
   "outputs": [],
   "execution_count": 66
  },
  {
   "metadata": {
    "ExecuteTime": {
     "end_time": "2024-07-05T16:14:07.633194Z",
     "start_time": "2024-07-05T16:14:07.630221Z"
    }
   },
   "cell_type": "code",
   "source": [
    "train_samples = train_dataset.samples['sequence'].values\n",
    "test_samples = test_dataset.samples['sequence'].values"
   ],
   "id": "c42a526684a512bb",
   "outputs": [],
   "execution_count": 67
  },
  {
   "metadata": {
    "ExecuteTime": {
     "end_time": "2024-07-05T16:14:07.924300Z",
     "start_time": "2024-07-05T16:14:07.920984Z"
    }
   },
   "cell_type": "code",
   "source": "external_samples = external_dataset[0].values",
   "id": "fd279ea9e36da3b0",
   "outputs": [],
   "execution_count": 68
  },
  {
   "metadata": {
    "ExecuteTime": {
     "end_time": "2024-07-05T16:14:08.168996Z",
     "start_time": "2024-07-05T16:14:08.166317Z"
    }
   },
   "cell_type": "code",
   "source": "external_samples",
   "id": "44c42ffd41858893",
   "outputs": [
    {
     "data": {
      "text/plain": [
       "array(['AAAUAUGUCUGAUAAAAGAGUUACUUUGAUAGAGUAAAUAA',\n",
       "       'AAUAUGUCUGAUAAAAGAGUUACUUUGAUAGAGUAAAUAAU',\n",
       "       'AAGGUCAGCUAAAUAAGCUAUCGGGCCCAUACCCCGAAAAU', ...,\n",
       "       'GGCGCAGUCGGUUAGCGCGUUCGGCUGUUAACCGGAAGGUU',\n",
       "       'UGGCGCAGUCGGUUAGCGCGUUCGGCUGUUAACCGGAAGGU',\n",
       "       'UUCACCGCUGCGGCCCGGGUUCGAUUCCCGGUCAGGGAAUC'], dtype=object)"
      ]
     },
     "execution_count": 69,
     "metadata": {},
     "output_type": "execute_result"
    }
   ],
   "execution_count": 69
  },
  {
   "metadata": {
    "ExecuteTime": {
     "end_time": "2024-07-05T16:14:08.539191Z",
     "start_time": "2024-07-05T16:14:08.536477Z"
    }
   },
   "cell_type": "code",
   "source": [
    "filtered_external_samples = set()\n",
    "for sample in external_samples:\n",
    "    filtered_external_samples.add(sample[10: len(sample) - 10])"
   ],
   "id": "47fc154cfc7b7fb4",
   "outputs": [],
   "execution_count": 70
  },
  {
   "metadata": {
    "ExecuteTime": {
     "end_time": "2024-07-05T16:14:09.011658Z",
     "start_time": "2024-07-05T16:14:09.007516Z"
    }
   },
   "cell_type": "code",
   "source": [
    "train_overlap_indexes = []\n",
    "train_non_overlap_indexes = []\n",
    "\n",
    "for index, sample in enumerate(train_samples):\n",
    "    if sample in filtered_external_samples or sample[::-1] in filtered_external_samples:\n",
    "        train_overlap_indexes.append(index)\n",
    "    elif train_dataset.targets[index] == 1:\n",
    "        train_non_overlap_indexes.append(index)"
   ],
   "id": "c1e4781e05c43099",
   "outputs": [],
   "execution_count": 71
  },
  {
   "metadata": {
    "ExecuteTime": {
     "end_time": "2024-07-05T16:14:09.699671Z",
     "start_time": "2024-07-05T16:14:09.695867Z"
    }
   },
   "cell_type": "code",
   "source": [
    "test_overlap_indexes = []\n",
    "test_non_overlap_indexes = []\n",
    "\n",
    "for index, sample in enumerate(test_samples):\n",
    "    if sample in filtered_external_samples or sample[::-1] in filtered_external_samples:\n",
    "        test_overlap_indexes.append(index)\n",
    "    elif test_dataset.targets[index] == 1:\n",
    "        test_non_overlap_indexes.append(index)"
   ],
   "id": "3db30e75af4af1b8",
   "outputs": [],
   "execution_count": 72
  },
  {
   "metadata": {
    "ExecuteTime": {
     "end_time": "2024-07-05T16:14:10.376504Z",
     "start_time": "2024-07-05T16:14:10.371777Z"
    }
   },
   "cell_type": "code",
   "source": "len(test_overlap_indexes)",
   "id": "11a20cb3b0610d04",
   "outputs": [
    {
     "data": {
      "text/plain": [
       "100"
      ]
     },
     "execution_count": 73,
     "metadata": {},
     "output_type": "execute_result"
    }
   ],
   "execution_count": 73
  },
  {
   "metadata": {},
   "cell_type": "code",
   "outputs": [],
   "execution_count": null,
   "source": "",
   "id": "c44c11f687d00d64"
  }
 ],
 "metadata": {
  "kernelspec": {
   "display_name": "Python 3",
   "language": "python",
   "name": "python3"
  },
  "language_info": {
   "codemirror_mode": {
    "name": "ipython",
    "version": 2
   },
   "file_extension": ".py",
   "mimetype": "text/x-python",
   "name": "python",
   "nbconvert_exporter": "python",
   "pygments_lexer": "ipython2",
   "version": "2.7.6"
  }
 },
 "nbformat": 4,
 "nbformat_minor": 5
}
