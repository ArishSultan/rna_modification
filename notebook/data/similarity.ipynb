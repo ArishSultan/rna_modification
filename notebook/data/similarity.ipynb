{
 "cells": [
  {
   "cell_type": "code",
   "id": "initial_id",
   "metadata": {
    "collapsed": true,
    "ExecuteTime": {
     "end_time": "2024-07-05T12:58:17.905924Z",
     "start_time": "2024-07-05T12:58:14.577855Z"
    }
   },
   "source": [
    "from pandas import read_csv\n",
    "from src.utils import get_path"
   ],
   "outputs": [],
   "execution_count": 1
  },
  {
   "metadata": {
    "ExecuteTime": {
     "end_time": "2024-07-05T12:58:17.909022Z",
     "start_time": "2024-07-05T12:58:17.906981Z"
    }
   },
   "cell_type": "code",
   "source": "DATASET_DIR = get_path() / 'dataset' / 'benchmark' / 'psi'",
   "id": "4ef96af7e2fcf2b2",
   "outputs": [],
   "execution_count": 2
  },
  {
   "metadata": {
    "ExecuteTime": {
     "end_time": "2024-07-05T12:58:17.917354Z",
     "start_time": "2024-07-05T12:58:17.909517Z"
    }
   },
   "cell_type": "code",
   "source": [
    "training_human_dataset = read_csv(DATASET_DIR / 'training' / 'h.sapiens.csv', header=None)\n",
    "training_yeast_dataset = read_csv(DATASET_DIR / 'training' / 's.cerevisiae.csv', header=None)\n",
    "\n",
    "independent_human_dataset = read_csv(DATASET_DIR / 'independent' / 'h.sapiens.csv', header=None)\n",
    "independent_yeast_dataset = read_csv(DATASET_DIR / 'independent' / 's.cerevisiae.csv', header=None)"
   ],
   "id": "17e1c836c3d07d17",
   "outputs": [],
   "execution_count": 3
  },
  {
   "metadata": {
    "ExecuteTime": {
     "end_time": "2024-07-05T12:58:17.921165Z",
     "start_time": "2024-07-05T12:58:17.918801Z"
    }
   },
   "cell_type": "code",
   "source": [
    "training_human_samples = training_human_dataset[0].values\n",
    "independent_human_samples = independent_human_dataset[0].values\n",
    "\n",
    "training_yeast_samples = training_yeast_dataset[0].values\n",
    "independent_yeast_samples = independent_yeast_dataset[0].values"
   ],
   "id": "d88da8200fa87126",
   "outputs": [],
   "execution_count": 4
  },
  {
   "metadata": {
    "ExecuteTime": {
     "end_time": "2024-07-05T12:58:17.925887Z",
     "start_time": "2024-07-05T12:58:17.921796Z"
    }
   },
   "cell_type": "code",
   "source": [
    "training_human_pos_samples = training_human_dataset[training_human_dataset[1] == 1][0].values\n",
    "\n",
    "training_human_neg_samples = training_human_dataset[training_human_dataset[1] == 0][0].values\n",
    "\n",
    "independent_human_pos_samples = independent_human_dataset[independent_human_dataset[1] == 1][0].values\n",
    "\n",
    "independent_human_neg_samples = independent_human_dataset[independent_human_dataset[1] == 0][0].values"
   ],
   "id": "59aff46162374662",
   "outputs": [],
   "execution_count": 5
  },
  {
   "metadata": {
    "ExecuteTime": {
     "end_time": "2024-07-05T12:58:17.928714Z",
     "start_time": "2024-07-05T12:58:17.926637Z"
    }
   },
   "cell_type": "code",
   "source": [
    "def count_similarity(main_samples: list[str], sub_samples: list[str]):\n",
    "    result = {}\n",
    "\n",
    "    for s in sub_samples:\n",
    "        if s in main_samples:\n",
    "            if s in result:\n",
    "                result[s] += 1\n",
    "            else:\n",
    "                result[s] = 1\n",
    "\n",
    "    return result"
   ],
   "id": "f93356ab381d43db",
   "outputs": [],
   "execution_count": 6
  },
  {
   "metadata": {
    "ExecuteTime": {
     "end_time": "2024-07-05T12:58:17.932056Z",
     "start_time": "2024-07-05T12:58:17.929244Z"
    }
   },
   "cell_type": "code",
   "source": "result = count_similarity(independent_human_samples, independent_human_samples)",
   "id": "cdb5371d89f10815",
   "outputs": [],
   "execution_count": 7
  },
  {
   "metadata": {
    "ExecuteTime": {
     "end_time": "2024-07-05T12:58:17.934461Z",
     "start_time": "2024-07-05T12:58:17.932755Z"
    }
   },
   "cell_type": "code",
   "source": [
    "for seq in result:\n",
    "    count = result[seq]\n",
    "    if count > 1:\n",
    "        print(seq, count)"
   ],
   "id": "94e0fb81b542a7ed",
   "outputs": [
    {
     "name": "stdout",
     "output_type": "stream",
     "text": [
      "UCAAGUGUAGUAUCUGUUCUU 6\n",
      "AAGUGUAGUAUCUGUUCUUAU 3\n",
      "GUGUAGUAUCUGUUCUUAUCA 2\n",
      "GCUAAACAGGUACUGCUGGGC 2\n",
      "AGAUCAAGUGUAGUAUCUGUU 2\n",
      "CUUCUCGGCCUUUUGGCUAAG 3\n",
      "AUUGGAACGAUACAGAGAAGA 3\n",
      "UAAGUUAUUUUGCUCUCACUG 2\n"
     ]
    }
   ],
   "execution_count": 8
  },
  {
   "metadata": {
    "ExecuteTime": {
     "end_time": "2024-07-05T12:58:17.940095Z",
     "start_time": "2024-07-05T12:58:17.935316Z"
    }
   },
   "cell_type": "code",
   "source": "result",
   "id": "94ea4f992f8bd46",
   "outputs": [
    {
     "data": {
      "text/plain": [
       "{'UCAAGUGUAGUAUCUGUUCUU': 6,\n",
       " 'GCCUUUUCUUUGUUUGUAACU': 1,\n",
       " 'CCCCCGCCUUUUUUUCUGUUG': 1,\n",
       " 'AAGUGUAGUAUCUGUUCUUAU': 3,\n",
       " 'CAAUAACUCAUUCCUACAGCC': 1,\n",
       " 'AAAUCCUUUCUAAAUUGCAUG': 1,\n",
       " 'CAGCUGGGAGUUAAAUACUCU': 1,\n",
       " 'UCUCUCUCUCUCUCUCUCUCU': 1,\n",
       " 'UUUUCAUCACUAUGGCUUAGC': 1,\n",
       " 'GUGUAGUAUCUGUUCUUAUCA': 2,\n",
       " 'UCUUAACUCUUGGGGCUGGUA': 1,\n",
       " 'GUAACCAGUCUGUGGGAAGUA': 1,\n",
       " 'CCACCCUCUUUUAAGUAGAUU': 1,\n",
       " 'AGCCUUCAGAUGAAGGGGGGG': 1,\n",
       " 'AUGAUUCUAUUAUAGUAUUCU': 1,\n",
       " 'GUGAUAUAACUCAGUGGCAGA': 1,\n",
       " 'AAGACAUGAAUAAGAACUGAU': 1,\n",
       " 'AAACUAUCGCUUCUCGGCCUU': 1,\n",
       " 'UAGGGUCGCCUUAAGUCAACA': 1,\n",
       " 'CCGAAUCAACUUUGCCGUGUU': 1,\n",
       " 'GCUAAACAGGUACUGCUGGGC': 2,\n",
       " 'AGGCAGACAGUAGGAAGAGUA': 1,\n",
       " 'UGAACACGUAUGCCAAUGGAC': 1,\n",
       " 'GACUCAAAGUUACUCUCCUUC': 1,\n",
       " 'AGUAAUCGCUUCUCGGCCUUU': 1,\n",
       " 'UCACUGUGGGUCUGGGCUUUA': 1,\n",
       " 'CACCAUGGUGUCUGGGAGCAC': 1,\n",
       " 'UGGAUCACUUUGCAUCAGUAG': 1,\n",
       " 'UCGGGCCUAGUUCAAACCUUU': 1,\n",
       " 'GGCUGGUAAAUUGAAAUACUG': 1,\n",
       " 'UGAAAGUAACUUUGCCCGAGC': 1,\n",
       " 'AGAUCAAGUGUAGUAUCUGUU': 2,\n",
       " 'GAUGUAUUGUUUGCACUCUUC': 1,\n",
       " 'CUAAGAGGUUUGUUGUCCUAU': 1,\n",
       " 'GUGGAAUGAAUAGACUUAACU': 1,\n",
       " 'CAUUUCUGAAUUCAGAUGUAU': 1,\n",
       " 'GGGAGAGCGUUAGACUGAAGA': 1,\n",
       " 'AGCCAUCAGGUAAGCCAAGAU': 1,\n",
       " 'UUGUCGGUGUUAACAAAAUGG': 1,\n",
       " 'GACCAUGUCUUGAAAAGACAA': 1,\n",
       " 'GCGCCCCAAUUAUUAUGACUG': 1,\n",
       " 'CUUCUCGGCCUUUUGGCUAAG': 3,\n",
       " 'CAUAAAAAGUUUUUUCUUCAG': 1,\n",
       " 'CUUUUCUCUCUCUUCCUGAAA': 1,\n",
       " 'ACCAUAUGUUUAGAAAUAAAA': 1,\n",
       " 'UAGUAUCUGUUCUUAUCAGUU': 1,\n",
       " 'AGUAACAAGUUCAGGUUCACC': 1,\n",
       " 'UUUUAUUAUUUGGAUGAAUAU': 1,\n",
       " 'UAGCUAUCGCUUCUCGGCCUU': 1,\n",
       " 'ACUGAAGUGUUCCCAAAGCUA': 1,\n",
       " 'GCAACAGAGUUCAACUAUCUC': 1,\n",
       " 'GCAAAGUCACUCUAUUCUGAU': 1,\n",
       " 'UCCUGAGAGUUCACGCUGAGC': 1,\n",
       " 'UUCCUUCAAAUAAAAAAAAAU': 1,\n",
       " 'GUGACCAGAAUAGUAACUAAA': 1,\n",
       " 'GUAGUAUCUGUUCUUAUCAGU': 1,\n",
       " 'UGUUCUGUUGUUGUCAAGUGC': 1,\n",
       " 'GCUAUUCCAUUGUUCCUGUAC': 1,\n",
       " 'CAAAAUGACUUUCGUUCUUCU': 1,\n",
       " 'GGGUCCGGACUGUUUGACACU': 1,\n",
       " 'AAUUUCAAAAUUGCAGAGAAA': 1,\n",
       " 'AUGGAAAUCCUUUUGUUUUGU': 1,\n",
       " 'GUUUAUUUCAUUGUUUUUAUU': 1,\n",
       " 'CUCUUACCUGUUAAAAUCAGG': 1,\n",
       " 'GACGUGUCUGUUGUUUCUCAA': 1,\n",
       " 'UUCUCCAUGAUUCGUGCAUCU': 1,\n",
       " 'GCAUCAAAACUUCACUUUUUG': 1,\n",
       " 'UCCUCUAUAGUUAACCACAUU': 1,\n",
       " 'UUCAGAUACUUACAUAGUUUU': 1,\n",
       " 'UGUUCUGAGUUCUACUGUCUU': 1,\n",
       " 'UGUUUUUGUAUUGUUGCUCCU': 1,\n",
       " 'UAUACUAAAAUUGGAACGAUA': 1,\n",
       " 'GUGGAACCUCUCUAGUUAAAA': 1,\n",
       " 'AUUGGUGGUAUAGUGGUGAGC': 1,\n",
       " 'CCUCCUUUUCUGAGGAAGGUG': 1,\n",
       " 'UUUGCAAGACUCCUAGUACCU': 1,\n",
       " 'CGAUCCGAGUUCAAAUCUCGG': 1,\n",
       " 'UCCCAUGGUGUAAUGGUUAGC': 1,\n",
       " 'AAAUGAUGACUGAUGCUACUA': 1,\n",
       " 'GAGGACAAUAUAUUAAAUGGA': 1,\n",
       " 'GCAGCUGCCUUUCCAACAGCC': 1,\n",
       " 'AACUAUCGCUUCUCGGCCUUU': 1,\n",
       " 'UAGGUUCCUGUUGCUUGCCAU': 1,\n",
       " 'AUUGGAACGAUACAGAGAAGA': 3,\n",
       " 'UUAAACAGUUUCAUUUGGAAG': 1,\n",
       " 'GACCAUCACAUAUUUCCUGGU': 1,\n",
       " 'AUGUUGAAUUUAUUUGCUUAA': 1,\n",
       " 'UGUAAUAUUUUAUCCCUGGAC': 1,\n",
       " 'GGCUCCAGGAUCCUAAGGGAC': 1,\n",
       " 'GUGGUUGACUUUGGGUUUCUU': 1,\n",
       " 'AGAGAGAGAAUGAGAAUCAUC': 1,\n",
       " 'CUAAUUAUGCUGGACUGUUUU': 1,\n",
       " 'UUAUUGAGUGUCUACUGUGUG': 1,\n",
       " 'CUUGUUCCUGUACUCACUGUA': 1,\n",
       " 'GGUCCCUGGUUCGAUCCCGGG': 1,\n",
       " 'AACAGACACAUUACUUGAACU': 1,\n",
       " 'GGCCUUGGAUUUCAUCCCCAG': 1,\n",
       " 'GUUAGCACUCUGGACUUUGAA': 1,\n",
       " 'UUCUUUUUUUUGGCCUUUCUC': 1,\n",
       " 'UGUGUAAAGGUUUGGUUCUCA': 1,\n",
       " 'AUUUCUUCCAUUUUUAAUUAA': 1,\n",
       " 'GGCCGGUCUGUAGCGGAUCAC': 1,\n",
       " 'AGACUAUACUUUCAGGGAUCA': 1,\n",
       " 'AGAGUAUGGAUUCCGAUAUGA': 1,\n",
       " 'CUAUCAUAGUUGGGUUUAAGA': 1,\n",
       " 'UAAGGCUUUAUUGUCUCCUAA': 1,\n",
       " 'UAAGUUAUUUUGCUCUCACUG': 2,\n",
       " 'CAUUAUCGCUUCUCGGCCUUU': 1,\n",
       " 'GACCUAACUUUGGAUACUUUU': 1,\n",
       " 'AGGAUCAUUAUGAAAGAUGAA': 1,\n",
       " 'GGACUUUGAAUCCAGCGAUCC': 1,\n",
       " 'UUUAGAGGAAUAGGGAAAGUG': 1,\n",
       " 'UGGAAGUCUUUUCCUUUAAAG': 1,\n",
       " 'GAUAAAAGGCUAAUAUCCAGA': 1,\n",
       " 'GACUUUCAAUUAUCUGUGUGA': 1,\n",
       " 'GGAGAGGGAGUGGGAACAGGA': 1,\n",
       " 'GAUAAACUGUUACGCAUAUAU': 1,\n",
       " 'UGGGAGAGCGUUAGACUGAAG': 1,\n",
       " 'CCCAAAGGUUUACUUAAUGUU': 1,\n",
       " 'GUCACAAUAAUCAUCAUUUCA': 1,\n",
       " 'CCCUGGAGGUUCCAAUCCUGC': 1,\n",
       " 'UGUUUAAACAUUGGAUUUAAC': 1,\n",
       " 'CUACCCACCUUUCCCAGAAGU': 1,\n",
       " 'CCAUUAUCGCUUCUCGGCCUU': 1,\n",
       " 'UGUAGGUGGGUAGUAGGUGAG': 1,\n",
       " 'UAAAUUUUGUUAUGCAAUUAA': 1,\n",
       " 'CACAAUUGCAUGUGGAAGCUG': 1,\n",
       " 'GGGCCUCAGUUAGCUCUCAAG': 1,\n",
       " 'AGACCCUCAUUUUAGCUGCCU': 1,\n",
       " 'UCAGCCACCCUACCCUACUUG': 1,\n",
       " 'AGACUGAAGAUCUAAAGGUCC': 1,\n",
       " 'CACUCAAUACUUACCUGGCAG': 1,\n",
       " 'CAAAUGUGGCUCUAAAUUUUA': 1,\n",
       " 'UUAAAUUGCAUCUCCCUCAUU': 1,\n",
       " 'UCUGCUCCCGUGUUACAGUGU': 1,\n",
       " 'AUGUGUUUGUUUGUUUGUUUG': 1,\n",
       " 'AUCCAUCGCUUCUCGGCCUUU': 1,\n",
       " 'GGACCCCACCUAAAAGUAUAA': 1,\n",
       " 'CAUUUGCUGUUACUCUGGAGA': 1,\n",
       " 'AUUGUUGAUAUUUGCCCAGCA': 1,\n",
       " 'ACAUUACCCCUCCCUUCCCGC': 1,\n",
       " 'GGACAAUAUAUUAAAUGGAUU': 1,\n",
       " 'UGUGUGCUUCUGUCCUACUAC': 1,\n",
       " 'AUAUUUCUCAUUUCUUUUAGU': 1,\n",
       " 'ACUCAAUACUUACCUGGCAGG': 1,\n",
       " 'GUAAAAGGGUUACUCUCAUAC': 1,\n",
       " 'CUGGCUGCUGUAGGUCUUUUC': 1,\n",
       " 'ACCAACGAUCUGCUUGUGAAC': 1,\n",
       " 'GAUGAAUGCUUUCUCAAAAGU': 1,\n",
       " 'ACUAUUCUGUUAAAAUCAGGA': 1,\n",
       " 'UCAUUUUAUGUAUAUUUAUCA': 1,\n",
       " 'AAAGUAGAGCUAGGACCCACU': 1,\n",
       " 'UGUGUAGCAAUGGUGUCCAGG': 1,\n",
       " 'UCACAGAUGCUCCAGCAGGCA': 1,\n",
       " 'CCAGCCGCGGUGCCAGCAAAG': 1,\n",
       " 'GUCUGUACUCUAAGGGGACAU': 1,\n",
       " 'CCUUUCCAGUUACUCCUUAUA': 1,\n",
       " 'GGUAGGUGAGUUUAAAGUCUU': 1,\n",
       " 'AUUCAGGAGGUCUCAGAACAC': 1,\n",
       " 'GAGUAAUCGCUUCUCGGCCUU': 1,\n",
       " 'AUCAGAACAUUGGGUAUAUUC': 1,\n",
       " 'CAUCAAUCUUUCUCAGUUUGU': 1,\n",
       " 'ACUCAAAUUCUUAGAUGACCA': 1,\n",
       " 'GUCAGGAGGCUGUCUUACGUA': 1,\n",
       " 'GAGUUCAGCCUUCAGAACUUG': 1,\n",
       " 'UUUUUAAGUAUACAGGGGUCU': 1,\n",
       " 'AGAGCUUUAGUCCAGAGCAAG': 1,\n",
       " 'CCACAAACGGUUUAAGCUUGA': 1,\n",
       " 'GCGAUCCGAGUUCAAAUCUCG': 1,\n",
       " 'ACCCAAAUGCUCGGAAACUCU': 1,\n",
       " 'UCUCUGCUAAUUAUACAUCUG': 1,\n",
       " 'ACACGCAAAUUCGUGAAGCGU': 1,\n",
       " 'GAACAUGAGCUCUUGAGAUUC': 1,\n",
       " 'AAAAAUAUAAUUUGUUGAAUA': 1,\n",
       " 'CUUAUGACUGUGACUUCAGAA': 1,\n",
       " 'GCUUCUUUGUUUAUUCAUUUG': 1,\n",
       " 'AAAGAAGGAUUCCAAAGACAA': 1,\n",
       " 'AAAGCAACAUUCCCUGCUGGA': 1,\n",
       " 'UUUGUUUUGCUCCUGACACCA': 1,\n",
       " 'GUAUUGAGUGUCUACUGUGUG': 1,\n",
       " 'AUUGUCCUCCUUCUGAAGCCC': 1,\n",
       " 'GGGCCCAGGGUGCUGUGGAGA': 1,\n",
       " 'GCAAUUUGGUUCCACCACAUC': 1,\n",
       " 'UAGCUCCCCUUUCUCUGCUUG': 1,\n",
       " 'UCUCUUAGCAUCAGACACUUA': 1}"
      ]
     },
     "execution_count": 9,
     "metadata": {},
     "output_type": "execute_result"
    }
   ],
   "execution_count": 9
  },
  {
   "metadata": {
    "ExecuteTime": {
     "end_time": "2024-07-05T12:58:17.943615Z",
     "start_time": "2024-07-05T12:58:17.942063Z"
    }
   },
   "cell_type": "code",
   "source": "",
   "id": "15256c9a71daf41e",
   "outputs": [],
   "execution_count": null
  }
 ],
 "metadata": {
  "kernelspec": {
   "display_name": "Python 3",
   "language": "python",
   "name": "python3"
  },
  "language_info": {
   "codemirror_mode": {
    "name": "ipython",
    "version": 2
   },
   "file_extension": ".py",
   "mimetype": "text/x-python",
   "name": "python",
   "nbconvert_exporter": "python",
   "pygments_lexer": "ipython2",
   "version": "2.7.6"
  }
 },
 "nbformat": 4,
 "nbformat_minor": 5
}
