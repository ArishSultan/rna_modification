{
 "cells": [
  {
   "cell_type": "code",
   "id": "initial_id",
   "metadata": {
    "collapsed": true,
    "ExecuteTime": {
     "end_time": "2024-03-31T16:38:36.530976Z",
     "start_time": "2024-03-31T16:38:33.701232Z"
    }
   },
   "source": [
    "from pandas import read_csv\n",
    "from src.utils import get_path"
   ],
   "outputs": [],
   "execution_count": 1
  },
  {
   "metadata": {
    "ExecuteTime": {
     "end_time": "2024-03-31T16:38:36.533877Z",
     "start_time": "2024-03-31T16:38:36.532106Z"
    }
   },
   "cell_type": "code",
   "source": "DATASET_DIR = get_path() / 'dataset' / 'benchmark' / 'psi'",
   "id": "4ef96af7e2fcf2b2",
   "outputs": [],
   "execution_count": 2
  },
  {
   "metadata": {
    "ExecuteTime": {
     "end_time": "2024-03-31T16:38:36.540928Z",
     "start_time": "2024-03-31T16:38:36.534379Z"
    }
   },
   "cell_type": "code",
   "source": [
    "training_human_dataset = read_csv(DATASET_DIR / 'training' / 'h.sapiens.csv', header=None)\n",
    "training_yeast_dataset = read_csv(DATASET_DIR / 'training' / 's.cerevisiae.csv', header=None)\n",
    "\n",
    "independent_human_dataset = read_csv(DATASET_DIR / 'independent' / 'h.sapiens.csv', header=None)\n",
    "independent_yeast_dataset = read_csv(DATASET_DIR / 'independent' / 's.cerevisiae.csv', header=None)"
   ],
   "id": "17e1c836c3d07d17",
   "outputs": [],
   "execution_count": 3
  },
  {
   "metadata": {
    "ExecuteTime": {
     "end_time": "2024-03-31T16:38:37.480112Z",
     "start_time": "2024-03-31T16:38:37.476896Z"
    }
   },
   "cell_type": "code",
   "source": [
    "training_human_samples = training_human_dataset[0].values\n",
    "independent_human_samples = independent_human_dataset[0].values\n",
    "\n",
    "training_yeast_samples = training_yeast_dataset[0].values\n",
    "independent_yeast_samples = independent_yeast_dataset[0].values"
   ],
   "id": "d88da8200fa87126",
   "outputs": [],
   "execution_count": 4
  },
  {
   "metadata": {
    "ExecuteTime": {
     "end_time": "2024-03-31T16:45:58.407012Z",
     "start_time": "2024-03-31T16:45:58.401247Z"
    }
   },
   "cell_type": "code",
   "source": [
    "training_human_pos_samples = training_human_dataset[training_human_dataset[1] == 1][0].values\n",
    "\n",
    "training_human_neg_samples = training_human_dataset[training_human_dataset[1] == 0][0].values\n",
    "\n",
    "independent_human_pos_samples = independent_human_dataset[independent_human_dataset[1] == 1][0].values\n",
    "\n",
    "independent_human_neg_samples = independent_human_dataset[independent_human_dataset[1] == 0][0].values"
   ],
   "id": "59aff46162374662",
   "outputs": [],
   "execution_count": 33
  },
  {
   "metadata": {},
   "cell_type": "code",
   "outputs": [],
   "execution_count": 34,
   "source": [
    "def count_similarity(main_samples: list[str], sub_samples: list[str]):\n",
    "    result = {}\n",
    "\n",
    "    for s in sub_samples:\n",
    "        if s in main_samples:\n",
    "            if s in result:\n",
    "                result[s] += 1\n",
    "            else:\n",
    "                result[s] = 1\n",
    "\n",
    "    return result"
   ],
   "id": "f93356ab381d43db"
  },
  {
   "metadata": {
    "ExecuteTime": {
     "end_time": "2024-03-31T17:00:03.804994Z",
     "start_time": "2024-03-31T17:00:03.801904Z"
    }
   },
   "cell_type": "code",
   "source": "result = count_similarity(independent_human_samples, independent_human_samples)",
   "id": "cdb5371d89f10815",
   "outputs": [],
   "execution_count": 58
  },
  {
   "metadata": {
    "ExecuteTime": {
     "end_time": "2024-03-31T17:00:04.072798Z",
     "start_time": "2024-03-31T17:00:04.070563Z"
    }
   },
   "cell_type": "code",
   "source": [
    "for seq in result:\n",
    "    count = result[seq]\n",
    "    if count > 1:\n",
    "        print(seq, count)"
   ],
   "id": "94e0fb81b542a7ed",
   "outputs": [
    {
     "name": "stdout",
     "output_type": "stream",
     "text": [
      "UCAAGUGUAGUAUCUGUUCUU 6\n",
      "AAGUGUAGUAUCUGUUCUUAU 3\n",
      "GUGUAGUAUCUGUUCUUAUCA 2\n",
      "GCUAAACAGGUACUGCUGGGC 2\n",
      "AGAUCAAGUGUAGUAUCUGUU 2\n",
      "CUUCUCGGCCUUUUGGCUAAG 3\n",
      "AUUGGAACGAUACAGAGAAGA 3\n",
      "UAAGUUAUUUUGCUCUCACUG 2\n"
     ]
    }
   ],
   "execution_count": 59
  },
  {
   "metadata": {
    "ExecuteTime": {
     "end_time": "2024-03-31T16:59:54.038056Z",
     "start_time": "2024-03-31T16:59:54.034501Z"
    }
   },
   "cell_type": "code",
   "source": "result",
   "id": "94ea4f992f8bd46",
   "outputs": [
    {
     "data": {
      "text/plain": [
       "{'AGAUCAAGUGUAGUAUCUGUU': 2,\n",
       " 'UAUACUAAAAUUGGAACGAUA': 1,\n",
       " 'UGUAAUAUUUUAUCCCUGGAC': 1,\n",
       " 'CUAAUUAUGCUGGACUGUUUU': 1,\n",
       " 'AGACUAUACUUUCAGGGAUCA': 1,\n",
       " 'GAUAAAAGGCUAAUAUCCAGA': 1,\n",
       " 'AGACUGAAGAUCUAAAGGUCC': 1,\n",
       " 'UUUUUAAGUAUACAGGGGUCU': 1,\n",
       " 'ACACGCAAAUUCGUGAAGCGU': 1}"
      ]
     },
     "execution_count": 57,
     "metadata": {},
     "output_type": "execute_result"
    }
   ],
   "execution_count": 57
  },
  {
   "metadata": {},
   "cell_type": "code",
   "outputs": [],
   "execution_count": null,
   "source": "",
   "id": "15256c9a71daf41e"
  }
 ],
 "metadata": {
  "kernelspec": {
   "display_name": "Python 3",
   "language": "python",
   "name": "python3"
  },
  "language_info": {
   "codemirror_mode": {
    "name": "ipython",
    "version": 2
   },
   "file_extension": ".py",
   "mimetype": "text/x-python",
   "name": "python",
   "nbconvert_exporter": "python",
   "pygments_lexer": "ipython2",
   "version": "2.7.6"
  }
 },
 "nbformat": 4,
 "nbformat_minor": 5
}
