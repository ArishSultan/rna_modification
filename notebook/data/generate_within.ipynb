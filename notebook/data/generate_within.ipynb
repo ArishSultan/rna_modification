{
 "cells": [
  {
   "cell_type": "code",
   "id": "initial_id",
   "metadata": {
    "collapsed": true,
    "ExecuteTime": {
     "end_time": "2024-03-28T14:40:36.704549Z",
     "start_time": "2024-03-28T14:40:36.702080Z"
    }
   },
   "source": "from pandas import read_csv, DataFrame",
   "outputs": [],
   "execution_count": 65
  },
  {
   "metadata": {
    "ExecuteTime": {
     "end_time": "2024-03-28T14:29:05.567290Z",
     "start_time": "2024-03-28T14:29:05.560296Z"
    }
   },
   "cell_type": "code",
   "source": [
    "samples = \\\n",
    "    read_csv('/Users/arish/Workspace/experiments/rna_modification/dataset/intermediate/psi/h.sapiens.csv', header=None)[\n",
    "        0].values"
   ],
   "id": "48b455dd6fd24ed1",
   "outputs": [],
   "execution_count": 55
  },
  {
   "metadata": {
    "ExecuteTime": {
     "end_time": "2024-03-28T14:29:05.908031Z",
     "start_time": "2024-03-28T14:29:05.905298Z"
    }
   },
   "cell_type": "code",
   "source": "len(samples)",
   "id": "371ea5befe67b826",
   "outputs": [
    {
     "data": {
      "text/plain": [
       "3957"
      ]
     },
     "execution_count": 56,
     "metadata": {},
     "output_type": "execute_result"
    }
   ],
   "execution_count": 56
  },
  {
   "metadata": {
    "ExecuteTime": {
     "end_time": "2024-03-28T14:29:06.266858Z",
     "start_time": "2024-03-28T14:29:06.264956Z"
    }
   },
   "cell_type": "code",
   "source": [
    "pos_samples = set()\n",
    "all_sub_samples = set()\n",
    "neg_sub_samples = set()"
   ],
   "id": "f3dc822f8d8b28e1",
   "outputs": [],
   "execution_count": 57
  },
  {
   "metadata": {
    "ExecuteTime": {
     "end_time": "2024-03-28T14:29:06.630264Z",
     "start_time": "2024-03-28T14:29:06.627956Z"
    }
   },
   "cell_type": "code",
   "source": [
    "def get_all_sub_samples(sample, size=31):\n",
    "    assert len(sample) >= size\n",
    "\n",
    "    sub_samples = []\n",
    "    difference = len(sample) - size\n",
    "\n",
    "    index = 0\n",
    "    while index <= difference:\n",
    "        sub_sample = sample[index:size + index]\n",
    "        if sub_sample[len(sub_sample) // 2] == 'U':\n",
    "            sub_samples.append(sample[index:size + index])\n",
    "        index += 1\n",
    "\n",
    "    return sub_samples"
   ],
   "id": "5692c1aa940dc16e",
   "outputs": [],
   "execution_count": 58
  },
  {
   "metadata": {
    "ExecuteTime": {
     "end_time": "2024-03-28T14:28:48.741579Z",
     "start_time": "2024-03-28T14:28:48.737751Z"
    }
   },
   "cell_type": "code",
   "source": "get_all_sub_samples(samples[0], 31)",
   "id": "6c86e93245367e7e",
   "outputs": [
    {
     "data": {
      "text/plain": [
       "['UGUCUGAUAAAAGAGUUACUUUGAUAGAGUA',\n",
       " 'GUCUGAUAAAAGAGUUACUUUGAUAGAGUAA',\n",
       " 'UGAUAAAAGAGUUACUUUGAUAGAGUAAAUA',\n",
       " 'GAUAAAAGAGUUACUUUGAUAGAGUAAAUAA']"
      ]
     },
     "execution_count": 53,
     "metadata": {},
     "output_type": "execute_result"
    }
   ],
   "execution_count": 53
  },
  {
   "metadata": {
    "ExecuteTime": {
     "end_time": "2024-03-28T14:33:30.009852Z",
     "start_time": "2024-03-28T14:33:29.992788Z"
    }
   },
   "cell_type": "code",
   "source": [
    "for item in samples:\n",
    "    pos_samples.add(item[5:-5])\n",
    "\n",
    "    for s in get_all_sub_samples(item, 31):\n",
    "        all_sub_samples.add(s)"
   ],
   "id": "826a85906ac881c8",
   "outputs": [],
   "execution_count": 59
  },
  {
   "metadata": {
    "ExecuteTime": {
     "end_time": "2024-03-28T14:37:57.633640Z",
     "start_time": "2024-03-28T14:37:57.629944Z"
    }
   },
   "cell_type": "code",
   "source": [
    "count = 0\n",
    "for s in all_sub_samples:\n",
    "    if pos_samples.__contains__(s):\n",
    "        count += 1\n",
    "    else:\n",
    "        neg_sub_samples.add(s)\n",
    "\n",
    "print(count)\n",
    "print(len(pos_samples))\n",
    "print(len(neg_sub_samples))"
   ],
   "id": "de7e9b7092041568",
   "outputs": [
    {
     "name": "stdout",
     "output_type": "stream",
     "text": [
      "3418\n",
      "3418\n",
      "9189\n"
     ]
    }
   ],
   "execution_count": 64
  },
  {
   "metadata": {
    "ExecuteTime": {
     "end_time": "2024-03-28T14:42:08.919825Z",
     "start_time": "2024-03-28T14:42:08.905290Z"
    }
   },
   "cell_type": "code",
   "source": "DataFrame({0: [*pos_samples, *neg_sub_samples], 1: [1] * len(pos_samples) + [0] * len(neg_sub_samples)}).to_csv('sub_sampled.csv', header=False, index=False)",
   "id": "410b47bc24b03694",
   "outputs": [],
   "execution_count": 67
  },
  {
   "metadata": {},
   "cell_type": "code",
   "outputs": [],
   "execution_count": null,
   "source": "",
   "id": "be26758ea0e54668"
  }
 ],
 "metadata": {
  "kernelspec": {
   "display_name": "Python 3",
   "language": "python",
   "name": "python3"
  },
  "language_info": {
   "codemirror_mode": {
    "name": "ipython",
    "version": 2
   },
   "file_extension": ".py",
   "mimetype": "text/x-python",
   "name": "python",
   "nbconvert_exporter": "python",
   "pygments_lexer": "ipython2",
   "version": "2.7.6"
  }
 },
 "nbformat": 4,
 "nbformat_minor": 5
}
