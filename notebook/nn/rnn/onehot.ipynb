{
 "cells": [
  {
   "metadata": {
    "ExecuteTime": {
     "end_time": "2024-03-24T12:10:34.392304Z",
     "start_time": "2024-03-24T12:10:34.389948Z"
    }
   },
   "cell_type": "code",
   "source": [
    "import os\n",
    "os.environ['KERAS_BACKEND'] = 'torch'"
   ],
   "id": "bfbdd803ee9ad3b",
   "execution_count": 5,
   "outputs": []
  },
  {
   "cell_type": "code",
   "source": [
    "from src.dataset import load_dataset, Species, Modification\n",
    "\n",
    "from keras.models import Sequential\n",
    "from keras.layers import Embedding, SimpleRNN, Dropout, Dense"
   ],
   "metadata": {
    "collapsed": false,
    "ExecuteTime": {
     "end_time": "2024-03-24T12:10:34.806394Z",
     "start_time": "2024-03-24T12:10:34.729122Z"
    }
   },
   "id": "a2d641410e08bfae",
   "execution_count": 6,
   "outputs": []
  },
  {
   "cell_type": "code",
   "source": [
    "train_data = load_dataset(Species.human, Modification.psi)"
   ],
   "metadata": {
    "collapsed": false,
    "ExecuteTime": {
     "end_time": "2024-03-24T12:04:16.731902Z",
     "start_time": "2024-03-24T12:04:16.731839Z"
    }
   },
   "id": "511b2094428cbfd6",
   "execution_count": null,
   "outputs": []
  },
  {
   "metadata": {},
   "cell_type": "code",
   "execution_count": null,
   "source": [
    "model = Sequential([\n",
    "    Embedding(),\n",
    "    SimpleRNN(100, return_sequences=True),\n",
    "    Dropout(0.2),\n",
    "    SimpleRNN(100),\n",
    "    Dropout(0.2),\n",
    "    Dense(64, activation='relu'),\n",
    "    Dense(1, activation='sigmoid')\n",
    "])\n",
    "# model_rnn = Sequential()\n",
    "# model_rnn.add(Embedding(input_dim=len(tokenizer.word_index) + 1, output_dim=100, input_length=max_length))\n",
    "# \n",
    "# # First RNN layer with more units\n",
    "# model_rnn.add(SimpleRNN(100, return_sequences=True))  # return_sequences=True for stacking RNN layers\n",
    "# \n",
    "# # Dropout layer for regularization\n",
    "# model_rnn.add(Dropout(0.2))\n",
    "# \n",
    "# # Second RNN layer\n",
    "# model_rnn.add(SimpleRNN(100))\n",
    "# \n",
    "# # Another Dropout layer\n",
    "# model_rnn.add(Dropout(0.2))\n",
    "# \n",
    "# # Dense layer\n",
    "# model_rnn.add(Dense(64, activation='relu'))\n",
    "# \n",
    "# # Final Dense layer with sigmoid activation for binary classification\n",
    "# model_rnn.add(Dense(1, activation='sigmoid'))\n",
    "# \n",
    "# # Compile the model\n",
    "# model_rnn.compile(loss='binary_crossentropy', optimizer='adam', metrics=['accuracy'])\n",
    "# \n",
    "# # Train the model\n",
    "# model_rnn.fit(train_sequences_padded, train_data.targets, epochs=10, validation_split=0.2)"
   ],
   "id": "dbff0d6646e2f685",
   "outputs": []
  },
  {
   "cell_type": "code",
   "source": [
    "# max_length = 41\n",
    "# \n",
    "# # Tokenize the sequences\n",
    "# tokenizer = Tokenizer(char_level=True)  # Set char_level to True for character-level tokenization\n",
    "# tokenizer.fit_on_texts([x[0] for x in train_data.samples.values])\n",
    "# \n",
    "# # Convert sequences to numerical format\n",
    "# train_sequences = tokenizer.texts_to_sequences([x[0] for x in train_data.samples.values])\n",
    "# # test_sequences = tokenizer.texts_to_sequences(test_data.sequences)\n",
    "# \n",
    "# # Pad the sequences\n",
    "# train_sequences_padded = pad_sequences(train_sequences, maxlen=max_length, padding='post')\n",
    "# # test_sequences_padded = pad_sequences(test_sequences, maxlen=max_length, padding='post')"
   ],
   "metadata": {
    "collapsed": true,
    "ExecuteTime": {
     "end_time": "2024-01-29T06:15:55.975220Z",
     "start_time": "2024-01-29T06:15:55.818644Z"
    }
   },
   "id": "initial_id",
   "execution_count": 3,
   "outputs": []
  },
  {
   "cell_type": "code",
   "source": "# model_rnn.fit(train_sequences_padded, train_data.targets, epochs=20, validation_split=0.2)",
   "metadata": {
    "collapsed": false,
    "ExecuteTime": {
     "end_time": "2024-01-29T06:19:32.018629Z",
     "start_time": "2024-01-29T06:18:08.014820Z"
    }
   },
   "id": "8df0619a34abe474",
   "execution_count": 7,
   "outputs": []
  },
  {
   "cell_type": "code",
   "source": [],
   "metadata": {
    "collapsed": false,
    "ExecuteTime": {
     "end_time": "2024-01-29T06:18:03.329939Z",
     "start_time": "2024-01-29T06:18:03.315469Z"
    }
   },
   "id": "6f01caea063c9ac5",
   "execution_count": 6,
   "outputs": []
  }
 ],
 "metadata": {
  "kernelspec": {
   "display_name": "Python 3",
   "language": "python",
   "name": "python3"
  },
  "language_info": {
   "codemirror_mode": {
    "name": "ipython",
    "version": 2
   },
   "file_extension": ".py",
   "mimetype": "text/x-python",
   "name": "python",
   "nbconvert_exporter": "python",
   "pygments_lexer": "ipython2",
   "version": "2.7.6"
  }
 },
 "nbformat": 4,
 "nbformat_minor": 5
}
