{
 "cells": [
  {
   "cell_type": "code",
   "source": [
    "import os\n",
    "\n",
    "from torch import save\n",
    "from torch.optim import AdamW\n",
    "from sklearn.model_selection import train_test_split\n",
    "\n",
    "from transformers import BertTokenizerFast, BertForSequenceClassification\n",
    "\n",
    "from src.dataset import load_dataset, load_benchmark_dataset, Species, Modification\n",
    "from src.utils.transformers import encode_seq_bunch, make_dataloader, train_epoch, calculate_acc_dataset"
   ],
   "metadata": {
    "collapsed": false,
    "ExecuteTime": {
     "end_time": "2024-03-25T12:16:55.439216Z",
     "start_time": "2024-03-25T12:16:53.013212Z"
    }
   },
   "id": "c6e44ccfaec72c1c",
   "execution_count": 2,
   "outputs": []
  },
  {
   "metadata": {
    "ExecuteTime": {
     "end_time": "2024-03-25T12:17:27.728660Z",
     "start_time": "2024-03-25T12:17:27.726765Z"
    }
   },
   "cell_type": "code",
   "source": [
    "DEVICE = 'mps'\n",
    "MODEL = 'bert-base-uncased'\n",
    "\n",
    "EXPERIMENT_NAME = 'bert-simple'"
   ],
   "id": "353f8ec4eba622cd",
   "execution_count": 5,
   "outputs": []
  },
  {
   "cell_type": "code",
   "source": "tokenizer = BertTokenizerFast.from_pretrained(MODEL)",
   "metadata": {
    "collapsed": false,
    "ExecuteTime": {
     "end_time": "2024-03-25T12:17:28.877794Z",
     "start_time": "2024-03-25T12:17:27.967037Z"
    }
   },
   "id": "dff7fb1d2ad5af1a",
   "execution_count": 6,
   "outputs": []
  },
  {
   "metadata": {
    "ExecuteTime": {
     "end_time": "2024-03-24T22:56:09.483996Z",
     "start_time": "2024-03-24T22:56:09.475692Z"
    }
   },
   "cell_type": "code",
   "source": "dataset = load_dataset(Species.human, Modification.psi)",
   "id": "bb4b5ebdadb20ea4",
   "execution_count": 4,
   "outputs": []
  },
  {
   "metadata": {
    "ExecuteTime": {
     "end_time": "2024-03-24T22:56:09.883006Z",
     "start_time": "2024-03-24T22:56:09.484907Z"
    }
   },
   "cell_type": "code",
   "source": "sequences, labels = encode_seq_bunch(dataset, tokenizer, True)",
   "id": "db069f82796bbf4f",
   "execution_count": 5,
   "outputs": []
  },
  {
   "metadata": {
    "ExecuteTime": {
     "end_time": "2024-03-24T22:56:09.887885Z",
     "start_time": "2024-03-24T22:56:09.883670Z"
    }
   },
   "cell_type": "code",
   "source": [
    "x_train, x_test, y_train, y_test = train_test_split(sequences, labels, test_size=0.2)\n",
    "x_train, x_val, y_train, y_val = train_test_split(x_train, y_train, test_size=0.2)"
   ],
   "id": "a8f686aef15da19a",
   "execution_count": 6,
   "outputs": []
  },
  {
   "metadata": {
    "ExecuteTime": {
     "end_time": "2024-03-24T22:56:09.991188Z",
     "start_time": "2024-03-24T22:56:09.888588Z"
    }
   },
   "cell_type": "code",
   "source": [
    "train_dataloader = make_dataloader(x_train, y_train)\n",
    "test_dataloader = make_dataloader(x_test, y_test)\n",
    "val_dataloader = make_dataloader(x_val, y_val)"
   ],
   "id": "d45f148e71d8366e",
   "execution_count": 7,
   "outputs": []
  },
  {
   "metadata": {
    "ExecuteTime": {
     "end_time": "2024-03-24T22:56:11.655101Z",
     "start_time": "2024-03-24T22:56:09.991883Z"
    }
   },
   "cell_type": "code",
   "source": [
    "model = BertForSequenceClassification.from_pretrained(MODEL, num_labels=2)\n",
    "model.to(DEVICE)\n",
    "\n",
    "None"
   ],
   "id": "6a2457412227b32c",
   "execution_count": 8,
   "outputs": []
  },
  {
   "metadata": {
    "ExecuteTime": {
     "end_time": "2024-03-25T12:22:07.021086Z",
     "start_time": "2024-03-25T12:22:07.006270Z"
    }
   },
   "cell_type": "code",
   "source": "optimizer = AdamW(model.parameters(), lr=2e-5)",
   "id": "dd190cce7eb9ab18",
   "execution_count": 24,
   "outputs": []
  },
  {
   "metadata": {
    "ExecuteTime": {
     "end_time": "2024-03-24T22:56:12.128113Z",
     "start_time": "2024-03-24T22:56:12.126480Z"
    }
   },
   "cell_type": "code",
   "source": [
    "old_val_acc = 0\n",
    "old_train_acc = 0\n",
    "old_model_name = ''"
   ],
   "id": "295b9f3f87df5bff",
   "execution_count": 10,
   "outputs": []
  },
  {
   "metadata": {
    "ExecuteTime": {
     "end_time": "2024-03-24T22:56:12.130282Z",
     "start_time": "2024-03-24T22:56:12.128733Z"
    }
   },
   "cell_type": "code",
   "source": "TOTAL_EPOCHS = 0",
   "id": "b7a0d488abd7c47d",
   "execution_count": 11,
   "outputs": []
  },
  {
   "cell_type": "code",
   "source": [
    "for epoch in range(1, 5 + 1):\n",
    "    TOTAL_EPOCHS += 1\n",
    "\n",
    "    train_acc, val_acc = train_epoch(TOTAL_EPOCHS, DEVICE, model, optimizer, train_dataloader, val_dataloader)\n",
    "    if train_acc > old_train_acc and val_acc > old_val_acc:\n",
    "        if old_model_name != '':\n",
    "            os.unlink(old_model_name)\n",
    "        old_val_acc = val_acc\n",
    "        old_train_acc = train_acc\n",
    "        old_model_name = f'{EXPERIMENT_NAME}_ep-{TOTAL_EPOCHS}_tacc-{train_acc:.2}_vacc-{val_acc:.2}.pt'\n",
    "        save(model, old_model_name)"
   ],
   "metadata": {
    "collapsed": false,
    "ExecuteTime": {
     "end_time": "2024-03-24T23:23:10.335447Z",
     "start_time": "2024-03-24T23:17:15.198155Z"
    }
   },
   "id": "bde3bac41787590b",
   "execution_count": 16,
   "outputs": []
  },
  {
   "metadata": {
    "ExecuteTime": {
     "end_time": "2024-03-24T23:49:16.608809Z",
     "start_time": "2024-03-24T23:48:25.226227Z"
    }
   },
   "cell_type": "code",
   "source": "calculate_acc_dataset(DEVICE, model, test_dataloader)",
   "id": "5b750f0252641842",
   "execution_count": 17,
   "outputs": []
  },
  {
   "metadata": {
    "ExecuteTime": {
     "end_time": "2024-03-25T12:23:08.689823Z",
     "start_time": "2024-03-25T12:23:08.249842Z"
    }
   },
   "cell_type": "code",
   "source": [
    "from torch import load\n",
    "\n",
    "trained_model = load('/Users/arish/Workspace/experiments/rna_modification/notebook/nn/bert/bert-simple_ep-17_tacc-0.98_vacc-0.84.pt')\n",
    "trained_model.to(DEVICE)\n",
    "\n",
    "None"
   ],
   "id": "26128601b4784a84",
   "execution_count": 32,
   "outputs": []
  },
  {
   "metadata": {
    "ExecuteTime": {
     "end_time": "2024-03-25T12:23:08.745269Z",
     "start_time": "2024-03-25T12:23:08.690918Z"
    }
   },
   "cell_type": "code",
   "source": [
    "train_seq, train_labels = encode_seq_bunch(load_benchmark_dataset(Species.human, Modification.psi), tokenizer, True)\n",
    "test_seq, test_labels = encode_seq_bunch(load_benchmark_dataset(Species.human, Modification.psi, True), tokenizer, True)"
   ],
   "id": "24d9dd99e0a96398",
   "execution_count": 33,
   "outputs": []
  },
  {
   "metadata": {
    "ExecuteTime": {
     "end_time": "2024-03-25T12:23:08.770541Z",
     "start_time": "2024-03-25T12:23:08.762818Z"
    }
   },
   "cell_type": "code",
   "source": [
    "train_dataloader = make_dataloader(train_seq, train_labels)\n",
    "test_dataloader = make_dataloader(test_seq, test_labels)"
   ],
   "id": "5c4cac85222d2978",
   "execution_count": 34,
   "outputs": []
  },
  {
   "metadata": {
    "ExecuteTime": {
     "end_time": "2024-03-25T12:23:09.019481Z",
     "start_time": "2024-03-25T12:23:09.015858Z"
    }
   },
   "cell_type": "code",
   "source": [
    "TOTAL_EPOCHS = 0\n",
    "optimizer = AdamW(trained_model.parameters(), lr=2e-5)\n",
    "old_val_acc = 0\n",
    "old_train_acc = 0\n",
    "old_model_name = ''"
   ],
   "id": "1beb0b61f5b0f4b3",
   "execution_count": 35,
   "outputs": []
  },
  {
   "metadata": {
    "ExecuteTime": {
     "end_time": "2024-03-25T12:25:41.034634Z",
     "start_time": "2024-03-25T12:24:56.379921Z"
    }
   },
   "cell_type": "code",
   "source": [
    "for epoch in range(1, 5 + 1):\n",
    "    TOTAL_EPOCHS += 1\n",
    "\n",
    "    train_acc, val_acc = train_epoch(TOTAL_EPOCHS, DEVICE, trained_model, optimizer, train_dataloader, test_dataloader)\n",
    "    if train_acc > old_train_acc and val_acc > old_val_acc:\n",
    "        if old_model_name != '':\n",
    "            os.unlink(old_model_name)\n",
    "        old_val_acc = val_acc\n",
    "        old_train_acc = train_acc\n",
    "        old_model_name = f'{EXPERIMENT_NAME}_test_ep-{TOTAL_EPOCHS}_tacc-{train_acc:.2}_vacc-{val_acc:.2}.pt'\n",
    "        save(trained_model, old_model_name)"
   ],
   "id": "9782a5e97b331a7a",
   "execution_count": 38,
   "outputs": []
  },
  {
   "metadata": {},
   "cell_type": "code",
   "execution_count": null,
   "source": "",
   "id": "d777ce5dc6a70e51",
   "outputs": []
  }
 ],
 "metadata": {
  "kernelspec": {
   "display_name": "Python 3",
   "language": "python",
   "name": "python3"
  },
  "language_info": {
   "codemirror_mode": {
    "name": "ipython",
    "version": 2
   },
   "file_extension": ".py",
   "mimetype": "text/x-python",
   "name": "python",
   "nbconvert_exporter": "python",
   "pygments_lexer": "ipython2",
   "version": "2.7.6"
  }
 },
 "nbformat": 4,
 "nbformat_minor": 5
}
