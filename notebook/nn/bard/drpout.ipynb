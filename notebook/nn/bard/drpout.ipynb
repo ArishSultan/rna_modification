{
 "cells": [
  {
   "cell_type": "code",
   "source": [
    "import os\n",
    "\n",
    "from torch import save\n",
    "from torch.optim import AdamW\n",
    "from sklearn.model_selection import train_test_split\n",
    "\n",
    "from transformers import BertTokenizerFast, BertForSequenceClassification, BertConfig\n",
    "\n",
    "from src.dataset import load_dataset, Species, Modification\n",
    "from src.utils.transformers import encode_seq_bunch, make_dataloader, train_epoch, calculate_acc_dataset"
   ],
   "metadata": {
    "collapsed": false,
    "ExecuteTime": {
     "end_time": "2024-03-25T10:14:33.429084Z",
     "start_time": "2024-03-25T10:14:31.194814Z"
    }
   },
   "id": "c6e44ccfaec72c1c",
   "outputs": [],
   "execution_count": 1
  },
  {
   "metadata": {
    "ExecuteTime": {
     "end_time": "2024-03-25T10:14:33.432175Z",
     "start_time": "2024-03-25T10:14:33.430091Z"
    }
   },
   "cell_type": "code",
   "source": [
    "DEVICE = 'mps'\n",
    "MODEL = 'bert-base-uncased'\n",
    "\n",
    "EXPERIMENT_NAME = 'bert-dropout'"
   ],
   "id": "353f8ec4eba622cd",
   "outputs": [],
   "execution_count": 2
  },
  {
   "cell_type": "code",
   "source": "tokenizer = BertTokenizerFast.from_pretrained(MODEL)",
   "metadata": {
    "collapsed": false,
    "ExecuteTime": {
     "end_time": "2024-03-25T10:14:33.925178Z",
     "start_time": "2024-03-25T10:14:33.432729Z"
    }
   },
   "id": "dff7fb1d2ad5af1a",
   "outputs": [],
   "execution_count": 3
  },
  {
   "metadata": {
    "ExecuteTime": {
     "end_time": "2024-03-25T10:14:33.937132Z",
     "start_time": "2024-03-25T10:14:33.927296Z"
    }
   },
   "cell_type": "code",
   "source": "dataset = load_dataset(Species.human, Modification.psi)",
   "id": "bb4b5ebdadb20ea4",
   "outputs": [],
   "execution_count": 4
  },
  {
   "metadata": {
    "ExecuteTime": {
     "end_time": "2024-03-25T10:14:34.464352Z",
     "start_time": "2024-03-25T10:14:33.938043Z"
    }
   },
   "cell_type": "code",
   "source": "sequences, labels = encode_seq_bunch(dataset, tokenizer, True)",
   "id": "db069f82796bbf4f",
   "outputs": [
    {
     "name": "stderr",
     "output_type": "stream",
     "text": [
      "Truncation was not explicitly activated but `max_length` is provided a specific value, please use `truncation=True` to explicitly truncate examples to max length. Defaulting to 'longest_first' truncation strategy. If you encode pairs of sequences (GLUE-style) with the tokenizer you can select this strategy more precisely by providing a specific strategy to `truncation`.\n"
     ]
    }
   ],
   "execution_count": 5
  },
  {
   "metadata": {
    "ExecuteTime": {
     "end_time": "2024-03-25T10:14:34.469274Z",
     "start_time": "2024-03-25T10:14:34.465187Z"
    }
   },
   "cell_type": "code",
   "source": [
    "x_train, x_test, y_train, y_test = train_test_split(sequences, labels, test_size=0.2)\n",
    "x_train, x_val, y_train, y_val = train_test_split(x_train, y_train, test_size=0.2)"
   ],
   "id": "a8f686aef15da19a",
   "outputs": [],
   "execution_count": 6
  },
  {
   "metadata": {
    "ExecuteTime": {
     "end_time": "2024-03-25T10:14:34.600683Z",
     "start_time": "2024-03-25T10:14:34.470225Z"
    }
   },
   "cell_type": "code",
   "source": [
    "train_dataloader = make_dataloader(x_train, y_train)\n",
    "test_dataloader = make_dataloader(x_test, y_test)\n",
    "val_dataloader = make_dataloader(x_val, y_val)"
   ],
   "id": "d45f148e71d8366e",
   "outputs": [],
   "execution_count": 7
  },
  {
   "metadata": {
    "ExecuteTime": {
     "end_time": "2024-03-25T10:14:35.251948Z",
     "start_time": "2024-03-25T10:14:34.601690Z"
    }
   },
   "cell_type": "code",
   "source": [
    "config = BertConfig.from_pretrained(\n",
    "    MODEL,\n",
    "    hidden_dropout_prob=0.2,\n",
    "    attention_probs_dropout_prob=0.3,\n",
    "    classifier_dropout=0.8,\n",
    "    num_labels=2\n",
    ")\n",
    "model = BertForSequenceClassification.from_pretrained(MODEL, config=config)\n",
    "model.to(DEVICE)\n",
    "\n",
    "None"
   ],
   "id": "6a2457412227b32c",
   "outputs": [
    {
     "name": "stderr",
     "output_type": "stream",
     "text": [
      "Some weights of BertForSequenceClassification were not initialized from the model checkpoint at bert-base-uncased and are newly initialized: ['classifier.bias', 'classifier.weight']\n",
      "You should probably TRAIN this model on a down-stream task to be able to use it for predictions and inference.\n"
     ]
    }
   ],
   "execution_count": 8
  },
  {
   "metadata": {
    "ExecuteTime": {
     "end_time": "2024-03-25T10:14:35.761341Z",
     "start_time": "2024-03-25T10:14:35.252700Z"
    }
   },
   "cell_type": "code",
   "source": "optimizer = AdamW(model.parameters(), lr=2e-5)",
   "id": "dd190cce7eb9ab18",
   "outputs": [],
   "execution_count": 9
  },
  {
   "metadata": {
    "ExecuteTime": {
     "end_time": "2024-03-25T10:14:35.765041Z",
     "start_time": "2024-03-25T10:14:35.763373Z"
    }
   },
   "cell_type": "code",
   "source": [
    "old_val_acc = 0\n",
    "old_train_acc = 0\n",
    "old_model_name = ''"
   ],
   "id": "295b9f3f87df5bff",
   "outputs": [],
   "execution_count": 10
  },
  {
   "metadata": {
    "ExecuteTime": {
     "end_time": "2024-03-25T10:14:35.767585Z",
     "start_time": "2024-03-25T10:14:35.765812Z"
    }
   },
   "cell_type": "code",
   "source": "TOTAL_EPOCHS = 0",
   "id": "b7a0d488abd7c47d",
   "outputs": [],
   "execution_count": 11
  },
  {
   "cell_type": "code",
   "source": [
    "for epoch in range(1, 5 + 1):\n",
    "    TOTAL_EPOCHS += 1\n",
    "\n",
    "    train_acc, val_acc = train_epoch(TOTAL_EPOCHS, DEVICE, model, optimizer, train_dataloader, val_dataloader)\n",
    "    if train_acc > old_train_acc and val_acc > old_val_acc:\n",
    "        if old_model_name != '':\n",
    "            os.unlink(old_model_name)\n",
    "        old_val_acc = val_acc\n",
    "        old_train_acc = train_acc\n",
    "        old_model_name = f'{EXPERIMENT_NAME}_ep-{TOTAL_EPOCHS}_tacc-{train_acc:.2}_vacc-{val_acc:.2}.pt'\n",
    "        save(model, old_model_name)"
   ],
   "metadata": {
    "collapsed": false,
    "ExecuteTime": {
     "end_time": "2024-03-25T10:27:25.624446Z",
     "start_time": "2024-03-25T10:20:42.784527Z"
    }
   },
   "id": "bde3bac41787590b",
   "outputs": [
    {
     "data": {
      "text/plain": [
       "  0%|          | 0/159 [00:00<?, ?it/s]"
      ],
      "application/vnd.jupyter.widget-view+json": {
       "version_major": 2,
       "version_minor": 0,
       "model_id": "b6ddf56d49634b258ba5352f619dfa68"
      }
     },
     "metadata": {},
     "output_type": "display_data"
    },
    {
     "data": {
      "text/plain": [
       "  0%|          | 0/159 [00:00<?, ?it/s]"
      ],
      "application/vnd.jupyter.widget-view+json": {
       "version_major": 2,
       "version_minor": 0,
       "model_id": "6cf335bee88340e1a65846b1b42cc344"
      }
     },
     "metadata": {},
     "output_type": "display_data"
    },
    {
     "data": {
      "text/plain": [
       "  0%|          | 0/159 [00:00<?, ?it/s]"
      ],
      "application/vnd.jupyter.widget-view+json": {
       "version_major": 2,
       "version_minor": 0,
       "model_id": "383901a8ff46484a99c5cc7b2f673998"
      }
     },
     "metadata": {},
     "output_type": "display_data"
    },
    {
     "data": {
      "text/plain": [
       "  0%|          | 0/159 [00:00<?, ?it/s]"
      ],
      "application/vnd.jupyter.widget-view+json": {
       "version_major": 2,
       "version_minor": 0,
       "model_id": "f0a6a9e67bcb40c6806ce95c4c196029"
      }
     },
     "metadata": {},
     "output_type": "display_data"
    },
    {
     "data": {
      "text/plain": [
       "  0%|          | 0/159 [00:00<?, ?it/s]"
      ],
      "application/vnd.jupyter.widget-view+json": {
       "version_major": 2,
       "version_minor": 0,
       "model_id": "531e0ea578a340b0a8a9970b1536a90f"
      }
     },
     "metadata": {},
     "output_type": "display_data"
    }
   ],
   "execution_count": 14
  },
  {
   "metadata": {
    "ExecuteTime": {
     "end_time": "2024-03-25T10:20:23.923075Z",
     "start_time": "2024-03-25T10:20:19.452086Z"
    }
   },
   "cell_type": "code",
   "source": "calculate_acc_dataset(DEVICE, model, test_dataloader)",
   "id": "5b750f0252641842",
   "outputs": [
    {
     "data": {
      "text/plain": [
       "0.8180669614655717"
      ]
     },
     "execution_count": 13,
     "metadata": {},
     "output_type": "execute_result"
    }
   ],
   "execution_count": 13
  },
  {
   "metadata": {
    "ExecuteTime": {
     "end_time": "2024-03-25T10:20:23.925217Z",
     "start_time": "2024-03-25T10:20:23.923839Z"
    }
   },
   "cell_type": "code",
   "source": "",
   "id": "1905d5ef17e3169b",
   "outputs": [],
   "execution_count": 13
  }
 ],
 "metadata": {
  "kernelspec": {
   "display_name": "Python 3",
   "language": "python",
   "name": "python3"
  },
  "language_info": {
   "codemirror_mode": {
    "name": "ipython",
    "version": 2
   },
   "file_extension": ".py",
   "mimetype": "text/x-python",
   "name": "python",
   "nbconvert_exporter": "python",
   "pygments_lexer": "ipython2",
   "version": "2.7.6"
  }
 },
 "nbformat": 4,
 "nbformat_minor": 5
}
