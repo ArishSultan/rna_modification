{
 "cells": [
  {
   "cell_type": "code",
   "source": [
    "import os\n",
    "\n",
    "from pandas import read_csv\n",
    "from torch import save\n",
    "from torch.optim import AdamW\n",
    "from sklearn.model_selection import train_test_split\n",
    "\n",
    "from transformers import BertTokenizerFast, BertForSequenceClassification\n",
    "\n",
    "from src.dataset import load_dataset, Species, Modification, SeqBunch, load_benchmark_dataset\n",
    "from src.utils.transformers import encode_seq_bunch, make_dataloader, train_epoch, calculate_acc_dataset"
   ],
   "metadata": {
    "collapsed": false,
    "ExecuteTime": {
     "end_time": "2024-03-31T13:15:14.183988Z",
     "start_time": "2024-03-31T13:15:11.241280Z"
    }
   },
   "id": "c6e44ccfaec72c1c",
   "execution_count": 3,
   "outputs": []
  },
  {
   "metadata": {
    "ExecuteTime": {
     "end_time": "2024-03-31T13:15:14.186953Z",
     "start_time": "2024-03-31T13:15:14.185024Z"
    }
   },
   "cell_type": "code",
   "source": [
    "DEVICE = 'cpu'\n",
    "MODEL = 'bert-base-uncased'\n",
    "\n",
    "EXPERIMENT_NAME = 'bert-simple'"
   ],
   "id": "353f8ec4eba622cd",
   "execution_count": 4,
   "outputs": []
  },
  {
   "cell_type": "code",
   "source": "tokenizer = BertTokenizerFast.from_pretrained(MODEL)",
   "metadata": {
    "collapsed": false,
    "ExecuteTime": {
     "end_time": "2024-03-31T13:15:14.970405Z",
     "start_time": "2024-03-31T13:15:14.187709Z"
    }
   },
   "id": "dff7fb1d2ad5af1a",
   "execution_count": 5,
   "outputs": []
  },
  {
   "metadata": {
    "ExecuteTime": {
     "end_time": "2024-03-31T13:15:28.459223Z",
     "start_time": "2024-03-31T13:15:28.453461Z"
    }
   },
   "cell_type": "code",
   "source": [
    "dataset = load_benchmark_dataset(Species.human, Modification.psi)\n",
    "test_dataset = load_benchmark_dataset(Species.human, Modification.psi, True)\n",
    "\n",
    "# raw_data = read_csv('/Users/arish/Workspace/experiments/rna_modification/notebook/data/sub_sampled.csv', header=None)\n",
    "# \n",
    "# dataset = SeqBunch(\n",
    "#     samples=raw_data.drop(1, axis=1).rename({0: 'sequence'}, axis=1),\n",
    "#     targets=raw_data[1]\n",
    "# )"
   ],
   "id": "bb4b5ebdadb20ea4",
   "execution_count": 8,
   "outputs": []
  },
  {
   "metadata": {
    "ExecuteTime": {
     "end_time": "2024-03-31T13:15:34.832825Z",
     "start_time": "2024-03-31T13:15:34.756286Z"
    }
   },
   "cell_type": "code",
   "source": [
    "sequences, labels = encode_seq_bunch(dataset, tokenizer, True)\n",
    "sequences_test, labels_test = encode_seq_bunch(test_dataset, tokenizer, True)"
   ],
   "id": "db069f82796bbf4f",
   "execution_count": 9,
   "outputs": []
  },
  {
   "metadata": {
    "ExecuteTime": {
     "end_time": "2024-03-31T13:15:54.141707Z",
     "start_time": "2024-03-31T13:15:54.137859Z"
    }
   },
   "cell_type": "code",
   "source": "x_train, x_val, y_train, y_val = train_test_split(sequences, labels, test_size=0.2)\n",
   "id": "a8f686aef15da19a",
   "execution_count": 13,
   "outputs": []
  },
  {
   "metadata": {
    "ExecuteTime": {
     "end_time": "2024-03-31T13:16:06.893838Z",
     "start_time": "2024-03-31T13:16:06.884446Z"
    }
   },
   "cell_type": "code",
   "source": [
    "train_dataloader = make_dataloader(x_train, y_train)\n",
    "test_dataloader = make_dataloader(sequences_test, labels_test)\n",
    "val_dataloader = make_dataloader(x_val, y_val)"
   ],
   "id": "d45f148e71d8366e",
   "execution_count": 14,
   "outputs": []
  },
  {
   "metadata": {
    "ExecuteTime": {
     "end_time": "2024-03-31T13:16:09.079263Z",
     "start_time": "2024-03-31T13:16:07.539210Z"
    }
   },
   "cell_type": "code",
   "source": [
    "model = BertForSequenceClassification.from_pretrained(MODEL, num_labels=2)\n",
    "model.to(DEVICE)\n",
    "\n",
    "None"
   ],
   "id": "6a2457412227b32c",
   "execution_count": 15,
   "outputs": []
  },
  {
   "metadata": {
    "ExecuteTime": {
     "end_time": "2024-03-31T13:16:09.083247Z",
     "start_time": "2024-03-31T13:16:09.080532Z"
    }
   },
   "cell_type": "code",
   "source": "optimizer = AdamW(model.parameters(), lr=1e-5)",
   "id": "dd190cce7eb9ab18",
   "execution_count": 16,
   "outputs": []
  },
  {
   "metadata": {
    "ExecuteTime": {
     "end_time": "2024-03-31T13:16:10.534617Z",
     "start_time": "2024-03-31T13:16:10.531906Z"
    }
   },
   "cell_type": "code",
   "source": [
    "old_val_acc = 0\n",
    "old_train_acc = 0\n",
    "old_model_name = ''"
   ],
   "id": "295b9f3f87df5bff",
   "execution_count": 17,
   "outputs": []
  },
  {
   "metadata": {
    "ExecuteTime": {
     "end_time": "2024-03-31T13:16:11.765110Z",
     "start_time": "2024-03-31T13:16:11.763209Z"
    }
   },
   "cell_type": "code",
   "source": "TOTAL_EPOCHS = 0",
   "id": "b7a0d488abd7c47d",
   "execution_count": 18,
   "outputs": []
  },
  {
   "cell_type": "code",
   "source": [
    "for epoch in range(1, 10 + 1):\n",
    "    TOTAL_EPOCHS += 1\n",
    "\n",
    "    train_acc, val_acc = train_epoch(TOTAL_EPOCHS, DEVICE, model, optimizer, train_dataloader, val_dataloader)\n",
    "    if train_acc > old_train_acc and val_acc > old_val_acc:\n",
    "        if old_model_name != '':\n",
    "            os.unlink(old_model_name)\n",
    "        old_val_acc = val_acc\n",
    "        old_train_acc = train_acc\n",
    "        old_model_name = f'{EXPERIMENT_NAME}_ep-{TOTAL_EPOCHS}_tacc-{train_acc:.2}_vacc-{val_acc:.2}.pt'\n",
    "        save(model, old_model_name)"
   ],
   "metadata": {
    "collapsed": false,
    "ExecuteTime": {
     "end_time": "2024-03-31T13:19:25.985390Z",
     "start_time": "2024-03-31T13:18:13.064944Z"
    }
   },
   "id": "bde3bac41787590b",
   "execution_count": 21,
   "outputs": []
  },
  {
   "metadata": {
    "ExecuteTime": {
     "end_time": "2024-03-31T13:19:40.666243Z",
     "start_time": "2024-03-31T13:19:40.025727Z"
    }
   },
   "cell_type": "code",
   "source": "calculate_acc_dataset(DEVICE, model, test_dataloader)",
   "id": "5b750f0252641842",
   "execution_count": 22,
   "outputs": []
  },
  {
   "metadata": {
    "ExecuteTime": {
     "end_time": "2024-03-28T20:41:32.484230Z",
     "start_time": "2024-03-28T20:41:32.482557Z"
    }
   },
   "cell_type": "code",
   "source": "    ",
   "id": "26128601b4784a84",
   "execution_count": 13,
   "outputs": []
  }
 ],
 "metadata": {
  "kernelspec": {
   "display_name": "Python 3",
   "language": "python",
   "name": "python3"
  },
  "language_info": {
   "codemirror_mode": {
    "name": "ipython",
    "version": 2
   },
   "file_extension": ".py",
   "mimetype": "text/x-python",
   "name": "python",
   "nbconvert_exporter": "python",
   "pygments_lexer": "ipython2",
   "version": "2.7.6"
  }
 },
 "nbformat": 4,
 "nbformat_minor": 5
}
