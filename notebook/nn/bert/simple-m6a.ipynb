{
 "cells": [
  {
   "cell_type": "code",
   "source": [
    "import os\n",
    "\n",
    "from torch import save\n",
    "from torch.optim import AdamW\n",
    "from sklearn.model_selection import train_test_split\n",
    "\n",
    "from transformers import BertTokenizerFast, BertForSequenceClassification\n",
    "\n",
    "from src.dataset import load_dataset, Species, Modification\n",
    "from src.utils.transformers import encode_seq_bunch, make_dataloader, train_epoch, calculate_acc_dataset"
   ],
   "metadata": {
    "collapsed": false,
    "ExecuteTime": {
     "end_time": "2024-03-26T08:33:22.814802Z",
     "start_time": "2024-03-26T08:33:20.205391Z"
    }
   },
   "id": "c6e44ccfaec72c1c",
   "execution_count": 1,
   "outputs": []
  },
  {
   "metadata": {
    "ExecuteTime": {
     "end_time": "2024-03-26T08:33:22.817686Z",
     "start_time": "2024-03-26T08:33:22.815804Z"
    }
   },
   "cell_type": "code",
   "source": [
    "DEVICE = 'mps'\n",
    "MODEL = 'bert-base-uncased'\n",
    "\n",
    "EXPERIMENT_NAME = 'bert-simple-m6a'"
   ],
   "id": "353f8ec4eba622cd",
   "execution_count": 2,
   "outputs": []
  },
  {
   "cell_type": "code",
   "source": "tokenizer = BertTokenizerFast.from_pretrained(MODEL)",
   "metadata": {
    "collapsed": false,
    "ExecuteTime": {
     "end_time": "2024-03-26T08:33:23.793325Z",
     "start_time": "2024-03-26T08:33:22.900391Z"
    }
   },
   "id": "dff7fb1d2ad5af1a",
   "execution_count": 3,
   "outputs": []
  },
  {
   "metadata": {
    "ExecuteTime": {
     "end_time": "2024-03-26T08:33:23.893997Z",
     "start_time": "2024-03-26T08:33:23.794214Z"
    }
   },
   "cell_type": "code",
   "source": "dataset = load_dataset(Species.yeast, Modification.m6a)",
   "id": "bb4b5ebdadb20ea4",
   "execution_count": 4,
   "outputs": []
  },
  {
   "metadata": {
    "ExecuteTime": {
     "end_time": "2024-03-26T08:34:56.070311Z",
     "start_time": "2024-03-26T08:34:56.066561Z"
    }
   },
   "cell_type": "code",
   "source": [
    "def encode_sequence(sequence: str, tokenizer, split_chars=True):\n",
    "    max_length = len(sequence)\n",
    "\n",
    "    if split_chars:\n",
    "        sequence = ' '.join(list(sequence))\n",
    "\n",
    "    return tokenizer(sequence, max_length=max_length, add_special_tokens=False)\n",
    "\n",
    "def encode_seq_bunch(\n",
    "        bunch,\n",
    "        tokenizer,\n",
    "        split_chars=True\n",
    ") -> tuple[list, list[int]]:\n",
    "    return list(map(lambda x: encode_sequence(x, tokenizer, split_chars), bunch.samples['sequence'].values)), bunch.targets.values"
   ],
   "id": "e3c8006b5195b7f4",
   "execution_count": 15,
   "outputs": []
  },
  {
   "metadata": {
    "ExecuteTime": {
     "end_time": "2024-03-26T08:35:32.919805Z",
     "start_time": "2024-03-26T08:35:21.822067Z"
    }
   },
   "cell_type": "code",
   "source": "sequences, labels = encode_seq_bunch(dataset, tokenizer, True)",
   "id": "db069f82796bbf4f",
   "execution_count": 17,
   "outputs": []
  },
  {
   "metadata": {
    "ExecuteTime": {
     "end_time": "2024-03-26T08:35:32.984525Z",
     "start_time": "2024-03-26T08:35:32.920828Z"
    }
   },
   "cell_type": "code",
   "source": [
    "x_train, x_test, y_train, y_test = train_test_split(sequences, labels, test_size=0.2)\n",
    "x_train, x_val, y_train, y_val = train_test_split(x_train, y_train, test_size=0.2)"
   ],
   "id": "a8f686aef15da19a",
   "execution_count": 18,
   "outputs": []
  },
  {
   "metadata": {
    "ExecuteTime": {
     "end_time": "2024-03-26T08:35:34.918352Z",
     "start_time": "2024-03-26T08:35:32.985483Z"
    }
   },
   "cell_type": "code",
   "source": [
    "train_dataloader = make_dataloader(x_train, y_train)\n",
    "test_dataloader = make_dataloader(x_test, y_test)\n",
    "val_dataloader = make_dataloader(x_val, y_val)"
   ],
   "id": "d45f148e71d8366e",
   "execution_count": 19,
   "outputs": []
  },
  {
   "metadata": {
    "ExecuteTime": {
     "end_time": "2024-03-26T08:35:36.774140Z",
     "start_time": "2024-03-26T08:35:34.919638Z"
    }
   },
   "cell_type": "code",
   "source": [
    "model = BertForSequenceClassification.from_pretrained(MODEL, num_labels=2)\n",
    "model.to(DEVICE)\n",
    "\n",
    "None"
   ],
   "id": "6a2457412227b32c",
   "execution_count": 20,
   "outputs": []
  },
  {
   "metadata": {
    "ExecuteTime": {
     "end_time": "2024-03-26T08:35:37.220635Z",
     "start_time": "2024-03-26T08:35:36.774940Z"
    }
   },
   "cell_type": "code",
   "source": "optimizer = AdamW(model.parameters(), lr=2e-5)",
   "id": "dd190cce7eb9ab18",
   "execution_count": 21,
   "outputs": []
  },
  {
   "metadata": {
    "ExecuteTime": {
     "end_time": "2024-03-26T08:35:37.223132Z",
     "start_time": "2024-03-26T08:35:37.221312Z"
    }
   },
   "cell_type": "code",
   "source": [
    "old_val_acc = 0\n",
    "old_train_acc = 0\n",
    "old_model_name = ''"
   ],
   "id": "295b9f3f87df5bff",
   "execution_count": 22,
   "outputs": []
  },
  {
   "metadata": {
    "ExecuteTime": {
     "end_time": "2024-03-26T08:35:37.225289Z",
     "start_time": "2024-03-26T08:35:37.223787Z"
    }
   },
   "cell_type": "code",
   "source": "TOTAL_EPOCHS = 0",
   "id": "b7a0d488abd7c47d",
   "execution_count": 23,
   "outputs": []
  },
  {
   "cell_type": "code",
   "source": [
    "for epoch in range(1, 5 + 1):\n",
    "    TOTAL_EPOCHS += 1\n",
    "\n",
    "    train_acc, val_acc = train_epoch(TOTAL_EPOCHS, DEVICE, model, optimizer, train_dataloader, val_dataloader)\n",
    "    if train_acc > old_train_acc and val_acc > old_val_acc:\n",
    "        if old_model_name != '':\n",
    "            os.unlink(old_model_name)\n",
    "        old_val_acc = val_acc\n",
    "        old_train_acc = train_acc\n",
    "        old_model_name = f'{EXPERIMENT_NAME}_ep-{TOTAL_EPOCHS}_tacc-{train_acc:.2}_vacc-{val_acc:.2}.pt'\n",
    "        save(model, old_model_name)"
   ],
   "metadata": {
    "collapsed": false,
    "ExecuteTime": {
     "end_time": "2024-03-26T11:06:13.050480Z",
     "start_time": "2024-03-26T08:35:44.813429Z"
    }
   },
   "id": "bde3bac41787590b",
   "execution_count": 24,
   "outputs": []
  },
  {
   "metadata": {
    "ExecuteTime": {
     "end_time": "2024-03-26T11:08:11.578188Z",
     "start_time": "2024-03-26T11:06:33.305649Z"
    }
   },
   "cell_type": "code",
   "source": "calculate_acc_dataset(DEVICE, model, test_dataloader)",
   "id": "5b750f0252641842",
   "execution_count": 25,
   "outputs": []
  },
  {
   "metadata": {
    "ExecuteTime": {
     "end_time": "2024-03-26T01:38:54.911313Z",
     "start_time": "2024-03-26T01:38:54.909734Z"
    }
   },
   "cell_type": "code",
   "source": "",
   "id": "26128601b4784a84",
   "execution_count": 13,
   "outputs": []
  }
 ],
 "metadata": {
  "kernelspec": {
   "display_name": "Python 3",
   "language": "python",
   "name": "python3"
  },
  "language_info": {
   "codemirror_mode": {
    "name": "ipython",
    "version": 2
   },
   "file_extension": ".py",
   "mimetype": "text/x-python",
   "name": "python",
   "nbconvert_exporter": "python",
   "pygments_lexer": "ipython2",
   "version": "2.7.6"
  }
 },
 "nbformat": 4,
 "nbformat_minor": 5
}
