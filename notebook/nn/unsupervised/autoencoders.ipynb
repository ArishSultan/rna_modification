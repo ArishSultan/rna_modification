{
 "cells": [
  {
   "cell_type": "code",
   "id": "initial_id",
   "metadata": {
    "collapsed": true,
    "ExecuteTime": {
     "end_time": "2024-03-25T23:25:47.136955Z",
     "start_time": "2024-03-25T23:25:45.189074Z"
    }
   },
   "source": [
    "import tensorflow as tf\n",
    "from tensorflow.keras import layers, models, regularizers\n",
    "\n",
    "# Define the encoder\n",
    "encoder_input = layers.Input(shape=(84, 1))  # Adjust the shape based on your RNA sequence length\n",
    "x = layers.Conv1D(32, 7, activation=\"relu\", padding=\"same\")(encoder_input)\n",
    "x = layers.MaxPooling1D(2, padding=\"same\")(x)\n",
    "x = layers.Conv1D(16, 7, activation=\"relu\", padding=\"same\")(x)\n",
    "encoded = layers.MaxPooling1D(2, padding=\"same\", name=\"encoder\")(x)\n",
    "\n",
    "# Define the decoder\n",
    "x = layers.Conv1D(16, 7, activation=\"relu\", padding=\"same\")(encoded)\n",
    "x = layers.UpSampling1D(2)(x)\n",
    "x = layers.Conv1D(32, 7, activation=\"relu\", padding=\"same\")(x)\n",
    "x = layers.UpSampling1D(2)(x)\n",
    "decoded = layers.Conv1D(1, 7, activation=\"sigmoid\", padding=\"same\")(x)\n",
    "\n",
    "# Autoencoder model\n",
    "autoencoder = models.Model(encoder_input, decoded)\n",
    "autoencoder.compile(optimizer='adam', loss='mean_squared_error')"
   ],
   "execution_count": 1,
   "outputs": []
  },
  {
   "metadata": {
    "ExecuteTime": {
     "end_time": "2024-03-25T23:25:48.474519Z",
     "start_time": "2024-03-25T23:25:47.137927Z"
    }
   },
   "cell_type": "code",
   "source": [
    "from src.dataset import load_benchmark_dataset, Species, Modification\n",
    "\n",
    "dataset = load_benchmark_dataset(Species.human, Modification.psi)\n",
    "test_dataset = load_benchmark_dataset(Species.human, Modification.psi, True)"
   ],
   "id": "57bcc6c63f8296d7",
   "execution_count": 2,
   "outputs": []
  },
  {
   "metadata": {
    "ExecuteTime": {
     "end_time": "2024-03-25T23:25:48.478975Z",
     "start_time": "2024-03-25T23:25:48.475112Z"
    }
   },
   "cell_type": "code",
   "source": [
    "from src.features.encodings import pstnpss\n",
    "\n",
    "encoder = binary.Encoder()"
   ],
   "id": "d8741624929c9d49",
   "execution_count": 3,
   "outputs": []
  },
  {
   "metadata": {
    "ExecuteTime": {
     "end_time": "2024-03-25T23:25:48.516936Z",
     "start_time": "2024-03-25T23:25:48.479708Z"
    }
   },
   "cell_type": "code",
   "source": [
    "encoded_samples = encoder.fit_transform(dataset.samples)\n",
    "encoded_test_samples = encoder.fit_transform(test_dataset.samples)\n",
    "targets = dataset.targets\n",
    "test_targets = test_dataset.targets"
   ],
   "id": "1a5d0632ebeffe13",
   "execution_count": 4,
   "outputs": []
  },
  {
   "metadata": {
    "ExecuteTime": {
     "end_time": "2024-03-25T23:25:55.392454Z",
     "start_time": "2024-03-25T23:25:48.518403Z"
    }
   },
   "cell_type": "code",
   "source": [
    "autoencoder.fit(encoded_samples, encoded_samples,\n",
    "                epochs=100,\n",
    "                batch_size=256,\n",
    "                shuffle=True,\n",
    "                validation_data=(encoded_test_samples, encoded_test_samples))"
   ],
   "id": "8ae201709758eaea",
   "execution_count": 5,
   "outputs": []
  },
  {
   "metadata": {
    "ExecuteTime": {
     "end_time": "2024-03-25T23:26:03.522980Z",
     "start_time": "2024-03-25T23:26:03.517908Z"
    }
   },
   "cell_type": "code",
   "source": [
    "encoder_model = models.Model(inputs=autoencoder.input,\n",
    "                       outputs=autoencoder.get_layer(\"encoder\").output)"
   ],
   "id": "e70bf6fddfafd983",
   "execution_count": 6,
   "outputs": []
  },
  {
   "metadata": {
    "ExecuteTime": {
     "end_time": "2024-03-25T23:26:46.702476Z",
     "start_time": "2024-03-25T23:26:46.610226Z"
    }
   },
   "cell_type": "code",
   "source": [
    "encoded_train_new = encoder_model.predict(encoded_samples)\n",
    "encoded_test_new = encoder_model.predict(encoded_test_samples)"
   ],
   "id": "9470558b300f9767",
   "execution_count": 11,
   "outputs": []
  },
  {
   "metadata": {},
   "cell_type": "code",
   "execution_count": 8,
   "source": [
    "# encoded_train_new = tf.reshape(encoded_train_new, [990, -1])\n",
    "# encoded_test_new = tf.reshape(encoded_test_new, [200, -1])"
   ],
   "id": "abbd20fbd13346d9",
   "outputs": []
  },
  {
   "metadata": {
    "ExecuteTime": {
     "end_time": "2024-03-26T00:16:19.170849Z",
     "start_time": "2024-03-26T00:16:19.159323Z"
    }
   },
   "cell_type": "code",
   "source": [
    "model = models.Sequential([\n",
    "    layers.Input(shape=encoded_train_new.shape[1:]),\n",
    "    layers.Flatten(),\n",
    "    layers.Dense(64, activation='relu'),\n",
    "    layers.Dropout(0.5),\n",
    "    layers.Dense(1, activation='sigmoid')\n",
    "])\n",
    "\n",
    "model.compile(optimizer='adam',\n",
    "              loss='binary_crossentropy',\n",
    "              metrics=['accuracy'])"
   ],
   "id": "cf0e00b47fbc6279",
   "execution_count": 16,
   "outputs": []
  },
  {
   "metadata": {
    "ExecuteTime": {
     "end_time": "2024-03-26T00:16:23.774583Z",
     "start_time": "2024-03-26T00:16:19.497395Z"
    }
   },
   "cell_type": "code",
   "source": [
    "model.fit(encoded_train_new, targets,\n",
    "          epochs=100,\n",
    "          batch_size=32,\n",
    "          validation_data=(encoded_test_new, test_targets))"
   ],
   "id": "7ca538d918cc0856",
   "execution_count": 17,
   "outputs": []
  },
  {
   "metadata": {
    "ExecuteTime": {
     "end_time": "2024-03-25T23:26:08.592305Z",
     "start_time": "2024-03-25T23:26:08.585671Z"
    }
   },
   "cell_type": "code",
   "source": "(classifier.predict(encoded_test_new) == test_targets.values).sum() / len(test_targets.values)",
   "id": "1aad4af9429eebe0",
   "execution_count": 10,
   "outputs": []
  },
  {
   "metadata": {
    "ExecuteTime": {
     "end_time": "2024-03-25T23:22:22.338817Z",
     "start_time": "2024-03-25T23:22:22.333640Z"
    }
   },
   "cell_type": "code",
   "source": "classifier.predict(encoded_train_new) == targets.values",
   "id": "6ad524c395ef96ac",
   "execution_count": 46,
   "outputs": []
  },
  {
   "metadata": {
    "ExecuteTime": {
     "end_time": "2024-03-25T22:57:52.252969Z",
     "start_time": "2024-03-25T22:57:52.230868Z"
    }
   },
   "cell_type": "code",
   "source": [
    "from src.dataset import load_dataset, Species, Modification, split_balanced\n",
    "\n",
    "x_train, x_test, y_train, y_test = split_balanced(encoded_samples, dataset.targets, test_size=0.2)\n",
    "x_train, x_val, y_train, y_val = split_balanced(x_train, y_train, test_size=0.2)"
   ],
   "id": "16fbf0b681bd6e0c",
   "execution_count": 7,
   "outputs": []
  },
  {
   "metadata": {
    "ExecuteTime": {
     "end_time": "2024-03-25T22:57:53.942350Z",
     "start_time": "2024-03-25T22:57:53.322017Z"
    }
   },
   "cell_type": "code",
   "source": [
    "x_train_encoded = encoder.predict(x_train)\n",
    "x_val_encoded = encoder.predict(x_val)\n",
    "x_test_encoded = encoder.predict(x_test)"
   ],
   "id": "12fb34a075130a0b",
   "execution_count": 8,
   "outputs": []
  },
  {
   "metadata": {
    "ExecuteTime": {
     "end_time": "2024-03-25T23:07:42.024063Z",
     "start_time": "2024-03-25T23:07:42.020139Z"
    }
   },
   "cell_type": "code",
   "source": "x_train_encoded",
   "id": "583bc0db04d19d1b",
   "execution_count": 14,
   "outputs": []
  },
  {
   "metadata": {
    "ExecuteTime": {
     "end_time": "2024-03-25T22:59:14.448044Z",
     "start_time": "2024-03-25T22:59:14.434733Z"
    }
   },
   "cell_type": "code",
   "source": [
    "# Classification model\n",
    "model = models.Sequential([\n",
    "    layers.Input(shape=x_train_encoded.shape[1:]),\n",
    "    layers.Flatten(),  # Make sure to adjust the input shape\n",
    "    layers.Dense(64, activation='relu'),\n",
    "    layers.Dropout(0.8),\n",
    "    layers.Dense(1, activation='sigmoid')\n",
    "])\n",
    "\n",
    "model.compile(optimizer='adam',\n",
    "              loss='binary_crossentropy',\n",
    "              metrics=['accuracy'])"
   ],
   "id": "b6b0e57a896d9ff",
   "execution_count": 12,
   "outputs": []
  },
  {
   "metadata": {
    "ExecuteTime": {
     "end_time": "2024-03-25T22:59:28.927570Z",
     "start_time": "2024-03-25T22:59:14.737486Z"
    }
   },
   "cell_type": "code",
   "source": [
    "model.fit(x_train_encoded, y_train,\n",
    "          epochs=100,\n",
    "          batch_size=32,\n",
    "          validation_data=(x_val_encoded, y_val))"
   ],
   "id": "ba89bba493cfde92",
   "execution_count": 13,
   "outputs": []
  },
  {
   "metadata": {},
   "cell_type": "code",
   "execution_count": null,
   "source": "",
   "id": "906a06a5d8c7b8dd",
   "outputs": []
  }
 ],
 "metadata": {
  "kernelspec": {
   "display_name": "Python 3",
   "language": "python",
   "name": "python3"
  },
  "language_info": {
   "codemirror_mode": {
    "name": "ipython",
    "version": 2
   },
   "file_extension": ".py",
   "mimetype": "text/x-python",
   "name": "python",
   "nbconvert_exporter": "python",
   "pygments_lexer": "ipython2",
   "version": "2.7.6"
  }
 },
 "nbformat": 4,
 "nbformat_minor": 5
}
