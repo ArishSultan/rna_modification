{
 "cells": [
  {
   "cell_type": "code",
   "id": "initial_id",
   "metadata": {
    "collapsed": true,
    "ExecuteTime": {
     "end_time": "2024-03-25T22:10:37.945098Z",
     "start_time": "2024-03-25T22:10:37.895127Z"
    }
   },
   "source": [
    "import tensorflow as tf\n",
    "from tensorflow.keras import layers\n",
    "\n",
    "# Gradient Clipping (add this to your optimizer)\n",
    "optimizer = tf.keras.optimizers.Adam(clipnorm=1.0) \n",
    "\n",
    "# Encoder\n",
    "encoder_input = layers.Input(shape=(164, 1))\n",
    "x = layers.Conv1D(64, 9, activation=\"relu\", padding=\"same\")(encoder_input)\n",
    "x = layers.BatchNormalization()(x)  # Normalization\n",
    "x = layers.MaxPooling1D(2, padding=\"same\")(x)\n",
    "x = layers.Conv1D(32, 7, activation=\"relu\", padding=\"same\")(x)\n",
    "x = layers.BatchNormalization()(x) \n",
    "x = layers.MaxPooling1D(2, padding=\"same\")(x)\n",
    "x = layers.Conv1D(16, 5, activation=\"relu\", padding=\"same\")(x)\n",
    "x = layers.BatchNormalization()(x) \n",
    "encoded = layers.MaxPooling1D(2, padding=\"same\", name=\"encoder\")(x)\n",
    "\n",
    "# Decoder\n",
    "x = layers.Conv1D(16, 5, activation=\"relu\", padding=\"same\")(encoded)\n",
    "x = layers.BatchNormalization()(x) \n",
    "x = layers.UpSampling1D(2)(x)\n",
    "x = layers.Conv1D(32, 7, activation=\"relu\", padding=\"same\")(x)\n",
    "x = layers.BatchNormalization()(x) \n",
    "x = layers.UpSampling1D(2)(x)\n",
    "x = layers.Conv1D(64, 9, activation=\"relu\", padding=\"same\")(x)\n",
    "x = layers.BatchNormalization()(x)\n",
    "x = layers.UpSampling1D(2)(x)\n",
    "decoded = layers.Conv1D(1, 7, activation=\"sigmoid\", padding=\"same\", \n",
    "                        kernel_regularizer=tf.keras.regularizers.l2(0.01))(x)  # L2 regularization\n",
    "\n",
    "# Autoencoder model\n",
    "autoencoder = tf.keras.Model(encoder_input, decoded)\n",
    "autoencoder.compile(optimizer=optimizer, loss='binary_crossentropy') "
   ],
   "outputs": [],
   "execution_count": 16
  },
  {
   "metadata": {
    "ExecuteTime": {
     "end_time": "2024-03-25T22:10:38.245737Z",
     "start_time": "2024-03-25T22:10:38.235866Z"
    }
   },
   "cell_type": "code",
   "source": [
    "from src.dataset import load_dataset, Species, Modification\n",
    "\n",
    "dataset = load_dataset(Species.human, Modification.psi)"
   ],
   "id": "57bcc6c63f8296d7",
   "outputs": [],
   "execution_count": 17
  },
  {
   "metadata": {
    "ExecuteTime": {
     "end_time": "2024-03-25T22:10:38.574741Z",
     "start_time": "2024-03-25T22:10:38.572782Z"
    }
   },
   "cell_type": "code",
   "source": [
    "from src.features.encodings import binary\n",
    "\n",
    "encoder = binary.Encoder()"
   ],
   "id": "d8741624929c9d49",
   "outputs": [],
   "execution_count": 18
  },
  {
   "metadata": {
    "ExecuteTime": {
     "end_time": "2024-03-25T22:12:21.392963Z",
     "start_time": "2024-03-25T22:12:20.964584Z"
    }
   },
   "cell_type": "code",
   "source": [
    "encoded_samples = encoder.fit_transform(dataset.samples).values\n",
    "targets = dataset.targets"
   ],
   "id": "1a5d0632ebeffe13",
   "outputs": [],
   "execution_count": 24
  },
  {
   "metadata": {
    "ExecuteTime": {
     "end_time": "2024-03-25T22:12:21.568652Z",
     "start_time": "2024-03-25T22:12:21.565106Z"
    }
   },
   "cell_type": "code",
   "source": "targets.values",
   "id": "4ec4a0c8da7fa042",
   "outputs": [
    {
     "data": {
      "text/plain": [
       "0       1\n",
       "1       1\n",
       "2       1\n",
       "3       1\n",
       "4       1\n",
       "       ..\n",
       "7909    0\n",
       "7910    0\n",
       "7911    0\n",
       "7912    0\n",
       "7913    0\n",
       "Name: 1, Length: 7914, dtype: int64"
      ]
     },
     "execution_count": 25,
     "metadata": {},
     "output_type": "execute_result"
    }
   ],
   "execution_count": 25
  },
  {
   "metadata": {
    "ExecuteTime": {
     "end_time": "2024-03-25T22:12:22.020663Z",
     "start_time": "2024-03-25T22:12:21.873735Z"
    }
   },
   "cell_type": "code",
   "source": [
    "autoencoder.fit(encoded_samples, targets,\n",
    "                epochs=50,\n",
    "                batch_size=256,\n",
    "                shuffle=True)"
   ],
   "id": "8ae201709758eaea",
   "outputs": [
    {
     "name": "stdout",
     "output_type": "stream",
     "text": [
      "Epoch 1/50\n"
     ]
    },
    {
     "ename": "ValueError",
     "evalue": "Arguments `target` and `output` must have the same shape. Received: target.shape=(None, 1), output.shape=(None, 168)",
     "output_type": "error",
     "traceback": [
      "\u001B[0;31m---------------------------------------------------------------------------\u001B[0m",
      "\u001B[0;31mValueError\u001B[0m                                Traceback (most recent call last)",
      "Cell \u001B[0;32mIn[26], line 1\u001B[0m\n\u001B[0;32m----> 1\u001B[0m \u001B[43mautoencoder\u001B[49m\u001B[38;5;241;43m.\u001B[39;49m\u001B[43mfit\u001B[49m\u001B[43m(\u001B[49m\u001B[43mencoded_samples\u001B[49m\u001B[43m,\u001B[49m\u001B[43m \u001B[49m\u001B[43mtargets\u001B[49m\u001B[43m,\u001B[49m\n\u001B[1;32m      2\u001B[0m \u001B[43m                \u001B[49m\u001B[43mepochs\u001B[49m\u001B[38;5;241;43m=\u001B[39;49m\u001B[38;5;241;43m50\u001B[39;49m\u001B[43m,\u001B[49m\n\u001B[1;32m      3\u001B[0m \u001B[43m                \u001B[49m\u001B[43mbatch_size\u001B[49m\u001B[38;5;241;43m=\u001B[39;49m\u001B[38;5;241;43m256\u001B[39;49m\u001B[43m,\u001B[49m\n\u001B[1;32m      4\u001B[0m \u001B[43m                \u001B[49m\u001B[43mshuffle\u001B[49m\u001B[38;5;241;43m=\u001B[39;49m\u001B[38;5;28;43;01mTrue\u001B[39;49;00m\u001B[43m)\u001B[49m\n",
      "File \u001B[0;32m~/Workspace/experiments/rna_modification/.venv/lib/python3.12/site-packages/keras/src/utils/traceback_utils.py:122\u001B[0m, in \u001B[0;36mfilter_traceback.<locals>.error_handler\u001B[0;34m(*args, **kwargs)\u001B[0m\n\u001B[1;32m    119\u001B[0m     filtered_tb \u001B[38;5;241m=\u001B[39m _process_traceback_frames(e\u001B[38;5;241m.\u001B[39m__traceback__)\n\u001B[1;32m    120\u001B[0m     \u001B[38;5;66;03m# To get the full stack trace, call:\u001B[39;00m\n\u001B[1;32m    121\u001B[0m     \u001B[38;5;66;03m# `keras.config.disable_traceback_filtering()`\u001B[39;00m\n\u001B[0;32m--> 122\u001B[0m     \u001B[38;5;28;01mraise\u001B[39;00m e\u001B[38;5;241m.\u001B[39mwith_traceback(filtered_tb) \u001B[38;5;28;01mfrom\u001B[39;00m \u001B[38;5;28;01mNone\u001B[39;00m\n\u001B[1;32m    123\u001B[0m \u001B[38;5;28;01mfinally\u001B[39;00m:\n\u001B[1;32m    124\u001B[0m     \u001B[38;5;28;01mdel\u001B[39;00m filtered_tb\n",
      "File \u001B[0;32m~/Workspace/experiments/rna_modification/.venv/lib/python3.12/site-packages/keras/src/backend/tensorflow/nn.py:663\u001B[0m, in \u001B[0;36mbinary_crossentropy\u001B[0;34m(target, output, from_logits)\u001B[0m\n\u001B[1;32m    661\u001B[0m \u001B[38;5;28;01mfor\u001B[39;00m e1, e2 \u001B[38;5;129;01min\u001B[39;00m \u001B[38;5;28mzip\u001B[39m(target\u001B[38;5;241m.\u001B[39mshape, output\u001B[38;5;241m.\u001B[39mshape):\n\u001B[1;32m    662\u001B[0m     \u001B[38;5;28;01mif\u001B[39;00m e1 \u001B[38;5;129;01mis\u001B[39;00m \u001B[38;5;129;01mnot\u001B[39;00m \u001B[38;5;28;01mNone\u001B[39;00m \u001B[38;5;129;01mand\u001B[39;00m e2 \u001B[38;5;129;01mis\u001B[39;00m \u001B[38;5;129;01mnot\u001B[39;00m \u001B[38;5;28;01mNone\u001B[39;00m \u001B[38;5;129;01mand\u001B[39;00m e1 \u001B[38;5;241m!=\u001B[39m e2:\n\u001B[0;32m--> 663\u001B[0m         \u001B[38;5;28;01mraise\u001B[39;00m \u001B[38;5;167;01mValueError\u001B[39;00m(\n\u001B[1;32m    664\u001B[0m             \u001B[38;5;124m\"\u001B[39m\u001B[38;5;124mArguments `target` and `output` must have the same shape. \u001B[39m\u001B[38;5;124m\"\u001B[39m\n\u001B[1;32m    665\u001B[0m             \u001B[38;5;124m\"\u001B[39m\u001B[38;5;124mReceived: \u001B[39m\u001B[38;5;124m\"\u001B[39m\n\u001B[1;32m    666\u001B[0m             \u001B[38;5;124mf\u001B[39m\u001B[38;5;124m\"\u001B[39m\u001B[38;5;124mtarget.shape=\u001B[39m\u001B[38;5;132;01m{\u001B[39;00mtarget\u001B[38;5;241m.\u001B[39mshape\u001B[38;5;132;01m}\u001B[39;00m\u001B[38;5;124m, output.shape=\u001B[39m\u001B[38;5;132;01m{\u001B[39;00moutput\u001B[38;5;241m.\u001B[39mshape\u001B[38;5;132;01m}\u001B[39;00m\u001B[38;5;124m\"\u001B[39m\n\u001B[1;32m    667\u001B[0m         )\n\u001B[1;32m    669\u001B[0m output, from_logits \u001B[38;5;241m=\u001B[39m _get_logits(\n\u001B[1;32m    670\u001B[0m     output, from_logits, \u001B[38;5;124m\"\u001B[39m\u001B[38;5;124mSigmoid\u001B[39m\u001B[38;5;124m\"\u001B[39m, \u001B[38;5;124m\"\u001B[39m\u001B[38;5;124mbinary_crossentropy\u001B[39m\u001B[38;5;124m\"\u001B[39m\n\u001B[1;32m    671\u001B[0m )\n\u001B[1;32m    673\u001B[0m \u001B[38;5;28;01mif\u001B[39;00m from_logits:\n",
      "\u001B[0;31mValueError\u001B[0m: Arguments `target` and `output` must have the same shape. Received: target.shape=(None, 1), output.shape=(None, 168)"
     ]
    }
   ],
   "execution_count": 26
  },
  {
   "metadata": {
    "ExecuteTime": {
     "end_time": "2024-03-25T21:48:20.086839Z",
     "start_time": "2024-03-25T21:48:20.084992Z"
    }
   },
   "cell_type": "code",
   "source": "",
   "id": "e70bf6fddfafd983",
   "outputs": [],
   "execution_count": 5
  }
 ],
 "metadata": {
  "kernelspec": {
   "display_name": "Python 3",
   "language": "python",
   "name": "python3"
  },
  "language_info": {
   "codemirror_mode": {
    "name": "ipython",
    "version": 2
   },
   "file_extension": ".py",
   "mimetype": "text/x-python",
   "name": "python",
   "nbconvert_exporter": "python",
   "pygments_lexer": "ipython2",
   "version": "2.7.6"
  }
 },
 "nbformat": 4,
 "nbformat_minor": 5
}
