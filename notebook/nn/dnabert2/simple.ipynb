{
 "cells": [
  {
   "cell_type": "code",
   "source": [
    "# import os\n",
    "# \n",
    "# from pandas import read_csv\n",
    "# from torch import save\n",
    "# from torch.optim import AdamW\n",
    "# from sklearn.model_selection import train_test_split\n",
    "# \n",
    "# from transformers import AutoTokenizer, AutoModel\n",
    "# \n",
    "# from src.dataset import load_dataset, Species, Modification, SeqBunch\n",
    "# from src.utils.transformers import encode_seq_bunch, make_dataloader, train_epoch, calculate_acc_dataset\n",
    "\n",
    "import transformers"
   ],
   "metadata": {
    "collapsed": false,
    "ExecuteTime": {
     "end_time": "2024-03-31T12:12:59.528296Z",
     "start_time": "2024-03-31T12:12:59.525573Z"
    }
   },
   "id": "c6e44ccfaec72c1c",
   "outputs": [],
   "execution_count": 2
  },
  {
   "metadata": {
    "ExecuteTime": {
     "end_time": "2024-03-31T12:17:43.309073Z",
     "start_time": "2024-03-31T12:17:41.443973Z"
    }
   },
   "cell_type": "code",
   "source": [
    "config = transformers.BertConfig.from_pretrained('zhihan1996/DNABERT-2-117M', num_labels=3)\n",
    "model = transformers.AutoModelForSequenceClassification.from_config(config)\n",
    "model\n",
    "# model = transformers.AutoModelForSequenceClassification.from_pretrained(\n",
    "#     'zhihan1996/DNABERT-2-117M',\n",
    "#     cache_dir=training_args.cache_dir,\n",
    "#     num_labels=train_dataset.num_labels,\n",
    "#     trust_remote_code=True,\n",
    "#     config=config,\n",
    "# )"
   ],
   "id": "1933e9c0aaa3c859",
   "outputs": [
    {
     "data": {
      "text/plain": [
       "BertForSequenceClassification(\n",
       "  (bert): BertModel(\n",
       "    (embeddings): BertEmbeddings(\n",
       "      (word_embeddings): Embedding(4096, 768, padding_idx=0)\n",
       "      (token_type_embeddings): Embedding(2, 768)\n",
       "      (LayerNorm): LayerNorm((768,), eps=1e-12, elementwise_affine=True)\n",
       "      (dropout): Dropout(p=0.1, inplace=False)\n",
       "    )\n",
       "    (encoder): BertEncoder(\n",
       "      (layer): ModuleList(\n",
       "        (0-11): 12 x BertLayer(\n",
       "          (attention): BertUnpadAttention(\n",
       "            (self): BertUnpadSelfAttention(\n",
       "              (dropout): Dropout(p=0.0, inplace=False)\n",
       "              (Wqkv): Linear(in_features=768, out_features=2304, bias=True)\n",
       "            )\n",
       "            (output): BertSelfOutput(\n",
       "              (dense): Linear(in_features=768, out_features=768, bias=True)\n",
       "              (LayerNorm): LayerNorm((768,), eps=1e-12, elementwise_affine=True)\n",
       "              (dropout): Dropout(p=0.1, inplace=False)\n",
       "            )\n",
       "          )\n",
       "          (mlp): BertGatedLinearUnitMLP(\n",
       "            (gated_layers): Linear(in_features=768, out_features=6144, bias=False)\n",
       "            (act): GELU(approximate='none')\n",
       "            (wo): Linear(in_features=3072, out_features=768, bias=True)\n",
       "            (dropout): Dropout(p=0.1, inplace=False)\n",
       "            (layernorm): LayerNorm((768,), eps=1e-12, elementwise_affine=True)\n",
       "          )\n",
       "        )\n",
       "      )\n",
       "    )\n",
       "    (pooler): BertPooler(\n",
       "      (dense): Linear(in_features=768, out_features=768, bias=True)\n",
       "      (activation): Tanh()\n",
       "    )\n",
       "  )\n",
       "  (dropout): Dropout(p=0.1, inplace=False)\n",
       "  (classifier): Linear(in_features=768, out_features=3, bias=True)\n",
       ")"
      ]
     },
     "execution_count": 8,
     "metadata": {},
     "output_type": "execute_result"
    }
   ],
   "execution_count": 8
  },
  {
   "metadata": {
    "ExecuteTime": {
     "end_time": "2024-03-29T00:05:29.193684Z",
     "start_time": "2024-03-29T00:05:29.191309Z"
    }
   },
   "cell_type": "code",
   "source": [
    "DEVICE = 'mps'\n",
    "MODEL = 'zhihan1996/DNABERT-2-117M'\n",
    "\n",
    "EXPERIMENT_NAME = 'dna-bert-2'"
   ],
   "id": "353f8ec4eba622cd",
   "outputs": [],
   "execution_count": 5
  },
  {
   "cell_type": "code",
   "source": [
    "import torch\n",
    "from transformers import AutoTokenizer, AutoModel, BertConfig\n",
    "\n",
    "tokenizer = AutoTokenizer.from_pretrained(\"zhihan1996/DNABERT-2-117M\", trust_remote_code=True)\n",
    "config = BertConfig.from_pretrained(\"zhihan1996/DNABERT-2-117M\")\n",
    "model = AutoModel.from_config(config)"
   ],
   "metadata": {
    "collapsed": false,
    "ExecuteTime": {
     "end_time": "2024-03-29T00:05:31.316909Z",
     "start_time": "2024-03-29T00:05:29.540487Z"
    }
   },
   "id": "dff7fb1d2ad5af1a",
   "outputs": [],
   "execution_count": 6
  },
  {
   "metadata": {
    "ExecuteTime": {
     "end_time": "2024-03-29T00:05:31.327108Z",
     "start_time": "2024-03-29T00:05:31.317855Z"
    }
   },
   "cell_type": "code",
   "source": [
    "dataset = load_dataset(Species.human, Modification.psi)\n",
    "\n",
    "# raw_data = read_csv('/Users/arish/Workspace/experiments/rna_modification/notebook/data/sub_sampled.csv', header=None)\n",
    "# \n",
    "# dataset = SeqBunch(\n",
    "#     samples=raw_data.drop(1, axis=1).rename({0: 'sequence'}, axis=1),\n",
    "#     targets=raw_data[1]\n",
    "# )"
   ],
   "id": "bb4b5ebdadb20ea4",
   "outputs": [],
   "execution_count": 7
  },
  {
   "metadata": {
    "ExecuteTime": {
     "end_time": "2024-03-29T00:05:32.212452Z",
     "start_time": "2024-03-29T00:05:31.756070Z"
    }
   },
   "cell_type": "code",
   "source": [
    "dna = \"ACGTAGCATCGGATCTATCTATCGACACTTGGTTATCGATCTACGAGCATCTCGTTAGC\"\n",
    "inputs = tokenizer(dna, return_tensors='pt')[\"input_ids\"]\n",
    "hidden_states = model(inputs)[0]  # [1, sequence_length, 768]\n",
    "\n",
    "# # embedding with mean pooling\n",
    "# embedding_mean = torch.mean(hidden_states[0], dim=0)\n",
    "# print(embedding_mean.shape)  # expect to be 768\n",
    "\n",
    "# embedding with max pooling\n",
    "embedding_max = torch.max(hidden_states[0], dim=0)[0]\n",
    "print(embedding_max)  # expect to be 768"
   ],
   "id": "8e22a9b1ab65170",
   "outputs": [
    {
     "name": "stdout",
     "output_type": "stream",
     "text": [
      "tensor([ 6.6045e-01,  1.8410e+00,  1.6546e+00,  8.0555e-02,  1.2770e+00,\n",
      "         1.7988e+00,  9.3307e-01, -3.8802e-01, -4.4682e-01,  2.2355e+00,\n",
      "         1.8718e+00,  1.3079e+00,  1.9879e+00,  5.1020e-01,  2.2848e+00,\n",
      "         2.8768e+00,  1.1841e+00,  8.6278e-01,  1.2456e+00,  2.3437e+00,\n",
      "         1.5788e+00,  1.2688e+00,  2.0612e+00,  1.8073e+00,  1.3071e-01,\n",
      "         1.6686e+00,  6.6358e-01,  1.9507e+00,  2.4020e+00,  1.4135e+00,\n",
      "         2.5022e+00, -5.8453e-02,  9.4066e-01,  7.4905e-01,  1.2645e+00,\n",
      "         2.6458e-01,  2.6435e+00,  1.4058e+00,  1.1627e+00,  1.9699e+00,\n",
      "         2.1832e+00,  1.1788e+00,  2.1455e+00,  1.0564e-01,  1.4664e+00,\n",
      "         3.1770e+00,  4.1230e-02,  2.0617e+00,  1.3036e+00,  1.3882e+00,\n",
      "         8.9200e-01,  1.3037e+00,  1.9561e-01,  4.6081e-01,  1.4482e+00,\n",
      "        -7.6959e-02,  2.1246e+00,  5.3354e-01,  7.3946e-01,  2.1330e+00,\n",
      "         5.6788e-01, -5.7495e-01,  1.1488e+00,  1.1826e+00,  1.4375e+00,\n",
      "         2.5357e-01,  2.5861e+00,  1.5943e+00,  1.0660e+00,  1.4368e+00,\n",
      "         4.4619e-01,  6.2377e-01,  3.2466e+00,  3.3523e-01,  1.7120e+00,\n",
      "        -1.8479e-01,  1.3810e+00,  9.7587e-01,  1.5658e+00,  2.7479e+00,\n",
      "         1.0472e+00,  7.2732e-01,  2.3484e+00,  1.4478e+00,  1.1923e+00,\n",
      "         1.3138e+00,  1.2424e+00,  7.2987e-02,  1.3758e+00,  2.3873e+00,\n",
      "         1.1705e+00,  1.5654e+00,  1.6304e+00,  1.7670e+00,  1.2697e+00,\n",
      "         1.2318e+00, -3.5807e-02, -7.0496e-01,  1.0395e+00,  2.4576e-03,\n",
      "         1.1341e+00,  1.2804e+00,  8.3622e-02,  1.6919e+00,  1.9979e+00,\n",
      "         1.2494e+00,  1.1340e+00,  9.6937e-01,  2.1360e+00,  1.6821e+00,\n",
      "         5.0208e-01,  9.5829e-01,  1.2234e+00,  1.1593e+00,  4.7987e-01,\n",
      "         9.9201e-01,  2.6575e+00,  4.6065e-01,  8.7839e-01, -5.8636e-01,\n",
      "         1.3701e+00,  1.4079e+00,  1.4585e+00,  2.5411e+00,  2.0033e+00,\n",
      "         2.2010e+00,  1.4233e-01,  3.9994e-01,  1.6665e+00,  1.0516e+00,\n",
      "         1.0212e+00,  1.6642e+00,  1.3479e+00,  3.4275e+00,  9.7290e-01,\n",
      "         2.2648e+00,  2.8250e+00,  2.0039e+00,  1.0700e+00,  2.1044e+00,\n",
      "         7.7841e-01,  1.5031e+00,  3.3584e+00,  1.5793e-01,  1.7542e+00,\n",
      "         6.4425e-01,  2.0002e+00, -2.5941e-01,  1.6426e+00,  1.4987e+00,\n",
      "        -4.6648e-01,  1.9756e+00,  6.6282e-01,  1.8002e+00,  2.1471e+00,\n",
      "         1.5500e+00,  2.8131e+00,  2.0882e+00,  2.9477e+00,  4.7817e-01,\n",
      "         4.0416e-02,  9.0144e-01,  9.4319e-01,  7.5015e-01,  1.8515e+00,\n",
      "         1.5515e+00,  1.9160e+00,  5.5237e-01,  9.2770e-01,  2.0003e+00,\n",
      "         3.3780e-01, -2.1997e-01,  9.9504e-01,  8.4048e-01,  4.6434e-02,\n",
      "         2.1644e+00,  1.4712e+00,  1.4864e+00,  1.4469e+00,  1.0038e+00,\n",
      "         2.4123e+00,  1.5160e+00,  1.6401e+00,  1.9286e+00,  7.7542e-01,\n",
      "         1.8998e+00,  1.3157e+00,  1.9026e+00,  1.2609e+00,  9.2585e-01,\n",
      "         2.7441e+00,  1.1198e+00,  1.1725e+00,  4.8185e-01,  2.1355e+00,\n",
      "         6.5411e-01,  1.5514e+00,  7.1413e-01,  2.9215e-01,  7.4193e-01,\n",
      "         2.5606e+00,  6.1666e-01,  5.1414e-01,  8.1195e-01,  1.2620e+00,\n",
      "         1.7764e+00,  2.1048e+00,  1.4230e+00,  2.4547e+00,  4.0720e-01,\n",
      "         1.2718e+00,  9.7511e-01,  1.7319e+00,  5.5258e-01, -2.4065e-02,\n",
      "         1.6862e+00,  1.0874e-01,  1.9401e+00,  4.3790e-01,  1.2000e+00,\n",
      "         8.1781e-01,  1.5970e+00,  1.8646e+00,  2.5543e+00,  1.0349e+00,\n",
      "         1.2703e+00,  1.4804e+00,  1.2013e+00,  2.3734e+00,  1.5470e+00,\n",
      "         2.8877e+00,  1.7161e+00,  2.7391e-01,  2.3634e+00,  8.3697e-01,\n",
      "        -2.1809e-01,  1.5139e+00,  2.0154e+00,  1.7138e+00,  1.3177e+00,\n",
      "         1.1643e+00,  7.6299e-01,  3.2747e-01,  1.8549e+00,  8.8223e-01,\n",
      "         2.0352e+00,  1.7229e-01,  1.4836e-01,  1.5157e+00,  1.4577e+00,\n",
      "         2.1054e+00,  2.2148e+00,  8.6120e-01,  6.1463e-01,  2.2689e-01,\n",
      "        -4.0366e-01,  1.9042e+00,  1.9299e-01,  2.1093e+00,  8.1943e-01,\n",
      "         1.1739e+00,  9.7816e-01,  1.1621e+00,  1.6253e+00,  7.3490e-01,\n",
      "         1.3572e+00,  2.0363e+00, -2.9810e-01,  1.7077e+00,  6.9127e-01,\n",
      "         1.6650e+00,  8.9100e-01,  2.7556e-01,  3.3569e-01,  1.5689e+00,\n",
      "         2.9739e+00,  1.2541e+00,  1.0149e+00,  6.0981e-01, -2.2077e-01,\n",
      "         1.1981e+00,  2.6977e+00,  9.5110e-01,  3.7604e-01,  1.7910e+00,\n",
      "         1.5244e+00,  6.3541e-01,  1.8784e+00,  5.8013e-01,  1.3666e+00,\n",
      "         1.0437e+00,  9.9476e-01,  1.9547e+00,  2.1312e+00,  4.8383e-01,\n",
      "         2.4329e+00,  1.9896e+00,  2.6432e-01,  4.1875e-01,  1.9121e+00,\n",
      "         1.4037e+00,  2.1411e+00,  1.4417e+00,  2.6496e+00,  8.5680e-01,\n",
      "         4.3704e-01,  8.2615e-01,  7.7423e-01,  1.3086e+00,  2.5824e+00,\n",
      "         1.4309e+00,  9.2468e-01,  2.0566e+00,  1.0321e+00,  3.8058e-01,\n",
      "         1.5487e+00,  1.5054e+00,  1.7694e+00,  1.6197e+00,  1.0539e+00,\n",
      "         1.5289e+00,  1.4421e+00,  1.7922e-01,  7.3672e-01,  7.9027e-01,\n",
      "         9.1874e-02,  1.9539e+00,  6.8707e-01,  7.9937e-01,  2.5082e+00,\n",
      "         1.2525e+00,  1.8476e+00,  1.7817e+00,  1.5223e+00,  1.2947e+00,\n",
      "         5.1035e-01,  9.6353e-01,  1.2026e+00,  1.3380e+00,  1.4292e+00,\n",
      "         2.5732e+00,  1.0525e-01,  6.3790e-01,  1.0858e+00,  8.2047e-03,\n",
      "         1.5899e+00,  3.5999e+00,  2.0721e+00,  1.9251e-01,  1.2161e+00,\n",
      "         2.5950e-01,  1.8699e+00,  1.1160e+00,  2.2128e+00,  1.8295e+00,\n",
      "         3.1921e+00,  3.5005e+00,  4.9128e-01,  2.0472e+00,  7.5276e-01,\n",
      "         2.6668e+00, -3.4297e-02,  1.4176e+00,  1.6526e+00,  4.4578e-01,\n",
      "         1.2441e+00,  2.5246e+00,  2.2127e+00,  2.4226e+00,  2.8331e+00,\n",
      "         1.1783e+00,  1.8473e+00,  1.1967e+00,  1.1429e+00,  1.1089e+00,\n",
      "         8.3140e-01,  2.3241e+00,  5.6676e-01,  1.6801e+00,  5.9284e-01,\n",
      "         1.8067e+00,  1.3025e+00,  1.0560e+00,  9.6780e-01,  1.3329e+00,\n",
      "         1.3248e+00, -1.9087e-01,  1.3340e+00,  2.0009e+00,  2.2507e+00,\n",
      "         1.1491e+00,  1.3226e+00, -1.8674e-02,  1.2936e+00,  1.4336e+00,\n",
      "         4.2641e-01,  2.3979e+00,  2.0920e+00,  6.5408e-01,  8.5787e-01,\n",
      "         6.3705e-01,  1.4982e+00,  2.8313e+00,  6.1907e-01, -1.3753e-01,\n",
      "         2.1350e+00,  2.3148e+00,  1.2356e+00,  6.6806e-01, -4.9806e-01,\n",
      "         9.9973e-01,  1.2593e+00,  4.5493e-01,  6.3469e-01,  1.1229e+00,\n",
      "         3.7954e-01,  2.5766e+00,  2.6623e+00,  3.4380e+00,  2.3595e+00,\n",
      "         1.7432e+00,  1.4348e+00,  9.6684e-01,  1.3536e+00,  3.5870e-01,\n",
      "         3.1416e+00,  1.5656e+00,  3.4099e-01,  8.3928e-01,  8.3258e-01,\n",
      "        -7.2600e-01,  1.4510e+00,  1.6790e+00,  6.7805e-01,  1.1801e+00,\n",
      "         1.2669e+00, -6.6619e-01,  2.8495e+00,  1.6133e+00,  5.4491e-01,\n",
      "        -2.1810e-04,  1.7968e+00,  3.6822e-01,  1.4253e+00,  1.1275e+00,\n",
      "         1.0447e+00,  2.9597e+00,  1.1405e-01,  1.0190e+00,  1.6008e+00,\n",
      "         3.0959e-01,  2.3225e+00,  1.8397e+00,  1.8121e+00,  1.1361e+00,\n",
      "         1.3590e-01,  1.6939e-01,  1.5544e+00,  1.1024e-01,  1.6001e+00,\n",
      "         1.3909e+00,  1.5851e+00,  1.2810e+00,  1.1659e+00,  1.1041e+00,\n",
      "         3.4402e-01,  3.8274e-01,  7.4743e-01,  1.1956e+00,  1.2777e+00,\n",
      "         2.3370e+00,  8.7343e-01,  2.2667e+00,  1.8888e+00,  1.0338e+00,\n",
      "         1.0376e+00,  2.2452e+00,  3.0263e+00,  3.2038e-01,  4.2917e-01,\n",
      "         1.5666e+00,  1.0525e-01,  1.6636e+00,  1.0991e+00,  2.5005e+00,\n",
      "         1.1019e+00,  2.9894e+00,  1.0435e-01,  1.7631e+00,  1.2660e+00,\n",
      "         1.9812e+00,  2.4688e+00, -1.9852e-01,  1.3069e+00,  9.4191e-02,\n",
      "        -7.1154e-01,  1.9283e+00,  9.3657e-01, -9.8706e-02,  9.2131e-01,\n",
      "         1.8284e+00,  8.5316e-01,  2.0237e+00,  4.2657e-01,  1.5200e+00,\n",
      "         5.8981e-01,  1.0077e+00,  1.3493e+00,  1.4567e+00,  1.6511e+00,\n",
      "         8.7392e-01,  1.4831e+00,  3.0168e-01,  1.6859e+00,  9.4097e-01,\n",
      "         1.2539e+00,  1.3355e+00,  1.3622e+00,  2.7743e-01, -3.1456e-01,\n",
      "         1.3871e+00, -1.8907e-01, -1.8100e-01,  2.7480e-01, -2.1897e-01,\n",
      "         2.5974e+00,  1.0955e+00,  1.3538e+00,  6.5351e-01,  2.1456e-01,\n",
      "         8.3286e-01,  3.3215e+00,  1.5287e+00,  1.2049e+00,  2.0041e+00,\n",
      "         1.5618e+00,  2.2849e+00,  1.2840e+00,  2.1343e+00,  1.0100e+00,\n",
      "         6.2513e-01,  2.4156e+00,  2.0253e+00,  9.2832e-01,  1.4786e-01,\n",
      "         7.2792e-01,  7.4386e-01,  2.6771e+00,  1.3860e+00,  9.2215e-02,\n",
      "         8.0834e-01,  1.0805e+00,  1.4772e+00,  1.5116e+00,  4.9359e-01,\n",
      "         1.4516e-01,  5.5680e-01,  5.1498e-01,  1.6011e+00,  5.6109e-01,\n",
      "         1.5494e-01,  1.9216e+00, -9.8044e-03, -3.5807e-01,  1.3367e+00,\n",
      "        -1.0311e+00,  9.6533e-01,  2.5115e+00,  2.2519e+00,  2.0713e+00,\n",
      "         6.3781e-01,  2.5065e+00,  1.1611e+00,  2.7894e+00,  1.4973e+00,\n",
      "         1.9180e+00,  3.1518e-01,  1.6869e+00, -2.2611e-01, -3.8641e-02,\n",
      "         7.0973e-01,  1.5119e+00,  2.7105e+00,  3.9121e-01,  6.7419e-01,\n",
      "         8.8557e-01,  9.7446e-01,  4.9540e-01,  5.4449e-01,  1.2968e+00,\n",
      "         1.9960e+00,  1.4091e+00,  2.3761e+00,  1.6592e+00,  8.0413e-01,\n",
      "         1.5470e+00,  1.5330e+00,  1.4350e+00,  1.6559e+00,  2.4245e-01,\n",
      "         1.2970e+00,  8.3140e-01,  1.8540e+00,  1.4597e+00,  1.7177e+00,\n",
      "         9.1198e-01,  1.4162e+00,  1.0863e+00,  5.4582e-01,  1.5877e+00,\n",
      "         7.0651e-01,  1.3944e+00,  1.1878e+00, -3.2334e-01,  1.2913e+00,\n",
      "         1.5087e+00,  1.3755e+00,  1.9820e+00,  7.3881e-01,  1.1090e+00,\n",
      "         1.7010e+00,  2.0192e+00,  1.6530e+00, -4.4794e-01,  2.5842e-01,\n",
      "         1.3390e+00,  9.3054e-01,  4.6253e-01,  1.8092e+00,  2.2466e+00,\n",
      "         1.0886e+00,  1.0360e+00,  8.2943e-01,  7.3752e-01,  1.0679e+00,\n",
      "         1.0182e+00,  4.0648e-01,  2.1545e+00,  2.3814e+00,  1.9411e+00,\n",
      "         1.3974e+00,  2.8633e+00,  4.8814e-01,  1.2554e+00,  3.5980e+00,\n",
      "         1.0513e+00,  9.6164e-01, -3.6352e-01,  5.1039e-01,  8.5712e-01,\n",
      "         2.2867e-01,  4.6012e-01,  3.4151e-01,  1.3110e+00,  1.3062e+00,\n",
      "         1.0137e+00,  1.3375e+00,  7.3724e-01,  1.2190e-01,  9.7128e-01,\n",
      "         4.6739e-01,  9.5736e-02,  1.9883e+00,  1.6573e+00,  1.7150e+00,\n",
      "         1.1434e+00,  1.7540e+00,  5.1479e-01,  9.3092e-01,  3.4235e+00,\n",
      "         9.5268e-01,  1.1481e+00,  7.1591e-01,  2.1653e+00,  1.8924e+00,\n",
      "         1.6133e+00,  2.1379e-01,  1.5638e+00,  1.0439e+00,  8.5824e-01,\n",
      "         1.2272e+00, -1.3643e-01,  1.0732e+00,  1.3192e+00,  2.5786e-01,\n",
      "         1.4365e+00,  1.9012e+00,  1.3028e+00,  1.1924e-01,  1.8724e+00,\n",
      "         1.2157e+00,  1.4643e+00, -1.1674e+00,  1.6077e+00,  1.8006e+00,\n",
      "         1.6549e+00,  2.0755e+00,  4.8239e-01,  2.2540e+00,  1.9046e+00,\n",
      "         1.4311e+00,  7.9733e-01,  4.0741e-01,  3.2369e-01,  1.7710e+00,\n",
      "         2.4659e+00,  6.2944e-01,  7.0177e-01,  2.6567e-01,  3.6690e-01,\n",
      "         1.5011e+00,  1.1745e+00,  1.1669e+00,  1.5847e+00,  1.4023e+00,\n",
      "         2.8597e-01,  2.4780e+00,  8.0449e-01,  2.7224e+00,  1.1927e+00,\n",
      "         6.1367e-01,  8.9476e-01,  1.7509e+00,  2.0077e+00,  1.9731e+00,\n",
      "         7.3791e-01,  6.6981e-01,  8.5984e-01,  3.8614e-01,  1.4287e+00,\n",
      "        -1.3225e-01,  9.1028e-01,  1.7872e+00,  1.4735e+00,  1.0967e+00,\n",
      "         1.0162e+00,  2.6805e+00,  7.0419e-01,  2.0327e+00,  7.6167e-01,\n",
      "         5.3821e-01,  2.2020e+00, -1.0964e-01,  1.9704e+00,  8.9372e-01,\n",
      "         1.9639e+00,  5.5377e-01,  1.1617e+00,  3.1256e-01,  1.1337e+00,\n",
      "         1.0876e+00,  1.1926e+00,  1.4568e+00,  6.0746e-01,  5.3809e-01,\n",
      "         1.8285e+00,  5.2840e-01,  2.2459e+00,  5.6635e-01,  1.8740e+00,\n",
      "         1.3175e+00,  3.8721e-01,  8.4205e-01,  1.6508e+00,  7.6055e-01,\n",
      "         1.3604e-01,  1.9485e+00,  3.2483e-01], grad_fn=<MaxBackward0>)\n"
     ]
    }
   ],
   "execution_count": 8
  },
  {
   "metadata": {
    "ExecuteTime": {
     "end_time": "2024-03-28T22:47:56.342936Z",
     "start_time": "2024-03-28T22:47:56.339750Z"
    }
   },
   "cell_type": "code",
   "source": "inputs",
   "id": "4914015271c57aaa",
   "outputs": [
    {
     "data": {
      "text/plain": [
       "{'input_ids': tensor([[   1,    5,  194,   32,  757, 1239, 2092,  294,   24,  359,   88,   93,\n",
       "           32,   75,   77,   19,    2]]), 'token_type_ids': tensor([[0, 0, 0, 0, 0, 0, 0, 0, 0, 0, 0, 0, 0, 0, 0, 0, 0]]), 'attention_mask': tensor([[1, 1, 1, 1, 1, 1, 1, 1, 1, 1, 1, 1, 1, 1, 1, 1, 1]])}"
      ]
     },
     "execution_count": 13,
     "metadata": {},
     "output_type": "execute_result"
    }
   ],
   "execution_count": 13
  },
  {
   "metadata": {
    "ExecuteTime": {
     "end_time": "2024-03-28T22:34:09.953771Z",
     "start_time": "2024-03-28T22:34:09.947872Z"
    }
   },
   "cell_type": "code",
   "source": "dataset.samples",
   "id": "dd8a4968fe23a1b4",
   "outputs": [
    {
     "data": {
      "text/plain": [
       "                                       sequence\n",
       "0     AAAUAUGUCUGAUAAAAGAGUUACUUUGAUAGAGUAAAUAA\n",
       "1     AAUAUGUCUGAUAAAAGAGUUACUUUGAUAGAGUAAAUAAU\n",
       "2     AAGGUCAGCUAAAUAAGCUAUCGGGCCCAUACCCCGAAAAU\n",
       "3     GGGCCCAUACCCCGAAAAUGUUGGUUAUAUCCUUCCCGUAC\n",
       "4     AUAUUAGAAAAACCAUUUCAUAACUUUGUCAAAGUUAAAUU\n",
       "...                                         ...\n",
       "7909  CAUCACGCUAUCCUUUGUUGUCAUGCUUCGUGCCUCGGCGG\n",
       "7910  CGGGCGUGACUAGAUGUCUCUCUGGCUUCCUCCAAUAUAUU\n",
       "7911  CCACGCUACCAUUACGGCUAUGAGGGUCUAGACUUACGAUA\n",
       "7912  UGCCACAUGCAGUGGAGGCGUUGACCCGAGAUGUUGUUCGA\n",
       "7913  AUAGAACCCAACAUCAAGCGUGGUAUCGGCGGAGCGAAUAA\n",
       "\n",
       "[7914 rows x 1 columns]"
      ],
      "text/html": [
       "<div>\n",
       "<style scoped>\n",
       "    .dataframe tbody tr th:only-of-type {\n",
       "        vertical-align: middle;\n",
       "    }\n",
       "\n",
       "    .dataframe tbody tr th {\n",
       "        vertical-align: top;\n",
       "    }\n",
       "\n",
       "    .dataframe thead th {\n",
       "        text-align: right;\n",
       "    }\n",
       "</style>\n",
       "<table border=\"1\" class=\"dataframe\">\n",
       "  <thead>\n",
       "    <tr style=\"text-align: right;\">\n",
       "      <th></th>\n",
       "      <th>sequence</th>\n",
       "    </tr>\n",
       "  </thead>\n",
       "  <tbody>\n",
       "    <tr>\n",
       "      <th>0</th>\n",
       "      <td>AAAUAUGUCUGAUAAAAGAGUUACUUUGAUAGAGUAAAUAA</td>\n",
       "    </tr>\n",
       "    <tr>\n",
       "      <th>1</th>\n",
       "      <td>AAUAUGUCUGAUAAAAGAGUUACUUUGAUAGAGUAAAUAAU</td>\n",
       "    </tr>\n",
       "    <tr>\n",
       "      <th>2</th>\n",
       "      <td>AAGGUCAGCUAAAUAAGCUAUCGGGCCCAUACCCCGAAAAU</td>\n",
       "    </tr>\n",
       "    <tr>\n",
       "      <th>3</th>\n",
       "      <td>GGGCCCAUACCCCGAAAAUGUUGGUUAUAUCCUUCCCGUAC</td>\n",
       "    </tr>\n",
       "    <tr>\n",
       "      <th>4</th>\n",
       "      <td>AUAUUAGAAAAACCAUUUCAUAACUUUGUCAAAGUUAAAUU</td>\n",
       "    </tr>\n",
       "    <tr>\n",
       "      <th>...</th>\n",
       "      <td>...</td>\n",
       "    </tr>\n",
       "    <tr>\n",
       "      <th>7909</th>\n",
       "      <td>CAUCACGCUAUCCUUUGUUGUCAUGCUUCGUGCCUCGGCGG</td>\n",
       "    </tr>\n",
       "    <tr>\n",
       "      <th>7910</th>\n",
       "      <td>CGGGCGUGACUAGAUGUCUCUCUGGCUUCCUCCAAUAUAUU</td>\n",
       "    </tr>\n",
       "    <tr>\n",
       "      <th>7911</th>\n",
       "      <td>CCACGCUACCAUUACGGCUAUGAGGGUCUAGACUUACGAUA</td>\n",
       "    </tr>\n",
       "    <tr>\n",
       "      <th>7912</th>\n",
       "      <td>UGCCACAUGCAGUGGAGGCGUUGACCCGAGAUGUUGUUCGA</td>\n",
       "    </tr>\n",
       "    <tr>\n",
       "      <th>7913</th>\n",
       "      <td>AUAGAACCCAACAUCAAGCGUGGUAUCGGCGGAGCGAAUAA</td>\n",
       "    </tr>\n",
       "  </tbody>\n",
       "</table>\n",
       "<p>7914 rows × 1 columns</p>\n",
       "</div>"
      ]
     },
     "execution_count": 5,
     "metadata": {},
     "output_type": "execute_result"
    }
   ],
   "execution_count": 5
  },
  {
   "metadata": {
    "ExecuteTime": {
     "end_time": "2024-03-28T20:33:38.214996Z",
     "start_time": "2024-03-28T20:33:37.617332Z"
    }
   },
   "cell_type": "code",
   "source": "sequences, labels = encode_seq_bunch(dataset, tokenizer, True)",
   "id": "db069f82796bbf4f",
   "outputs": [
    {
     "name": "stderr",
     "output_type": "stream",
     "text": [
      "Truncation was not explicitly activated but `max_length` is provided a specific value, please use `truncation=True` to explicitly truncate examples to max length. Defaulting to 'longest_first' truncation strategy. If you encode pairs of sequences (GLUE-style) with the tokenizer you can select this strategy more precisely by providing a specific strategy to `truncation`.\n"
     ]
    }
   ],
   "execution_count": 5
  },
  {
   "metadata": {
    "ExecuteTime": {
     "end_time": "2024-03-28T20:33:38.221214Z",
     "start_time": "2024-03-28T20:33:38.215618Z"
    }
   },
   "cell_type": "code",
   "source": [
    "x_train, x_test, y_train, y_test = train_test_split(sequences, labels, test_size=0.2)\n",
    "x_train, x_val, y_train, y_val = train_test_split(x_train, y_train, test_size=0.2)"
   ],
   "id": "a8f686aef15da19a",
   "outputs": [],
   "execution_count": 6
  },
  {
   "metadata": {
    "ExecuteTime": {
     "end_time": "2024-03-28T20:33:38.331304Z",
     "start_time": "2024-03-28T20:33:38.222009Z"
    }
   },
   "cell_type": "code",
   "source": [
    "train_dataloader = make_dataloader(x_train, y_train)\n",
    "test_dataloader = make_dataloader(x_test, y_test)\n",
    "val_dataloader = make_dataloader(x_val, y_val)"
   ],
   "id": "d45f148e71d8366e",
   "outputs": [],
   "execution_count": 7
  },
  {
   "metadata": {
    "ExecuteTime": {
     "end_time": "2024-03-28T20:33:40.356597Z",
     "start_time": "2024-03-28T20:33:38.332157Z"
    }
   },
   "cell_type": "code",
   "source": [
    "model = BertForSequenceClassification.from_pretrained(MODEL, num_labels=2)\n",
    "model.to(DEVICE)\n",
    "\n",
    "None"
   ],
   "id": "6a2457412227b32c",
   "outputs": [
    {
     "name": "stderr",
     "output_type": "stream",
     "text": [
      "Some weights of BertForSequenceClassification were not initialized from the model checkpoint at bert-base-uncased and are newly initialized: ['classifier.bias', 'classifier.weight']\n",
      "You should probably TRAIN this model on a down-stream task to be able to use it for predictions and inference.\n"
     ]
    }
   ],
   "execution_count": 8
  },
  {
   "metadata": {
    "ExecuteTime": {
     "end_time": "2024-03-28T20:33:40.920876Z",
     "start_time": "2024-03-28T20:33:40.357702Z"
    }
   },
   "cell_type": "code",
   "source": "optimizer = AdamW(model.parameters(), lr=1e-5)",
   "id": "dd190cce7eb9ab18",
   "outputs": [],
   "execution_count": 9
  },
  {
   "metadata": {
    "ExecuteTime": {
     "end_time": "2024-03-28T20:33:40.929081Z",
     "start_time": "2024-03-28T20:33:40.926595Z"
    }
   },
   "cell_type": "code",
   "source": [
    "old_val_acc = 0\n",
    "old_train_acc = 0\n",
    "old_model_name = ''"
   ],
   "id": "295b9f3f87df5bff",
   "outputs": [],
   "execution_count": 10
  },
  {
   "metadata": {
    "ExecuteTime": {
     "end_time": "2024-03-28T20:33:40.931685Z",
     "start_time": "2024-03-28T20:33:40.929885Z"
    }
   },
   "cell_type": "code",
   "source": "TOTAL_EPOCHS = 0",
   "id": "b7a0d488abd7c47d",
   "outputs": [],
   "execution_count": 11
  },
  {
   "cell_type": "code",
   "source": [
    "for epoch in range(1, 5 + 1):\n",
    "    TOTAL_EPOCHS += 1\n",
    "\n",
    "    train_acc, val_acc = train_epoch(TOTAL_EPOCHS, DEVICE, model, optimizer, train_dataloader, val_dataloader)\n",
    "    if train_acc > old_train_acc and val_acc > old_val_acc:\n",
    "        if old_model_name != '':\n",
    "            os.unlink(old_model_name)\n",
    "        old_val_acc = val_acc\n",
    "        old_train_acc = train_acc\n",
    "        old_model_name = f'{EXPERIMENT_NAME}_ep-{TOTAL_EPOCHS}_tacc-{train_acc:.2}_vacc-{val_acc:.2}.pt'\n",
    "        save(model, old_model_name)"
   ],
   "metadata": {
    "collapsed": false,
    "ExecuteTime": {
     "end_time": "2024-03-28T21:02:02.704809Z",
     "start_time": "2024-03-28T20:53:43.574333Z"
    }
   },
   "id": "bde3bac41787590b",
   "outputs": [
    {
     "data": {
      "text/plain": [
       "  0%|          | 0/253 [00:00<?, ?it/s]"
      ],
      "application/vnd.jupyter.widget-view+json": {
       "version_major": 2,
       "version_minor": 0,
       "model_id": "e0e0fe710478457b8a6bdd16de0ed1e9"
      }
     },
     "metadata": {},
     "output_type": "display_data"
    },
    {
     "data": {
      "text/plain": [
       "  0%|          | 0/253 [00:00<?, ?it/s]"
      ],
      "application/vnd.jupyter.widget-view+json": {
       "version_major": 2,
       "version_minor": 0,
       "model_id": "d4910f47e257470781194e166059f48d"
      }
     },
     "metadata": {},
     "output_type": "display_data"
    },
    {
     "data": {
      "text/plain": [
       "  0%|          | 0/253 [00:00<?, ?it/s]"
      ],
      "application/vnd.jupyter.widget-view+json": {
       "version_major": 2,
       "version_minor": 0,
       "model_id": "25992f09109b4804b546ae1a6d2d865d"
      }
     },
     "metadata": {},
     "output_type": "display_data"
    },
    {
     "data": {
      "text/plain": [
       "  0%|          | 0/253 [00:00<?, ?it/s]"
      ],
      "application/vnd.jupyter.widget-view+json": {
       "version_major": 2,
       "version_minor": 0,
       "model_id": "d83bd5d6b7434b6fa93786e4da5121fb"
      }
     },
     "metadata": {},
     "output_type": "display_data"
    },
    {
     "data": {
      "text/plain": [
       "  0%|          | 0/253 [00:00<?, ?it/s]"
      ],
      "application/vnd.jupyter.widget-view+json": {
       "version_major": 2,
       "version_minor": 0,
       "model_id": "107ff6a75eea4dc29556eccf0c57b03e"
      }
     },
     "metadata": {},
     "output_type": "display_data"
    }
   ],
   "execution_count": 15
  },
  {
   "metadata": {
    "ExecuteTime": {
     "end_time": "2024-03-28T20:41:32.481340Z",
     "start_time": "2024-03-28T20:41:26.135087Z"
    }
   },
   "cell_type": "code",
   "source": "calculate_acc_dataset(DEVICE, model, test_dataloader)",
   "id": "5b750f0252641842",
   "outputs": [
    {
     "data": {
      "text/plain": [
       "0.7553528945281522"
      ]
     },
     "execution_count": 13,
     "metadata": {},
     "output_type": "execute_result"
    }
   ],
   "execution_count": 13
  },
  {
   "metadata": {
    "ExecuteTime": {
     "end_time": "2024-03-28T20:41:32.484230Z",
     "start_time": "2024-03-28T20:41:32.482557Z"
    }
   },
   "cell_type": "code",
   "source": "",
   "id": "26128601b4784a84",
   "outputs": [],
   "execution_count": 13
  }
 ],
 "metadata": {
  "kernelspec": {
   "display_name": "Python 3",
   "language": "python",
   "name": "python3"
  },
  "language_info": {
   "codemirror_mode": {
    "name": "ipython",
    "version": 2
   },
   "file_extension": ".py",
   "mimetype": "text/x-python",
   "name": "python",
   "nbconvert_exporter": "python",
   "pygments_lexer": "ipython2",
   "version": "2.7.6"
  }
 },
 "nbformat": 4,
 "nbformat_minor": 5
}
