{
 "cells": [
  {
   "cell_type": "code",
   "source": [
    "from keras\n",
    "from keras.models import Sequential\n",
    "from keras.optimizers import AdamW\n",
    "from keras.callbacks import ModelCheckpoint\n",
    "from keras.layers import Conv1D, MaxPool1D, Flatten, Dense, Input, Dropout\n",
    "\n",
    "from src.features.encodings import pstnpss\n",
    "from src.dataset import load_dataset, Species, Modification, split_balanced"
   ],
   "metadata": {
    "collapsed": false,
    "ExecuteTime": {
     "end_time": "2024-03-25T18:07:24.102170Z",
     "start_time": "2024-03-25T18:07:19.584841Z"
    }
   },
   "id": "c6e44ccfaec72c1c",
   "execution_count": 1,
   "outputs": []
  },
  {
   "metadata": {
    "ExecuteTime": {
     "end_time": "2024-03-25T18:07:24.110743Z",
     "start_time": "2024-03-25T18:07:24.103133Z"
    }
   },
   "cell_type": "code",
   "source": "dataset = load_dataset(Species.human, Modification.psi, 'all')",
   "id": "bb4b5ebdadb20ea4",
   "execution_count": 2,
   "outputs": []
  },
  {
   "metadata": {
    "ExecuteTime": {
     "end_time": "2024-03-25T18:07:24.113102Z",
     "start_time": "2024-03-25T18:07:24.111494Z"
    }
   },
   "cell_type": "code",
   "source": "encoder = pstnpss.Encoder()",
   "id": "db069f82796bbf4f",
   "execution_count": 3,
   "outputs": []
  },
  {
   "metadata": {
    "ExecuteTime": {
     "end_time": "2024-03-25T18:07:24.342252Z",
     "start_time": "2024-03-25T18:07:24.114335Z"
    }
   },
   "cell_type": "code",
   "source": "encoded_samples = encoder.fit_transform(dataset.samples, dataset.targets)",
   "id": "e1651e1c9c0be179",
   "execution_count": 4,
   "outputs": []
  },
  {
   "metadata": {
    "ExecuteTime": {
     "end_time": "2024-03-25T18:07:24.349897Z",
     "start_time": "2024-03-25T18:07:24.342943Z"
    }
   },
   "cell_type": "code",
   "source": [
    "x_train, x_test, y_train, y_test = split_balanced(encoded_samples, dataset.targets, test_size=0.2)\n",
    "x_train, x_val, y_train, y_val = split_balanced(x_train, y_train, test_size=0.2)"
   ],
   "id": "a8f686aef15da19a",
   "execution_count": 5,
   "outputs": []
  },
  {
   "metadata": {
    "ExecuteTime": {
     "end_time": "2024-03-25T18:07:24.380782Z",
     "start_time": "2024-03-25T18:07:24.350539Z"
    }
   },
   "cell_type": "code",
   "source": [
    "model = Sequential([\n",
    "    Input(shape=(39, 1)),\n",
    "    Conv1D(filters=32, kernel_size=7, activation='relu'),\n",
    "    MaxPool1D(pool_size=2),\n",
    "    Conv1D(filters=64, kernel_size=5, activation='relu'),\n",
    "    MaxPool1D(pool_size=2),\n",
    "    Conv1D(filters=128, kernel_size=3, activation='relu'),\n",
    "    MaxPool1D(pool_size=2),\n",
    "    Flatten(),\n",
    "    Dense(128, activation='relu'),\n",
    "    Dropout(0.8),\n",
    "    Dense(1, activation='sigmoid')\n",
    "])"
   ],
   "id": "b7a0d488abd7c47d",
   "execution_count": 6,
   "outputs": []
  },
  {
   "metadata": {
    "ExecuteTime": {
     "end_time": "2024-03-25T18:07:24.386732Z",
     "start_time": "2024-03-25T18:07:24.381488Z"
    }
   },
   "cell_type": "code",
   "source": "model.compile(optimizer=AdamW(learning_rate=0.001), loss='binary_crossentropy', metrics=['accuracy'])",
   "id": "98e541e3b3b54d70",
   "execution_count": 7,
   "outputs": []
  },
  {
   "cell_type": "code",
   "source": [
    "checkpoint_callback = ModelCheckpoint(filepath='best_model.keras',\n",
    "                                      monitor='val_accuracy',\n",
    "                                      save_best_only=True,\n",
    "                                      mode='max')"
   ],
   "metadata": {
    "collapsed": false,
    "ExecuteTime": {
     "end_time": "2024-03-25T18:07:24.389002Z",
     "start_time": "2024-03-25T18:07:24.387372Z"
    }
   },
   "id": "bde3bac41787590b",
   "execution_count": 8,
   "outputs": []
  },
  {
   "metadata": {
    "ExecuteTime": {
     "end_time": "2024-03-25T18:08:24.960547Z",
     "start_time": "2024-03-25T18:08:22.017282Z"
    }
   },
   "cell_type": "code",
   "source": [
    "history = model.fit(x_train, y_train,\n",
    "                    epochs=10,\n",
    "                    shuffle=True,\n",
    "                    batch_size=32,\n",
    "                    validation_data=(x_val, y_val),\n",
    "                    callbacks=[checkpoint_callback])"
   ],
   "id": "5b750f0252641842",
   "execution_count": 16,
   "outputs": []
  },
  {
   "metadata": {},
   "cell_type": "markdown",
   "source": "",
   "id": "34bb5f27da0bb305"
  },
  {
   "metadata": {
    "ExecuteTime": {
     "end_time": "2024-03-25T18:08:31.215324Z",
     "start_time": "2024-03-25T18:08:31.151954Z"
    }
   },
   "cell_type": "code",
   "source": "model.evaluate(x_test, y_test)",
   "id": "45cd72a3f823e8c7",
   "execution_count": 17,
   "outputs": []
  },
  {
   "metadata": {
    "ExecuteTime": {
     "end_time": "2024-03-25T18:09:51.903614Z",
     "start_time": "2024-03-25T18:09:51.806226Z"
    }
   },
   "cell_type": "code",
   "source": [
    "model.load_weights('best_model.keras')\n",
    "model.evaluate(x_test, y_test)"
   ],
   "id": "5fd50e9d3d4bb7",
   "execution_count": 18,
   "outputs": []
  },
  {
   "metadata": {},
   "cell_type": "code",
   "execution_count": null,
   "source": "",
   "id": "ec2845eb7810afd1",
   "outputs": []
  }
 ],
 "metadata": {
  "kernelspec": {
   "display_name": "Python 3",
   "language": "python",
   "name": "python3"
  },
  "language_info": {
   "codemirror_mode": {
    "name": "ipython",
    "version": 2
   },
   "file_extension": ".py",
   "mimetype": "text/x-python",
   "name": "python",
   "nbconvert_exporter": "python",
   "pygments_lexer": "ipython2",
   "version": "2.7.6"
  }
 },
 "nbformat": 4,
 "nbformat_minor": 5
}
