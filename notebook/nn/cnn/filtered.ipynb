{
 "cells": [
  {
   "cell_type": "code",
   "source": [
    "from keras\n",
    "from keras.models import Sequential\n",
    "from keras.optimizers import AdamW\n",
    "from keras.callbacks import ModelCheckpoint\n",
    "from keras.layers import Conv1D, MaxPool1D, Flatten, Dense, Input, Dropout\n",
    "\n",
    "from src.features.encodings import pstnpss\n",
    "from src.dataset import load_dataset, Species, Modification, split_balanced"
   ],
   "metadata": {
    "collapsed": false,
    "ExecuteTime": {
     "end_time": "2024-03-25T18:07:24.102170Z",
     "start_time": "2024-03-25T18:07:19.584841Z"
    }
   },
   "id": "c6e44ccfaec72c1c",
   "outputs": [],
   "execution_count": 1
  },
  {
   "metadata": {
    "ExecuteTime": {
     "end_time": "2024-03-25T18:07:24.110743Z",
     "start_time": "2024-03-25T18:07:24.103133Z"
    }
   },
   "cell_type": "code",
   "source": "dataset = load_dataset(Species.human, Modification.psi, 'all')",
   "id": "bb4b5ebdadb20ea4",
   "outputs": [],
   "execution_count": 2
  },
  {
   "metadata": {
    "ExecuteTime": {
     "end_time": "2024-03-25T18:07:24.113102Z",
     "start_time": "2024-03-25T18:07:24.111494Z"
    }
   },
   "cell_type": "code",
   "source": "encoder = pstnpss.Encoder()",
   "id": "db069f82796bbf4f",
   "outputs": [],
   "execution_count": 3
  },
  {
   "metadata": {
    "ExecuteTime": {
     "end_time": "2024-03-25T18:07:24.342252Z",
     "start_time": "2024-03-25T18:07:24.114335Z"
    }
   },
   "cell_type": "code",
   "source": "encoded_samples = encoder.fit_transform(dataset.samples, dataset.targets)",
   "id": "e1651e1c9c0be179",
   "outputs": [],
   "execution_count": 4
  },
  {
   "metadata": {
    "ExecuteTime": {
     "end_time": "2024-03-25T18:07:24.349897Z",
     "start_time": "2024-03-25T18:07:24.342943Z"
    }
   },
   "cell_type": "code",
   "source": [
    "x_train, x_test, y_train, y_test = split_balanced(encoded_samples, dataset.targets, test_size=0.2)\n",
    "x_train, x_val, y_train, y_val = split_balanced(x_train, y_train, test_size=0.2)"
   ],
   "id": "a8f686aef15da19a",
   "outputs": [],
   "execution_count": 5
  },
  {
   "metadata": {
    "ExecuteTime": {
     "end_time": "2024-03-25T18:07:24.380782Z",
     "start_time": "2024-03-25T18:07:24.350539Z"
    }
   },
   "cell_type": "code",
   "source": [
    "model = Sequential([\n",
    "    Input(shape=(39, 1)),\n",
    "    Conv1D(filters=32, kernel_size=7, activation='relu'),\n",
    "    MaxPool1D(pool_size=2),\n",
    "    Conv1D(filters=64, kernel_size=5, activation='relu'),\n",
    "    MaxPool1D(pool_size=2),\n",
    "    Conv1D(filters=128, kernel_size=3, activation='relu'),\n",
    "    MaxPool1D(pool_size=2),\n",
    "    Flatten(),\n",
    "    Dense(128, activation='relu'),\n",
    "    Dropout(0.8),\n",
    "    Dense(1, activation='sigmoid')\n",
    "])"
   ],
   "id": "b7a0d488abd7c47d",
   "outputs": [],
   "execution_count": 6
  },
  {
   "metadata": {
    "ExecuteTime": {
     "end_time": "2024-03-25T18:07:24.386732Z",
     "start_time": "2024-03-25T18:07:24.381488Z"
    }
   },
   "cell_type": "code",
   "source": "model.compile(optimizer=AdamW(learning_rate=0.001), loss='binary_crossentropy', metrics=['accuracy'])",
   "id": "98e541e3b3b54d70",
   "outputs": [],
   "execution_count": 7
  },
  {
   "cell_type": "code",
   "source": [
    "checkpoint_callback = ModelCheckpoint(filepath='best_model.keras',\n",
    "                                      monitor='val_accuracy',\n",
    "                                      save_best_only=True,\n",
    "                                      mode='max')"
   ],
   "metadata": {
    "collapsed": false,
    "ExecuteTime": {
     "end_time": "2024-03-25T18:07:24.389002Z",
     "start_time": "2024-03-25T18:07:24.387372Z"
    }
   },
   "id": "bde3bac41787590b",
   "outputs": [],
   "execution_count": 8
  },
  {
   "metadata": {
    "ExecuteTime": {
     "end_time": "2024-03-25T18:08:24.960547Z",
     "start_time": "2024-03-25T18:08:22.017282Z"
    }
   },
   "cell_type": "code",
   "source": [
    "history = model.fit(x_train, y_train,\n",
    "                    epochs=10,\n",
    "                    shuffle=True,\n",
    "                    batch_size=32,\n",
    "                    validation_data=(x_val, y_val),\n",
    "                    callbacks=[checkpoint_callback])"
   ],
   "id": "5b750f0252641842",
   "outputs": [
    {
     "name": "stdout",
     "output_type": "stream",
     "text": [
      "Epoch 1/10\n",
      "\u001B[1m111/111\u001B[0m \u001B[32m━━━━━━━━━━━━━━━━━━━━\u001B[0m\u001B[37m\u001B[0m \u001B[1m0s\u001B[0m 3ms/step - accuracy: 0.8921 - loss: 0.2751 - val_accuracy: 0.8322 - val_loss: 0.3992\n",
      "Epoch 2/10\n",
      "\u001B[1m111/111\u001B[0m \u001B[32m━━━━━━━━━━━━━━━━━━━━\u001B[0m\u001B[37m\u001B[0m \u001B[1m0s\u001B[0m 3ms/step - accuracy: 0.8794 - loss: 0.2860 - val_accuracy: 0.8084 - val_loss: 0.4292\n",
      "Epoch 3/10\n",
      "\u001B[1m111/111\u001B[0m \u001B[32m━━━━━━━━━━━━━━━━━━━━\u001B[0m\u001B[37m\u001B[0m \u001B[1m0s\u001B[0m 3ms/step - accuracy: 0.9066 - loss: 0.2526 - val_accuracy: 0.8107 - val_loss: 0.4611\n",
      "Epoch 4/10\n",
      "\u001B[1m111/111\u001B[0m \u001B[32m━━━━━━━━━━━━━━━━━━━━\u001B[0m\u001B[37m\u001B[0m \u001B[1m0s\u001B[0m 3ms/step - accuracy: 0.9107 - loss: 0.2465 - val_accuracy: 0.8401 - val_loss: 0.4290\n",
      "Epoch 5/10\n",
      "\u001B[1m111/111\u001B[0m \u001B[32m━━━━━━━━━━━━━━━━━━━━\u001B[0m\u001B[37m\u001B[0m \u001B[1m0s\u001B[0m 3ms/step - accuracy: 0.9142 - loss: 0.2265 - val_accuracy: 0.8197 - val_loss: 0.4328\n",
      "Epoch 6/10\n",
      "\u001B[1m111/111\u001B[0m \u001B[32m━━━━━━━━━━━━━━━━━━━━\u001B[0m\u001B[37m\u001B[0m \u001B[1m0s\u001B[0m 2ms/step - accuracy: 0.9098 - loss: 0.2319 - val_accuracy: 0.8333 - val_loss: 0.4420\n",
      "Epoch 7/10\n",
      "\u001B[1m111/111\u001B[0m \u001B[32m━━━━━━━━━━━━━━━━━━━━\u001B[0m\u001B[37m\u001B[0m \u001B[1m0s\u001B[0m 2ms/step - accuracy: 0.9219 - loss: 0.2236 - val_accuracy: 0.8095 - val_loss: 0.4559\n",
      "Epoch 8/10\n",
      "\u001B[1m111/111\u001B[0m \u001B[32m━━━━━━━━━━━━━━━━━━━━\u001B[0m\u001B[37m\u001B[0m \u001B[1m0s\u001B[0m 3ms/step - accuracy: 0.9067 - loss: 0.2501 - val_accuracy: 0.8141 - val_loss: 0.4354\n",
      "Epoch 9/10\n",
      "\u001B[1m111/111\u001B[0m \u001B[32m━━━━━━━━━━━━━━━━━━━━\u001B[0m\u001B[37m\u001B[0m \u001B[1m0s\u001B[0m 3ms/step - accuracy: 0.9195 - loss: 0.2222 - val_accuracy: 0.8163 - val_loss: 0.4461\n",
      "Epoch 10/10\n",
      "\u001B[1m111/111\u001B[0m \u001B[32m━━━━━━━━━━━━━━━━━━━━\u001B[0m\u001B[37m\u001B[0m \u001B[1m0s\u001B[0m 2ms/step - accuracy: 0.9271 - loss: 0.2085 - val_accuracy: 0.8141 - val_loss: 0.4506\n"
     ]
    }
   ],
   "execution_count": 16
  },
  {
   "metadata": {},
   "cell_type": "markdown",
   "source": "",
   "id": "34bb5f27da0bb305"
  },
  {
   "metadata": {
    "ExecuteTime": {
     "end_time": "2024-03-25T18:08:31.215324Z",
     "start_time": "2024-03-25T18:08:31.151954Z"
    }
   },
   "cell_type": "code",
   "source": "model.evaluate(x_test, y_test)",
   "id": "45cd72a3f823e8c7",
   "outputs": [
    {
     "name": "stdout",
     "output_type": "stream",
     "text": [
      "\u001B[1m35/35\u001B[0m \u001B[32m━━━━━━━━━━━━━━━━━━━━\u001B[0m\u001B[37m\u001B[0m \u001B[1m0s\u001B[0m 718us/step - accuracy: 0.7868 - loss: 0.4908\n"
     ]
    },
    {
     "data": {
      "text/plain": [
       "[0.48662567138671875, 0.8166969418525696]"
      ]
     },
     "execution_count": 17,
     "metadata": {},
     "output_type": "execute_result"
    }
   ],
   "execution_count": 17
  },
  {
   "metadata": {
    "ExecuteTime": {
     "end_time": "2024-03-25T18:09:51.903614Z",
     "start_time": "2024-03-25T18:09:51.806226Z"
    }
   },
   "cell_type": "code",
   "source": [
    "model.load_weights('best_model.keras')\n",
    "model.evaluate(x_test, y_test)"
   ],
   "id": "5fd50e9d3d4bb7",
   "outputs": [
    {
     "name": "stdout",
     "output_type": "stream",
     "text": [
      "\u001B[1m35/35\u001B[0m \u001B[32m━━━━━━━━━━━━━━━━━━━━\u001B[0m\u001B[37m\u001B[0m \u001B[1m0s\u001B[0m 712us/step - accuracy: 0.8023 - loss: 0.3929\n"
     ]
    },
    {
     "data": {
      "text/plain": [
       "[0.3730151355266571, 0.8312159776687622]"
      ]
     },
     "execution_count": 18,
     "metadata": {},
     "output_type": "execute_result"
    }
   ],
   "execution_count": 18
  },
  {
   "metadata": {},
   "cell_type": "code",
   "outputs": [],
   "execution_count": null,
   "source": "",
   "id": "ec2845eb7810afd1"
  }
 ],
 "metadata": {
  "kernelspec": {
   "display_name": "Python 3",
   "language": "python",
   "name": "python3"
  },
  "language_info": {
   "codemirror_mode": {
    "name": "ipython",
    "version": 2
   },
   "file_extension": ".py",
   "mimetype": "text/x-python",
   "name": "python",
   "nbconvert_exporter": "python",
   "pygments_lexer": "ipython2",
   "version": "2.7.6"
  }
 },
 "nbformat": 4,
 "nbformat_minor": 5
}
