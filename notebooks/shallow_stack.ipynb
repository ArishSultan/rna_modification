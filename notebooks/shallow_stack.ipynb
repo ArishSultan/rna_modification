{
 "cells": [
  {
   "cell_type": "code",
   "execution_count": 1,
   "metadata": {
    "collapsed": true,
    "ExecuteTime": {
     "start_time": "2023-05-16T13:23:20.549974Z",
     "end_time": "2023-05-16T13:23:22.303377Z"
    }
   },
   "outputs": [],
   "source": [
    "from pathlib import Path\n",
    "from src.data.data_loader import Species, load_dataset, PyTorchDataset\n",
    "from src.features.encoder import FeatureEncoder\n",
    "from src.utils.torch2sklearn import Torch2SkLearn\n",
    "\n",
    "from src.models.reporting.model_report import ModelReport\n",
    "from src.models.reporting.single_report import generate_report"
   ]
  },
  {
   "cell_type": "code",
   "execution_count": 2,
   "outputs": [],
   "source": [
    "x, y = load_dataset(Species.human, encoding=FeatureEncoder.binary)\n",
    "x_test, y_test = load_dataset(Species.human, independent=True, encoding=FeatureEncoder.binary)"
   ],
   "metadata": {
    "collapsed": false,
    "ExecuteTime": {
     "start_time": "2023-05-16T13:23:22.304251Z",
     "end_time": "2023-05-16T13:23:22.317911Z"
    }
   }
  },
  {
   "cell_type": "code",
   "execution_count": 3,
   "outputs": [],
   "source": [
    "from sklearn.linear_model import LogisticRegressionCV"
   ],
   "metadata": {
    "collapsed": false,
    "ExecuteTime": {
     "start_time": "2023-05-16T11:36:26.281694Z",
     "end_time": "2023-05-16T11:36:26.284424Z"
    }
   }
  },
  {
   "cell_type": "code",
   "execution_count": null,
   "outputs": [],
   "source": [
    "regressor = LogisticRegressionCV()\n",
    "regressor.fit(x, y)\n",
    "\n",
    "generate_report(\n",
    "    {'train': ModelReport.generate(regressor, x, y), 'test': ModelReport.generate(regressor, x_test, y_test)},\n",
    "    Path('lr_simple'))"
   ],
   "metadata": {
    "collapsed": false,
    "ExecuteTime": {
     "start_time": "2023-05-16T11:56:12.799487Z",
     "end_time": "2023-05-16T11:56:21.736207Z"
    }
   }
  },
  {
   "cell_type": "code",
   "execution_count": null,
   "outputs": [],
   "source": [
    "imp_x = x[map(lambda _: f'binary_{_}', [46, 36, 44, 77, 45, 49, 3])]\n",
    "imp_x_test = x_test[map(lambda _: f'binary_{_}', [46, 36, 44, 77, 45, 49, 3])]\n",
    "regressor2 = LogisticRegressionCV()\n",
    "regressor2.fit(imp_x, y)\n",
    "\n",
    "generate_report(\n",
    "    {'train': ModelReport.generate(regressor2, imp_x, y), 'test': ModelReport.generate(regressor2, imp_x_test, y_test)},\n",
    "    Path('lr_feature_selection'))"
   ],
   "metadata": {
    "collapsed": false,
    "ExecuteTime": {
     "start_time": "2023-05-16T12:02:51.747070Z",
     "end_time": "2023-05-16T12:02:56.382690Z"
    }
   }
  },
  {
   "cell_type": "markdown",
   "source": [
    "# Tensorflow Portion"
   ],
   "metadata": {
    "collapsed": false
   }
  },
  {
   "cell_type": "code",
   "execution_count": 45,
   "outputs": [
    {
     "name": "stdout",
     "output_type": "stream",
     "text": [
      "(792, 84)\n"
     ]
    }
   ],
   "source": [
    "from sklearn.model_selection import train_test_split\n",
    "\n",
    "from keras.layers import Dense\n",
    "from keras.models import Sequential\n",
    "from keras.src.callbacks import EarlyStopping\n",
    "from sklearn.metrics import classification_report\n",
    "\n",
    "# Split the data into training and testing sets\n",
    "X_train, X_test, y_train, y_test = train_test_split(x, y, test_size=0.2, random_state=42)\n",
    "\n",
    "print(X_train.shape)\n",
    "# Define the TensorFlow model\n",
    "model = Sequential([\n",
    "    Dense(32, activation='relu', input_shape=(X_train.shape[1],)),\n",
    "    Dense(1, activation='sigmoid')\n",
    "])\n",
    "\n",
    "model.compile(optimizer='adam', loss='binary_crossentropy', metrics=['accuracy'])\n",
    "early_stopping = EarlyStopping(monitor='accuracy', patience=3, restore_best_weights=True)"
   ],
   "metadata": {
    "collapsed": false,
    "ExecuteTime": {
     "start_time": "2023-05-16T16:03:08.608670Z",
     "end_time": "2023-05-16T16:03:08.630638Z"
    }
   }
  },
  {
   "cell_type": "code",
   "execution_count": 46,
   "outputs": [
    {
     "name": "stdout",
     "output_type": "stream",
     "text": [
      "Epoch 1/100\n",
      "25/25 [==============================] - 0s 675us/step - loss: 0.7097 - accuracy: 0.5126\n",
      "Epoch 2/100\n",
      "25/25 [==============================] - 0s 614us/step - loss: 0.6831 - accuracy: 0.5530\n",
      "Epoch 3/100\n",
      "25/25 [==============================] - 0s 613us/step - loss: 0.6640 - accuracy: 0.5934\n",
      "Epoch 4/100\n",
      "25/25 [==============================] - 0s 590us/step - loss: 0.6490 - accuracy: 0.6364\n",
      "Epoch 5/100\n",
      "25/25 [==============================] - 0s 539us/step - loss: 0.6361 - accuracy: 0.6465\n",
      "Epoch 6/100\n",
      "25/25 [==============================] - 0s 539us/step - loss: 0.6239 - accuracy: 0.6818\n",
      "Epoch 7/100\n",
      "25/25 [==============================] - 0s 525us/step - loss: 0.6135 - accuracy: 0.6843\n",
      "Epoch 8/100\n",
      "25/25 [==============================] - 0s 475us/step - loss: 0.6047 - accuracy: 0.6818\n",
      "Epoch 9/100\n",
      "25/25 [==============================] - 0s 562us/step - loss: 0.5946 - accuracy: 0.7033\n",
      "Epoch 10/100\n",
      "25/25 [==============================] - 0s 493us/step - loss: 0.5858 - accuracy: 0.7058\n",
      "Epoch 11/100\n",
      "25/25 [==============================] - 0s 536us/step - loss: 0.5782 - accuracy: 0.7109\n",
      "Epoch 12/100\n",
      "25/25 [==============================] - 0s 510us/step - loss: 0.5704 - accuracy: 0.7058\n",
      "Epoch 13/100\n",
      "25/25 [==============================] - 0s 490us/step - loss: 0.5623 - accuracy: 0.7134\n",
      "Epoch 14/100\n",
      "25/25 [==============================] - 0s 492us/step - loss: 0.5557 - accuracy: 0.7210\n",
      "Epoch 15/100\n",
      "25/25 [==============================] - 0s 566us/step - loss: 0.5491 - accuracy: 0.7172\n",
      "Epoch 16/100\n",
      "25/25 [==============================] - 0s 539us/step - loss: 0.5418 - accuracy: 0.7210\n",
      "Epoch 17/100\n",
      "25/25 [==============================] - 0s 509us/step - loss: 0.5360 - accuracy: 0.7311\n",
      "Epoch 18/100\n",
      "25/25 [==============================] - 0s 485us/step - loss: 0.5323 - accuracy: 0.7336\n",
      "Epoch 19/100\n",
      "25/25 [==============================] - 0s 530us/step - loss: 0.5230 - accuracy: 0.7361\n",
      "Epoch 20/100\n",
      "25/25 [==============================] - 0s 492us/step - loss: 0.5180 - accuracy: 0.7374\n",
      "Epoch 21/100\n",
      "25/25 [==============================] - 0s 528us/step - loss: 0.5111 - accuracy: 0.7462\n",
      "Epoch 22/100\n",
      "25/25 [==============================] - 0s 517us/step - loss: 0.5063 - accuracy: 0.7462\n",
      "Epoch 23/100\n",
      "25/25 [==============================] - 0s 499us/step - loss: 0.4992 - accuracy: 0.7614\n",
      "Epoch 24/100\n",
      "25/25 [==============================] - 0s 506us/step - loss: 0.4937 - accuracy: 0.7626\n",
      "Epoch 25/100\n",
      "25/25 [==============================] - 0s 527us/step - loss: 0.4867 - accuracy: 0.7727\n",
      "Epoch 26/100\n",
      "25/25 [==============================] - 0s 516us/step - loss: 0.4809 - accuracy: 0.7778\n",
      "Epoch 27/100\n",
      "25/25 [==============================] - 0s 494us/step - loss: 0.4786 - accuracy: 0.7778\n",
      "Epoch 28/100\n",
      "25/25 [==============================] - 0s 519us/step - loss: 0.4709 - accuracy: 0.7803\n",
      "Epoch 29/100\n",
      "25/25 [==============================] - 0s 543us/step - loss: 0.4645 - accuracy: 0.7929\n",
      "Epoch 30/100\n",
      "25/25 [==============================] - 0s 500us/step - loss: 0.4563 - accuracy: 0.7955\n",
      "Epoch 31/100\n",
      "25/25 [==============================] - 0s 532us/step - loss: 0.4498 - accuracy: 0.8043\n",
      "Epoch 32/100\n",
      "25/25 [==============================] - 0s 502us/step - loss: 0.4428 - accuracy: 0.8119\n",
      "Epoch 33/100\n",
      "25/25 [==============================] - 0s 535us/step - loss: 0.4367 - accuracy: 0.8106\n",
      "Epoch 34/100\n",
      "25/25 [==============================] - 0s 546us/step - loss: 0.4306 - accuracy: 0.8194\n",
      "Epoch 35/100\n",
      "25/25 [==============================] - 0s 537us/step - loss: 0.4254 - accuracy: 0.8220\n",
      "Epoch 36/100\n",
      "25/25 [==============================] - 0s 511us/step - loss: 0.4177 - accuracy: 0.8245\n",
      "Epoch 37/100\n",
      "25/25 [==============================] - 0s 561us/step - loss: 0.4113 - accuracy: 0.8333\n",
      "Epoch 38/100\n",
      "25/25 [==============================] - 0s 543us/step - loss: 0.4051 - accuracy: 0.8396\n",
      "Epoch 39/100\n",
      "25/25 [==============================] - 0s 510us/step - loss: 0.3988 - accuracy: 0.8472\n",
      "Epoch 40/100\n",
      "25/25 [==============================] - 0s 499us/step - loss: 0.3924 - accuracy: 0.8548\n",
      "Epoch 41/100\n",
      "25/25 [==============================] - 0s 531us/step - loss: 0.3860 - accuracy: 0.8611\n",
      "Epoch 42/100\n",
      "25/25 [==============================] - 0s 531us/step - loss: 0.3789 - accuracy: 0.8636\n",
      "Epoch 43/100\n",
      "25/25 [==============================] - 0s 494us/step - loss: 0.3735 - accuracy: 0.8699\n",
      "Epoch 44/100\n",
      "25/25 [==============================] - 0s 500us/step - loss: 0.3676 - accuracy: 0.8725\n",
      "Epoch 45/100\n",
      "25/25 [==============================] - 0s 503us/step - loss: 0.3608 - accuracy: 0.8801\n",
      "Epoch 46/100\n",
      "25/25 [==============================] - 0s 493us/step - loss: 0.3553 - accuracy: 0.8801\n",
      "Epoch 47/100\n",
      "25/25 [==============================] - 0s 538us/step - loss: 0.3489 - accuracy: 0.8889\n",
      "Epoch 48/100\n",
      "25/25 [==============================] - 0s 502us/step - loss: 0.3441 - accuracy: 0.8902\n",
      "Epoch 49/100\n",
      "25/25 [==============================] - 0s 510us/step - loss: 0.3363 - accuracy: 0.9028\n",
      "Epoch 50/100\n",
      "25/25 [==============================] - 0s 495us/step - loss: 0.3299 - accuracy: 0.8952\n",
      "Epoch 51/100\n",
      "25/25 [==============================] - 0s 544us/step - loss: 0.3254 - accuracy: 0.9104\n",
      "Epoch 52/100\n",
      "25/25 [==============================] - 0s 543us/step - loss: 0.3185 - accuracy: 0.9179\n",
      "Epoch 53/100\n",
      "25/25 [==============================] - 0s 525us/step - loss: 0.3111 - accuracy: 0.9217\n",
      "Epoch 54/100\n",
      "25/25 [==============================] - 0s 504us/step - loss: 0.3073 - accuracy: 0.9255\n",
      "Epoch 55/100\n",
      "25/25 [==============================] - 0s 463us/step - loss: 0.3020 - accuracy: 0.9217\n",
      "Epoch 56/100\n",
      "25/25 [==============================] - 0s 517us/step - loss: 0.2959 - accuracy: 0.9280\n",
      "Epoch 57/100\n",
      "25/25 [==============================] - 0s 540us/step - loss: 0.2901 - accuracy: 0.9394\n",
      "Epoch 58/100\n",
      "25/25 [==============================] - 0s 504us/step - loss: 0.2846 - accuracy: 0.9381\n",
      "Epoch 59/100\n",
      "25/25 [==============================] - 0s 519us/step - loss: 0.2824 - accuracy: 0.9407\n",
      "Epoch 60/100\n",
      "25/25 [==============================] - 0s 503us/step - loss: 0.2784 - accuracy: 0.9394\n",
      "Epoch 61/100\n",
      "25/25 [==============================] - 0s 513us/step - loss: 0.2698 - accuracy: 0.9470\n",
      "Epoch 62/100\n",
      "25/25 [==============================] - 0s 514us/step - loss: 0.2642 - accuracy: 0.9457\n",
      "Epoch 63/100\n",
      "25/25 [==============================] - 0s 518us/step - loss: 0.2617 - accuracy: 0.9432\n",
      "Epoch 64/100\n",
      "25/25 [==============================] - 0s 486us/step - loss: 0.2546 - accuracy: 0.9508\n",
      "Epoch 65/100\n",
      "25/25 [==============================] - 0s 533us/step - loss: 0.2500 - accuracy: 0.9545\n",
      "Epoch 66/100\n",
      "25/25 [==============================] - 0s 486us/step - loss: 0.2454 - accuracy: 0.9533\n",
      "Epoch 67/100\n",
      "25/25 [==============================] - 0s 530us/step - loss: 0.2412 - accuracy: 0.9482\n",
      "Epoch 68/100\n",
      "25/25 [==============================] - 0s 498us/step - loss: 0.2373 - accuracy: 0.9571\n",
      "Epoch 69/100\n",
      "25/25 [==============================] - 0s 530us/step - loss: 0.2329 - accuracy: 0.9596\n",
      "Epoch 70/100\n",
      "25/25 [==============================] - 0s 500us/step - loss: 0.2270 - accuracy: 0.9634\n",
      "Epoch 71/100\n",
      "25/25 [==============================] - 0s 510us/step - loss: 0.2225 - accuracy: 0.9634\n",
      "Epoch 72/100\n",
      "25/25 [==============================] - 0s 500us/step - loss: 0.2180 - accuracy: 0.9672\n",
      "Epoch 73/100\n",
      "25/25 [==============================] - 0s 530us/step - loss: 0.2135 - accuracy: 0.9672\n",
      "Epoch 74/100\n",
      "25/25 [==============================] - 0s 498us/step - loss: 0.2099 - accuracy: 0.9684\n",
      "Epoch 75/100\n",
      "25/25 [==============================] - 0s 522us/step - loss: 0.2052 - accuracy: 0.9722\n",
      "Epoch 76/100\n",
      "25/25 [==============================] - 0s 511us/step - loss: 0.2021 - accuracy: 0.9710\n",
      "Epoch 77/100\n",
      "25/25 [==============================] - 0s 472us/step - loss: 0.1980 - accuracy: 0.9710\n",
      "Epoch 78/100\n",
      "25/25 [==============================] - 0s 504us/step - loss: 0.1933 - accuracy: 0.9684\n"
     ]
    },
    {
     "data": {
      "text/plain": "<keras.src.callbacks.History at 0x2ab7cfbd0>"
     },
     "execution_count": 46,
     "metadata": {},
     "output_type": "execute_result"
    }
   ],
   "source": [
    "model.fit(X_train, y_train, epochs=100, batch_size=32, callbacks=[early_stopping])"
   ],
   "metadata": {
    "collapsed": false,
    "ExecuteTime": {
     "start_time": "2023-05-16T16:03:15.018433Z",
     "end_time": "2023-05-16T16:03:16.315580Z"
    }
   }
  },
  {
   "cell_type": "code",
   "execution_count": 63,
   "outputs": [
    {
     "ename": "AttributeError",
     "evalue": "'Sequential' object has no attribute 'predict_classes'",
     "output_type": "error",
     "traceback": [
      "\u001B[0;31m---------------------------------------------------------------------------\u001B[0m",
      "\u001B[0;31mAttributeError\u001B[0m                            Traceback (most recent call last)",
      "Cell \u001B[0;32mIn[63], line 1\u001B[0m\n\u001B[0;32m----> 1\u001B[0m \u001B[38;5;28mprint\u001B[39m(classification_report(y_train, \u001B[43mmodel\u001B[49m\u001B[38;5;241;43m.\u001B[39;49m\u001B[43mpredict_classes\u001B[49m(X_train)))\n\u001B[1;32m      2\u001B[0m \u001B[38;5;66;03m# print(classification_report(y_test, model.predict(X_test)))\u001B[39;00m\n",
      "\u001B[0;31mAttributeError\u001B[0m: 'Sequential' object has no attribute 'predict_classes'"
     ]
    }
   ],
   "source": [
    "y_scores = model.predict(X_test)\n",
    "y_pred = (y_scores > 0.5).astype(int)\n",
    "\n",
    "print(classification_report(y_train, model.predict_classes(X_train)))\n",
    "# print(classification_report(y_test, model.predict(X_test)))"
   ],
   "metadata": {
    "collapsed": false,
    "ExecuteTime": {
     "start_time": "2023-05-16T15:53:44.677316Z",
     "end_time": "2023-05-16T15:53:44.692812Z"
    }
   }
  },
  {
   "cell_type": "code",
   "execution_count": 61,
   "outputs": [
    {
     "ename": "ValueError",
     "evalue": "in user code:\n\n    File \"/Users/arish/workspace/research/psi_predictor/venv/lib/python3.11/site-packages/keras/src/engine/training.py\", line 2341, in predict_function  *\n        return step_function(self, iterator)\n    File \"/Users/arish/workspace/research/psi_predictor/venv/lib/python3.11/site-packages/keras/src/engine/training.py\", line 2327, in step_function  **\n        outputs = model.distribute_strategy.run(run_step, args=(data,))\n    File \"/Users/arish/workspace/research/psi_predictor/venv/lib/python3.11/site-packages/keras/src/engine/training.py\", line 2315, in run_step  **\n        outputs = model.predict_step(data)\n    File \"/Users/arish/workspace/research/psi_predictor/venv/lib/python3.11/site-packages/keras/src/engine/training.py\", line 2283, in predict_step\n        return self(x, training=False)\n    File \"/Users/arish/workspace/research/psi_predictor/venv/lib/python3.11/site-packages/keras/src/utils/traceback_utils.py\", line 70, in error_handler\n        raise e.with_traceback(filtered_tb) from None\n    File \"/Users/arish/workspace/research/psi_predictor/venv/lib/python3.11/site-packages/keras/src/engine/input_spec.py\", line 280, in assert_input_compatibility\n        raise ValueError(\n\n    ValueError: Exception encountered when calling layer 'sequential_3' (type Sequential).\n    \n    Input 0 of layer \"dense_8\" is incompatible with the layer: expected axis -1 of input shape to have value 84, but received input with shape (None, 1)\n    \n    Call arguments received by layer 'sequential_3' (type Sequential):\n      • inputs=('tf.Tensor(shape=(None, 1), dtype=float32)',)\n      • training=False\n      • mask=None\n",
     "output_type": "error",
     "traceback": [
      "\u001B[0;31m---------------------------------------------------------------------------\u001B[0m",
      "\u001B[0;31mValueError\u001B[0m                                Traceback (most recent call last)",
      "Cell \u001B[0;32mIn[61], line 1\u001B[0m\n\u001B[0;32m----> 1\u001B[0m \u001B[43mmodel\u001B[49m\u001B[38;5;241;43m.\u001B[39;49m\u001B[43mpredict\u001B[49m\u001B[43m(\u001B[49m\u001B[43m[\u001B[49m\u001B[43mX_train\u001B[49m\u001B[38;5;241;43m.\u001B[39;49m\u001B[43miloc\u001B[49m\u001B[43m[\u001B[49m\u001B[38;5;241;43m0\u001B[39;49m\u001B[43m]\u001B[49m\u001B[43m]\u001B[49m\u001B[43m)\u001B[49m\n",
      "File \u001B[0;32m~/workspace/research/psi_predictor/venv/lib/python3.11/site-packages/keras/src/utils/traceback_utils.py:70\u001B[0m, in \u001B[0;36mfilter_traceback.<locals>.error_handler\u001B[0;34m(*args, **kwargs)\u001B[0m\n\u001B[1;32m     67\u001B[0m     filtered_tb \u001B[38;5;241m=\u001B[39m _process_traceback_frames(e\u001B[38;5;241m.\u001B[39m__traceback__)\n\u001B[1;32m     68\u001B[0m     \u001B[38;5;66;03m# To get the full stack trace, call:\u001B[39;00m\n\u001B[1;32m     69\u001B[0m     \u001B[38;5;66;03m# `tf.debugging.disable_traceback_filtering()`\u001B[39;00m\n\u001B[0;32m---> 70\u001B[0m     \u001B[38;5;28;01mraise\u001B[39;00m e\u001B[38;5;241m.\u001B[39mwith_traceback(filtered_tb) \u001B[38;5;28;01mfrom\u001B[39;00m \u001B[38;5;28;01mNone\u001B[39;00m\n\u001B[1;32m     71\u001B[0m \u001B[38;5;28;01mfinally\u001B[39;00m:\n\u001B[1;32m     72\u001B[0m     \u001B[38;5;28;01mdel\u001B[39;00m filtered_tb\n",
      "File \u001B[0;32m/var/folders/68/mvp2bv7n4gdckgszmwmkjwxc0000gn/T/__autograph_generated_file8sovp_4g.py:15\u001B[0m, in \u001B[0;36mouter_factory.<locals>.inner_factory.<locals>.tf__predict_function\u001B[0;34m(iterator)\u001B[0m\n\u001B[1;32m     13\u001B[0m \u001B[38;5;28;01mtry\u001B[39;00m:\n\u001B[1;32m     14\u001B[0m     do_return \u001B[38;5;241m=\u001B[39m \u001B[38;5;28;01mTrue\u001B[39;00m\n\u001B[0;32m---> 15\u001B[0m     retval_ \u001B[38;5;241m=\u001B[39m ag__\u001B[38;5;241m.\u001B[39mconverted_call(ag__\u001B[38;5;241m.\u001B[39mld(step_function), (ag__\u001B[38;5;241m.\u001B[39mld(\u001B[38;5;28mself\u001B[39m), ag__\u001B[38;5;241m.\u001B[39mld(iterator)), \u001B[38;5;28;01mNone\u001B[39;00m, fscope)\n\u001B[1;32m     16\u001B[0m \u001B[38;5;28;01mexcept\u001B[39;00m:\n\u001B[1;32m     17\u001B[0m     do_return \u001B[38;5;241m=\u001B[39m \u001B[38;5;28;01mFalse\u001B[39;00m\n",
      "\u001B[0;31mValueError\u001B[0m: in user code:\n\n    File \"/Users/arish/workspace/research/psi_predictor/venv/lib/python3.11/site-packages/keras/src/engine/training.py\", line 2341, in predict_function  *\n        return step_function(self, iterator)\n    File \"/Users/arish/workspace/research/psi_predictor/venv/lib/python3.11/site-packages/keras/src/engine/training.py\", line 2327, in step_function  **\n        outputs = model.distribute_strategy.run(run_step, args=(data,))\n    File \"/Users/arish/workspace/research/psi_predictor/venv/lib/python3.11/site-packages/keras/src/engine/training.py\", line 2315, in run_step  **\n        outputs = model.predict_step(data)\n    File \"/Users/arish/workspace/research/psi_predictor/venv/lib/python3.11/site-packages/keras/src/engine/training.py\", line 2283, in predict_step\n        return self(x, training=False)\n    File \"/Users/arish/workspace/research/psi_predictor/venv/lib/python3.11/site-packages/keras/src/utils/traceback_utils.py\", line 70, in error_handler\n        raise e.with_traceback(filtered_tb) from None\n    File \"/Users/arish/workspace/research/psi_predictor/venv/lib/python3.11/site-packages/keras/src/engine/input_spec.py\", line 280, in assert_input_compatibility\n        raise ValueError(\n\n    ValueError: Exception encountered when calling layer 'sequential_3' (type Sequential).\n    \n    Input 0 of layer \"dense_8\" is incompatible with the layer: expected axis -1 of input shape to have value 84, but received input with shape (None, 1)\n    \n    Call arguments received by layer 'sequential_3' (type Sequential):\n      • inputs=('tf.Tensor(shape=(None, 1), dtype=float32)',)\n      • training=False\n      • mask=None\n"
     ]
    }
   ],
   "source": [
    "model.predict([X_train.iloc[0]])"
   ],
   "metadata": {
    "collapsed": false,
    "ExecuteTime": {
     "start_time": "2023-05-16T16:05:14.217731Z",
     "end_time": "2023-05-16T16:05:14.266925Z"
    }
   }
  },
  {
   "cell_type": "code",
   "execution_count": 59,
   "outputs": [
    {
     "data": {
      "text/plain": "     binary_1  binary_2  binary_3  binary_4  binary_5  binary_6  binary_7   \n753       0.0       0.0       1.0       0.0       0.0       1.0       0.0  \\\n215       0.0       0.0       0.0       1.0       0.0       0.0       0.0   \n294       0.0       1.0       0.0       0.0       1.0       0.0       0.0   \n49        0.0       0.0       1.0       0.0       0.0       1.0       0.0   \n720       0.0       0.0       1.0       0.0       0.0       0.0       0.0   \n..        ...       ...       ...       ...       ...       ...       ...   \n106       0.0       0.0       1.0       0.0       0.0       0.0       1.0   \n270       0.0       0.0       1.0       0.0       0.0       0.0       1.0   \n860       0.0       0.0       1.0       0.0       0.0       0.0       1.0   \n435       0.0       1.0       0.0       0.0       0.0       1.0       0.0   \n102       0.0       0.0       0.0       1.0       0.0       1.0       0.0   \n\n     binary_8  binary_9  binary_10  ...  binary_75  binary_76  binary_77   \n753       0.0       0.0        0.0  ...        1.0        0.0        1.0  \\\n215       1.0       0.0        1.0  ...        0.0        0.0        0.0   \n294       0.0       0.0        0.0  ...        0.0        0.0        0.0   \n49        0.0       0.0        0.0  ...        0.0        0.0        1.0   \n720       1.0       0.0        0.0  ...        0.0        0.0        0.0   \n..        ...       ...        ...  ...        ...        ...        ...   \n106       0.0       0.0        0.0  ...        0.0        0.0        0.0   \n270       0.0       0.0        0.0  ...        0.0        0.0        1.0   \n860       0.0       0.0        0.0  ...        1.0        0.0        0.0   \n435       0.0       0.0        0.0  ...        1.0        0.0        0.0   \n102       0.0       1.0        0.0  ...        0.0        1.0        0.0   \n\n     binary_78  binary_79  binary_80  binary_81  binary_82  binary_83   \n753        0.0        0.0        0.0        0.0        0.0        1.0  \\\n215        1.0        0.0        0.0        1.0        0.0        0.0   \n294        0.0        1.0        0.0        0.0        0.0        0.0   \n49         0.0        0.0        0.0        1.0        0.0        0.0   \n720        1.0        0.0        0.0        1.0        0.0        0.0   \n..         ...        ...        ...        ...        ...        ...   \n106        0.0        1.0        0.0        1.0        0.0        0.0   \n270        0.0        0.0        0.0        0.0        0.0        0.0   \n860        0.0        1.0        0.0        0.0        0.0        1.0   \n435        0.0        0.0        1.0        1.0        0.0        0.0   \n102        0.0        0.0        1.0        0.0        0.0        0.0   \n\n     binary_84  \n753        0.0  \n215        0.0  \n294        1.0  \n49         0.0  \n720        0.0  \n..         ...  \n106        0.0  \n270        1.0  \n860        0.0  \n435        0.0  \n102        1.0  \n\n[792 rows x 84 columns]",
      "text/html": "<div>\n<style scoped>\n    .dataframe tbody tr th:only-of-type {\n        vertical-align: middle;\n    }\n\n    .dataframe tbody tr th {\n        vertical-align: top;\n    }\n\n    .dataframe thead th {\n        text-align: right;\n    }\n</style>\n<table border=\"1\" class=\"dataframe\">\n  <thead>\n    <tr style=\"text-align: right;\">\n      <th></th>\n      <th>binary_1</th>\n      <th>binary_2</th>\n      <th>binary_3</th>\n      <th>binary_4</th>\n      <th>binary_5</th>\n      <th>binary_6</th>\n      <th>binary_7</th>\n      <th>binary_8</th>\n      <th>binary_9</th>\n      <th>binary_10</th>\n      <th>...</th>\n      <th>binary_75</th>\n      <th>binary_76</th>\n      <th>binary_77</th>\n      <th>binary_78</th>\n      <th>binary_79</th>\n      <th>binary_80</th>\n      <th>binary_81</th>\n      <th>binary_82</th>\n      <th>binary_83</th>\n      <th>binary_84</th>\n    </tr>\n  </thead>\n  <tbody>\n    <tr>\n      <th>753</th>\n      <td>0.0</td>\n      <td>0.0</td>\n      <td>1.0</td>\n      <td>0.0</td>\n      <td>0.0</td>\n      <td>1.0</td>\n      <td>0.0</td>\n      <td>0.0</td>\n      <td>0.0</td>\n      <td>0.0</td>\n      <td>...</td>\n      <td>1.0</td>\n      <td>0.0</td>\n      <td>1.0</td>\n      <td>0.0</td>\n      <td>0.0</td>\n      <td>0.0</td>\n      <td>0.0</td>\n      <td>0.0</td>\n      <td>1.0</td>\n      <td>0.0</td>\n    </tr>\n    <tr>\n      <th>215</th>\n      <td>0.0</td>\n      <td>0.0</td>\n      <td>0.0</td>\n      <td>1.0</td>\n      <td>0.0</td>\n      <td>0.0</td>\n      <td>0.0</td>\n      <td>1.0</td>\n      <td>0.0</td>\n      <td>1.0</td>\n      <td>...</td>\n      <td>0.0</td>\n      <td>0.0</td>\n      <td>0.0</td>\n      <td>1.0</td>\n      <td>0.0</td>\n      <td>0.0</td>\n      <td>1.0</td>\n      <td>0.0</td>\n      <td>0.0</td>\n      <td>0.0</td>\n    </tr>\n    <tr>\n      <th>294</th>\n      <td>0.0</td>\n      <td>1.0</td>\n      <td>0.0</td>\n      <td>0.0</td>\n      <td>1.0</td>\n      <td>0.0</td>\n      <td>0.0</td>\n      <td>0.0</td>\n      <td>0.0</td>\n      <td>0.0</td>\n      <td>...</td>\n      <td>0.0</td>\n      <td>0.0</td>\n      <td>0.0</td>\n      <td>0.0</td>\n      <td>1.0</td>\n      <td>0.0</td>\n      <td>0.0</td>\n      <td>0.0</td>\n      <td>0.0</td>\n      <td>1.0</td>\n    </tr>\n    <tr>\n      <th>49</th>\n      <td>0.0</td>\n      <td>0.0</td>\n      <td>1.0</td>\n      <td>0.0</td>\n      <td>0.0</td>\n      <td>1.0</td>\n      <td>0.0</td>\n      <td>0.0</td>\n      <td>0.0</td>\n      <td>0.0</td>\n      <td>...</td>\n      <td>0.0</td>\n      <td>0.0</td>\n      <td>1.0</td>\n      <td>0.0</td>\n      <td>0.0</td>\n      <td>0.0</td>\n      <td>1.0</td>\n      <td>0.0</td>\n      <td>0.0</td>\n      <td>0.0</td>\n    </tr>\n    <tr>\n      <th>720</th>\n      <td>0.0</td>\n      <td>0.0</td>\n      <td>1.0</td>\n      <td>0.0</td>\n      <td>0.0</td>\n      <td>0.0</td>\n      <td>0.0</td>\n      <td>1.0</td>\n      <td>0.0</td>\n      <td>0.0</td>\n      <td>...</td>\n      <td>0.0</td>\n      <td>0.0</td>\n      <td>0.0</td>\n      <td>1.0</td>\n      <td>0.0</td>\n      <td>0.0</td>\n      <td>1.0</td>\n      <td>0.0</td>\n      <td>0.0</td>\n      <td>0.0</td>\n    </tr>\n    <tr>\n      <th>...</th>\n      <td>...</td>\n      <td>...</td>\n      <td>...</td>\n      <td>...</td>\n      <td>...</td>\n      <td>...</td>\n      <td>...</td>\n      <td>...</td>\n      <td>...</td>\n      <td>...</td>\n      <td>...</td>\n      <td>...</td>\n      <td>...</td>\n      <td>...</td>\n      <td>...</td>\n      <td>...</td>\n      <td>...</td>\n      <td>...</td>\n      <td>...</td>\n      <td>...</td>\n      <td>...</td>\n    </tr>\n    <tr>\n      <th>106</th>\n      <td>0.0</td>\n      <td>0.0</td>\n      <td>1.0</td>\n      <td>0.0</td>\n      <td>0.0</td>\n      <td>0.0</td>\n      <td>1.0</td>\n      <td>0.0</td>\n      <td>0.0</td>\n      <td>0.0</td>\n      <td>...</td>\n      <td>0.0</td>\n      <td>0.0</td>\n      <td>0.0</td>\n      <td>0.0</td>\n      <td>1.0</td>\n      <td>0.0</td>\n      <td>1.0</td>\n      <td>0.0</td>\n      <td>0.0</td>\n      <td>0.0</td>\n    </tr>\n    <tr>\n      <th>270</th>\n      <td>0.0</td>\n      <td>0.0</td>\n      <td>1.0</td>\n      <td>0.0</td>\n      <td>0.0</td>\n      <td>0.0</td>\n      <td>1.0</td>\n      <td>0.0</td>\n      <td>0.0</td>\n      <td>0.0</td>\n      <td>...</td>\n      <td>0.0</td>\n      <td>0.0</td>\n      <td>1.0</td>\n      <td>0.0</td>\n      <td>0.0</td>\n      <td>0.0</td>\n      <td>0.0</td>\n      <td>0.0</td>\n      <td>0.0</td>\n      <td>1.0</td>\n    </tr>\n    <tr>\n      <th>860</th>\n      <td>0.0</td>\n      <td>0.0</td>\n      <td>1.0</td>\n      <td>0.0</td>\n      <td>0.0</td>\n      <td>0.0</td>\n      <td>1.0</td>\n      <td>0.0</td>\n      <td>0.0</td>\n      <td>0.0</td>\n      <td>...</td>\n      <td>1.0</td>\n      <td>0.0</td>\n      <td>0.0</td>\n      <td>0.0</td>\n      <td>1.0</td>\n      <td>0.0</td>\n      <td>0.0</td>\n      <td>0.0</td>\n      <td>1.0</td>\n      <td>0.0</td>\n    </tr>\n    <tr>\n      <th>435</th>\n      <td>0.0</td>\n      <td>1.0</td>\n      <td>0.0</td>\n      <td>0.0</td>\n      <td>0.0</td>\n      <td>1.0</td>\n      <td>0.0</td>\n      <td>0.0</td>\n      <td>0.0</td>\n      <td>0.0</td>\n      <td>...</td>\n      <td>1.0</td>\n      <td>0.0</td>\n      <td>0.0</td>\n      <td>0.0</td>\n      <td>0.0</td>\n      <td>1.0</td>\n      <td>1.0</td>\n      <td>0.0</td>\n      <td>0.0</td>\n      <td>0.0</td>\n    </tr>\n    <tr>\n      <th>102</th>\n      <td>0.0</td>\n      <td>0.0</td>\n      <td>0.0</td>\n      <td>1.0</td>\n      <td>0.0</td>\n      <td>1.0</td>\n      <td>0.0</td>\n      <td>0.0</td>\n      <td>1.0</td>\n      <td>0.0</td>\n      <td>...</td>\n      <td>0.0</td>\n      <td>1.0</td>\n      <td>0.0</td>\n      <td>0.0</td>\n      <td>0.0</td>\n      <td>1.0</td>\n      <td>0.0</td>\n      <td>0.0</td>\n      <td>0.0</td>\n      <td>1.0</td>\n    </tr>\n  </tbody>\n</table>\n<p>792 rows × 84 columns</p>\n</div>"
     },
     "execution_count": 59,
     "metadata": {},
     "output_type": "execute_result"
    }
   ],
   "source": [
    "X_train"
   ],
   "metadata": {
    "collapsed": false,
    "ExecuteTime": {
     "start_time": "2023-05-16T16:05:31.263363Z",
     "end_time": "2023-05-16T16:05:31.272024Z"
    }
   }
  },
  {
   "cell_type": "code",
   "execution_count": null,
   "outputs": [],
   "source": [],
   "metadata": {
    "collapsed": false
   }
  }
 ],
 "metadata": {
  "kernelspec": {
   "display_name": "Python 3",
   "language": "python",
   "name": "python3"
  },
  "language_info": {
   "codemirror_mode": {
    "name": "ipython",
    "version": 2
   },
   "file_extension": ".py",
   "mimetype": "text/x-python",
   "name": "python",
   "nbconvert_exporter": "python",
   "pygments_lexer": "ipython2",
   "version": "2.7.6"
  }
 },
 "nbformat": 4,
 "nbformat_minor": 0
}
