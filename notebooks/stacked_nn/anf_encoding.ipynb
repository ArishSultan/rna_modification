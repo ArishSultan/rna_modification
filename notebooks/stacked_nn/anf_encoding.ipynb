{
 "cells": [
  {
   "cell_type": "code",
   "execution_count": 12,
   "metadata": {
    "collapsed": true,
    "jupyter": {
     "outputs_hidden": true
    },
    "pycharm": {
     "is_executing": true
    },
    "ExecuteTime": {
     "end_time": "2023-07-26T08:50:22.112302Z",
     "start_time": "2023-07-26T08:50:22.108832Z"
    }
   },
   "outputs": [],
   "source": [
    "from src.model import lr, random_forest\n",
    "from src.features import anf\n",
    "from src.experiment.reports.latex_report import *\n",
    "from src.experiment import Experiment\n",
    "from src.data import Species, load_psi\n",
    "\n",
    "from sklearn.model_selection import KFold\n",
    "from sklearn.linear_model import LogisticRegression"
   ]
  },
  {
   "cell_type": "code",
   "execution_count": 9,
   "metadata": {
    "collapsed": false,
    "jupyter": {
     "outputs_hidden": false
    },
    "ExecuteTime": {
     "end_time": "2023-07-26T08:49:18.199841Z",
     "start_time": "2023-07-26T08:49:18.192542Z"
    }
   },
   "outputs": [],
   "source": [
    "human_test = load_psi(Species.human, True)\n",
    "human_train = load_psi(Species.human, False)\n",
    "\n",
    "# mouse_train_dataset = load_psi(Species.mouse, False)\n",
    "# \n",
    "# yeast_test_dataset = load_psi(Species.yeast, True)\n",
    "# yeast_train_dataset = load_psi(Species.yeast, False)"
   ]
  },
  {
   "cell_type": "code",
   "execution_count": 6,
   "metadata": {
    "collapsed": false,
    "jupyter": {
     "outputs_hidden": false
    },
    "ExecuteTime": {
     "end_time": "2023-07-26T08:47:51.621070Z",
     "start_time": "2023-07-26T08:47:51.614013Z"
    }
   },
   "outputs": [],
   "source": [
    "encoder = anf.Encoder()"
   ]
  },
  {
   "cell_type": "code",
   "execution_count": 10,
   "metadata": {
    "collapsed": false,
    "jupyter": {
     "outputs_hidden": false
    },
    "ExecuteTime": {
     "end_time": "2023-07-26T08:49:39.519225Z",
     "start_time": "2023-07-26T08:49:39.418693Z"
    }
   },
   "outputs": [],
   "source": [
    "lr_report = Experiment(lr.Factory(), human_test, human_train, encoder).run()"
   ]
  },
  {
   "cell_type": "code",
   "execution_count": 14,
   "metadata": {
    "collapsed": false,
    "jupyter": {
     "outputs_hidden": false
    },
    "ExecuteTime": {
     "end_time": "2023-07-26T08:50:43.644164Z",
     "start_time": "2023-07-26T08:50:41.849760Z"
    }
   },
   "outputs": [
    {
     "name": "stdout",
     "output_type": "stream",
     "text": [
      "note: Running TeX ...\n",
      "note: Rerunning TeX because \"test.aux\" changed ...\n",
      "note: Running xdvipdfmx ...\n",
      "note: Writing `lr_anf_human/test.pdf` (27.12 KiB)\n",
      "note: Skipped writing 1 intermediate files (use --keep-intermediates to keep them)\n"
     ]
    }
   ],
   "source": [
    "generate_latex_report(lr_report['test'], 'test', Path('lr_anf_human'), True)"
   ]
  },
  {
   "cell_type": "code",
   "execution_count": 15,
   "outputs": [],
   "source": [
    "rf_report = Experiment(random_forest.Factory(), human_test, human_train, encoder).run()"
   ],
   "metadata": {
    "collapsed": false,
    "ExecuteTime": {
     "end_time": "2023-07-26T08:52:23.103453Z",
     "start_time": "2023-07-26T08:52:22.307250Z"
    }
   }
  },
  {
   "cell_type": "code",
   "execution_count": 17,
   "outputs": [
    {
     "name": "stdout",
     "output_type": "stream",
     "text": [
      "note: Running TeX ...\n",
      "note: Rerunning TeX because \"test.aux\" changed ...\n",
      "note: Running xdvipdfmx ...\n",
      "note: Writing `rf_anf_human/test.pdf` (26.09 KiB)\n",
      "note: Skipped writing 1 intermediate files (use --keep-intermediates to keep them)\n"
     ]
    }
   ],
   "source": [
    "generate_latex_report(rf_report['test'], 'test', Path('rf_anf_human'), True)"
   ],
   "metadata": {
    "collapsed": false,
    "ExecuteTime": {
     "end_time": "2023-07-26T08:52:40.829065Z",
     "start_time": "2023-07-26T08:52:39.211386Z"
    }
   }
  },
  {
   "cell_type": "code",
   "execution_count": null,
   "outputs": [],
   "source": [],
   "metadata": {
    "collapsed": false
   }
  }
 ],
 "metadata": {
  "kernelspec": {
   "display_name": "Python 3 (ipykernel)",
   "language": "python",
   "name": "python3"
  },
  "language_info": {
   "codemirror_mode": {
    "name": "ipython",
    "version": 3
   },
   "file_extension": ".py",
   "mimetype": "text/x-python",
   "name": "python",
   "nbconvert_exporter": "python",
   "pygments_lexer": "ipython3",
   "version": "3.11.2"
  }
 },
 "nbformat": 4,
 "nbformat_minor": 4
}
