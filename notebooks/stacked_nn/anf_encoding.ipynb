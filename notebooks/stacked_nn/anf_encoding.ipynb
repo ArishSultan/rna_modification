{
 "cells": [
  {
   "cell_type": "code",
   "execution_count": 18,
   "metadata": {
    "collapsed": true,
    "ExecuteTime": {
     "start_time": "2023-06-04T13:58:17.408418Z",
     "end_time": "2023-06-04T13:58:17.414342Z"
    }
   },
   "outputs": [],
   "source": [
    "from src.features import anf\n",
    "from src.data import Species, load_psi\n",
    "\n",
    "from sklearn.model_selection import KFold\n",
    "from sklearn.linear_model import LogisticRegression"
   ]
  },
  {
   "cell_type": "code",
   "execution_count": 19,
   "outputs": [],
   "source": [
    "human_test_dataset = load_psi(Species.human, True)\n",
    "human_train_dataset = load_psi(Species.human, False)\n",
    "\n",
    "mouse_train_dataset = load_psi(Species.mouse, False)\n",
    "\n",
    "yeast_test_dataset = load_psi(Species.yeast, True)\n",
    "yeast_train_dataset = load_psi(Species.yeast, False)"
   ],
   "metadata": {
    "collapsed": false,
    "ExecuteTime": {
     "start_time": "2023-06-04T13:58:17.818499Z",
     "end_time": "2023-06-04T13:58:17.830626Z"
    }
   }
  },
  {
   "cell_type": "code",
   "execution_count": 20,
   "outputs": [],
   "source": [
    "encoder = anf.Encoder()"
   ],
   "metadata": {
    "collapsed": false,
    "ExecuteTime": {
     "start_time": "2023-06-04T13:58:18.145971Z",
     "end_time": "2023-06-04T13:58:18.151094Z"
    }
   }
  },
  {
   "cell_type": "code",
   "execution_count": 21,
   "outputs": [],
   "source": [
    "def experiment(k, train_dataset, test_dataset, model_factory):\n",
    "    k_fold = KFold(n_splits=5, shuffle=True, random_state=42)\n",
    "\n",
    "    x = encoder.fit_transform(train_dataset.samples)\n",
    "    y = train_dataset.targets\n",
    "\n",
    "    # for train_index, test_index in k_fold.split(x):\n",
    "    #     x_train, x_test = x[train_index], x[test_index]\n",
    "    #     y_train, y_test = y[train_index], y[test_index]\n",
    "    #\n",
    "    #     model = model_factory()\n",
    "    #     model.fit(x_train, y_train)\n",
    "\n",
    "    test_x = encoder.fit_transform(test_dataset.samples)\n",
    "    test_y = test_dataset.targets\n",
    "\n",
    "    model = model_factory()\n",
    "    model.fit(x, y)\n",
    "    print(model.score(test_x, test_y))\n"
   ],
   "metadata": {
    "collapsed": false,
    "ExecuteTime": {
     "start_time": "2023-06-04T13:58:18.530350Z",
     "end_time": "2023-06-04T13:58:18.533444Z"
    }
   }
  },
  {
   "cell_type": "code",
   "execution_count": 22,
   "outputs": [
    {
     "name": "stdout",
     "output_type": "stream",
     "text": [
      "0.51\n"
     ]
    }
   ],
   "source": [
    "experiment(5, human_train_dataset, human_test_dataset, lambda: LogisticRegression())"
   ],
   "metadata": {
    "collapsed": false,
    "ExecuteTime": {
     "start_time": "2023-06-04T13:58:19.060298Z",
     "end_time": "2023-06-04T13:58:19.203824Z"
    }
   }
  },
  {
   "cell_type": "code",
   "execution_count": null,
   "outputs": [],
   "source": [],
   "metadata": {
    "collapsed": false
   }
  }
 ],
 "metadata": {
  "kernelspec": {
   "display_name": "Python 3",
   "language": "python",
   "name": "python3"
  },
  "language_info": {
   "codemirror_mode": {
    "name": "ipython",
    "version": 2
   },
   "file_extension": ".py",
   "mimetype": "text/x-python",
   "name": "python",
   "nbconvert_exporter": "python",
   "pygments_lexer": "ipython2",
   "version": "2.7.6"
  }
 },
 "nbformat": 4,
 "nbformat_minor": 0
}
