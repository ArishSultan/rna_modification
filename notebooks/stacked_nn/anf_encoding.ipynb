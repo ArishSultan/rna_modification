{
 "cells": [
  {
   "cell_type": "code",
   "execution_count": 2,
   "metadata": {
    "collapsed": true,
    "jupyter": {
     "outputs_hidden": true
    },
    "pycharm": {
     "is_executing": true
    },
    "ExecuteTime": {
     "end_time": "2023-06-05T07:46:35.419833Z",
     "start_time": "2023-06-05T07:46:35.054397Z"
    }
   },
   "outputs": [],
   "source": [
    "from src.features import pse_knc\n",
    "from src.data import Species, load_psi\n",
    "from src.experiment.report import Report\n",
    "from src.experiment.k_fold_report import KFoldReport\n",
    "\n",
    "from sklearn.model_selection import KFold\n",
    "from sklearn.linear_model import LogisticRegression\n",
    "from sklearn.ensemble import RandomForestClassifier"
   ]
  },
  {
   "cell_type": "code",
   "execution_count": 25,
   "metadata": {
    "ExecuteTime": {
     "end_time": "2023-06-04T23:56:26.916612Z",
     "start_time": "2023-06-04T23:56:26.906506Z"
    },
    "collapsed": false,
    "jupyter": {
     "outputs_hidden": false
    }
   },
   "outputs": [],
   "source": [
    "human_test_dataset = load_psi(Species.human, True)\n",
    "human_train_dataset = load_psi(Species.human, False)\n",
    "\n",
    "mouse_train_dataset = load_psi(Species.mouse, False)\n",
    "\n",
    "yeast_test_dataset = load_psi(Species.yeast, True)\n",
    "yeast_train_dataset = load_psi(Species.yeast, False)"
   ]
  },
  {
   "cell_type": "code",
   "execution_count": 26,
   "metadata": {
    "ExecuteTime": {
     "end_time": "2023-06-04T23:56:26.916660Z",
     "start_time": "2023-06-04T23:56:26.914682Z"
    },
    "collapsed": false,
    "jupyter": {
     "outputs_hidden": false
    }
   },
   "outputs": [],
   "source": [
    "encoder = pse_knc.Encoder()"
   ]
  },
  {
   "cell_type": "code",
   "execution_count": 21,
   "metadata": {
    "ExecuteTime": {
     "end_time": "2023-06-04T13:58:18.533444Z",
     "start_time": "2023-06-04T13:58:18.530350Z"
    },
    "collapsed": false,
    "jupyter": {
     "outputs_hidden": false
    }
   },
   "outputs": [],
   "source": [
    "def experiment(k, train_dataset, test_dataset, model_factory):\n",
    "    k_fold = KFold(n_splits=5, shuffle=True, random_state=42)\n",
    "\n",
    "    x = encoder.fit_transform(train_dataset.samples)\n",
    "    y = train_dataset.targets\n",
    "\n",
    "    reports = []\n",
    "    for train_index, test_index in k_fold.split(x):\n",
    "        x_train, x_test = x[train_index], x[test_index]\n",
    "        y_train, y_test = y[train_index], y[test_index]\n",
    "\n",
    "        _model = model_factory()\n",
    "        _model.fit(x_train, y_train)\n",
    "        \n",
    "        reports.append(Report.create_report(_model, (x_test, y_test)))\n",
    "    \n",
    "    k_fold_report = KFoldReport(reports)\n",
    "    test_x = encoder.fit_transform(test_dataset.samples)\n",
    "    test_y = test_dataset.targets\n",
    "\n",
    "    model = model_factory()\n",
    "    model.fit(x, y)\n",
    "    \n",
    "    report = Report.create_report(model, (test_x, test_y))"
   ]
  },
  {
   "cell_type": "code",
   "execution_count": 22,
   "metadata": {
    "ExecuteTime": {
     "end_time": "2023-06-04T13:58:19.203824Z",
     "start_time": "2023-06-04T13:58:19.060298Z"
    },
    "collapsed": false,
    "jupyter": {
     "outputs_hidden": false
    }
   },
   "outputs": [
    {
     "name": "stdout",
     "output_type": "stream",
     "text": [
      "0.51\n"
     ]
    }
   ],
   "source": [
    "experiment(5, human_train_dataset, human_test_dataset, lambda: LogisticRegression())"
   ]
  },
  {
   "cell_type": "code",
   "execution_count": 29,
   "metadata": {
    "ExecuteTime": {
     "end_time": "2023-06-04T23:56:28.317961Z",
     "start_time": "2023-06-04T23:56:28.315930Z"
    },
    "collapsed": false,
    "jupyter": {
     "outputs_hidden": false
    }
   },
   "outputs": [],
   "source": []
  },
  {
   "cell_type": "code",
   "execution_count": null,
   "metadata": {
    "collapsed": false,
    "jupyter": {
     "outputs_hidden": false
    }
   },
   "outputs": [],
   "source": []
  }
 ],
 "metadata": {
  "kernelspec": {
   "display_name": "Python 3 (ipykernel)",
   "language": "python",
   "name": "python3"
  },
  "language_info": {
   "codemirror_mode": {
    "name": "ipython",
    "version": 3
   },
   "file_extension": ".py",
   "mimetype": "text/x-python",
   "name": "python",
   "nbconvert_exporter": "python",
   "pygments_lexer": "ipython3",
   "version": "3.11.2"
  }
 },
 "nbformat": 4,
 "nbformat_minor": 4
}
