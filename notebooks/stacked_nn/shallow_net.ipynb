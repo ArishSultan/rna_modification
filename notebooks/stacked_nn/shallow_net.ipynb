{
 "cells": [
  {
   "cell_type": "code",
   "execution_count": 2,
   "metadata": {
    "collapsed": true,
    "jupyter": {
     "outputs_hidden": true
    },
    "pycharm": {
     "is_executing": true
    },
    "ExecuteTime": {
     "end_time": "2023-07-24T09:20:54.665534Z",
     "start_time": "2023-07-24T09:20:54.636085Z"
    }
   },
   "outputs": [],
   "source": [
    "from src.features import pse_knc\n",
    "from src.data import Species, load_psi\n"
   ]
  },
  {
   "cell_type": "code",
   "execution_count": 3,
   "metadata": {
    "collapsed": false,
    "jupyter": {
     "outputs_hidden": false
    },
    "ExecuteTime": {
     "end_time": "2023-07-24T09:20:56.137576Z",
     "start_time": "2023-07-24T09:20:56.115283Z"
    }
   },
   "outputs": [],
   "source": [
    "human_test_dataset = load_psi(Species.human, True)\n",
    "human_train_dataset = load_psi(Species.human, False)\n",
    "\n",
    "mouse_train_dataset = load_psi(Species.mouse, False)\n",
    "\n",
    "yeast_test_dataset = load_psi(Species.yeast, True)\n",
    "yeast_train_dataset = load_psi(Species.yeast, False)"
   ]
  },
  {
   "cell_type": "code",
   "execution_count": 4,
   "metadata": {
    "collapsed": false,
    "jupyter": {
     "outputs_hidden": false
    },
    "ExecuteTime": {
     "end_time": "2023-07-24T09:21:00.341617Z",
     "start_time": "2023-07-24T09:21:00.340047Z"
    }
   },
   "outputs": [],
   "source": [
    "encoder = pse_knc.Encoder()"
   ]
  },
  {
   "cell_type": "code",
   "execution_count": null,
   "metadata": {
    "collapsed": false,
    "jupyter": {
     "outputs_hidden": false
    }
   },
   "outputs": [],
   "source": []
  },
  {
   "cell_type": "code",
   "execution_count": null,
   "metadata": {
    "collapsed": false,
    "jupyter": {
     "outputs_hidden": false
    }
   },
   "outputs": [],
   "source": []
  },
  {
   "cell_type": "code",
   "execution_count": null,
   "metadata": {
    "collapsed": false,
    "jupyter": {
     "outputs_hidden": false
    }
   },
   "outputs": [],
   "source": []
  },
  {
   "cell_type": "code",
   "execution_count": null,
   "metadata": {
    "collapsed": false,
    "jupyter": {
     "outputs_hidden": false
    }
   },
   "outputs": [],
   "source": []
  }
 ],
 "metadata": {
  "kernelspec": {
   "display_name": "Python 3 (ipykernel)",
   "language": "python",
   "name": "python3"
  },
  "language_info": {
   "codemirror_mode": {
    "name": "ipython",
    "version": 3
   },
   "file_extension": ".py",
   "mimetype": "text/x-python",
   "name": "python",
   "nbconvert_exporter": "python",
   "pygments_lexer": "ipython3",
   "version": "3.11.2"
  }
 },
 "nbformat": 4,
 "nbformat_minor": 4
}
