{
 "cells": [
  {
   "cell_type": "code",
   "execution_count": 18,
   "metadata": {
    "collapsed": true,
    "ExecuteTime": {
     "start_time": "2023-05-14T21:55:52.428651Z",
     "end_time": "2023-05-14T21:55:52.432497Z"
    }
   },
   "outputs": [],
   "source": [
    "import numpy as np\n",
    "import pandas as pd\n",
    "import tensorflow as tf\n",
    "from pathlib import Path\n",
    "from sklearn.model_selection import train_test_split\n",
    "\n",
    "from src.features.encodings import pse_knc\n",
    "from src.features.encoder import FeatureEncoder\n",
    "from src.utils.random_samples import generate_unique_rna_samples"
   ]
  },
  {
   "cell_type": "markdown",
   "source": [
    "# This Section is to prepare Sample Dataset"
   ],
   "metadata": {
    "collapsed": false
   }
  },
  {
   "cell_type": "code",
   "execution_count": 19,
   "outputs": [],
   "source": [
    "BASE_PATH = Path('/Users/arish/workspace/research/psi_predictor')"
   ],
   "metadata": {
    "collapsed": false,
    "ExecuteTime": {
     "start_time": "2023-05-14T21:55:54.138882Z",
     "end_time": "2023-05-14T21:55:54.145498Z"
    }
   }
  },
  {
   "cell_type": "code",
   "execution_count": 24,
   "outputs": [],
   "source": [
    "def generate_data():\n",
    "    info = pse_knc.get_info('PseKNC')\n",
    "\n",
    "    samples = generate_unique_rna_samples(100000, 21)\n",
    "    encodings = FeatureEncoder.pse_knc(pd.Series(samples), info, 3, 2, 0.1) * 100\n",
    "\n",
    "    return pd.concat([pd.Series(samples, name='sequence'), encodings], axis=1)"
   ],
   "metadata": {
    "collapsed": false,
    "ExecuteTime": {
     "start_time": "2023-05-14T21:56:26.149920Z",
     "end_time": "2023-05-14T21:56:26.155249Z"
    }
   }
  },
  {
   "cell_type": "code",
   "execution_count": 26,
   "outputs": [
    {
     "name": "stdout",
     "output_type": "stream",
     "text": [
      "100000\n"
     ]
    }
   ],
   "source": [
    "generated_data = generate_data()\n",
    "print(len(generated_data))\n",
    "generated_data.to_csv('data.csv', index=False)"
   ],
   "metadata": {
    "collapsed": false,
    "ExecuteTime": {
     "start_time": "2023-05-14T21:57:39.313445Z",
     "end_time": "2023-05-14T21:57:51.659746Z"
    }
   }
  },
  {
   "cell_type": "markdown",
   "source": [
    "# This Section is to train data"
   ],
   "metadata": {
    "collapsed": false
   }
  },
  {
   "cell_type": "code",
   "execution_count": 27,
   "outputs": [],
   "source": [
    "data = pd.read_csv('data.csv')"
   ],
   "metadata": {
    "collapsed": false,
    "ExecuteTime": {
     "start_time": "2023-05-14T21:58:11.695831Z",
     "end_time": "2023-05-14T21:58:12.089292Z"
    }
   }
  },
  {
   "cell_type": "code",
   "execution_count": 28,
   "outputs": [],
   "source": [
    "NUCLEOTIDE_MAP = {'A': 1, 'C': 2, 'G': 3, 'U': 4}\n",
    "\n",
    "sequences = data['sequence']\n",
    "encoded_sequences = []\n",
    "for sequence in sequences:\n",
    "    numerical_sequence = [NUCLEOTIDE_MAP[char.upper()] for char in sequence]\n",
    "    encoded_sequences.append(numerical_sequence)"
   ],
   "metadata": {
    "collapsed": false,
    "ExecuteTime": {
     "start_time": "2023-05-14T21:58:13.266591Z",
     "end_time": "2023-05-14T21:58:13.452638Z"
    }
   }
  },
  {
   "cell_type": "code",
   "execution_count": 29,
   "outputs": [],
   "source": [
    "input_data = tf.constant(encoded_sequences, dtype=tf.float32)\n",
    "output_data = tf.constant(data.drop('sequence', axis=1), dtype=tf.float32)"
   ],
   "metadata": {
    "collapsed": false,
    "ExecuteTime": {
     "start_time": "2023-05-14T21:58:14.542479Z",
     "end_time": "2023-05-14T21:58:14.560721Z"
    }
   }
  },
  {
   "cell_type": "code",
   "execution_count": 30,
   "outputs": [],
   "source": [
    "indices = np.arange(len(input_data))\n",
    "np.random.shuffle(indices)\n",
    "\n",
    "train_size = int(0.8 * len(input_data))\n",
    "\n",
    "train_indices = indices[:train_size]\n",
    "test_indices = indices[train_size:]\n",
    "\n",
    "input_train, input_test = tf.gather(input_data, train_indices), tf.gather(input_data, test_indices)\n",
    "output_train, output_test = tf.gather(output_data, train_indices), tf.gather(output_data, test_indices)"
   ],
   "metadata": {
    "collapsed": false,
    "ExecuteTime": {
     "start_time": "2023-05-14T21:58:15.137835Z",
     "end_time": "2023-05-14T21:58:15.152993Z"
    }
   }
  },
  {
   "cell_type": "code",
   "execution_count": 45,
   "outputs": [],
   "source": [
    "model = tf.keras.models.Sequential([\n",
    "    tf.keras.layers.Embedding(input_dim=5, output_dim=32, input_length=21),\n",
    "    tf.keras.layers.Flatten(),\n",
    "    tf.keras.layers.Dense(64, activation='relu'),\n",
    "    tf.keras.layers.Dense(64, activation='relu'),\n",
    "    tf.keras.layers.Dense(64, activation='relu'),\n",
    "    tf.keras.layers.Dense(64, activation='relu'),\n",
    "    tf.keras.layers.Dense(output_data.shape[1], activation='linear')\n",
    "])"
   ],
   "metadata": {
    "collapsed": false,
    "ExecuteTime": {
     "start_time": "2023-05-14T22:01:47.553759Z",
     "end_time": "2023-05-14T22:01:47.576223Z"
    }
   }
  },
  {
   "cell_type": "code",
   "execution_count": 46,
   "outputs": [],
   "source": [
    "model.compile(\n",
    "    loss=tf.keras.losses.MeanSquaredError(),\n",
    "    optimizer=tf.keras.optimizers.legacy.Adam(),\n",
    "    metrics=['accuracy']\n",
    ")"
   ],
   "metadata": {
    "collapsed": false,
    "ExecuteTime": {
     "start_time": "2023-05-14T22:01:47.822724Z",
     "end_time": "2023-05-14T22:01:47.826004Z"
    }
   }
  },
  {
   "cell_type": "code",
   "execution_count": 49,
   "outputs": [
    {
     "name": "stdout",
     "output_type": "stream",
     "text": [
      "Epoch 1/10\n",
      "2500/2500 [==============================] - 3s 1ms/step - loss: 2.2769 - accuracy: 0.8445 - val_loss: 2.2892 - val_accuracy: 0.8479\n",
      "Epoch 2/10\n",
      "2500/2500 [==============================] - 3s 1ms/step - loss: 2.2637 - accuracy: 0.8464 - val_loss: 2.2529 - val_accuracy: 0.8472\n",
      "Epoch 3/10\n",
      "2500/2500 [==============================] - 3s 1ms/step - loss: 2.2456 - accuracy: 0.8467 - val_loss: 2.2387 - val_accuracy: 0.8451\n",
      "Epoch 4/10\n",
      "2500/2500 [==============================] - 3s 1ms/step - loss: 2.2322 - accuracy: 0.8459 - val_loss: 2.2308 - val_accuracy: 0.8486\n",
      "Epoch 5/10\n",
      "2500/2500 [==============================] - 3s 1ms/step - loss: 2.2246 - accuracy: 0.8463 - val_loss: 2.2372 - val_accuracy: 0.8342\n",
      "Epoch 6/10\n",
      "2500/2500 [==============================] - 3s 1ms/step - loss: 2.2143 - accuracy: 0.8456 - val_loss: 2.2125 - val_accuracy: 0.8471\n",
      "Epoch 7/10\n",
      "2500/2500 [==============================] - 3s 1ms/step - loss: 2.2066 - accuracy: 0.8461 - val_loss: 2.2006 - val_accuracy: 0.8468\n",
      "Epoch 8/10\n",
      "2500/2500 [==============================] - 3s 1ms/step - loss: 2.1989 - accuracy: 0.8463 - val_loss: 2.1962 - val_accuracy: 0.8464\n",
      "Epoch 9/10\n",
      "2500/2500 [==============================] - 3s 1ms/step - loss: 2.1904 - accuracy: 0.8463 - val_loss: 2.1835 - val_accuracy: 0.8494\n",
      "Epoch 10/10\n",
      "2500/2500 [==============================] - 3s 1ms/step - loss: 2.1819 - accuracy: 0.8470 - val_loss: 2.1710 - val_accuracy: 0.8472\n"
     ]
    },
    {
     "data": {
      "text/plain": "<keras.src.callbacks.History at 0x297d02410>"
     },
     "execution_count": 49,
     "metadata": {},
     "output_type": "execute_result"
    }
   ],
   "source": [
    "model.fit(input_train, output_train, epochs=10, batch_size=32, validation_data=(input_test, output_test))"
   ],
   "metadata": {
    "collapsed": false,
    "ExecuteTime": {
     "start_time": "2023-05-14T22:02:58.868887Z",
     "end_time": "2023-05-14T22:03:25.942184Z"
    }
   }
  },
  {
   "cell_type": "code",
   "execution_count": 50,
   "outputs": [
    {
     "name": "stdout",
     "output_type": "stream",
     "text": [
      "625/625 [==============================] - 0s 424us/step - loss: 2.1710 - accuracy: 0.8472\n",
      "Evaluation Loss: 2.1710333824157715\n",
      "Evaluation Accuracy: 0.8471500277519226\n"
     ]
    }
   ],
   "source": [
    "evaluation = model.evaluate(input_test, output_test)\n",
    "print(f\"Evaluation Loss: {evaluation[0]}\")\n",
    "print(f\"Evaluation Accuracy: {evaluation[1]}\")"
   ],
   "metadata": {
    "collapsed": false,
    "ExecuteTime": {
     "start_time": "2023-05-14T22:03:34.599950Z",
     "end_time": "2023-05-14T22:03:34.897543Z"
    }
   }
  },
  {
   "cell_type": "code",
   "execution_count": null,
   "outputs": [],
   "source": [],
   "metadata": {
    "collapsed": false
   }
  }
 ],
 "metadata": {
  "kernelspec": {
   "display_name": "Python 3",
   "language": "python",
   "name": "python3"
  },
  "language_info": {
   "codemirror_mode": {
    "name": "ipython",
    "version": 2
   },
   "file_extension": ".py",
   "mimetype": "text/x-python",
   "name": "python",
   "nbconvert_exporter": "python",
   "pygments_lexer": "ipython2",
   "version": "2.7.6"
  }
 },
 "nbformat": 4,
 "nbformat_minor": 0
}
