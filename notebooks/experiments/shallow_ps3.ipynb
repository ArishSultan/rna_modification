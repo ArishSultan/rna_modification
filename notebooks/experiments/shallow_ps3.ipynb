{
 "cells": [
  {
   "cell_type": "code",
   "execution_count": 1,
   "outputs": [],
   "source": [
    "import random\n",
    "import numpy as np\n",
    "import tensorflow as tf\n",
    "\n",
    "random.seed(0)\n",
    "np.random.seed(0)\n",
    "tf.random.set_seed(0)"
   ],
   "metadata": {
    "collapsed": false,
    "ExecuteTime": {
     "start_time": "2023-05-23T23:08:20.810254Z",
     "end_time": "2023-05-23T23:08:26.543017Z"
    }
   }
  },
  {
   "cell_type": "code",
   "execution_count": 2,
   "metadata": {
    "collapsed": true,
    "ExecuteTime": {
     "start_time": "2023-05-23T23:08:26.544863Z",
     "end_time": "2023-05-23T23:08:29.731254Z"
    }
   },
   "outputs": [],
   "source": [
    "from pathlib import Path\n",
    "from keras import Sequential\n",
    "from keras.layers import *\n",
    "from keras.losses import BinaryCrossentropy\n",
    "from keras.callbacks import EarlyStopping\n",
    "from sklearn.naive_bayes import GaussianNB\n",
    "\n",
    "from src.features.encoder import FeatureEncoder\n",
    "from src.data.data_loader import load_dataset, Species\n",
    "from src.models.reporting.model_report import ModelReport\n",
    "from src.models.reporting.single_report import generate_report"
   ]
  },
  {
   "cell_type": "code",
   "execution_count": 5,
   "outputs": [],
   "source": [
    "early_stopping = EarlyStopping(monitor='val_loss', patience=5, mode='min')"
   ],
   "metadata": {
    "collapsed": false,
    "ExecuteTime": {
     "start_time": "2023-05-23T23:11:12.595131Z",
     "end_time": "2023-05-23T23:11:12.603387Z"
    }
   }
  },
  {
   "cell_type": "markdown",
   "source": [
    "### Human Training & Testing"
   ],
   "metadata": {
    "collapsed": false
   }
  },
  {
   "cell_type": "code",
   "execution_count": 3,
   "outputs": [],
   "source": [
    "human_x_test, human_y_test = load_dataset(Species.human, independent=True,\n",
    "                                          encoding=lambda x: FeatureEncoder.ps(x, 3))\n",
    "human_x_train, human_y_train = load_dataset(Species.human, independent=False,\n",
    "                                            encoding=lambda x: FeatureEncoder.ps(x, 3))"
   ],
   "metadata": {
    "collapsed": false,
    "ExecuteTime": {
     "start_time": "2023-05-23T23:08:40.164341Z",
     "end_time": "2023-05-23T23:08:40.371991Z"
    }
   }
  },
  {
   "cell_type": "code",
   "execution_count": 11,
   "outputs": [
    {
     "name": "stdout",
     "output_type": "stream",
     "text": [
      "Epoch 1/40\n",
      "31/31 [==============================] - 0s 6ms/step - loss: 0.7215 - accuracy: 0.4879 - val_loss: 0.6851 - val_accuracy: 0.5100\n",
      "Epoch 2/40\n",
      "31/31 [==============================] - 0s 5ms/step - loss: 0.6701 - accuracy: 0.5929 - val_loss: 0.6570 - val_accuracy: 0.6550\n",
      "Epoch 3/40\n",
      "31/31 [==============================] - 0s 4ms/step - loss: 0.5985 - accuracy: 0.6717 - val_loss: 0.6201 - val_accuracy: 0.6800\n",
      "Epoch 4/40\n",
      "31/31 [==============================] - 0s 5ms/step - loss: 0.5133 - accuracy: 0.7515 - val_loss: 0.6145 - val_accuracy: 0.6950\n",
      "Epoch 5/40\n",
      "31/31 [==============================] - 0s 4ms/step - loss: 0.4046 - accuracy: 0.8273 - val_loss: 0.6565 - val_accuracy: 0.6500\n",
      "Epoch 6/40\n",
      "31/31 [==============================] - 0s 4ms/step - loss: 0.3256 - accuracy: 0.8556 - val_loss: 0.6995 - val_accuracy: 0.6750\n",
      "Epoch 7/40\n",
      "31/31 [==============================] - 0s 4ms/step - loss: 0.2571 - accuracy: 0.9020 - val_loss: 0.7821 - val_accuracy: 0.6300\n",
      "Epoch 8/40\n",
      "31/31 [==============================] - 0s 4ms/step - loss: 0.1957 - accuracy: 0.9394 - val_loss: 0.8954 - val_accuracy: 0.6300\n",
      "Epoch 9/40\n",
      "31/31 [==============================] - 0s 5ms/step - loss: 0.1533 - accuracy: 0.9374 - val_loss: 0.9762 - val_accuracy: 0.6400\n"
     ]
    },
    {
     "data": {
      "text/plain": "<keras.src.callbacks.History at 0x298bf32d0>"
     },
     "execution_count": 11,
     "metadata": {},
     "output_type": "execute_result"
    }
   ],
   "source": [
    "human_model = Sequential([\n",
    "    Dense(1216, input_dim=1216, activation='relu'),\n",
    "    Dropout(0.8),\n",
    "    Dense(500, activation='relu'),\n",
    "    Dropout(0.8),\n",
    "    Dense(1, activation='sigmoid'),\n",
    "])\n",
    "\n",
    "human_model.compile(\n",
    "    loss=BinaryCrossentropy(from_logits=False),\n",
    "    optimizer='adam',\n",
    "    metrics=['accuracy'],\n",
    ")\n",
    "\n",
    "human_model.fit(human_x_train, human_y_train, epochs=40, callbacks=[early_stopping],\n",
    "                validation_data=(human_x_test, human_y_test))"
   ],
   "metadata": {
    "collapsed": false,
    "ExecuteTime": {
     "start_time": "2023-05-23T23:13:51.446438Z",
     "end_time": "2023-05-23T23:13:52.987813Z"
    }
   }
  },
  {
   "cell_type": "code",
   "execution_count": 7,
   "outputs": [
    {
     "name": "stdout",
     "output_type": "stream",
     "text": [
      "Epoch 1/40\n",
      "31/31 [==============================] - 1s 8ms/step - loss: 0.7013 - accuracy: 0.5333 - val_loss: 0.6699 - val_accuracy: 0.6500\n",
      "Epoch 2/40\n",
      "31/31 [==============================] - 0s 3ms/step - loss: 0.6376 - accuracy: 0.6212 - val_loss: 0.6435 - val_accuracy: 0.6850\n",
      "Epoch 3/40\n",
      "31/31 [==============================] - 0s 4ms/step - loss: 0.5785 - accuracy: 0.6626 - val_loss: 0.6241 - val_accuracy: 0.6500\n",
      "Epoch 4/40\n",
      "31/31 [==============================] - 0s 4ms/step - loss: 0.5023 - accuracy: 0.7313 - val_loss: 0.6099 - val_accuracy: 0.6800\n",
      "Epoch 5/40\n",
      "31/31 [==============================] - 0s 4ms/step - loss: 0.3907 - accuracy: 0.8242 - val_loss: 0.6436 - val_accuracy: 0.6550\n",
      "Epoch 6/40\n",
      "31/31 [==============================] - 0s 4ms/step - loss: 0.2855 - accuracy: 0.8808 - val_loss: 0.7353 - val_accuracy: 0.6400\n",
      "Epoch 7/40\n",
      "31/31 [==============================] - 0s 4ms/step - loss: 0.1930 - accuracy: 0.9384 - val_loss: 0.8466 - val_accuracy: 0.6600\n",
      "Epoch 8/40\n",
      "31/31 [==============================] - 0s 4ms/step - loss: 0.1240 - accuracy: 0.9667 - val_loss: 1.0058 - val_accuracy: 0.6600\n",
      "Epoch 9/40\n",
      "31/31 [==============================] - 0s 4ms/step - loss: 0.1047 - accuracy: 0.9646 - val_loss: 1.1200 - val_accuracy: 0.6500\n"
     ]
    },
    {
     "data": {
      "text/plain": "<keras.src.callbacks.History at 0x294bc51d0>"
     },
     "execution_count": 7,
     "metadata": {},
     "output_type": "execute_result"
    }
   ],
   "source": [],
   "metadata": {
    "collapsed": false,
    "ExecuteTime": {
     "start_time": "2023-05-23T23:11:33.684837Z",
     "end_time": "2023-05-23T23:11:35.269042Z"
    }
   }
  },
  {
   "cell_type": "markdown",
   "source": [
    "### Yeast Training & Testing"
   ],
   "metadata": {
    "collapsed": false
   }
  },
  {
   "cell_type": "code",
   "execution_count": 102,
   "outputs": [],
   "source": [
    "yeast_x_test, yeast_y_test = load_dataset(Species.yeast, independent=True,\n",
    "                                          encoding=lambda x: FeatureEncoder.pse_knc(x, info, 3, 2, 0.1))\n",
    "yeast_x_train, yeast_y_train = load_dataset(Species.yeast, independent=False,\n",
    "                                            encoding=lambda x: FeatureEncoder.pse_knc(x, info, 3, 2, 0.1))"
   ],
   "metadata": {
    "collapsed": false,
    "ExecuteTime": {
     "start_time": "2023-05-22T15:33:54.586942Z",
     "end_time": "2023-05-22T15:33:54.699270Z"
    }
   }
  },
  {
   "cell_type": "code",
   "execution_count": 105,
   "outputs": [],
   "source": [
    "yeast_model = Sequential([\n",
    "    Dense(66, input_dim=66, activation='relu'),\n",
    "    Dropout(0.2),\n",
    "    Dense(32, activation='relu'),\n",
    "    Dropout(0.8),\n",
    "    Dense(1, activation='sigmoid'),\n",
    "])\n",
    "\n",
    "early_stopping = EarlyStopping(monitor='val_loss', patience=5, mode='min')\n",
    "\n",
    "yeast_model.compile(loss=BinaryCrossentropy(from_logits=False), optimizer='adam', metrics=['accuracy'])"
   ],
   "metadata": {
    "collapsed": false,
    "ExecuteTime": {
     "start_time": "2023-05-22T15:34:03.665130Z",
     "end_time": "2023-05-22T15:34:03.686287Z"
    }
   }
  },
  {
   "cell_type": "code",
   "execution_count": 106,
   "outputs": [
    {
     "name": "stdout",
     "output_type": "stream",
     "text": [
      "Epoch 1/40\n",
      "20/20 [==============================] - 0s 4ms/step - loss: 0.6965 - accuracy: 0.4920 - val_loss: 0.6933 - val_accuracy: 0.5050\n",
      "Epoch 2/40\n",
      "20/20 [==============================] - 0s 1ms/step - loss: 0.6934 - accuracy: 0.4968 - val_loss: 0.6931 - val_accuracy: 0.4900\n",
      "Epoch 3/40\n",
      "20/20 [==============================] - 0s 1ms/step - loss: 0.6926 - accuracy: 0.5223 - val_loss: 0.6928 - val_accuracy: 0.5100\n",
      "Epoch 4/40\n",
      "20/20 [==============================] - 0s 1ms/step - loss: 0.6924 - accuracy: 0.5318 - val_loss: 0.6922 - val_accuracy: 0.5300\n",
      "Epoch 5/40\n",
      "20/20 [==============================] - 0s 1ms/step - loss: 0.6905 - accuracy: 0.5446 - val_loss: 0.6916 - val_accuracy: 0.5450\n",
      "Epoch 6/40\n",
      "20/20 [==============================] - 0s 1ms/step - loss: 0.6935 - accuracy: 0.4968 - val_loss: 0.6917 - val_accuracy: 0.6150\n",
      "Epoch 7/40\n",
      "20/20 [==============================] - 0s 1ms/step - loss: 0.6872 - accuracy: 0.5669 - val_loss: 0.6916 - val_accuracy: 0.5900\n",
      "Epoch 8/40\n",
      "20/20 [==============================] - 0s 1ms/step - loss: 0.6918 - accuracy: 0.5366 - val_loss: 0.6916 - val_accuracy: 0.5400\n",
      "Epoch 9/40\n",
      "20/20 [==============================] - 0s 1ms/step - loss: 0.6910 - accuracy: 0.5366 - val_loss: 0.6899 - val_accuracy: 0.5800\n",
      "Epoch 10/40\n",
      "20/20 [==============================] - 0s 1ms/step - loss: 0.6915 - accuracy: 0.5207 - val_loss: 0.6893 - val_accuracy: 0.5500\n",
      "Epoch 11/40\n",
      "20/20 [==============================] - 0s 1ms/step - loss: 0.6853 - accuracy: 0.5605 - val_loss: 0.6882 - val_accuracy: 0.5800\n",
      "Epoch 12/40\n",
      "20/20 [==============================] - 0s 1ms/step - loss: 0.6845 - accuracy: 0.5525 - val_loss: 0.6874 - val_accuracy: 0.5700\n",
      "Epoch 13/40\n",
      "20/20 [==============================] - 0s 1ms/step - loss: 0.6817 - accuracy: 0.5812 - val_loss: 0.6867 - val_accuracy: 0.5750\n",
      "Epoch 14/40\n",
      "20/20 [==============================] - 0s 1ms/step - loss: 0.6824 - accuracy: 0.5478 - val_loss: 0.6853 - val_accuracy: 0.5700\n",
      "Epoch 15/40\n",
      "20/20 [==============================] - 0s 1ms/step - loss: 0.6829 - accuracy: 0.5685 - val_loss: 0.6829 - val_accuracy: 0.5750\n",
      "Epoch 16/40\n",
      "20/20 [==============================] - 0s 1ms/step - loss: 0.6752 - accuracy: 0.6099 - val_loss: 0.6813 - val_accuracy: 0.5650\n",
      "Epoch 17/40\n",
      "20/20 [==============================] - 0s 1ms/step - loss: 0.6765 - accuracy: 0.5939 - val_loss: 0.6805 - val_accuracy: 0.5550\n",
      "Epoch 18/40\n",
      "20/20 [==============================] - 0s 1ms/step - loss: 0.6686 - accuracy: 0.6051 - val_loss: 0.6784 - val_accuracy: 0.5600\n",
      "Epoch 19/40\n",
      "20/20 [==============================] - 0s 1ms/step - loss: 0.6666 - accuracy: 0.6083 - val_loss: 0.6761 - val_accuracy: 0.5650\n",
      "Epoch 20/40\n",
      "20/20 [==============================] - 0s 1ms/step - loss: 0.6641 - accuracy: 0.6178 - val_loss: 0.6745 - val_accuracy: 0.5550\n",
      "Epoch 21/40\n",
      "20/20 [==============================] - 0s 1ms/step - loss: 0.6714 - accuracy: 0.5860 - val_loss: 0.6741 - val_accuracy: 0.5800\n",
      "Epoch 22/40\n",
      "20/20 [==============================] - 0s 1ms/step - loss: 0.6590 - accuracy: 0.6178 - val_loss: 0.6706 - val_accuracy: 0.5700\n",
      "Epoch 23/40\n",
      "20/20 [==============================] - 0s 1ms/step - loss: 0.6560 - accuracy: 0.6513 - val_loss: 0.6688 - val_accuracy: 0.5600\n",
      "Epoch 24/40\n",
      "20/20 [==============================] - 0s 1ms/step - loss: 0.6594 - accuracy: 0.6131 - val_loss: 0.6687 - val_accuracy: 0.5650\n",
      "Epoch 25/40\n",
      "20/20 [==============================] - 0s 1ms/step - loss: 0.6478 - accuracy: 0.6226 - val_loss: 0.6699 - val_accuracy: 0.5450\n",
      "Epoch 26/40\n",
      "20/20 [==============================] - 0s 1ms/step - loss: 0.6515 - accuracy: 0.6354 - val_loss: 0.6669 - val_accuracy: 0.5450\n",
      "Epoch 27/40\n",
      "20/20 [==============================] - 0s 1ms/step - loss: 0.6546 - accuracy: 0.6019 - val_loss: 0.6664 - val_accuracy: 0.5550\n",
      "Epoch 28/40\n",
      "20/20 [==============================] - 0s 1ms/step - loss: 0.6453 - accuracy: 0.6385 - val_loss: 0.6699 - val_accuracy: 0.5800\n",
      "Epoch 29/40\n",
      "20/20 [==============================] - 0s 1ms/step - loss: 0.6378 - accuracy: 0.6481 - val_loss: 0.6681 - val_accuracy: 0.5550\n",
      "Epoch 30/40\n",
      "20/20 [==============================] - 0s 1ms/step - loss: 0.6495 - accuracy: 0.6338 - val_loss: 0.6681 - val_accuracy: 0.5750\n",
      "Epoch 31/40\n",
      "20/20 [==============================] - 0s 1ms/step - loss: 0.6341 - accuracy: 0.6513 - val_loss: 0.6683 - val_accuracy: 0.5700\n",
      "Epoch 32/40\n",
      "20/20 [==============================] - 0s 1ms/step - loss: 0.6421 - accuracy: 0.6561 - val_loss: 0.6713 - val_accuracy: 0.5400\n"
     ]
    },
    {
     "data": {
      "text/plain": "<keras.src.callbacks.History at 0x2aa19fcd0>"
     },
     "execution_count": 106,
     "metadata": {},
     "output_type": "execute_result"
    }
   ],
   "source": [
    "yeast_model.fit(yeast_x_train, yeast_y_train, epochs=40, callbacks=[early_stopping],\n",
    "                validation_data=(yeast_x_test, yeast_y_test))"
   ],
   "metadata": {
    "collapsed": false,
    "ExecuteTime": {
     "start_time": "2023-05-22T15:34:03.980271Z",
     "end_time": "2023-05-22T15:34:05.025405Z"
    }
   }
  },
  {
   "cell_type": "code",
   "execution_count": 107,
   "outputs": [
    {
     "name": "stdout",
     "output_type": "stream",
     "text": [
      "7/7 [==============================] - 0s 554us/step\n",
      "7/7 [==============================] - 0s 470us/step\n",
      "7/7 [==============================] - 0s 532us/step\n",
      "7/7 [==============================] - 0s 451us/step\n"
     ]
    }
   ],
   "source": [
    "human_model_report = ModelReport.generate(human_model, human_x_test, human_y_test, is_keras=True)\n",
    "yeast_model_report = ModelReport.generate(yeast_model, yeast_x_test, yeast_y_test, is_keras=True)"
   ],
   "metadata": {
    "collapsed": false,
    "ExecuteTime": {
     "start_time": "2023-05-22T15:34:10.611964Z",
     "end_time": "2023-05-22T15:34:10.779015Z"
    }
   }
  },
  {
   "cell_type": "code",
   "execution_count": 108,
   "outputs": [
    {
     "name": "stdout",
     "output_type": "stream",
     "text": [
      "note: Running TeX ...\n",
      "note: Rerunning TeX because \"report.aux\" changed ...\n",
      "note: Running xdvipdfmx ...\n",
      "note: Writing `nn/pseknc/report.pdf` (35.46 KiB)\n",
      "note: Skipped writing 1 intermediate files (use --keep-intermediates to keep them)\n"
     ]
    },
    {
     "data": {
      "text/plain": "<Figure size 640x480 with 0 Axes>"
     },
     "metadata": {},
     "output_type": "display_data"
    },
    {
     "data": {
      "text/plain": "<Figure size 640x480 with 0 Axes>"
     },
     "metadata": {},
     "output_type": "display_data"
    },
    {
     "data": {
      "text/plain": "<Figure size 640x480 with 0 Axes>"
     },
     "metadata": {},
     "output_type": "display_data"
    },
    {
     "data": {
      "text/plain": "<Figure size 640x480 with 0 Axes>"
     },
     "metadata": {},
     "output_type": "display_data"
    },
    {
     "data": {
      "text/plain": "<Figure size 640x480 with 0 Axes>"
     },
     "metadata": {},
     "output_type": "display_data"
    },
    {
     "data": {
      "text/plain": "<Figure size 640x480 with 0 Axes>"
     },
     "metadata": {},
     "output_type": "display_data"
    },
    {
     "data": {
      "text/plain": "<Figure size 640x480 with 0 Axes>"
     },
     "metadata": {},
     "output_type": "display_data"
    },
    {
     "data": {
      "text/plain": "<Figure size 640x480 with 0 Axes>"
     },
     "metadata": {},
     "output_type": "display_data"
    },
    {
     "data": {
      "text/plain": "<Figure size 640x480 with 0 Axes>"
     },
     "metadata": {},
     "output_type": "display_data"
    },
    {
     "data": {
      "text/plain": "<Figure size 640x480 with 0 Axes>"
     },
     "metadata": {},
     "output_type": "display_data"
    },
    {
     "data": {
      "text/plain": "<Figure size 640x480 with 0 Axes>"
     },
     "metadata": {},
     "output_type": "display_data"
    },
    {
     "data": {
      "text/plain": "<Figure size 640x480 with 0 Axes>"
     },
     "metadata": {},
     "output_type": "display_data"
    }
   ],
   "source": [
    "generate_report({Species.human.value: human_model_report, Species.yeast.value: yeast_model_report}, Path('nn/pseknc'))"
   ],
   "metadata": {
    "collapsed": false,
    "ExecuteTime": {
     "start_time": "2023-05-22T15:34:11.756413Z",
     "end_time": "2023-05-22T15:34:15.303651Z"
    }
   }
  },
  {
   "cell_type": "code",
   "execution_count": 109,
   "outputs": [],
   "source": [
    "def select_features(features):\n",
    "    selection = [4, 21, 20, 0, 5, 65, 64, 1, 17, 16, 60, 15, 25, 54, 3, 11, 46,\n",
    "                 41, 40, 39, 7, 2, 42, 36, 31, 12, 24, 35, 18, 62, 61, 53, 8, 50,\n",
    "                 56, 43, 19, 28, 9, 59, 37, 38, 33, 48, 44, 45, 63, 10, 22, 27,\n",
    "                 49, 57, 55, 14, 51, 47, 52, 26, 23, 29, 30, 13, 6, 58]\n",
    "    imp_features = list(map(lambda x: f'pse_knc_{x + 1}', selection))\n",
    "    return features[imp_features]"
   ],
   "metadata": {
    "collapsed": false,
    "ExecuteTime": {
     "start_time": "2023-05-22T15:34:20.612323Z",
     "end_time": "2023-05-22T15:34:20.617924Z"
    }
   }
  },
  {
   "cell_type": "code",
   "execution_count": 110,
   "outputs": [
    {
     "data": {
      "text/plain": "0.585"
     },
     "execution_count": 110,
     "metadata": {},
     "output_type": "execute_result"
    }
   ],
   "source": [
    "human_classifier = GaussianNB()\n",
    "\n",
    "human_classifier.fit(select_features(human_x_train), human_y_train)\n",
    "human_classifier.score(select_features(human_x_test), human_y_test)"
   ],
   "metadata": {
    "collapsed": false,
    "ExecuteTime": {
     "start_time": "2023-05-22T15:34:21.204456Z",
     "end_time": "2023-05-22T15:34:21.212600Z"
    }
   }
  },
  {
   "cell_type": "code",
   "execution_count": 111,
   "outputs": [
    {
     "data": {
      "text/plain": "0.52"
     },
     "execution_count": 111,
     "metadata": {},
     "output_type": "execute_result"
    }
   ],
   "source": [
    "yeast_classifier = GaussianNB()\n",
    "\n",
    "yeast_classifier.fit(select_features(yeast_x_train), yeast_y_train)\n",
    "yeast_classifier.score(select_features(yeast_x_test), yeast_y_test)"
   ],
   "metadata": {
    "collapsed": false,
    "ExecuteTime": {
     "start_time": "2023-05-22T15:34:22.947095Z",
     "end_time": "2023-05-22T15:34:22.955576Z"
    }
   }
  },
  {
   "cell_type": "code",
   "execution_count": 113,
   "outputs": [],
   "source": [
    "human_model_report = ModelReport.generate(human_classifier, select_features(human_x_test), human_y_test)\n",
    "yeast_model_report = ModelReport.generate(yeast_classifier, select_features(yeast_x_test), yeast_y_test)"
   ],
   "metadata": {
    "collapsed": false,
    "ExecuteTime": {
     "start_time": "2023-05-22T15:34:33.875552Z",
     "end_time": "2023-05-22T15:34:33.887595Z"
    }
   }
  },
  {
   "cell_type": "code",
   "execution_count": 114,
   "outputs": [
    {
     "name": "stdout",
     "output_type": "stream",
     "text": [
      "note: Running TeX ...\n",
      "note: Rerunning TeX because \"report.aux\" changed ...\n",
      "note: Running xdvipdfmx ...\n",
      "note: Writing `ml/pseknc/report.pdf` (35.29 KiB)\n",
      "note: Skipped writing 1 intermediate files (use --keep-intermediates to keep them)\n"
     ]
    },
    {
     "data": {
      "text/plain": "<Figure size 640x480 with 0 Axes>"
     },
     "metadata": {},
     "output_type": "display_data"
    },
    {
     "data": {
      "text/plain": "<Figure size 640x480 with 0 Axes>"
     },
     "metadata": {},
     "output_type": "display_data"
    },
    {
     "data": {
      "text/plain": "<Figure size 640x480 with 0 Axes>"
     },
     "metadata": {},
     "output_type": "display_data"
    },
    {
     "data": {
      "text/plain": "<Figure size 640x480 with 0 Axes>"
     },
     "metadata": {},
     "output_type": "display_data"
    },
    {
     "data": {
      "text/plain": "<Figure size 640x480 with 0 Axes>"
     },
     "metadata": {},
     "output_type": "display_data"
    },
    {
     "data": {
      "text/plain": "<Figure size 640x480 with 0 Axes>"
     },
     "metadata": {},
     "output_type": "display_data"
    },
    {
     "data": {
      "text/plain": "<Figure size 640x480 with 0 Axes>"
     },
     "metadata": {},
     "output_type": "display_data"
    },
    {
     "data": {
      "text/plain": "<Figure size 640x480 with 0 Axes>"
     },
     "metadata": {},
     "output_type": "display_data"
    },
    {
     "data": {
      "text/plain": "<Figure size 640x480 with 0 Axes>"
     },
     "metadata": {},
     "output_type": "display_data"
    },
    {
     "data": {
      "text/plain": "<Figure size 640x480 with 0 Axes>"
     },
     "metadata": {},
     "output_type": "display_data"
    },
    {
     "data": {
      "text/plain": "<Figure size 640x480 with 0 Axes>"
     },
     "metadata": {},
     "output_type": "display_data"
    },
    {
     "data": {
      "text/plain": "<Figure size 640x480 with 0 Axes>"
     },
     "metadata": {},
     "output_type": "display_data"
    }
   ],
   "source": [
    "generate_report({Species.human.value: human_model_report, Species.yeast.value: yeast_model_report}, Path('ml/pseknc'))"
   ],
   "metadata": {
    "collapsed": false,
    "ExecuteTime": {
     "start_time": "2023-05-22T15:34:35.341296Z",
     "end_time": "2023-05-22T15:34:38.772736Z"
    }
   }
  }
 ],
 "metadata": {
  "kernelspec": {
   "display_name": "Python 3",
   "language": "python",
   "name": "python3"
  },
  "language_info": {
   "codemirror_mode": {
    "name": "ipython",
    "version": 2
   },
   "file_extension": ".py",
   "mimetype": "text/x-python",
   "name": "python",
   "nbconvert_exporter": "python",
   "pygments_lexer": "ipython2",
   "version": "2.7.6"
  }
 },
 "nbformat": 4,
 "nbformat_minor": 0
}
