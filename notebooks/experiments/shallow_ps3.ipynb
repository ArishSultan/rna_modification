{
 "cells": [
  {
   "cell_type": "code",
   "execution_count": 1,
   "outputs": [],
   "source": [
    "import random\n",
    "import numpy as np\n",
    "import tensorflow as tf\n",
    "\n",
    "random.seed(0)\n",
    "np.random.seed(0)\n",
    "tf.random.set_seed(0)"
   ],
   "metadata": {
    "collapsed": false,
    "ExecuteTime": {
     "end_time": "2023-08-02T10:22:25.856421Z",
     "start_time": "2023-08-02T10:22:23.384833Z"
    }
   }
  },
  {
   "cell_type": "code",
   "execution_count": 2,
   "metadata": {
    "collapsed": true,
    "ExecuteTime": {
     "end_time": "2023-08-02T10:22:26.590522Z",
     "start_time": "2023-08-02T10:22:25.857638Z"
    }
   },
   "outputs": [],
   "source": [
    "from keras import Sequential\n",
    "from keras.layers import *\n",
    "from keras.losses import BinaryCrossentropy\n",
    "from keras.callbacks import EarlyStopping\n",
    "from sklearn.naive_bayes import GaussianNB\n",
    "\n",
    "from src.experiment import *\n",
    "from src.features.encodings import ps\n",
    "from src.data import load_psi, load_2ome, Species"
   ]
  },
  {
   "cell_type": "code",
   "execution_count": 4,
   "outputs": [],
   "source": [
    "human_test = load_psi(Species.human, independent=True)\n",
    "human_train = load_psi(Species.human, independent=False)\n",
    "\n",
    "yeast_test = load_psi(Species.yeast, independent=True)\n",
    "yeast_train = load_psi(Species.yeast, independent=False)"
   ],
   "metadata": {
    "collapsed": false,
    "ExecuteTime": {
     "end_time": "2023-08-02T10:22:26.607427Z",
     "start_time": "2023-08-02T10:22:26.593458Z"
    }
   }
  },
  {
   "cell_type": "code",
   "execution_count": 5,
   "outputs": [],
   "source": [
    "encoder = ps.Encoder(k=3)"
   ],
   "metadata": {
    "collapsed": false,
    "ExecuteTime": {
     "end_time": "2023-08-02T10:22:26.607474Z",
     "start_time": "2023-08-02T10:22:26.601347Z"
    }
   }
  },
  {
   "cell_type": "code",
   "execution_count": 6,
   "outputs": [],
   "source": [
    "human_x_train = encoder.fit_transform(human_train.samples)\n",
    "human_y_train = human_train.targets\n",
    "human_x_test = encoder.fit_transform(human_test.samples)\n",
    "human_y_test = human_test.targets"
   ],
   "metadata": {
    "collapsed": false,
    "ExecuteTime": {
     "end_time": "2023-08-02T10:22:26.861779Z",
     "start_time": "2023-08-02T10:22:26.783159Z"
    }
   }
  },
  {
   "cell_type": "code",
   "execution_count": 7,
   "outputs": [],
   "source": [
    "yeast_x_train = encoder.fit_transform(yeast_train.samples)\n",
    "yeast_y_train = yeast_train.targets\n",
    "yeast_x_test = encoder.fit_transform(yeast_test.samples)\n",
    "yeast_y_test = yeast_test.targets"
   ],
   "metadata": {
    "collapsed": false,
    "ExecuteTime": {
     "end_time": "2023-08-02T10:22:27.114423Z",
     "start_time": "2023-08-02T10:22:27.026018Z"
    }
   }
  },
  {
   "cell_type": "code",
   "execution_count": 14,
   "outputs": [
    {
     "name": "stdout",
     "output_type": "stream",
     "text": [
      "Epoch 1/10\n",
      "31/31 [==============================] - 0s 6ms/step - loss: 0.7231 - accuracy: 0.5182 - val_loss: 0.6738 - val_accuracy: 0.5850\n",
      "Epoch 2/10\n",
      "31/31 [==============================] - 0s 5ms/step - loss: 0.6813 - accuracy: 0.5808 - val_loss: 0.6453 - val_accuracy: 0.6350\n",
      "Epoch 3/10\n",
      "31/31 [==============================] - 0s 4ms/step - loss: 0.6000 - accuracy: 0.6717 - val_loss: 0.6170 - val_accuracy: 0.6750\n",
      "Epoch 4/10\n",
      "31/31 [==============================] - 0s 4ms/step - loss: 0.5067 - accuracy: 0.7646 - val_loss: 0.6084 - val_accuracy: 0.7100\n",
      "Epoch 5/10\n",
      "31/31 [==============================] - 0s 5ms/step - loss: 0.4206 - accuracy: 0.8030 - val_loss: 0.6493 - val_accuracy: 0.6700\n",
      "Epoch 6/10\n",
      "31/31 [==============================] - 0s 5ms/step - loss: 0.3330 - accuracy: 0.8657 - val_loss: 0.6959 - val_accuracy: 0.6500\n",
      "Epoch 7/10\n",
      "31/31 [==============================] - 0s 5ms/step - loss: 0.2446 - accuracy: 0.9030 - val_loss: 0.7642 - val_accuracy: 0.6400\n",
      "Epoch 8/10\n",
      "31/31 [==============================] - 0s 5ms/step - loss: 0.1772 - accuracy: 0.9343 - val_loss: 0.8678 - val_accuracy: 0.6350\n",
      "Epoch 9/10\n",
      "31/31 [==============================] - 0s 5ms/step - loss: 0.1359 - accuracy: 0.9465 - val_loss: 0.9210 - val_accuracy: 0.6500\n"
     ]
    },
    {
     "data": {
      "text/plain": "<keras.src.callbacks.History at 0x29fa860d0>"
     },
     "execution_count": 14,
     "metadata": {},
     "output_type": "execute_result"
    }
   ],
   "source": [
    "human_model = Sequential([\n",
    "    Dense(1216, input_dim=1216, activation='relu'),\n",
    "    Dropout(0.8),\n",
    "    Dense(500, activation='relu'),\n",
    "    Dropout(0.8),\n",
    "    Dense(1, activation='sigmoid'),\n",
    "])\n",
    "\n",
    "human_model.compile(\n",
    "    loss=BinaryCrossentropy(from_logits=False),\n",
    "    optimizer='adam',\n",
    "    metrics=['accuracy'],\n",
    ")\n",
    "\n",
    "early_stopping = EarlyStopping(\n",
    "    patience=5,\n",
    "    mode='min',\n",
    "    restore_best_weights=True\n",
    ")\n",
    "\n",
    "human_model.fit(human_x_train, human_y_train,\n",
    "                epochs=20, callbacks=[early_stopping],\n",
    "                validation_data=(human_x_test, human_y_test))"
   ],
   "metadata": {
    "collapsed": false,
    "ExecuteTime": {
     "end_time": "2023-08-02T10:27:29.896476Z",
     "start_time": "2023-08-02T10:27:28.285430Z"
    }
   }
  },
  {
   "cell_type": "code",
   "execution_count": 16,
   "outputs": [
    {
     "name": "stdout",
     "output_type": "stream",
     "text": [
      "Epoch 1/40\n",
      "20/20 [==============================] - 0s 9ms/step - loss: 0.7018 - accuracy: 0.5239 - val_loss: 0.6743 - val_accuracy: 0.5600\n",
      "Epoch 2/40\n",
      "20/20 [==============================] - 0s 6ms/step - loss: 0.5991 - accuracy: 0.6338 - val_loss: 0.6416 - val_accuracy: 0.6300\n",
      "Epoch 3/40\n",
      "20/20 [==============================] - 0s 6ms/step - loss: 0.5386 - accuracy: 0.7038 - val_loss: 0.6103 - val_accuracy: 0.6550\n",
      "Epoch 4/40\n",
      "20/20 [==============================] - 0s 5ms/step - loss: 0.4280 - accuracy: 0.7707 - val_loss: 0.6213 - val_accuracy: 0.6200\n",
      "Epoch 5/40\n",
      "20/20 [==============================] - 0s 6ms/step - loss: 0.2923 - accuracy: 0.8694 - val_loss: 0.7054 - val_accuracy: 0.6400\n",
      "Epoch 6/40\n",
      "20/20 [==============================] - 0s 6ms/step - loss: 0.1820 - accuracy: 0.9331 - val_loss: 0.7823 - val_accuracy: 0.6450\n",
      "Epoch 7/40\n",
      "20/20 [==============================] - 0s 6ms/step - loss: 0.1260 - accuracy: 0.9618 - val_loss: 0.9241 - val_accuracy: 0.6350\n",
      "Epoch 8/40\n",
      "20/20 [==============================] - 0s 6ms/step - loss: 0.1014 - accuracy: 0.9697 - val_loss: 1.0290 - val_accuracy: 0.6500\n"
     ]
    },
    {
     "data": {
      "text/plain": "<keras.src.callbacks.History at 0x2d46bfbd0>"
     },
     "execution_count": 16,
     "metadata": {},
     "output_type": "execute_result"
    }
   ],
   "source": [
    "yeast_model = Sequential([\n",
    "    Dense(1856, input_dim=1856, activation='relu'),\n",
    "    Dropout(0.2),\n",
    "    Dense(32, activation='relu'),\n",
    "    Dropout(0.8),\n",
    "    Dense(1, activation='sigmoid'),\n",
    "])\n",
    "\n",
    "early_stopping = EarlyStopping(\n",
    "    monitor='val_loss',\n",
    "    patience=5,\n",
    "    mode='min',\n",
    "    restore_best_weights=True,\n",
    ")\n",
    "\n",
    "yeast_model.compile(loss=BinaryCrossentropy(from_logits=False), optimizer='adam', metrics=['accuracy'])\n",
    "\n",
    "yeast_model.fit(yeast_x_train, yeast_y_train,\n",
    "                epochs=40, callbacks=[early_stopping],\n",
    "                validation_data=(yeast_x_test, yeast_y_test))"
   ],
   "metadata": {
    "collapsed": false,
    "ExecuteTime": {
     "end_time": "2023-08-02T10:28:18.295493Z",
     "start_time": "2023-08-02T10:28:17.012410Z"
    }
   }
  },
  {
   "cell_type": "code",
   "execution_count": 23,
   "outputs": [],
   "source": [
    "def select_features(features):\n",
    "    selection = [4, 21, 20, 0, 5, 65, 64, 1, 17, 16, 60, 15, 25, 54, 3, 11, 46,\n",
    "                 41, 40, 39, 7, 2, 42, 36, 31, 12, 24, 35, 18, 62, 61, 53, 8, 50,\n",
    "                 56, 43, 19, 28, 9, 59, 37, 38, 33, 48, 44, 45, 63, 10, 22, 27,\n",
    "                 49, 57, 55, 14, 51, 47, 52, 26, 23, 29, 30, 13, 6, 58]\n",
    "    imp_features = list(map(lambda x: f'ps_3_{x + 1}', selection))\n",
    "    return features[imp_features]"
   ],
   "metadata": {
    "collapsed": false,
    "ExecuteTime": {
     "end_time": "2023-08-02T10:29:48.764423Z",
     "start_time": "2023-08-02T10:29:48.757242Z"
    }
   }
  },
  {
   "cell_type": "code",
   "execution_count": 24,
   "outputs": [],
   "source": [
    "human_classifier = GaussianNB()\n",
    "\n",
    "human_classifier.fit(select_features(human_x_train), human_y_train)\n",
    "human_classifier.score(select_features(human_x_test), human_y_test)\n",
    "None"
   ],
   "metadata": {
    "collapsed": false,
    "ExecuteTime": {
     "end_time": "2023-08-02T10:29:49.584721Z",
     "start_time": "2023-08-02T10:29:49.576016Z"
    }
   }
  },
  {
   "cell_type": "code",
   "execution_count": 25,
   "outputs": [],
   "source": [
    "yeast_classifier = GaussianNB()\n",
    "\n",
    "yeast_classifier.fit(select_features(yeast_x_train), yeast_y_train)\n",
    "yeast_classifier.score(select_features(yeast_x_test), yeast_y_test)\n",
    "None"
   ],
   "metadata": {
    "collapsed": false,
    "ExecuteTime": {
     "end_time": "2023-08-02T10:29:50.865345Z",
     "start_time": "2023-08-02T10:29:50.856024Z"
    }
   }
  },
  {
   "cell_type": "code",
   "execution_count": 30,
   "outputs": [
    {
     "name": "stdout",
     "output_type": "stream",
     "text": [
      "7/7 [==============================] - 0s 2ms/step\n",
      "7/7 [==============================] - 0s 2ms/step\n",
      "note: Running TeX ...\n",
      "note: Rerunning TeX because \"human_nn_test.aux\" changed ...\n",
      "note: Running xdvipdfmx ...\n",
      "note: Writing `ps3_report/human_nn_test.pdf` (27.08 KiB)\n",
      "note: Skipped writing 1 intermediate files (use --keep-intermediates to keep them)\n",
      "7/7 [==============================] - 0s 2ms/step\n",
      "7/7 [==============================] - 0s 2ms/step\n",
      "note: Running TeX ...\n",
      "note: Rerunning TeX because \"yeast_nn_test.aux\" changed ...\n",
      "note: Running xdvipdfmx ...\n",
      "note: Writing `ps3_report/yeast_nn_test.pdf` (27.30 KiB)\n",
      "note: Skipped writing 1 intermediate files (use --keep-intermediates to keep them)\n",
      "note: Running TeX ...\n",
      "note: Rerunning TeX because \"human_gnb_test.aux\" changed ...\n",
      "note: Running xdvipdfmx ...\n",
      "note: Writing `ps3_report/human_gnb_test.pdf` (26.10 KiB)\n",
      "note: Skipped writing 1 intermediate files (use --keep-intermediates to keep them)\n",
      "note: Running TeX ...\n",
      "note: Rerunning TeX because \"yeast_gnb_test.aux\" changed ...\n",
      "note: Running xdvipdfmx ...\n",
      "note: Writing `ps3_report/yeast_gnb_test.pdf` (26.24 KiB)\n",
      "note: Skipped writing 1 intermediate files (use --keep-intermediates to keep them)\n"
     ]
    }
   ],
   "source": [
    "generate_latex_report(\n",
    "    Report.create_report(human_model, (human_x_test, human_y_test), True),\n",
    "    'human_nn_test',\n",
    "    Path('ps3_report'),\n",
    "    True\n",
    ")\n",
    "\n",
    "generate_latex_report(\n",
    "    Report.create_report(yeast_model, (yeast_x_test, yeast_y_test), True),\n",
    "    'yeast_nn_test',\n",
    "    Path('ps3_report'),\n",
    "    True\n",
    ")\n",
    "\n",
    "generate_latex_report(\n",
    "    Report.create_report(human_classifier, (select_features(human_x_test), human_y_test)),\n",
    "    'human_gnb_test',\n",
    "    Path('ps3_report'),\n",
    "    True\n",
    ")\n",
    "\n",
    "generate_latex_report(\n",
    "    Report.create_report(yeast_classifier, (select_features(yeast_x_test), yeast_y_test)),\n",
    "    'yeast_gnb_test',\n",
    "    Path('ps3_report'),\n",
    "    True\n",
    ")"
   ],
   "metadata": {
    "collapsed": false,
    "ExecuteTime": {
     "end_time": "2023-08-02T10:35:25.369554Z",
     "start_time": "2023-08-02T10:35:18.615666Z"
    }
   }
  },
  {
   "cell_type": "code",
   "execution_count": null,
   "outputs": [],
   "source": [],
   "metadata": {
    "collapsed": false
   }
  }
 ],
 "metadata": {
  "kernelspec": {
   "display_name": "Python 3",
   "language": "python",
   "name": "python3"
  },
  "language_info": {
   "codemirror_mode": {
    "name": "ipython",
    "version": 2
   },
   "file_extension": ".py",
   "mimetype": "text/x-python",
   "name": "python",
   "nbconvert_exporter": "python",
   "pygments_lexer": "ipython2",
   "version": "2.7.6"
  }
 },
 "nbformat": 4,
 "nbformat_minor": 0
}
