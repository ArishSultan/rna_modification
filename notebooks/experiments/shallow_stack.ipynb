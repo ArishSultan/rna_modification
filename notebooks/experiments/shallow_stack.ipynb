{
 "cells": [
  {
   "cell_type": "code",
   "execution_count": 1,
   "outputs": [],
   "source": [
    "import random\n",
    "import numpy as np\n",
    "import tensorflow as tf\n",
    "\n",
    "from src.features.encodings import pse_knc\n",
    "\n",
    "random.seed(0)\n",
    "np.random.seed(0)\n",
    "tf.random.set_seed(0)\n",
    "\n",
    "info = pse_knc.get_info('PseKNC')"
   ],
   "metadata": {
    "collapsed": false,
    "ExecuteTime": {
     "start_time": "2023-05-22T21:54:45.698979Z",
     "end_time": "2023-05-22T21:54:47.767258Z"
    }
   }
  },
  {
   "cell_type": "code",
   "execution_count": 2,
   "metadata": {
    "collapsed": true,
    "ExecuteTime": {
     "start_time": "2023-05-22T21:54:47.768748Z",
     "end_time": "2023-05-22T21:54:48.938106Z"
    }
   },
   "outputs": [],
   "source": [
    "from pathlib import Path\n",
    "from keras import Sequential\n",
    "from keras.layers import *\n",
    "from keras.callbacks import EarlyStopping\n",
    "from keras.losses import BinaryCrossentropy\n",
    "\n",
    "from src.features.encoder import FeatureEncoder\n",
    "from src.data.data_loader import load_dataset, Species\n",
    "from src.models.reporting.model_report import ModelReport\n",
    "from src.models.reporting.single_report import generate_report"
   ]
  },
  {
   "cell_type": "markdown",
   "source": [
    "### Human Training & Testing"
   ],
   "metadata": {
    "collapsed": false
   }
  },
  {
   "cell_type": "code",
   "execution_count": 3,
   "outputs": [],
   "source": [
    "binary_train_x, human_train_y = load_dataset(Species.human, independent=False, encoding=FeatureEncoder.binary)\n",
    "binary_test_x, human_test_y = load_dataset(Species.human, independent=True, encoding=FeatureEncoder.binary)\n",
    "\n",
    "pstnpss_train_x, _ = load_dataset(Species.human, independent=False,\n",
    "                                  encoding=lambda x: FeatureEncoder.pstnpss(x, 'hs'))\n",
    "pstnpss_test_x, _ = load_dataset(Species.human, independent=True,\n",
    "                                 encoding=lambda x: FeatureEncoder.pstnpss(x, 'hs'))\n",
    "\n",
    "pse_knc_train_x, _ = load_dataset(Species.human, independent=False,\n",
    "                                  encoding=lambda x: FeatureEncoder.pse_knc(x, info, 3, 2, 0.1))\n",
    "pse_knc_test_x, _ = load_dataset(Species.human, independent=True,\n",
    "                                 encoding=lambda x: FeatureEncoder.pse_knc(x, info, 3, 2, 0.1))"
   ],
   "metadata": {
    "collapsed": false,
    "ExecuteTime": {
     "start_time": "2023-05-22T21:54:48.939757Z",
     "end_time": "2023-05-22T21:54:49.073456Z"
    }
   }
  },
  {
   "cell_type": "code",
   "execution_count": 4,
   "outputs": [
    {
     "data": {
      "text/plain": "(990, 19)"
     },
     "execution_count": 4,
     "metadata": {},
     "output_type": "execute_result"
    }
   ],
   "source": [
    "pstnpss_train_x.shape"
   ],
   "metadata": {
    "collapsed": false,
    "ExecuteTime": {
     "start_time": "2023-05-22T21:54:49.075051Z",
     "end_time": "2023-05-22T21:54:49.077407Z"
    }
   }
  },
  {
   "cell_type": "code",
   "execution_count": 155,
   "outputs": [],
   "source": [
    "def build_human_model():\n",
    "    input1 = tf.keras.Input(shape=(84,), name='human_binary_input')\n",
    "    input2 = tf.keras.Input(shape=(66,), name='human_pse_knc_input')\n",
    "    input3 = tf.keras.Input(shape=(19,), name='human_pstnpss_input')\n",
    "\n",
    "    binary_model = tf.keras.Sequential([\n",
    "        tf.keras.layers.Dense(84, input_dim=84, activation='relu'),\n",
    "        # tf.keras.layers.Dropout(0.2),\n",
    "        tf.keras.layers.Dense(42, activation='relu'),\n",
    "        tf.keras.layers.Dropout(0.8),\n",
    "        # tf.keras.layers.Dense(1, activation='sigmoid')\n",
    "    ], name='binary_model')(input1)\n",
    "\n",
    "    pse_knc_model = tf.keras.Sequential([\n",
    "        tf.keras.layers.Dense(66, input_dim=66, activation='relu'),\n",
    "        # tf.keras.layers.Dropout(0.2),\n",
    "        tf.keras.layers.Dense(32, activation='relu'),\n",
    "        tf.keras.layers.Dropout(0.8),\n",
    "        # tf.keras.layers.Dense(1, activation='sigmoid')\n",
    "    ], name='pse_knc_model')(input2)\n",
    "\n",
    "    pstnpss_model = tf.keras.Sequential([\n",
    "        tf.keras.layers.Dense(19, input_dim=19, activation='relu'),\n",
    "        tf.keras.layers.Dense(16, activation='relu'),\n",
    "        tf.keras.layers.Dropout(0.8),\n",
    "        # tf.keras.layers.Dense(1, activation='sigmoid')\n",
    "    ], name='pstnpss_model')(input3)\n",
    "\n",
    "    concatenated = tf.keras.layers.concatenate([\n",
    "        binary_model,\n",
    "        pse_knc_model,\n",
    "        pstnpss_model\n",
    "    ])\n",
    "\n",
    "    # dropout1 = tf.keras.layers.Dropout(0.8)(concatenated)\n",
    "    # hidden = tf.keras.layers.Dense(32, activation='relu')(concatenated)\n",
    "    dropout2 = tf.keras.layers.Dropout(0.8)(concatenated)\n",
    "\n",
    "    output = tf.keras.layers.Dense(1, activation='sigmoid', name='final_output')(dropout2)\n",
    "\n",
    "    combined_model = tf.keras.Model(\n",
    "        inputs=[input1, input2, input3],\n",
    "        outputs=output,\n",
    "        name='human_model'\n",
    "    )\n",
    "\n",
    "    combined_model.compile(\n",
    "        loss=BinaryCrossentropy(from_logits=False),\n",
    "        optimizer='adam',\n",
    "        metrics=['accuracy']\n",
    "    )\n",
    "\n",
    "    return combined_model\n",
    "\n",
    "\n",
    "human_model = build_human_model()\n",
    "\n",
    "early_stopping = EarlyStopping(monitor='val_loss', patience=5, mode='min')"
   ],
   "metadata": {
    "collapsed": false,
    "ExecuteTime": {
     "start_time": "2023-05-23T00:01:54.975921Z",
     "end_time": "2023-05-23T00:01:55.019734Z"
    }
   }
  },
  {
   "cell_type": "code",
   "execution_count": 179,
   "outputs": [
    {
     "name": "stdout",
     "output_type": "stream",
     "text": [
      "Epoch 1/10\n",
      "31/31 [==============================] - 0s 3ms/step - loss: 0.2452 - accuracy: 0.8758 - val_loss: 1.5356 - val_accuracy: 0.6650\n",
      "Epoch 2/10\n",
      "31/31 [==============================] - 0s 1ms/step - loss: 0.2353 - accuracy: 0.8859 - val_loss: 1.5707 - val_accuracy: 0.6650\n",
      "Epoch 3/10\n",
      "31/31 [==============================] - 0s 1ms/step - loss: 0.2313 - accuracy: 0.8838 - val_loss: 1.5084 - val_accuracy: 0.6650\n",
      "Epoch 4/10\n",
      "31/31 [==============================] - 0s 1ms/step - loss: 0.2379 - accuracy: 0.8818 - val_loss: 1.5780 - val_accuracy: 0.6550\n",
      "Epoch 5/10\n",
      "31/31 [==============================] - 0s 1ms/step - loss: 0.2275 - accuracy: 0.8919 - val_loss: 1.6050 - val_accuracy: 0.6600\n",
      "Epoch 6/10\n",
      "31/31 [==============================] - 0s 1ms/step - loss: 0.2178 - accuracy: 0.8939 - val_loss: 1.6971 - val_accuracy: 0.6350\n",
      "Epoch 7/10\n",
      "31/31 [==============================] - 0s 1ms/step - loss: 0.2245 - accuracy: 0.8949 - val_loss: 1.5689 - val_accuracy: 0.6650\n",
      "Epoch 8/10\n",
      "31/31 [==============================] - 0s 1ms/step - loss: 0.2294 - accuracy: 0.8869 - val_loss: 1.5962 - val_accuracy: 0.6500\n",
      "Epoch 9/10\n",
      "31/31 [==============================] - 0s 1ms/step - loss: 0.2284 - accuracy: 0.8889 - val_loss: 1.6885 - val_accuracy: 0.6350\n",
      "Epoch 10/10\n",
      "31/31 [==============================] - 0s 1ms/step - loss: 0.2709 - accuracy: 0.8626 - val_loss: 1.7856 - val_accuracy: 0.6250\n"
     ]
    },
    {
     "data": {
      "text/plain": "<keras.src.callbacks.History at 0x2e836c2d0>"
     },
     "execution_count": 179,
     "metadata": {},
     "output_type": "execute_result"
    }
   ],
   "source": [
    "human_model.fit(\n",
    "    [binary_train_x, pse_knc_train_x, pstnpss_train_x],\n",
    "    human_train_y,\n",
    "    epochs=10,\n",
    "    validation_data=([binary_test_x, pse_knc_test_x, pstnpss_test_x], human_test_y)\n",
    ")"
   ],
   "metadata": {
    "collapsed": false,
    "ExecuteTime": {
     "start_time": "2023-05-23T00:02:38.146470Z",
     "end_time": "2023-05-23T00:02:38.664841Z"
    }
   }
  },
  {
   "cell_type": "markdown",
   "source": [
    "### Yeast Training & Testing"
   ],
   "metadata": {
    "collapsed": false
   }
  },
  {
   "cell_type": "code",
   "execution_count": 6,
   "outputs": [],
   "source": [
    "yeast_x_test, yeast_y_test = load_dataset(Species.yeast, independent=True,\n",
    "                                          encoding=lambda x: FeatureEncoder.pstnpss(x, 'sc'))\n",
    "yeast_x_train, yeast_y_train = load_dataset(Species.yeast, independent=False,\n",
    "                                            encoding=lambda x: FeatureEncoder.pstnpss(x, 'sc'))"
   ],
   "metadata": {
    "collapsed": false,
    "ExecuteTime": {
     "start_time": "2023-05-22T16:11:38.411357Z",
     "end_time": "2023-05-22T16:11:38.422986Z"
    }
   }
  },
  {
   "cell_type": "code",
   "execution_count": 7,
   "outputs": [],
   "source": [
    "yeast_model = Sequential([\n",
    "    Dense(29, input_dim=29, activation='relu'),\n",
    "    Dropout(0.2),\n",
    "    Dense(16, activation='relu'),\n",
    "    Dropout(0.5),\n",
    "    Dense(1, activation='sigmoid'),\n",
    "])\n",
    "\n",
    "early_stopping = EarlyStopping(monitor='val_loss', patience=5, mode='min')\n",
    "\n",
    "yeast_model.compile(loss=BinaryCrossentropy(from_logits=False), optimizer='adam', metrics=['accuracy'])"
   ],
   "metadata": {
    "collapsed": false,
    "ExecuteTime": {
     "start_time": "2023-05-22T16:11:38.428542Z",
     "end_time": "2023-05-22T16:11:38.454921Z"
    }
   }
  },
  {
   "cell_type": "code",
   "execution_count": 8,
   "outputs": [
    {
     "name": "stdout",
     "output_type": "stream",
     "text": [
      "Epoch 1/40\n",
      "20/20 [==============================] - 0s 4ms/step - loss: 0.6875 - accuracy: 0.5653 - val_loss: 0.6813 - val_accuracy: 0.6450\n",
      "Epoch 2/40\n",
      "20/20 [==============================] - 0s 1ms/step - loss: 0.6812 - accuracy: 0.6242 - val_loss: 0.6725 - val_accuracy: 0.6350\n",
      "Epoch 3/40\n",
      "20/20 [==============================] - 0s 1ms/step - loss: 0.6728 - accuracy: 0.6417 - val_loss: 0.6616 - val_accuracy: 0.6550\n",
      "Epoch 4/40\n",
      "20/20 [==============================] - 0s 1ms/step - loss: 0.6629 - accuracy: 0.6863 - val_loss: 0.6494 - val_accuracy: 0.6800\n",
      "Epoch 5/40\n",
      "20/20 [==============================] - 0s 1ms/step - loss: 0.6492 - accuracy: 0.6736 - val_loss: 0.6335 - val_accuracy: 0.7200\n",
      "Epoch 6/40\n",
      "20/20 [==============================] - 0s 1ms/step - loss: 0.6394 - accuracy: 0.7102 - val_loss: 0.6163 - val_accuracy: 0.7300\n",
      "Epoch 7/40\n",
      "20/20 [==============================] - 0s 1ms/step - loss: 0.6217 - accuracy: 0.7182 - val_loss: 0.5975 - val_accuracy: 0.7550\n",
      "Epoch 8/40\n",
      "20/20 [==============================] - 0s 1ms/step - loss: 0.6037 - accuracy: 0.7516 - val_loss: 0.5763 - val_accuracy: 0.7700\n",
      "Epoch 9/40\n",
      "20/20 [==============================] - 0s 1ms/step - loss: 0.5876 - accuracy: 0.7580 - val_loss: 0.5577 - val_accuracy: 0.7750\n",
      "Epoch 10/40\n",
      "20/20 [==============================] - 0s 1ms/step - loss: 0.5649 - accuracy: 0.7818 - val_loss: 0.5368 - val_accuracy: 0.8000\n",
      "Epoch 11/40\n",
      "20/20 [==============================] - 0s 1ms/step - loss: 0.5470 - accuracy: 0.7659 - val_loss: 0.5162 - val_accuracy: 0.8100\n",
      "Epoch 12/40\n",
      "20/20 [==============================] - 0s 1ms/step - loss: 0.5299 - accuracy: 0.7707 - val_loss: 0.4966 - val_accuracy: 0.8150\n",
      "Epoch 13/40\n",
      "20/20 [==============================] - 0s 1ms/step - loss: 0.5130 - accuracy: 0.8137 - val_loss: 0.4793 - val_accuracy: 0.8150\n",
      "Epoch 14/40\n",
      "20/20 [==============================] - 0s 1ms/step - loss: 0.5038 - accuracy: 0.7882 - val_loss: 0.4617 - val_accuracy: 0.7950\n",
      "Epoch 15/40\n",
      "20/20 [==============================] - 0s 1ms/step - loss: 0.4854 - accuracy: 0.8010 - val_loss: 0.4557 - val_accuracy: 0.8000\n",
      "Epoch 16/40\n",
      "20/20 [==============================] - 0s 1ms/step - loss: 0.4738 - accuracy: 0.7914 - val_loss: 0.4366 - val_accuracy: 0.8100\n",
      "Epoch 17/40\n",
      "20/20 [==============================] - 0s 1ms/step - loss: 0.4633 - accuracy: 0.8217 - val_loss: 0.4235 - val_accuracy: 0.8150\n",
      "Epoch 18/40\n",
      "20/20 [==============================] - 0s 1ms/step - loss: 0.4565 - accuracy: 0.7978 - val_loss: 0.4149 - val_accuracy: 0.8400\n",
      "Epoch 19/40\n",
      "20/20 [==============================] - 0s 1ms/step - loss: 0.4558 - accuracy: 0.8217 - val_loss: 0.4036 - val_accuracy: 0.8400\n",
      "Epoch 20/40\n",
      "20/20 [==============================] - 0s 1ms/step - loss: 0.4463 - accuracy: 0.8169 - val_loss: 0.4044 - val_accuracy: 0.8250\n",
      "Epoch 21/40\n",
      "20/20 [==============================] - 0s 1ms/step - loss: 0.4353 - accuracy: 0.8328 - val_loss: 0.3957 - val_accuracy: 0.8350\n",
      "Epoch 22/40\n",
      "20/20 [==============================] - 0s 1ms/step - loss: 0.4327 - accuracy: 0.8280 - val_loss: 0.3795 - val_accuracy: 0.8250\n",
      "Epoch 23/40\n",
      "20/20 [==============================] - 0s 1ms/step - loss: 0.4273 - accuracy: 0.8248 - val_loss: 0.3778 - val_accuracy: 0.8350\n",
      "Epoch 24/40\n",
      "20/20 [==============================] - 0s 1ms/step - loss: 0.4151 - accuracy: 0.8264 - val_loss: 0.3730 - val_accuracy: 0.8300\n",
      "Epoch 25/40\n",
      "20/20 [==============================] - 0s 1ms/step - loss: 0.4126 - accuracy: 0.8455 - val_loss: 0.3821 - val_accuracy: 0.8300\n",
      "Epoch 26/40\n",
      "20/20 [==============================] - 0s 1ms/step - loss: 0.4078 - accuracy: 0.8424 - val_loss: 0.3724 - val_accuracy: 0.8350\n",
      "Epoch 27/40\n",
      "20/20 [==============================] - 0s 1ms/step - loss: 0.4040 - accuracy: 0.8471 - val_loss: 0.3620 - val_accuracy: 0.8350\n",
      "Epoch 28/40\n",
      "20/20 [==============================] - 0s 1ms/step - loss: 0.4090 - accuracy: 0.8439 - val_loss: 0.3620 - val_accuracy: 0.8400\n",
      "Epoch 29/40\n",
      "20/20 [==============================] - 0s 1ms/step - loss: 0.3838 - accuracy: 0.8535 - val_loss: 0.3536 - val_accuracy: 0.8350\n",
      "Epoch 30/40\n",
      "20/20 [==============================] - 0s 1ms/step - loss: 0.3924 - accuracy: 0.8392 - val_loss: 0.3535 - val_accuracy: 0.8350\n",
      "Epoch 31/40\n",
      "20/20 [==============================] - 0s 1ms/step - loss: 0.3903 - accuracy: 0.8503 - val_loss: 0.3579 - val_accuracy: 0.8400\n",
      "Epoch 32/40\n",
      "20/20 [==============================] - 0s 1ms/step - loss: 0.3773 - accuracy: 0.8694 - val_loss: 0.3519 - val_accuracy: 0.8350\n",
      "Epoch 33/40\n",
      "20/20 [==============================] - 0s 1ms/step - loss: 0.3764 - accuracy: 0.8631 - val_loss: 0.3517 - val_accuracy: 0.8400\n",
      "Epoch 34/40\n",
      "20/20 [==============================] - 0s 1ms/step - loss: 0.3961 - accuracy: 0.8376 - val_loss: 0.3487 - val_accuracy: 0.8350\n",
      "Epoch 35/40\n",
      "20/20 [==============================] - 0s 1ms/step - loss: 0.3712 - accuracy: 0.8631 - val_loss: 0.3513 - val_accuracy: 0.8350\n",
      "Epoch 36/40\n",
      "20/20 [==============================] - 0s 1ms/step - loss: 0.3880 - accuracy: 0.8424 - val_loss: 0.3471 - val_accuracy: 0.8350\n",
      "Epoch 37/40\n",
      "20/20 [==============================] - 0s 1ms/step - loss: 0.3868 - accuracy: 0.8551 - val_loss: 0.3406 - val_accuracy: 0.8400\n",
      "Epoch 38/40\n",
      "20/20 [==============================] - 0s 1ms/step - loss: 0.3849 - accuracy: 0.8455 - val_loss: 0.3395 - val_accuracy: 0.8350\n",
      "Epoch 39/40\n",
      "20/20 [==============================] - 0s 1ms/step - loss: 0.3709 - accuracy: 0.8615 - val_loss: 0.3449 - val_accuracy: 0.8350\n",
      "Epoch 40/40\n",
      "20/20 [==============================] - 0s 1ms/step - loss: 0.3724 - accuracy: 0.8503 - val_loss: 0.3472 - val_accuracy: 0.8350\n"
     ]
    },
    {
     "data": {
      "text/plain": "<keras.src.callbacks.History at 0x29cee9b90>"
     },
     "execution_count": 8,
     "metadata": {},
     "output_type": "execute_result"
    }
   ],
   "source": [
    "yeast_model.fit(yeast_x_train, yeast_y_train, epochs=40, callbacks=[early_stopping],\n",
    "                validation_data=(yeast_x_test, yeast_y_test))"
   ],
   "metadata": {
    "collapsed": false,
    "ExecuteTime": {
     "start_time": "2023-05-22T16:11:38.444170Z",
     "end_time": "2023-05-22T16:11:39.628266Z"
    }
   }
  },
  {
   "cell_type": "code",
   "execution_count": 9,
   "outputs": [
    {
     "name": "stdout",
     "output_type": "stream",
     "text": [
      "7/7 [==============================] - 0s 486us/step\n",
      "7/7 [==============================] - 0s 477us/step\n",
      "7/7 [==============================] - 0s 483us/step\n",
      "7/7 [==============================] - 0s 437us/step\n"
     ]
    }
   ],
   "source": [
    "human_model_report = ModelReport.generate(human_model, human_x_test, human_y_test, is_keras=True)\n",
    "yeast_model_report = ModelReport.generate(yeast_model, yeast_x_test, yeast_y_test, is_keras=True)"
   ],
   "metadata": {
    "collapsed": false,
    "ExecuteTime": {
     "start_time": "2023-05-22T16:11:39.629755Z",
     "end_time": "2023-05-22T16:11:39.789571Z"
    }
   }
  },
  {
   "cell_type": "code",
   "execution_count": 10,
   "outputs": [
    {
     "name": "stdout",
     "output_type": "stream",
     "text": [
      "note: Running TeX ...\n",
      "note: Rerunning TeX because \"report.aux\" changed ...\n",
      "note: Running xdvipdfmx ...\n",
      "note: Writing `nn/pstnpss_2/report.pdf` (32.97 KiB)\n",
      "note: Skipped writing 1 intermediate files (use --keep-intermediates to keep them)\n"
     ]
    },
    {
     "data": {
      "text/plain": "<Figure size 640x480 with 0 Axes>"
     },
     "metadata": {},
     "output_type": "display_data"
    },
    {
     "data": {
      "text/plain": "<Figure size 640x480 with 0 Axes>"
     },
     "metadata": {},
     "output_type": "display_data"
    },
    {
     "data": {
      "text/plain": "<Figure size 640x480 with 0 Axes>"
     },
     "metadata": {},
     "output_type": "display_data"
    },
    {
     "data": {
      "text/plain": "<Figure size 640x480 with 0 Axes>"
     },
     "metadata": {},
     "output_type": "display_data"
    },
    {
     "data": {
      "text/plain": "<Figure size 640x480 with 0 Axes>"
     },
     "metadata": {},
     "output_type": "display_data"
    },
    {
     "data": {
      "text/plain": "<Figure size 640x480 with 0 Axes>"
     },
     "metadata": {},
     "output_type": "display_data"
    },
    {
     "data": {
      "text/plain": "<Figure size 640x480 with 0 Axes>"
     },
     "metadata": {},
     "output_type": "display_data"
    },
    {
     "data": {
      "text/plain": "<Figure size 640x480 with 0 Axes>"
     },
     "metadata": {},
     "output_type": "display_data"
    },
    {
     "data": {
      "text/plain": "<Figure size 640x480 with 0 Axes>"
     },
     "metadata": {},
     "output_type": "display_data"
    },
    {
     "data": {
      "text/plain": "<Figure size 640x480 with 0 Axes>"
     },
     "metadata": {},
     "output_type": "display_data"
    },
    {
     "data": {
      "text/plain": "<Figure size 640x480 with 0 Axes>"
     },
     "metadata": {},
     "output_type": "display_data"
    },
    {
     "data": {
      "text/plain": "<Figure size 640x480 with 0 Axes>"
     },
     "metadata": {},
     "output_type": "display_data"
    }
   ],
   "source": [
    "generate_report({Species.human.value: human_model_report, Species.yeast.value: yeast_model_report},\n",
    "                Path('nn/pstnpss_2'))"
   ],
   "metadata": {
    "collapsed": false,
    "ExecuteTime": {
     "start_time": "2023-05-22T16:11:39.788427Z",
     "end_time": "2023-05-22T16:11:43.299431Z"
    }
   }
  },
  {
   "cell_type": "code",
   "execution_count": 11,
   "outputs": [],
   "source": [
    "def select_features(features):\n",
    "    selection = [10, 12, 8, 9, 17, 7, 6, 15, 14, 11, 2, 13, 5, 16, 18, 4, 1, 3, 0]\n",
    "    imp_features = list(map(lambda x: f'pstnpss_{x + 1}', selection))\n",
    "    return features[imp_features]"
   ],
   "metadata": {
    "collapsed": false,
    "ExecuteTime": {
     "start_time": "2023-05-22T16:11:43.300046Z",
     "end_time": "2023-05-22T16:11:43.301445Z"
    }
   }
  },
  {
   "cell_type": "code",
   "execution_count": 12,
   "outputs": [
    {
     "data": {
      "text/plain": "0.78"
     },
     "execution_count": 12,
     "metadata": {},
     "output_type": "execute_result"
    }
   ],
   "source": [
    "human_classifier = GradientBoostingClassifier(\n",
    "    learning_rate=0.247286, loss='log_loss', max_depth=9, n_estimators=1624, subsample=0.681402\n",
    ")\n",
    "\n",
    "human_classifier.fit(select_features(human_x_train), human_y_train)\n",
    "human_classifier.score(select_features(human_x_test), human_y_test)"
   ],
   "metadata": {
    "collapsed": false,
    "ExecuteTime": {
     "start_time": "2023-05-22T16:11:43.305227Z",
     "end_time": "2023-05-22T16:11:44.634445Z"
    }
   }
  },
  {
   "cell_type": "code",
   "execution_count": 13,
   "outputs": [
    {
     "data": {
      "text/plain": "0.795"
     },
     "execution_count": 13,
     "metadata": {},
     "output_type": "execute_result"
    }
   ],
   "source": [
    "yeast_classifier = GradientBoostingClassifier(\n",
    "    learning_rate=0.247286, loss='log_loss', max_depth=9, n_estimators=1624, subsample=0.681402\n",
    ")\n",
    "\n",
    "yeast_classifier.fit(select_features(yeast_x_train), yeast_y_train)\n",
    "yeast_classifier.score(select_features(yeast_x_test), yeast_y_test)"
   ],
   "metadata": {
    "collapsed": false,
    "ExecuteTime": {
     "start_time": "2023-05-22T16:11:57.653835Z",
     "end_time": "2023-05-22T16:11:58.452167Z"
    }
   }
  },
  {
   "cell_type": "code",
   "execution_count": 14,
   "outputs": [],
   "source": [
    "human_model_report = ModelReport.generate(human_classifier, select_features(human_x_test), human_y_test)\n",
    "yeast_model_report = ModelReport.generate(yeast_classifier, select_features(yeast_x_test), yeast_y_test)"
   ],
   "metadata": {
    "collapsed": false,
    "ExecuteTime": {
     "start_time": "2023-05-22T16:12:01.609518Z",
     "end_time": "2023-05-22T16:12:01.629185Z"
    }
   }
  },
  {
   "cell_type": "code",
   "execution_count": 15,
   "outputs": [
    {
     "name": "stdout",
     "output_type": "stream",
     "text": [
      "note: Running TeX ...\n",
      "note: Rerunning TeX because \"report.aux\" changed ...\n",
      "note: Running xdvipdfmx ...\n",
      "note: Writing `ml/pstnpss_2/report.pdf` (32.47 KiB)\n",
      "note: Skipped writing 1 intermediate files (use --keep-intermediates to keep them)\n"
     ]
    },
    {
     "data": {
      "text/plain": "<Figure size 640x480 with 0 Axes>"
     },
     "metadata": {},
     "output_type": "display_data"
    },
    {
     "data": {
      "text/plain": "<Figure size 640x480 with 0 Axes>"
     },
     "metadata": {},
     "output_type": "display_data"
    },
    {
     "data": {
      "text/plain": "<Figure size 640x480 with 0 Axes>"
     },
     "metadata": {},
     "output_type": "display_data"
    },
    {
     "data": {
      "text/plain": "<Figure size 640x480 with 0 Axes>"
     },
     "metadata": {},
     "output_type": "display_data"
    },
    {
     "data": {
      "text/plain": "<Figure size 640x480 with 0 Axes>"
     },
     "metadata": {},
     "output_type": "display_data"
    },
    {
     "data": {
      "text/plain": "<Figure size 640x480 with 0 Axes>"
     },
     "metadata": {},
     "output_type": "display_data"
    },
    {
     "data": {
      "text/plain": "<Figure size 640x480 with 0 Axes>"
     },
     "metadata": {},
     "output_type": "display_data"
    },
    {
     "data": {
      "text/plain": "<Figure size 640x480 with 0 Axes>"
     },
     "metadata": {},
     "output_type": "display_data"
    },
    {
     "data": {
      "text/plain": "<Figure size 640x480 with 0 Axes>"
     },
     "metadata": {},
     "output_type": "display_data"
    },
    {
     "data": {
      "text/plain": "<Figure size 640x480 with 0 Axes>"
     },
     "metadata": {},
     "output_type": "display_data"
    },
    {
     "data": {
      "text/plain": "<Figure size 640x480 with 0 Axes>"
     },
     "metadata": {},
     "output_type": "display_data"
    },
    {
     "data": {
      "text/plain": "<Figure size 640x480 with 0 Axes>"
     },
     "metadata": {},
     "output_type": "display_data"
    }
   ],
   "source": [
    "generate_report({Species.human.value: human_model_report, Species.yeast.value: yeast_model_report},\n",
    "                Path('ml/pstnpss_2'))"
   ],
   "metadata": {
    "collapsed": false,
    "ExecuteTime": {
     "start_time": "2023-05-22T16:12:06.076531Z",
     "end_time": "2023-05-22T16:12:09.555734Z"
    }
   }
  },
  {
   "cell_type": "code",
   "execution_count": null,
   "outputs": [],
   "source": [],
   "metadata": {
    "collapsed": false
   }
  }
 ],
 "metadata": {
  "kernelspec": {
   "display_name": "Python 3",
   "language": "python",
   "name": "python3"
  },
  "language_info": {
   "codemirror_mode": {
    "name": "ipython",
    "version": 2
   },
   "file_extension": ".py",
   "mimetype": "text/x-python",
   "name": "python",
   "nbconvert_exporter": "python",
   "pygments_lexer": "ipython2",
   "version": "2.7.6"
  }
 },
 "nbformat": 4,
 "nbformat_minor": 0
}
