{
 "cells": [
  {
   "cell_type": "code",
   "execution_count": 1,
   "outputs": [],
   "source": [
    "import random\n",
    "import numpy as np\n",
    "import tensorflow as tf\n",
    "\n",
    "\n",
    "random.seed(0)\n",
    "np.random.seed(0)\n",
    "tf.random.set_seed(0)"
   ],
   "metadata": {
    "collapsed": false,
    "ExecuteTime": {
     "start_time": "2023-05-22T14:56:33.710015Z",
     "end_time": "2023-05-22T14:56:35.954807Z"
    }
   }
  },
  {
   "cell_type": "code",
   "execution_count": 2,
   "metadata": {
    "collapsed": true,
    "ExecuteTime": {
     "start_time": "2023-05-22T14:56:35.955976Z",
     "end_time": "2023-05-22T14:56:37.258029Z"
    }
   },
   "outputs": [],
   "source": [
    "from keras import Sequential\n",
    "from keras.layers import *\n",
    "from keras.losses import BinaryCrossentropy\n",
    "from keras.callbacks import EarlyStopping\n",
    "\n",
    "from src.features.encoder import FeatureEncoder\n",
    "from src.data.data_loader import load_dataset, Species\n",
    "from src.models.reporting.model_report import ModelReport\n",
    "from src.models.reporting.single_report import generate_report"
   ]
  },
  {
   "cell_type": "markdown",
   "source": [
    "### Human Training & Testing"
   ],
   "metadata": {
    "collapsed": false
   }
  },
  {
   "cell_type": "code",
   "execution_count": 3,
   "outputs": [],
   "source": [
    "human_x_test, human_y_test = load_dataset(Species.human, independent=True, encoding=FeatureEncoder.binary)\n",
    "human_x_train, human_y_train = load_dataset(Species.human, independent=False, encoding=FeatureEncoder.binary)"
   ],
   "metadata": {
    "collapsed": false,
    "ExecuteTime": {
     "start_time": "2023-05-22T14:56:37.258685Z",
     "end_time": "2023-05-22T14:56:37.276578Z"
    }
   }
  },
  {
   "cell_type": "code",
   "execution_count": 29,
   "outputs": [],
   "source": [
    "human_model = Sequential([\n",
    "    Dense(84, input_dim=84, activation='relu'),\n",
    "    Dropout(0.2),\n",
    "    Dense(42, activation='relu'),\n",
    "    Dropout(0.8),\n",
    "    Dense(1, activation='sigmoid'),\n",
    "])\n",
    "\n",
    "early_stopping = EarlyStopping(monitor='val_loss', patience=5, mode='min')\n",
    "\n",
    "human_model.compile(loss=BinaryCrossentropy(from_logits=False), optimizer='adam', metrics=['accuracy'])"
   ],
   "metadata": {
    "collapsed": false,
    "ExecuteTime": {
     "start_time": "2023-05-22T15:22:16.152001Z",
     "end_time": "2023-05-22T15:22:16.174412Z"
    }
   }
  },
  {
   "cell_type": "code",
   "execution_count": 30,
   "outputs": [
    {
     "name": "stdout",
     "output_type": "stream",
     "text": [
      "Epoch 1/40\n",
      "31/31 [==============================] - 0s 3ms/step - loss: 0.8105 - accuracy: 0.4838 - val_loss: 0.6963 - val_accuracy: 0.5100\n",
      "Epoch 2/40\n",
      "31/31 [==============================] - 0s 1ms/step - loss: 0.7450 - accuracy: 0.4848 - val_loss: 0.6958 - val_accuracy: 0.5150\n",
      "Epoch 3/40\n",
      "31/31 [==============================] - 0s 1ms/step - loss: 0.7122 - accuracy: 0.5131 - val_loss: 0.6962 - val_accuracy: 0.4900\n",
      "Epoch 4/40\n",
      "31/31 [==============================] - 0s 1ms/step - loss: 0.6958 - accuracy: 0.5465 - val_loss: 0.6929 - val_accuracy: 0.4800\n",
      "Epoch 5/40\n",
      "31/31 [==============================] - 0s 1ms/step - loss: 0.6796 - accuracy: 0.5657 - val_loss: 0.6905 - val_accuracy: 0.5600\n",
      "Epoch 6/40\n",
      "31/31 [==============================] - 0s 1ms/step - loss: 0.6830 - accuracy: 0.5434 - val_loss: 0.6895 - val_accuracy: 0.5250\n",
      "Epoch 7/40\n",
      "31/31 [==============================] - 0s 1ms/step - loss: 0.6788 - accuracy: 0.5606 - val_loss: 0.6907 - val_accuracy: 0.5050\n",
      "Epoch 8/40\n",
      "31/31 [==============================] - 0s 952us/step - loss: 0.6757 - accuracy: 0.5737 - val_loss: 0.6882 - val_accuracy: 0.5500\n",
      "Epoch 9/40\n",
      "31/31 [==============================] - 0s 975us/step - loss: 0.6707 - accuracy: 0.5768 - val_loss: 0.6871 - val_accuracy: 0.5450\n",
      "Epoch 10/40\n",
      "31/31 [==============================] - 0s 1000us/step - loss: 0.6676 - accuracy: 0.6040 - val_loss: 0.6839 - val_accuracy: 0.5850\n",
      "Epoch 11/40\n",
      "31/31 [==============================] - 0s 988us/step - loss: 0.6567 - accuracy: 0.6051 - val_loss: 0.6811 - val_accuracy: 0.6000\n",
      "Epoch 12/40\n",
      "31/31 [==============================] - 0s 979us/step - loss: 0.6657 - accuracy: 0.5939 - val_loss: 0.6791 - val_accuracy: 0.5800\n",
      "Epoch 13/40\n",
      "31/31 [==============================] - 0s 953us/step - loss: 0.6475 - accuracy: 0.6051 - val_loss: 0.6777 - val_accuracy: 0.5900\n",
      "Epoch 14/40\n",
      "31/31 [==============================] - 0s 979us/step - loss: 0.6597 - accuracy: 0.5838 - val_loss: 0.6722 - val_accuracy: 0.5850\n",
      "Epoch 15/40\n",
      "31/31 [==============================] - 0s 922us/step - loss: 0.6364 - accuracy: 0.6253 - val_loss: 0.6676 - val_accuracy: 0.5950\n",
      "Epoch 16/40\n",
      "31/31 [==============================] - 0s 964us/step - loss: 0.6345 - accuracy: 0.6374 - val_loss: 0.6634 - val_accuracy: 0.6050\n",
      "Epoch 17/40\n",
      "31/31 [==============================] - 0s 989us/step - loss: 0.6305 - accuracy: 0.6444 - val_loss: 0.6605 - val_accuracy: 0.6150\n",
      "Epoch 18/40\n",
      "31/31 [==============================] - 0s 960us/step - loss: 0.6218 - accuracy: 0.6283 - val_loss: 0.6569 - val_accuracy: 0.6200\n",
      "Epoch 19/40\n",
      "31/31 [==============================] - 0s 980us/step - loss: 0.6265 - accuracy: 0.6374 - val_loss: 0.6569 - val_accuracy: 0.6100\n",
      "Epoch 20/40\n",
      "31/31 [==============================] - 0s 989us/step - loss: 0.6001 - accuracy: 0.6758 - val_loss: 0.6559 - val_accuracy: 0.6050\n",
      "Epoch 21/40\n",
      "31/31 [==============================] - 0s 972us/step - loss: 0.6097 - accuracy: 0.6636 - val_loss: 0.6554 - val_accuracy: 0.6100\n",
      "Epoch 22/40\n",
      "31/31 [==============================] - 0s 983us/step - loss: 0.6172 - accuracy: 0.6707 - val_loss: 0.6559 - val_accuracy: 0.6350\n",
      "Epoch 23/40\n",
      "31/31 [==============================] - 0s 983us/step - loss: 0.5960 - accuracy: 0.6859 - val_loss: 0.6532 - val_accuracy: 0.6350\n",
      "Epoch 24/40\n",
      "31/31 [==============================] - 0s 949us/step - loss: 0.5816 - accuracy: 0.6949 - val_loss: 0.6556 - val_accuracy: 0.6050\n",
      "Epoch 25/40\n",
      "31/31 [==============================] - 0s 945us/step - loss: 0.5776 - accuracy: 0.6788 - val_loss: 0.6533 - val_accuracy: 0.6450\n",
      "Epoch 26/40\n",
      "31/31 [==============================] - 0s 999us/step - loss: 0.5705 - accuracy: 0.6798 - val_loss: 0.6593 - val_accuracy: 0.6300\n",
      "Epoch 27/40\n",
      "31/31 [==============================] - 0s 961us/step - loss: 0.5562 - accuracy: 0.7121 - val_loss: 0.6549 - val_accuracy: 0.5750\n",
      "Epoch 28/40\n",
      "31/31 [==============================] - 0s 936us/step - loss: 0.5716 - accuracy: 0.7010 - val_loss: 0.6491 - val_accuracy: 0.6300\n",
      "Epoch 29/40\n",
      "31/31 [==============================] - 0s 971us/step - loss: 0.5557 - accuracy: 0.7273 - val_loss: 0.6531 - val_accuracy: 0.6100\n",
      "Epoch 30/40\n",
      "31/31 [==============================] - 0s 941us/step - loss: 0.5433 - accuracy: 0.7333 - val_loss: 0.6573 - val_accuracy: 0.6250\n",
      "Epoch 31/40\n",
      "31/31 [==============================] - 0s 966us/step - loss: 0.5364 - accuracy: 0.7333 - val_loss: 0.6582 - val_accuracy: 0.6150\n",
      "Epoch 32/40\n",
      "31/31 [==============================] - 0s 943us/step - loss: 0.5098 - accuracy: 0.7505 - val_loss: 0.6695 - val_accuracy: 0.6400\n",
      "Epoch 33/40\n",
      "31/31 [==============================] - 0s 937us/step - loss: 0.4999 - accuracy: 0.7586 - val_loss: 0.6775 - val_accuracy: 0.6250\n"
     ]
    },
    {
     "data": {
      "text/plain": "<keras.src.callbacks.History at 0x291266590>"
     },
     "execution_count": 30,
     "metadata": {},
     "output_type": "execute_result"
    }
   ],
   "source": [
    "human_model.fit(human_x_train, human_y_train, epochs=40, callbacks=[early_stopping],\n",
    "                validation_data=(human_x_test, human_y_test))"
   ],
   "metadata": {
    "collapsed": false,
    "ExecuteTime": {
     "start_time": "2023-05-22T15:22:16.533787Z",
     "end_time": "2023-05-22T15:22:17.793292Z"
    }
   }
  },
  {
   "cell_type": "markdown",
   "source": [
    "### Yeast Training & Testing"
   ],
   "metadata": {
    "collapsed": false
   }
  },
  {
   "cell_type": "code",
   "execution_count": 7,
   "outputs": [],
   "source": [
    "yeast_x_test, yeast_y_test = load_dataset(Species.yeast, independent=True, encoding=FeatureEncoder.binary)\n",
    "yeast_x_train, yeast_y_train = load_dataset(Species.yeast, independent=False, encoding=FeatureEncoder.binary)"
   ],
   "metadata": {
    "collapsed": false,
    "ExecuteTime": {
     "start_time": "2023-05-22T14:56:54.894756Z",
     "end_time": "2023-05-22T14:56:54.919932Z"
    }
   }
  },
  {
   "cell_type": "code",
   "execution_count": 24,
   "outputs": [],
   "source": [
    "yeast_model = Sequential([\n",
    "    Dense(124, input_dim=124, activation='relu'),\n",
    "    Dropout(0.2),\n",
    "    Dense(42, activation='relu'),\n",
    "    Dropout(0.8),\n",
    "    Dense(1, activation='sigmoid'),\n",
    "])\n",
    "\n",
    "early_stopping = EarlyStopping(monitor='val_loss', patience=5, mode='min')\n",
    "\n",
    "yeast_model.compile(loss=BinaryCrossentropy(from_logits=False), optimizer='adam', metrics=['accuracy'])"
   ],
   "metadata": {
    "collapsed": false,
    "ExecuteTime": {
     "start_time": "2023-05-22T15:21:28.966334Z",
     "end_time": "2023-05-22T15:21:28.998417Z"
    }
   }
  },
  {
   "cell_type": "code",
   "execution_count": 25,
   "outputs": [
    {
     "name": "stdout",
     "output_type": "stream",
     "text": [
      "Epoch 1/40\n",
      "20/20 [==============================] - 0s 4ms/step - loss: 0.8035 - accuracy: 0.4952 - val_loss: 0.6812 - val_accuracy: 0.5550\n",
      "Epoch 2/40\n",
      "20/20 [==============================] - 0s 1ms/step - loss: 0.7350 - accuracy: 0.5111 - val_loss: 0.6741 - val_accuracy: 0.6100\n",
      "Epoch 3/40\n",
      "20/20 [==============================] - 0s 1ms/step - loss: 0.7261 - accuracy: 0.5175 - val_loss: 0.6737 - val_accuracy: 0.6400\n",
      "Epoch 4/40\n",
      "20/20 [==============================] - 0s 1ms/step - loss: 0.6907 - accuracy: 0.5462 - val_loss: 0.6720 - val_accuracy: 0.6200\n",
      "Epoch 5/40\n",
      "20/20 [==============================] - 0s 1ms/step - loss: 0.6727 - accuracy: 0.5637 - val_loss: 0.6665 - val_accuracy: 0.6150\n",
      "Epoch 6/40\n",
      "20/20 [==============================] - 0s 1ms/step - loss: 0.6656 - accuracy: 0.5955 - val_loss: 0.6587 - val_accuracy: 0.6550\n",
      "Epoch 7/40\n",
      "20/20 [==============================] - 0s 1ms/step - loss: 0.6730 - accuracy: 0.5589 - val_loss: 0.6541 - val_accuracy: 0.6200\n",
      "Epoch 8/40\n",
      "20/20 [==============================] - 0s 1ms/step - loss: 0.6498 - accuracy: 0.6099 - val_loss: 0.6448 - val_accuracy: 0.6150\n",
      "Epoch 9/40\n",
      "20/20 [==============================] - 0s 1ms/step - loss: 0.6353 - accuracy: 0.6481 - val_loss: 0.6369 - val_accuracy: 0.6350\n",
      "Epoch 10/40\n",
      "20/20 [==============================] - 0s 1ms/step - loss: 0.6546 - accuracy: 0.5828 - val_loss: 0.6305 - val_accuracy: 0.6700\n",
      "Epoch 11/40\n",
      "20/20 [==============================] - 0s 1ms/step - loss: 0.6235 - accuracy: 0.6513 - val_loss: 0.6221 - val_accuracy: 0.6900\n",
      "Epoch 12/40\n",
      "20/20 [==============================] - 0s 1ms/step - loss: 0.6217 - accuracy: 0.6545 - val_loss: 0.6111 - val_accuracy: 0.6850\n",
      "Epoch 13/40\n",
      "20/20 [==============================] - 0s 1ms/step - loss: 0.6210 - accuracy: 0.6465 - val_loss: 0.6031 - val_accuracy: 0.6850\n",
      "Epoch 14/40\n",
      "20/20 [==============================] - 0s 1ms/step - loss: 0.5808 - accuracy: 0.6783 - val_loss: 0.6006 - val_accuracy: 0.6950\n",
      "Epoch 15/40\n",
      "20/20 [==============================] - 0s 1ms/step - loss: 0.6008 - accuracy: 0.6640 - val_loss: 0.5946 - val_accuracy: 0.7200\n",
      "Epoch 16/40\n",
      "20/20 [==============================] - 0s 1ms/step - loss: 0.5673 - accuracy: 0.7118 - val_loss: 0.5925 - val_accuracy: 0.7000\n",
      "Epoch 17/40\n",
      "20/20 [==============================] - 0s 1ms/step - loss: 0.5628 - accuracy: 0.7070 - val_loss: 0.5783 - val_accuracy: 0.7100\n",
      "Epoch 18/40\n",
      "20/20 [==============================] - 0s 1ms/step - loss: 0.5370 - accuracy: 0.7357 - val_loss: 0.5797 - val_accuracy: 0.7200\n",
      "Epoch 19/40\n",
      "20/20 [==============================] - 0s 1ms/step - loss: 0.5178 - accuracy: 0.7357 - val_loss: 0.5692 - val_accuracy: 0.7100\n",
      "Epoch 20/40\n",
      "20/20 [==============================] - 0s 1ms/step - loss: 0.4999 - accuracy: 0.7532 - val_loss: 0.5678 - val_accuracy: 0.6850\n",
      "Epoch 21/40\n",
      "20/20 [==============================] - 0s 1ms/step - loss: 0.5131 - accuracy: 0.7341 - val_loss: 0.5616 - val_accuracy: 0.7200\n",
      "Epoch 22/40\n",
      "20/20 [==============================] - 0s 1ms/step - loss: 0.5089 - accuracy: 0.7564 - val_loss: 0.5626 - val_accuracy: 0.6950\n",
      "Epoch 23/40\n",
      "20/20 [==============================] - 0s 1ms/step - loss: 0.4648 - accuracy: 0.7659 - val_loss: 0.5595 - val_accuracy: 0.7000\n",
      "Epoch 24/40\n",
      "20/20 [==============================] - 0s 1ms/step - loss: 0.4538 - accuracy: 0.7946 - val_loss: 0.5641 - val_accuracy: 0.7000\n",
      "Epoch 25/40\n",
      "20/20 [==============================] - 0s 1ms/step - loss: 0.4350 - accuracy: 0.7962 - val_loss: 0.5638 - val_accuracy: 0.6850\n",
      "Epoch 26/40\n",
      "20/20 [==============================] - 0s 1ms/step - loss: 0.4141 - accuracy: 0.8010 - val_loss: 0.5660 - val_accuracy: 0.7050\n",
      "Epoch 27/40\n",
      "20/20 [==============================] - 0s 1ms/step - loss: 0.3819 - accuracy: 0.8248 - val_loss: 0.5763 - val_accuracy: 0.7150\n",
      "Epoch 28/40\n",
      "20/20 [==============================] - 0s 1ms/step - loss: 0.3793 - accuracy: 0.8201 - val_loss: 0.5529 - val_accuracy: 0.7150\n",
      "Epoch 29/40\n",
      "20/20 [==============================] - 0s 1ms/step - loss: 0.3580 - accuracy: 0.8439 - val_loss: 0.5656 - val_accuracy: 0.7150\n",
      "Epoch 30/40\n",
      "20/20 [==============================] - 0s 1ms/step - loss: 0.3536 - accuracy: 0.8487 - val_loss: 0.5618 - val_accuracy: 0.6950\n",
      "Epoch 31/40\n",
      "20/20 [==============================] - 0s 1ms/step - loss: 0.3187 - accuracy: 0.8774 - val_loss: 0.5751 - val_accuracy: 0.7200\n",
      "Epoch 32/40\n",
      "20/20 [==============================] - 0s 1ms/step - loss: 0.3125 - accuracy: 0.8869 - val_loss: 0.5930 - val_accuracy: 0.6900\n",
      "Epoch 33/40\n",
      "20/20 [==============================] - 0s 1ms/step - loss: 0.2814 - accuracy: 0.8854 - val_loss: 0.5879 - val_accuracy: 0.6800\n"
     ]
    },
    {
     "data": {
      "text/plain": "<keras.src.callbacks.History at 0x28f6d6590>"
     },
     "execution_count": 25,
     "metadata": {},
     "output_type": "execute_result"
    }
   ],
   "source": [
    "yeast_model.fit(yeast_x_train, yeast_y_train, epochs=40, callbacks=[early_stopping],\n",
    "                validation_data=(yeast_x_test, yeast_y_test))"
   ],
   "metadata": {
    "collapsed": false,
    "ExecuteTime": {
     "start_time": "2023-05-22T15:21:32.604271Z",
     "end_time": "2023-05-22T15:21:33.704014Z"
    }
   }
  },
  {
   "cell_type": "code",
   "execution_count": 31,
   "outputs": [
    {
     "name": "stdout",
     "output_type": "stream",
     "text": [
      "7/7 [==============================] - 0s 485us/step\n",
      "7/7 [==============================] - 0s 495us/step\n",
      "7/7 [==============================] - 0s 587us/step\n",
      "7/7 [==============================] - 0s 487us/step\n"
     ]
    }
   ],
   "source": [
    "human_model_report = ModelReport.generate(human_model, human_x_test, human_y_test, is_keras=True)\n",
    "yeast_model_report = ModelReport.generate(yeast_model, yeast_x_test, yeast_y_test, is_keras=True)"
   ],
   "metadata": {
    "collapsed": false,
    "ExecuteTime": {
     "start_time": "2023-05-22T15:22:28.438913Z",
     "end_time": "2023-05-22T15:22:28.602316Z"
    }
   }
  },
  {
   "cell_type": "code",
   "execution_count": 32,
   "outputs": [
    {
     "name": "stdout",
     "output_type": "stream",
     "text": [
      "note: Running TeX ...\n",
      "note: Rerunning TeX because \"report.aux\" changed ...\n",
      "note: Running xdvipdfmx ...\n",
      "note: Writing `nn/binary/report.pdf` (35.04 KiB)\n",
      "note: Skipped writing 1 intermediate files (use --keep-intermediates to keep them)\n"
     ]
    },
    {
     "data": {
      "text/plain": "<Figure size 640x480 with 0 Axes>"
     },
     "metadata": {},
     "output_type": "display_data"
    },
    {
     "data": {
      "text/plain": "<Figure size 640x480 with 0 Axes>"
     },
     "metadata": {},
     "output_type": "display_data"
    },
    {
     "data": {
      "text/plain": "<Figure size 640x480 with 0 Axes>"
     },
     "metadata": {},
     "output_type": "display_data"
    },
    {
     "data": {
      "text/plain": "<Figure size 640x480 with 0 Axes>"
     },
     "metadata": {},
     "output_type": "display_data"
    },
    {
     "data": {
      "text/plain": "<Figure size 640x480 with 0 Axes>"
     },
     "metadata": {},
     "output_type": "display_data"
    },
    {
     "data": {
      "text/plain": "<Figure size 640x480 with 0 Axes>"
     },
     "metadata": {},
     "output_type": "display_data"
    },
    {
     "data": {
      "text/plain": "<Figure size 640x480 with 0 Axes>"
     },
     "metadata": {},
     "output_type": "display_data"
    },
    {
     "data": {
      "text/plain": "<Figure size 640x480 with 0 Axes>"
     },
     "metadata": {},
     "output_type": "display_data"
    },
    {
     "data": {
      "text/plain": "<Figure size 640x480 with 0 Axes>"
     },
     "metadata": {},
     "output_type": "display_data"
    },
    {
     "data": {
      "text/plain": "<Figure size 640x480 with 0 Axes>"
     },
     "metadata": {},
     "output_type": "display_data"
    },
    {
     "data": {
      "text/plain": "<Figure size 640x480 with 0 Axes>"
     },
     "metadata": {},
     "output_type": "display_data"
    },
    {
     "data": {
      "text/plain": "<Figure size 640x480 with 0 Axes>"
     },
     "metadata": {},
     "output_type": "display_data"
    }
   ],
   "source": [
    "from pathlib import Path\n",
    "\n",
    "generate_report({Species.human.value: human_model_report, Species.yeast.value: yeast_model_report}, Path('nn/binary'))"
   ],
   "metadata": {
    "collapsed": false,
    "ExecuteTime": {
     "start_time": "2023-05-22T15:22:29.401003Z",
     "end_time": "2023-05-22T15:22:32.908063Z"
    }
   }
  },
  {
   "cell_type": "code",
   "execution_count": 26,
   "outputs": [],
   "source": [
    "def select_features(features):\n",
    "    selection = [46, 36, 44, 77, 45, 49, 3]\n",
    "    imp_features = list(map(lambda x: f'binary_{x + 1}', selection))\n",
    "    return features[imp_features]"
   ],
   "metadata": {
    "collapsed": false,
    "ExecuteTime": {
     "start_time": "2023-05-22T15:21:50.467017Z",
     "end_time": "2023-05-22T15:21:50.476628Z"
    }
   }
  },
  {
   "cell_type": "code",
   "execution_count": 27,
   "outputs": [
    {
     "data": {
      "text/plain": "0.57"
     },
     "execution_count": 27,
     "metadata": {},
     "output_type": "execute_result"
    }
   ],
   "source": [
    "from sklearn.svm import SVC\n",
    "\n",
    "human_classifier = SVC(C=26397.4411193282, gamma=0.0212845791037017, probability=True)\n",
    "\n",
    "human_classifier.fit(select_features(human_x_train), human_y_train)\n",
    "human_classifier.score(select_features(human_x_test), human_y_test)"
   ],
   "metadata": {
    "collapsed": false,
    "ExecuteTime": {
     "start_time": "2023-05-22T15:21:50.823505Z",
     "end_time": "2023-05-22T15:21:52.967605Z"
    }
   }
  },
  {
   "cell_type": "code",
   "execution_count": 28,
   "outputs": [
    {
     "data": {
      "text/plain": "0.515"
     },
     "execution_count": 28,
     "metadata": {},
     "output_type": "execute_result"
    }
   ],
   "source": [
    "from sklearn.svm import SVC\n",
    "\n",
    "yeast_classifier = SVC(C=26397.4411193282, gamma=0.0212845791037017, probability=True)\n",
    "\n",
    "yeast_classifier.fit(select_features(yeast_x_train), yeast_y_train)\n",
    "yeast_classifier.score(select_features(yeast_x_test), yeast_y_test)"
   ],
   "metadata": {
    "collapsed": false,
    "ExecuteTime": {
     "start_time": "2023-05-22T15:21:52.968884Z",
     "end_time": "2023-05-22T15:21:54.511335Z"
    }
   }
  },
  {
   "cell_type": "code",
   "execution_count": 35,
   "outputs": [],
   "source": [
    "human_model_report = ModelReport.generate(human_classifier, select_features(human_x_test), human_y_test)\n",
    "yeast_model_report = ModelReport.generate(yeast_classifier, select_features(yeast_x_test), yeast_y_test)"
   ],
   "metadata": {
    "collapsed": false,
    "ExecuteTime": {
     "start_time": "2023-05-22T15:23:05.045966Z",
     "end_time": "2023-05-22T15:23:05.096675Z"
    }
   }
  },
  {
   "cell_type": "code",
   "execution_count": 36,
   "outputs": [
    {
     "name": "stdout",
     "output_type": "stream",
     "text": [
      "note: Running TeX ...\n",
      "note: Rerunning TeX because \"report.aux\" changed ...\n",
      "note: Running xdvipdfmx ...\n",
      "note: Writing `ml/binary/report.pdf` (32.57 KiB)\n",
      "note: Skipped writing 1 intermediate files (use --keep-intermediates to keep them)\n"
     ]
    },
    {
     "data": {
      "text/plain": "<Figure size 640x480 with 0 Axes>"
     },
     "metadata": {},
     "output_type": "display_data"
    },
    {
     "data": {
      "text/plain": "<Figure size 640x480 with 0 Axes>"
     },
     "metadata": {},
     "output_type": "display_data"
    },
    {
     "data": {
      "text/plain": "<Figure size 640x480 with 0 Axes>"
     },
     "metadata": {},
     "output_type": "display_data"
    },
    {
     "data": {
      "text/plain": "<Figure size 640x480 with 0 Axes>"
     },
     "metadata": {},
     "output_type": "display_data"
    },
    {
     "data": {
      "text/plain": "<Figure size 640x480 with 0 Axes>"
     },
     "metadata": {},
     "output_type": "display_data"
    },
    {
     "data": {
      "text/plain": "<Figure size 640x480 with 0 Axes>"
     },
     "metadata": {},
     "output_type": "display_data"
    },
    {
     "data": {
      "text/plain": "<Figure size 640x480 with 0 Axes>"
     },
     "metadata": {},
     "output_type": "display_data"
    },
    {
     "data": {
      "text/plain": "<Figure size 640x480 with 0 Axes>"
     },
     "metadata": {},
     "output_type": "display_data"
    },
    {
     "data": {
      "text/plain": "<Figure size 640x480 with 0 Axes>"
     },
     "metadata": {},
     "output_type": "display_data"
    },
    {
     "data": {
      "text/plain": "<Figure size 640x480 with 0 Axes>"
     },
     "metadata": {},
     "output_type": "display_data"
    },
    {
     "data": {
      "text/plain": "<Figure size 640x480 with 0 Axes>"
     },
     "metadata": {},
     "output_type": "display_data"
    },
    {
     "data": {
      "text/plain": "<Figure size 640x480 with 0 Axes>"
     },
     "metadata": {},
     "output_type": "display_data"
    }
   ],
   "source": [
    "generate_report({Species.human.value: human_model_report, Species.yeast.value: yeast_model_report}, Path('ml/binary'))"
   ],
   "metadata": {
    "collapsed": false,
    "ExecuteTime": {
     "start_time": "2023-05-22T15:23:07.012753Z",
     "end_time": "2023-05-22T15:23:09.926372Z"
    }
   }
  },
  {
   "cell_type": "code",
   "execution_count": null,
   "outputs": [],
   "source": [],
   "metadata": {
    "collapsed": false
   }
  }
 ],
 "metadata": {
  "kernelspec": {
   "display_name": "Python 3",
   "language": "python",
   "name": "python3"
  },
  "language_info": {
   "codemirror_mode": {
    "name": "ipython",
    "version": 2
   },
   "file_extension": ".py",
   "mimetype": "text/x-python",
   "name": "python",
   "nbconvert_exporter": "python",
   "pygments_lexer": "ipython2",
   "version": "2.7.6"
  }
 },
 "nbformat": 4,
 "nbformat_minor": 0
}
