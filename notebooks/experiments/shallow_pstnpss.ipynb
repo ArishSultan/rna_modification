{
 "cells": [
  {
   "cell_type": "code",
   "execution_count": 1,
   "outputs": [],
   "source": [
    "import random\n",
    "import numpy as np\n",
    "import tensorflow as tf\n",
    "\n",
    "random.seed(0)\n",
    "np.random.seed(0)\n",
    "tf.random.set_seed(0)"
   ],
   "metadata": {
    "collapsed": false,
    "ExecuteTime": {
     "end_time": "2023-08-08T10:05:09.637894Z",
     "start_time": "2023-08-08T10:05:07.274847Z"
    }
   }
  },
  {
   "cell_type": "code",
   "execution_count": 2,
   "metadata": {
    "collapsed": true,
    "ExecuteTime": {
     "end_time": "2023-08-08T10:05:10.381479Z",
     "start_time": "2023-08-08T10:05:09.638676Z"
    }
   },
   "outputs": [],
   "source": [
    "from keras import Sequential\n",
    "from keras.layers import *\n",
    "from xgboost import XGBClassifier\n",
    "from keras.callbacks import EarlyStopping\n",
    "from keras.losses import BinaryCrossentropy\n",
    "\n",
    "from src.experiment import *\n",
    "from src.data import load_psi, Species\n",
    "from src.features.encodings import pstnpss\n",
    "# from src.model.porpoise import pstnpss"
   ]
  },
  {
   "cell_type": "code",
   "execution_count": 3,
   "outputs": [],
   "source": [
    "human_encoder = pstnpss.Encoder()\n",
    "yeast_encoder = pstnpss.Encoder()"
   ],
   "metadata": {
    "collapsed": false,
    "ExecuteTime": {
     "end_time": "2023-08-08T10:05:10.385939Z",
     "start_time": "2023-08-08T10:05:10.382380Z"
    }
   }
  },
  {
   "cell_type": "code",
   "execution_count": 4,
   "outputs": [],
   "source": [
    "human_train = human_encoder.fit_transform(load_psi(Species.human, independent=False))\n",
    "human_test = human_encoder.transform(load_psi(Species.human, independent=True))\n",
    "\n",
    "yeast_train = yeast_encoder.fit_transform(load_psi(Species.yeast, independent=False))\n",
    "yeast_test = yeast_encoder.transform(load_psi(Species.yeast, independent=True))"
   ],
   "metadata": {
    "collapsed": false,
    "ExecuteTime": {
     "end_time": "2023-08-08T10:05:10.590537Z",
     "start_time": "2023-08-08T10:05:10.384994Z"
    }
   }
  },
  {
   "cell_type": "code",
   "execution_count": 6,
   "outputs": [],
   "source": [
    "from src.data import save_dataset\n",
    "\n",
    "save_dataset('/Users/arish/Workspace/research/rna_modification/data/human_train.csv', human_train)\n",
    "save_dataset('/Users/arish/Workspace/research/rna_modification/data/human_test.csv', human_test)"
   ],
   "metadata": {
    "collapsed": false,
    "ExecuteTime": {
     "end_time": "2023-08-08T10:05:27.015049Z",
     "start_time": "2023-08-08T10:05:26.995962Z"
    }
   }
  },
  {
   "cell_type": "code",
   "execution_count": 7,
   "outputs": [
    {
     "name": "stdout",
     "output_type": "stream",
     "text": [
      "Epoch 1/100\n",
      "31/31 [==============================] - 0s 4ms/step - loss: 0.6926 - accuracy: 0.4919 - val_loss: 0.6896 - val_accuracy: 0.5000\n",
      "Epoch 2/100\n",
      "31/31 [==============================] - 0s 2ms/step - loss: 0.6882 - accuracy: 0.5384 - val_loss: 0.6803 - val_accuracy: 0.6200\n",
      "Epoch 3/100\n",
      "31/31 [==============================] - 0s 2ms/step - loss: 0.6797 - accuracy: 0.5808 - val_loss: 0.6658 - val_accuracy: 0.6700\n",
      "Epoch 4/100\n",
      "31/31 [==============================] - 0s 2ms/step - loss: 0.6702 - accuracy: 0.6111 - val_loss: 0.6576 - val_accuracy: 0.6500\n",
      "Epoch 5/100\n",
      "31/31 [==============================] - 0s 2ms/step - loss: 0.6609 - accuracy: 0.6222 - val_loss: 0.6651 - val_accuracy: 0.6250\n",
      "Epoch 6/100\n",
      "31/31 [==============================] - 0s 2ms/step - loss: 0.6643 - accuracy: 0.6172 - val_loss: 0.6429 - val_accuracy: 0.6550\n",
      "Epoch 7/100\n",
      "31/31 [==============================] - 0s 2ms/step - loss: 0.6612 - accuracy: 0.6111 - val_loss: 0.6457 - val_accuracy: 0.6550\n",
      "Epoch 8/100\n",
      "31/31 [==============================] - 0s 2ms/step - loss: 0.6661 - accuracy: 0.6061 - val_loss: 0.6558 - val_accuracy: 0.6400\n",
      "Epoch 9/100\n",
      "31/31 [==============================] - 0s 2ms/step - loss: 0.6630 - accuracy: 0.6253 - val_loss: 0.6462 - val_accuracy: 0.6700\n",
      "Epoch 10/100\n",
      "31/31 [==============================] - 0s 2ms/step - loss: 0.6646 - accuracy: 0.6121 - val_loss: 0.6449 - val_accuracy: 0.6650\n",
      "Epoch 11/100\n",
      "31/31 [==============================] - 0s 2ms/step - loss: 0.6621 - accuracy: 0.6111 - val_loss: 0.6427 - val_accuracy: 0.6600\n",
      "Epoch 12/100\n",
      "31/31 [==============================] - 0s 2ms/step - loss: 0.6600 - accuracy: 0.5990 - val_loss: 0.6482 - val_accuracy: 0.6550\n",
      "Epoch 13/100\n",
      "31/31 [==============================] - 0s 2ms/step - loss: 0.6619 - accuracy: 0.6101 - val_loss: 0.6478 - val_accuracy: 0.6750\n",
      "Epoch 14/100\n",
      "31/31 [==============================] - 0s 2ms/step - loss: 0.6568 - accuracy: 0.6232 - val_loss: 0.6454 - val_accuracy: 0.6200\n",
      "Epoch 15/100\n",
      "31/31 [==============================] - 0s 2ms/step - loss: 0.6574 - accuracy: 0.6283 - val_loss: 0.6434 - val_accuracy: 0.6550\n",
      "Epoch 16/100\n",
      "31/31 [==============================] - 0s 2ms/step - loss: 0.6561 - accuracy: 0.6162 - val_loss: 0.6467 - val_accuracy: 0.6200\n"
     ]
    },
    {
     "data": {
      "text/plain": "<keras.src.callbacks.History at 0x2c7dfe2d0>"
     },
     "execution_count": 7,
     "metadata": {},
     "output_type": "execute_result"
    }
   ],
   "source": [
    "human_model = Sequential([\n",
    "    Conv1D(32, 3, activation='relu', input_shape=(19, 1)),\n",
    "    MaxPooling1D(2),\n",
    "    Conv1D(64, 3, activation='relu'),\n",
    "    MaxPooling1D(2),\n",
    "    Flatten(),\n",
    "    Dense(64, activation='relu'),\n",
    "    Dropout(0.2),\n",
    "    Dense(1, activation='sigmoid')\n",
    "])\n",
    "\n",
    "human_model.compile(\n",
    "    loss=BinaryCrossentropy(from_logits=False),\n",
    "    optimizer='adam',\n",
    "    metrics=['accuracy'],\n",
    ")\n",
    "\n",
    "early_stopping = EarlyStopping(\n",
    "    patience=5,\n",
    "    mode='min',\n",
    "    restore_best_weights=True\n",
    ")\n",
    "\n",
    "human_model.fit(human_train.samples, human_train.targets,\n",
    "                epochs=100, callbacks=[early_stopping],\n",
    "                validation_data=(human_test.samples, human_test.targets))"
   ],
   "metadata": {
    "collapsed": false,
    "ExecuteTime": {
     "end_time": "2023-08-08T10:03:53.249828Z",
     "start_time": "2023-08-08T10:03:51.932471Z"
    }
   }
  },
  {
   "cell_type": "code",
   "execution_count": 8,
   "outputs": [
    {
     "name": "stdout",
     "output_type": "stream",
     "text": [
      "Epoch 1/100\n",
      "20/20 [==============================] - 0s 5ms/step - loss: 0.6905 - accuracy: 0.5605 - val_loss: 0.6929 - val_accuracy: 0.5600\n",
      "Epoch 2/100\n",
      "20/20 [==============================] - 0s 1ms/step - loss: 0.6865 - accuracy: 0.5732 - val_loss: 0.6909 - val_accuracy: 0.5700\n",
      "Epoch 3/100\n",
      "20/20 [==============================] - 0s 1ms/step - loss: 0.6843 - accuracy: 0.5812 - val_loss: 0.6887 - val_accuracy: 0.5750\n",
      "Epoch 4/100\n",
      "20/20 [==============================] - 0s 1ms/step - loss: 0.6783 - accuracy: 0.5987 - val_loss: 0.6858 - val_accuracy: 0.5650\n",
      "Epoch 5/100\n",
      "20/20 [==============================] - 0s 1ms/step - loss: 0.6732 - accuracy: 0.5971 - val_loss: 0.6833 - val_accuracy: 0.5600\n",
      "Epoch 6/100\n",
      "20/20 [==============================] - 0s 1ms/step - loss: 0.6665 - accuracy: 0.6274 - val_loss: 0.6800 - val_accuracy: 0.5650\n",
      "Epoch 7/100\n",
      "20/20 [==============================] - 0s 1ms/step - loss: 0.6606 - accuracy: 0.6322 - val_loss: 0.6775 - val_accuracy: 0.5650\n",
      "Epoch 8/100\n",
      "20/20 [==============================] - 0s 1ms/step - loss: 0.6553 - accuracy: 0.6099 - val_loss: 0.6760 - val_accuracy: 0.5650\n",
      "Epoch 9/100\n",
      "20/20 [==============================] - 0s 1ms/step - loss: 0.6535 - accuracy: 0.6178 - val_loss: 0.6751 - val_accuracy: 0.5750\n",
      "Epoch 10/100\n",
      "20/20 [==============================] - 0s 1ms/step - loss: 0.6468 - accuracy: 0.6306 - val_loss: 0.6729 - val_accuracy: 0.5500\n",
      "Epoch 11/100\n",
      "20/20 [==============================] - 0s 1ms/step - loss: 0.6348 - accuracy: 0.6401 - val_loss: 0.6742 - val_accuracy: 0.5500\n",
      "Epoch 12/100\n",
      "20/20 [==============================] - 0s 1ms/step - loss: 0.6350 - accuracy: 0.6465 - val_loss: 0.6733 - val_accuracy: 0.5600\n",
      "Epoch 13/100\n",
      "20/20 [==============================] - 0s 1ms/step - loss: 0.6329 - accuracy: 0.6338 - val_loss: 0.6767 - val_accuracy: 0.5500\n",
      "Epoch 14/100\n",
      "20/20 [==============================] - 0s 1ms/step - loss: 0.6372 - accuracy: 0.6561 - val_loss: 0.6772 - val_accuracy: 0.5450\n",
      "Epoch 15/100\n",
      "20/20 [==============================] - 0s 2ms/step - loss: 0.6244 - accuracy: 0.6242 - val_loss: 0.6839 - val_accuracy: 0.5400\n"
     ]
    },
    {
     "data": {
      "text/plain": "<keras.src.callbacks.History at 0x2c96d2cd0>"
     },
     "execution_count": 8,
     "metadata": {},
     "output_type": "execute_result"
    }
   ],
   "source": [
    "yeast_model = Sequential([\n",
    "    Dense(29, input_dim=29, activation='relu'),\n",
    "    Dropout(0.2),\n",
    "    Dense(16, activation='relu'),\n",
    "    Dropout(0.5),\n",
    "    Dense(1, activation='sigmoid'),\n",
    "])\n",
    "\n",
    "yeast_model.compile(\n",
    "    loss=BinaryCrossentropy(from_logits=False),\n",
    "    optimizer='adam',\n",
    "    metrics=['accuracy']\n",
    ")\n",
    "\n",
    "early_stopping = EarlyStopping(\n",
    "    monitor='val_loss',\n",
    "    patience=5,\n",
    "    mode='min',\n",
    "    restore_best_weights=True,\n",
    ")\n",
    "\n",
    "yeast_model.fit(yeast_train.samples, yeast_train.targets,\n",
    "                epochs=100, callbacks=[early_stopping],\n",
    "                validation_data=(yeast_test.samples, yeast_test.targets))"
   ],
   "metadata": {
    "collapsed": false,
    "ExecuteTime": {
     "end_time": "2023-08-08T10:03:54.029266Z",
     "start_time": "2023-08-08T10:03:53.254583Z"
    }
   }
  },
  {
   "cell_type": "code",
   "execution_count": 19,
   "outputs": [],
   "source": [
    "def select_features(features):\n",
    "    selection = [10, 12, 8, 9, 17, 7, 6, 15, 14, 11, 2, 13, 5, 16, 18, 4, 1, 3, 0]\n",
    "    imp_features = list(map(lambda x: f'pstnpss_{x}', selection))\n",
    "    return features[imp_features]"
   ],
   "metadata": {
    "collapsed": false,
    "ExecuteTime": {
     "end_time": "2023-08-08T10:12:19.772876Z",
     "start_time": "2023-08-08T10:12:19.766209Z"
    }
   }
  },
  {
   "cell_type": "code",
   "execution_count": 21,
   "outputs": [
    {
     "data": {
      "text/plain": "1.0"
     },
     "execution_count": 21,
     "metadata": {},
     "output_type": "execute_result"
    }
   ],
   "source": [
    "human_classifier = XGBClassifier()\n",
    "\n",
    "human_classifier.fit(select_features(human_train.samples), human_train.targets)\n",
    "human_classifier.score(select_features(human_test.samples), human_test.targets)"
   ],
   "metadata": {
    "collapsed": false,
    "ExecuteTime": {
     "end_time": "2023-08-08T10:12:21.114089Z",
     "start_time": "2023-08-08T10:12:20.969081Z"
    }
   }
  },
  {
   "cell_type": "code",
   "execution_count": 11,
   "outputs": [
    {
     "data": {
      "text/plain": "0.965"
     },
     "execution_count": 11,
     "metadata": {},
     "output_type": "execute_result"
    }
   ],
   "source": [
    "yeast_classifier = XGBClassifier()\n",
    "\n",
    "yeast_classifier.fit(select_features(yeast_train.samples), yeast_train.targets)\n",
    "yeast_classifier.score(select_features(yeast_test.samples), yeast_test.targets)"
   ],
   "metadata": {
    "collapsed": false,
    "ExecuteTime": {
     "end_time": "2023-08-08T10:11:36.246499Z",
     "start_time": "2023-08-08T10:11:36.108374Z"
    }
   }
  },
  {
   "cell_type": "code",
   "execution_count": 12,
   "outputs": [
    {
     "name": "stdout",
     "output_type": "stream",
     "text": [
      "7/7 [==============================] - 0s 724us/step\n",
      "7/7 [==============================] - 0s 757us/step\n",
      "note: Running TeX ...\n",
      "note: Rerunning TeX because \"human_nn_test.aux\" changed ...\n",
      "note: Running xdvipdfmx ...\n",
      "note: Writing `pstnpss_report/human_nn_test.pdf` (27.17 KiB)\n",
      "note: Skipped writing 1 intermediate files (use --keep-intermediates to keep them)\n",
      "7/7 [==============================] - 0s 641us/step\n",
      "7/7 [==============================] - 0s 609us/step\n",
      "note: Running TeX ...\n",
      "note: Rerunning TeX because \"yeast_nn_test.aux\" changed ...\n",
      "note: Running xdvipdfmx ...\n",
      "note: Writing `pstnpss_report/yeast_nn_test.pdf` (27.58 KiB)\n",
      "note: Skipped writing 1 intermediate files (use --keep-intermediates to keep them)\n",
      "note: Running TeX ...\n",
      "note: Rerunning TeX because \"human_xg_test.aux\" changed ...\n",
      "note: Running xdvipdfmx ...\n",
      "note: Writing `pstnpss_report/human_xg_test.pdf` (24.11 KiB)\n",
      "note: Skipped writing 1 intermediate files (use --keep-intermediates to keep them)\n",
      "note: Running TeX ...\n",
      "note: Rerunning TeX because \"yeast_xg_test.aux\" changed ...\n",
      "note: Running xdvipdfmx ...\n",
      "note: Writing `pstnpss_report/yeast_xg_test.pdf` (24.56 KiB)\n",
      "note: Skipped writing 1 intermediate files (use --keep-intermediates to keep them)\n"
     ]
    }
   ],
   "source": [
    "generate_latex_report(\n",
    "    Report.create_report(human_model, (human_test.samples, human_test.targets), True),\n",
    "    'human_nn_test',\n",
    "    Path('pstnpss_report'),\n",
    "    True\n",
    ")\n",
    "\n",
    "generate_latex_report(\n",
    "    Report.create_report(yeast_model, (yeast_test.samples, yeast_test.targets), True),\n",
    "    'yeast_nn_test',\n",
    "    Path('pstnpss_report'),\n",
    "    True\n",
    ")\n",
    "\n",
    "generate_latex_report(\n",
    "    Report.create_report(human_classifier, (select_features(human_test.samples), human_test.targets)),\n",
    "    'human_xg_test',\n",
    "    Path('pstnpss_report'),\n",
    "    True\n",
    ")\n",
    "\n",
    "generate_latex_report(\n",
    "    Report.create_report(yeast_classifier, (select_features(yeast_test.samples), yeast_test.targets)),\n",
    "    'yeast_xg_test',\n",
    "    Path('pstnpss_report'),\n",
    "    True\n",
    ")"
   ],
   "metadata": {
    "collapsed": false,
    "ExecuteTime": {
     "end_time": "2023-08-08T10:04:01.306886Z",
     "start_time": "2023-08-08T10:03:54.250938Z"
    }
   }
  },
  {
   "cell_type": "code",
   "execution_count": null,
   "outputs": [],
   "source": [],
   "metadata": {
    "collapsed": false
   }
  }
 ],
 "metadata": {
  "kernelspec": {
   "display_name": "Python 3",
   "language": "python",
   "name": "python3"
  },
  "language_info": {
   "codemirror_mode": {
    "name": "ipython",
    "version": 2
   },
   "file_extension": ".py",
   "mimetype": "text/x-python",
   "name": "python",
   "nbconvert_exporter": "python",
   "pygments_lexer": "ipython2",
   "version": "2.7.6"
  }
 },
 "nbformat": 4,
 "nbformat_minor": 0
}
