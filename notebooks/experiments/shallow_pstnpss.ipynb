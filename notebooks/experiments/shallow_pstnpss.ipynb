{
 "cells": [
  {
   "cell_type": "code",
   "execution_count": 1,
   "outputs": [],
   "source": [
    "import random\n",
    "import numpy as np\n",
    "import tensorflow as tf\n",
    "\n",
    "from src.features.encodings import pse_knc\n",
    "\n",
    "random.seed(0)\n",
    "np.random.seed(0)\n",
    "tf.random.set_seed(0)"
   ],
   "metadata": {
    "collapsed": false,
    "ExecuteTime": {
     "start_time": "2023-05-24T00:33:37.953271Z",
     "end_time": "2023-05-24T00:33:40.368764Z"
    }
   }
  },
  {
   "cell_type": "code",
   "execution_count": 2,
   "metadata": {
    "collapsed": true,
    "ExecuteTime": {
     "start_time": "2023-05-24T00:33:40.369774Z",
     "end_time": "2023-05-24T00:33:41.860252Z"
    }
   },
   "outputs": [],
   "source": [
    "from pathlib import Path\n",
    "from keras import Sequential\n",
    "from keras.layers import *\n",
    "from xgboost import XGBClassifier\n",
    "from keras.callbacks import EarlyStopping\n",
    "from keras.losses import BinaryCrossentropy\n",
    "\n",
    "from src.features.encoder import FeatureEncoder\n",
    "from src.data.data_loader import load_dataset, Species\n",
    "from src.models.reporting.model_report import ModelReport\n",
    "from src.models.reporting.single_report import generate_report"
   ]
  },
  {
   "cell_type": "markdown",
   "source": [
    "### Human Training & Testing"
   ],
   "metadata": {
    "collapsed": false
   }
  },
  {
   "cell_type": "code",
   "execution_count": 7,
   "outputs": [],
   "source": [
    "human_train = load_dataset(\n",
    "    Species.human,\n",
    "    encoding=lambda x: FeatureEncoder.pstnpss(x, 'hs')\n",
    ")\n",
    "\n",
    "human_test = load_dataset(\n",
    "    Species.human,\n",
    "    independent=True,\n",
    "    encoding=lambda x: FeatureEncoder.pstnpss(x, 'hs')\n",
    ")"
   ],
   "metadata": {
    "collapsed": false,
    "ExecuteTime": {
     "start_time": "2023-05-24T00:37:28.130262Z",
     "end_time": "2023-05-24T00:37:28.162940Z"
    }
   }
  },
  {
   "cell_type": "code",
   "execution_count": 24,
   "outputs": [
    {
     "data": {
      "text/plain": "(200, 19)"
     },
     "execution_count": 24,
     "metadata": {},
     "output_type": "execute_result"
    }
   ],
   "source": [
    "human_test[0].shape"
   ],
   "metadata": {
    "collapsed": false,
    "ExecuteTime": {
     "start_time": "2023-05-24T00:42:05.609676Z",
     "end_time": "2023-05-24T00:42:05.614491Z"
    }
   }
  },
  {
   "cell_type": "code",
   "execution_count": null,
   "outputs": [],
   "source": [],
   "metadata": {
    "collapsed": false
   }
  },
  {
   "cell_type": "code",
   "execution_count": 61,
   "outputs": [
    {
     "name": "stdout",
     "output_type": "stream",
     "text": [
      "WARNING:tensorflow:Early stopping conditioned on metric `val_loss` which is not available. Available metrics are: loss,accuracy\n",
      "WARNING:tensorflow:Early stopping conditioned on metric `val_loss` which is not available. Available metrics are: loss,accuracy\n",
      "WARNING:tensorflow:Early stopping conditioned on metric `val_loss` which is not available. Available metrics are: loss,accuracy\n",
      "WARNING:tensorflow:Early stopping conditioned on metric `val_loss` which is not available. Available metrics are: loss,accuracy\n",
      "WARNING:tensorflow:Early stopping conditioned on metric `val_loss` which is not available. Available metrics are: loss,accuracy\n",
      "WARNING:tensorflow:Early stopping conditioned on metric `val_loss` which is not available. Available metrics are: loss,accuracy\n",
      "WARNING:tensorflow:Early stopping conditioned on metric `val_loss` which is not available. Available metrics are: loss,accuracy\n",
      "WARNING:tensorflow:Early stopping conditioned on metric `val_loss` which is not available. Available metrics are: loss,accuracy\n",
      "WARNING:tensorflow:Early stopping conditioned on metric `val_loss` which is not available. Available metrics are: loss,accuracy\n",
      "WARNING:tensorflow:Early stopping conditioned on metric `val_loss` which is not available. Available metrics are: loss,accuracy\n",
      "WARNING:tensorflow:Early stopping conditioned on metric `val_loss` which is not available. Available metrics are: loss,accuracy\n",
      "WARNING:tensorflow:Early stopping conditioned on metric `val_loss` which is not available. Available metrics are: loss,accuracy\n",
      "WARNING:tensorflow:Early stopping conditioned on metric `val_loss` which is not available. Available metrics are: loss,accuracy\n",
      "WARNING:tensorflow:Early stopping conditioned on metric `val_loss` which is not available. Available metrics are: loss,accuracy\n",
      "WARNING:tensorflow:Early stopping conditioned on metric `val_loss` which is not available. Available metrics are: loss,accuracy\n",
      "WARNING:tensorflow:Early stopping conditioned on metric `val_loss` which is not available. Available metrics are: loss,accuracy\n",
      "WARNING:tensorflow:Early stopping conditioned on metric `val_loss` which is not available. Available metrics are: loss,accuracy\n",
      "WARNING:tensorflow:Early stopping conditioned on metric `val_loss` which is not available. Available metrics are: loss,accuracy\n",
      "WARNING:tensorflow:Early stopping conditioned on metric `val_loss` which is not available. Available metrics are: loss,accuracy\n",
      "WARNING:tensorflow:Early stopping conditioned on metric `val_loss` which is not available. Available metrics are: loss,accuracy\n",
      "WARNING:tensorflow:Early stopping conditioned on metric `val_loss` which is not available. Available metrics are: loss,accuracy\n",
      "WARNING:tensorflow:Early stopping conditioned on metric `val_loss` which is not available. Available metrics are: loss,accuracy\n",
      "WARNING:tensorflow:Early stopping conditioned on metric `val_loss` which is not available. Available metrics are: loss,accuracy\n",
      "WARNING:tensorflow:Early stopping conditioned on metric `val_loss` which is not available. Available metrics are: loss,accuracy\n",
      "WARNING:tensorflow:Early stopping conditioned on metric `val_loss` which is not available. Available metrics are: loss,accuracy\n",
      "WARNING:tensorflow:Early stopping conditioned on metric `val_loss` which is not available. Available metrics are: loss,accuracy\n",
      "WARNING:tensorflow:Early stopping conditioned on metric `val_loss` which is not available. Available metrics are: loss,accuracy\n",
      "WARNING:tensorflow:Early stopping conditioned on metric `val_loss` which is not available. Available metrics are: loss,accuracy\n",
      "WARNING:tensorflow:Early stopping conditioned on metric `val_loss` which is not available. Available metrics are: loss,accuracy\n",
      "WARNING:tensorflow:Early stopping conditioned on metric `val_loss` which is not available. Available metrics are: loss,accuracy\n",
      "WARNING:tensorflow:Early stopping conditioned on metric `val_loss` which is not available. Available metrics are: loss,accuracy\n",
      "WARNING:tensorflow:Early stopping conditioned on metric `val_loss` which is not available. Available metrics are: loss,accuracy\n",
      "WARNING:tensorflow:Early stopping conditioned on metric `val_loss` which is not available. Available metrics are: loss,accuracy\n",
      "WARNING:tensorflow:Early stopping conditioned on metric `val_loss` which is not available. Available metrics are: loss,accuracy\n",
      "WARNING:tensorflow:Early stopping conditioned on metric `val_loss` which is not available. Available metrics are: loss,accuracy\n",
      "WARNING:tensorflow:Early stopping conditioned on metric `val_loss` which is not available. Available metrics are: loss,accuracy\n",
      "WARNING:tensorflow:Early stopping conditioned on metric `val_loss` which is not available. Available metrics are: loss,accuracy\n",
      "WARNING:tensorflow:Early stopping conditioned on metric `val_loss` which is not available. Available metrics are: loss,accuracy\n",
      "WARNING:tensorflow:Early stopping conditioned on metric `val_loss` which is not available. Available metrics are: loss,accuracy\n",
      "WARNING:tensorflow:Early stopping conditioned on metric `val_loss` which is not available. Available metrics are: loss,accuracy\n",
      "WARNING:tensorflow:Early stopping conditioned on metric `val_loss` which is not available. Available metrics are: loss,accuracy\n",
      "WARNING:tensorflow:Early stopping conditioned on metric `val_loss` which is not available. Available metrics are: loss,accuracy\n",
      "WARNING:tensorflow:Early stopping conditioned on metric `val_loss` which is not available. Available metrics are: loss,accuracy\n",
      "WARNING:tensorflow:Early stopping conditioned on metric `val_loss` which is not available. Available metrics are: loss,accuracy\n",
      "WARNING:tensorflow:Early stopping conditioned on metric `val_loss` which is not available. Available metrics are: loss,accuracy\n",
      "WARNING:tensorflow:Early stopping conditioned on metric `val_loss` which is not available. Available metrics are: loss,accuracy\n",
      "WARNING:tensorflow:Early stopping conditioned on metric `val_loss` which is not available. Available metrics are: loss,accuracy\n",
      "WARNING:tensorflow:Early stopping conditioned on metric `val_loss` which is not available. Available metrics are: loss,accuracy\n",
      "WARNING:tensorflow:Early stopping conditioned on metric `val_loss` which is not available. Available metrics are: loss,accuracy\n",
      "WARNING:tensorflow:Early stopping conditioned on metric `val_loss` which is not available. Available metrics are: loss,accuracy\n",
      "7/7 [==============================] - 0s 474us/step\n",
      "7/7 [==============================] - 0s 490us/step\n",
      "7/7 [==============================] - 0s 521us/step\n",
      "7/7 [==============================] - 0s 457us/step\n",
      "7/7 [==============================] - 0s 504us/step\n",
      "Ensemble Model Accuracy: 0.755\n"
     ]
    }
   ],
   "source": [
    "def create_weak_model():\n",
    "    model = Sequential()\n",
    "    model.add(Dense(64, activation='relu', input_dim=19))\n",
    "    model.add(Dense(32, activation='relu'))\n",
    "    model.add(Dense(1, activation='sigmoid'))\n",
    "    model.compile(optimizer='adam', loss='binary_crossentropy', metrics=['accuracy'])\n",
    "    return model\n",
    "\n",
    "# Create a list to store weak models\n",
    "weak_models = []\n",
    "\n",
    "# Create and train individual weak models\n",
    "num_weak_models = 5  # Number of weak models to train\n",
    "for _ in range(num_weak_models):\n",
    "    model = create_weak_model()\n",
    "    # Train the weak model\n",
    "    model.fit(human_train[0], human_train[1], epochs=10, batch_size=32, verbose=0, callbacks=[EarlyStopping(patience=3)])\n",
    "    weak_models.append(model)\n",
    "\n",
    "# Make predictions using the ensemble\n",
    "ensemble_predictions = []\n",
    "for model in weak_models:\n",
    "    predictions = model.predict(human_test[0])\n",
    "    ensemble_predictions.append(predictions)\n",
    "\n",
    "# Combine predictions using majority voting\n",
    "ensemble_predictions = np.concatenate(ensemble_predictions, axis=1)\n",
    "ensemble_predictions = (ensemble_predictions > 0.5).astype(int)\n",
    "final_predictions = np.mean(ensemble_predictions, axis=1)\n",
    "\n",
    "# Calculate accuracy\n",
    "accuracy = np.mean(final_predictions == human_test[1])\n",
    "print(\"Ensemble Model Accuracy:\", accuracy)"
   ],
   "metadata": {
    "collapsed": false,
    "ExecuteTime": {
     "start_time": "2023-05-24T15:19:59.603331Z",
     "end_time": "2023-05-24T15:20:01.647815Z"
    }
   }
  },
  {
   "cell_type": "code",
   "execution_count": 42,
   "outputs": [
    {
     "name": "stdout",
     "output_type": "stream",
     "text": [
      "Epoch 1/100\n",
      "31/31 [==============================] - 0s 4ms/step - loss: 0.6897 - accuracy: 0.5495 - val_loss: 0.6779 - val_accuracy: 0.7600\n",
      "Epoch 2/100\n",
      "31/31 [==============================] - 0s 2ms/step - loss: 0.6710 - accuracy: 0.6364 - val_loss: 0.6313 - val_accuracy: 0.7000\n",
      "Epoch 3/100\n",
      "31/31 [==============================] - 0s 2ms/step - loss: 0.6358 - accuracy: 0.6677 - val_loss: 0.5705 - val_accuracy: 0.7300\n",
      "Epoch 4/100\n",
      "31/31 [==============================] - 0s 2ms/step - loss: 0.6146 - accuracy: 0.6606 - val_loss: 0.5457 - val_accuracy: 0.7600\n",
      "Epoch 5/100\n",
      "31/31 [==============================] - 0s 2ms/step - loss: 0.6128 - accuracy: 0.6576 - val_loss: 0.5672 - val_accuracy: 0.6950\n",
      "Epoch 6/100\n",
      "31/31 [==============================] - 0s 2ms/step - loss: 0.6051 - accuracy: 0.6707 - val_loss: 0.5278 - val_accuracy: 0.7450\n",
      "Epoch 7/100\n",
      "31/31 [==============================] - 0s 2ms/step - loss: 0.6027 - accuracy: 0.6657 - val_loss: 0.5435 - val_accuracy: 0.7150\n",
      "Epoch 8/100\n",
      "31/31 [==============================] - 0s 2ms/step - loss: 0.5962 - accuracy: 0.6889 - val_loss: 0.5639 - val_accuracy: 0.6900\n",
      "Epoch 9/100\n",
      "31/31 [==============================] - 0s 2ms/step - loss: 0.5938 - accuracy: 0.6919 - val_loss: 0.5059 - val_accuracy: 0.7750\n",
      "Epoch 10/100\n",
      "31/31 [==============================] - 0s 2ms/step - loss: 0.5895 - accuracy: 0.6758 - val_loss: 0.5594 - val_accuracy: 0.7000\n",
      "Epoch 11/100\n",
      "31/31 [==============================] - 0s 2ms/step - loss: 0.5807 - accuracy: 0.6889 - val_loss: 0.5117 - val_accuracy: 0.7450\n",
      "Epoch 12/100\n",
      "31/31 [==============================] - 0s 2ms/step - loss: 0.5789 - accuracy: 0.6899 - val_loss: 0.5214 - val_accuracy: 0.7500\n",
      "Epoch 13/100\n",
      "31/31 [==============================] - 0s 2ms/step - loss: 0.5750 - accuracy: 0.6949 - val_loss: 0.4891 - val_accuracy: 0.7750\n",
      "Epoch 14/100\n",
      "31/31 [==============================] - 0s 2ms/step - loss: 0.5814 - accuracy: 0.6909 - val_loss: 0.4874 - val_accuracy: 0.7750\n",
      "Epoch 15/100\n",
      "31/31 [==============================] - 0s 2ms/step - loss: 0.5691 - accuracy: 0.7121 - val_loss: 0.5103 - val_accuracy: 0.7500\n",
      "Epoch 16/100\n",
      "31/31 [==============================] - 0s 2ms/step - loss: 0.5718 - accuracy: 0.6980 - val_loss: 0.4815 - val_accuracy: 0.7650\n",
      "Epoch 17/100\n",
      "31/31 [==============================] - 0s 2ms/step - loss: 0.5569 - accuracy: 0.7242 - val_loss: 0.4803 - val_accuracy: 0.7700\n",
      "Epoch 18/100\n",
      "31/31 [==============================] - 0s 2ms/step - loss: 0.5658 - accuracy: 0.7172 - val_loss: 0.5115 - val_accuracy: 0.7450\n",
      "Epoch 19/100\n",
      "31/31 [==============================] - 0s 2ms/step - loss: 0.5530 - accuracy: 0.7141 - val_loss: 0.4908 - val_accuracy: 0.7450\n",
      "Epoch 20/100\n",
      "31/31 [==============================] - 0s 2ms/step - loss: 0.5483 - accuracy: 0.7343 - val_loss: 0.4759 - val_accuracy: 0.7250\n",
      "Epoch 21/100\n",
      "31/31 [==============================] - 0s 2ms/step - loss: 0.5508 - accuracy: 0.7192 - val_loss: 0.4707 - val_accuracy: 0.7550\n",
      "Epoch 22/100\n",
      "31/31 [==============================] - 0s 2ms/step - loss: 0.5541 - accuracy: 0.7232 - val_loss: 0.4797 - val_accuracy: 0.7300\n",
      "Epoch 23/100\n",
      "31/31 [==============================] - 0s 2ms/step - loss: 0.5452 - accuracy: 0.7131 - val_loss: 0.5044 - val_accuracy: 0.7450\n",
      "Epoch 24/100\n",
      "31/31 [==============================] - 0s 2ms/step - loss: 0.5473 - accuracy: 0.7182 - val_loss: 0.4792 - val_accuracy: 0.7350\n",
      "Epoch 25/100\n",
      "31/31 [==============================] - 0s 2ms/step - loss: 0.5540 - accuracy: 0.7192 - val_loss: 0.4885 - val_accuracy: 0.7700\n",
      "Epoch 26/100\n",
      "31/31 [==============================] - 0s 2ms/step - loss: 0.5523 - accuracy: 0.7232 - val_loss: 0.4800 - val_accuracy: 0.7350\n",
      "Epoch 27/100\n",
      "31/31 [==============================] - 0s 2ms/step - loss: 0.5604 - accuracy: 0.7091 - val_loss: 0.4712 - val_accuracy: 0.7600\n",
      "Epoch 28/100\n",
      "31/31 [==============================] - 0s 2ms/step - loss: 0.5484 - accuracy: 0.7273 - val_loss: 0.4766 - val_accuracy: 0.7350\n",
      "Epoch 29/100\n",
      "31/31 [==============================] - 0s 2ms/step - loss: 0.5383 - accuracy: 0.7303 - val_loss: 0.4682 - val_accuracy: 0.7650\n",
      "Epoch 30/100\n",
      "31/31 [==============================] - 0s 2ms/step - loss: 0.5516 - accuracy: 0.7212 - val_loss: 0.4870 - val_accuracy: 0.7250\n",
      "Epoch 31/100\n",
      "31/31 [==============================] - 0s 2ms/step - loss: 0.5413 - accuracy: 0.7333 - val_loss: 0.4693 - val_accuracy: 0.7550\n",
      "Epoch 32/100\n",
      "31/31 [==============================] - 0s 2ms/step - loss: 0.5468 - accuracy: 0.7232 - val_loss: 0.4731 - val_accuracy: 0.7400\n",
      "Epoch 33/100\n",
      "31/31 [==============================] - 0s 2ms/step - loss: 0.5472 - accuracy: 0.7293 - val_loss: 0.4755 - val_accuracy: 0.7400\n",
      "Epoch 34/100\n",
      "31/31 [==============================] - 0s 2ms/step - loss: 0.5516 - accuracy: 0.7202 - val_loss: 0.4800 - val_accuracy: 0.7300\n",
      "Epoch 35/100\n",
      "31/31 [==============================] - 0s 2ms/step - loss: 0.5493 - accuracy: 0.7162 - val_loss: 0.5053 - val_accuracy: 0.7450\n",
      "Epoch 36/100\n",
      "31/31 [==============================] - 0s 2ms/step - loss: 0.5439 - accuracy: 0.7343 - val_loss: 0.4895 - val_accuracy: 0.7250\n",
      "Epoch 37/100\n",
      "31/31 [==============================] - 0s 2ms/step - loss: 0.5397 - accuracy: 0.7263 - val_loss: 0.4732 - val_accuracy: 0.7450\n",
      "Epoch 38/100\n",
      "31/31 [==============================] - 0s 2ms/step - loss: 0.5432 - accuracy: 0.7222 - val_loss: 0.4724 - val_accuracy: 0.7400\n",
      "Epoch 39/100\n",
      "31/31 [==============================] - 0s 2ms/step - loss: 0.5409 - accuracy: 0.7303 - val_loss: 0.4715 - val_accuracy: 0.7700\n",
      "Epoch 40/100\n",
      "31/31 [==============================] - 0s 2ms/step - loss: 0.5481 - accuracy: 0.7232 - val_loss: 0.4729 - val_accuracy: 0.7600\n",
      "Epoch 41/100\n",
      "31/31 [==============================] - 0s 2ms/step - loss: 0.5330 - accuracy: 0.7293 - val_loss: 0.4692 - val_accuracy: 0.7600\n",
      "Epoch 42/100\n",
      "31/31 [==============================] - 0s 2ms/step - loss: 0.5413 - accuracy: 0.7414 - val_loss: 0.5215 - val_accuracy: 0.7450\n",
      "Epoch 43/100\n",
      "31/31 [==============================] - 0s 2ms/step - loss: 0.5541 - accuracy: 0.7242 - val_loss: 0.4752 - val_accuracy: 0.7550\n",
      "Epoch 44/100\n",
      "31/31 [==============================] - 0s 2ms/step - loss: 0.5606 - accuracy: 0.7162 - val_loss: 0.4825 - val_accuracy: 0.7750\n",
      "Epoch 45/100\n",
      "31/31 [==============================] - 0s 2ms/step - loss: 0.5448 - accuracy: 0.7273 - val_loss: 0.5161 - val_accuracy: 0.7550\n",
      "Epoch 46/100\n",
      "31/31 [==============================] - 0s 2ms/step - loss: 0.5486 - accuracy: 0.7263 - val_loss: 0.4830 - val_accuracy: 0.7400\n",
      "Epoch 47/100\n",
      "31/31 [==============================] - 0s 2ms/step - loss: 0.5400 - accuracy: 0.7182 - val_loss: 0.4738 - val_accuracy: 0.7800\n",
      "Epoch 48/100\n",
      "31/31 [==============================] - 0s 2ms/step - loss: 0.5422 - accuracy: 0.7253 - val_loss: 0.4854 - val_accuracy: 0.7450\n",
      "Epoch 49/100\n",
      "31/31 [==============================] - 0s 2ms/step - loss: 0.5341 - accuracy: 0.7273 - val_loss: 0.4728 - val_accuracy: 0.7550\n",
      "Epoch 50/100\n",
      "31/31 [==============================] - 0s 2ms/step - loss: 0.5318 - accuracy: 0.7273 - val_loss: 0.4715 - val_accuracy: 0.7550\n",
      "Epoch 51/100\n",
      "31/31 [==============================] - 0s 2ms/step - loss: 0.5347 - accuracy: 0.7283 - val_loss: 0.4724 - val_accuracy: 0.7500\n",
      "Epoch 52/100\n",
      "31/31 [==============================] - 0s 2ms/step - loss: 0.5305 - accuracy: 0.7354 - val_loss: 0.5013 - val_accuracy: 0.7550\n",
      "Epoch 53/100\n",
      "31/31 [==============================] - 0s 2ms/step - loss: 0.5352 - accuracy: 0.7192 - val_loss: 0.4774 - val_accuracy: 0.7700\n",
      "Epoch 54/100\n",
      "31/31 [==============================] - 0s 2ms/step - loss: 0.5305 - accuracy: 0.7333 - val_loss: 0.4892 - val_accuracy: 0.7500\n",
      "Epoch 55/100\n",
      "31/31 [==============================] - 0s 2ms/step - loss: 0.5257 - accuracy: 0.7374 - val_loss: 0.4842 - val_accuracy: 0.7500\n",
      "Epoch 56/100\n",
      "31/31 [==============================] - 0s 2ms/step - loss: 0.5270 - accuracy: 0.7424 - val_loss: 0.4977 - val_accuracy: 0.7600\n",
      "Epoch 57/100\n",
      "31/31 [==============================] - 0s 2ms/step - loss: 0.5256 - accuracy: 0.7434 - val_loss: 0.4733 - val_accuracy: 0.7550\n",
      "Epoch 58/100\n",
      "31/31 [==============================] - 0s 2ms/step - loss: 0.5265 - accuracy: 0.7444 - val_loss: 0.4799 - val_accuracy: 0.7550\n",
      "Epoch 59/100\n",
      "31/31 [==============================] - 0s 2ms/step - loss: 0.5226 - accuracy: 0.7374 - val_loss: 0.4832 - val_accuracy: 0.7550\n",
      "Epoch 60/100\n",
      "31/31 [==============================] - 0s 2ms/step - loss: 0.5255 - accuracy: 0.7313 - val_loss: 0.4762 - val_accuracy: 0.7550\n",
      "Epoch 61/100\n",
      "31/31 [==============================] - 0s 2ms/step - loss: 0.5247 - accuracy: 0.7323 - val_loss: 0.4881 - val_accuracy: 0.7500\n",
      "Epoch 62/100\n",
      "31/31 [==============================] - 0s 2ms/step - loss: 0.5321 - accuracy: 0.7374 - val_loss: 0.4777 - val_accuracy: 0.7500\n",
      "Epoch 63/100\n",
      "31/31 [==============================] - 0s 2ms/step - loss: 0.5336 - accuracy: 0.7222 - val_loss: 0.4780 - val_accuracy: 0.7750\n",
      "Epoch 64/100\n",
      "31/31 [==============================] - 0s 2ms/step - loss: 0.5437 - accuracy: 0.7283 - val_loss: 0.4940 - val_accuracy: 0.7450\n",
      "Epoch 65/100\n",
      "31/31 [==============================] - 0s 2ms/step - loss: 0.5246 - accuracy: 0.7404 - val_loss: 0.4857 - val_accuracy: 0.7600\n",
      "Epoch 66/100\n",
      "31/31 [==============================] - 0s 2ms/step - loss: 0.5201 - accuracy: 0.7434 - val_loss: 0.4729 - val_accuracy: 0.7600\n",
      "Epoch 67/100\n",
      "31/31 [==============================] - 0s 2ms/step - loss: 0.5235 - accuracy: 0.7455 - val_loss: 0.4730 - val_accuracy: 0.7600\n",
      "Epoch 68/100\n",
      "31/31 [==============================] - 0s 2ms/step - loss: 0.5271 - accuracy: 0.7414 - val_loss: 0.4790 - val_accuracy: 0.7700\n",
      "Epoch 69/100\n",
      "31/31 [==============================] - 0s 2ms/step - loss: 0.5300 - accuracy: 0.7263 - val_loss: 0.4856 - val_accuracy: 0.7600\n",
      "Epoch 70/100\n",
      "31/31 [==============================] - 0s 2ms/step - loss: 0.5198 - accuracy: 0.7465 - val_loss: 0.4731 - val_accuracy: 0.7550\n",
      "Epoch 71/100\n",
      "31/31 [==============================] - 0s 2ms/step - loss: 0.5151 - accuracy: 0.7404 - val_loss: 0.4777 - val_accuracy: 0.7550\n",
      "Epoch 72/100\n",
      "31/31 [==============================] - 0s 2ms/step - loss: 0.5216 - accuracy: 0.7424 - val_loss: 0.4717 - val_accuracy: 0.7550\n",
      "Epoch 73/100\n",
      "31/31 [==============================] - 0s 2ms/step - loss: 0.5271 - accuracy: 0.7384 - val_loss: 0.5062 - val_accuracy: 0.7550\n",
      "Epoch 74/100\n",
      "31/31 [==============================] - 0s 2ms/step - loss: 0.5231 - accuracy: 0.7414 - val_loss: 0.4786 - val_accuracy: 0.7550\n",
      "Epoch 75/100\n",
      "31/31 [==============================] - 0s 2ms/step - loss: 0.5138 - accuracy: 0.7535 - val_loss: 0.4725 - val_accuracy: 0.7650\n",
      "Epoch 76/100\n",
      "31/31 [==============================] - 0s 2ms/step - loss: 0.5148 - accuracy: 0.7495 - val_loss: 0.4707 - val_accuracy: 0.7650\n",
      "Epoch 77/100\n",
      "31/31 [==============================] - 0s 2ms/step - loss: 0.5222 - accuracy: 0.7495 - val_loss: 0.4956 - val_accuracy: 0.7450\n",
      "Epoch 78/100\n",
      "31/31 [==============================] - 0s 2ms/step - loss: 0.5149 - accuracy: 0.7626 - val_loss: 0.5104 - val_accuracy: 0.7400\n",
      "Epoch 79/100\n",
      "31/31 [==============================] - 0s 2ms/step - loss: 0.5152 - accuracy: 0.7505 - val_loss: 0.4885 - val_accuracy: 0.7600\n",
      "Epoch 80/100\n",
      "31/31 [==============================] - 0s 2ms/step - loss: 0.5158 - accuracy: 0.7505 - val_loss: 0.4981 - val_accuracy: 0.7400\n",
      "Epoch 81/100\n",
      "31/31 [==============================] - 0s 2ms/step - loss: 0.5154 - accuracy: 0.7525 - val_loss: 0.4721 - val_accuracy: 0.7700\n",
      "Epoch 82/100\n",
      "31/31 [==============================] - 0s 2ms/step - loss: 0.5123 - accuracy: 0.7576 - val_loss: 0.4737 - val_accuracy: 0.7600\n",
      "Epoch 83/100\n",
      "31/31 [==============================] - 0s 2ms/step - loss: 0.5123 - accuracy: 0.7535 - val_loss: 0.4738 - val_accuracy: 0.7650\n",
      "Epoch 84/100\n",
      "31/31 [==============================] - 0s 2ms/step - loss: 0.5240 - accuracy: 0.7384 - val_loss: 0.5313 - val_accuracy: 0.7300\n",
      "Epoch 85/100\n",
      "31/31 [==============================] - 0s 2ms/step - loss: 0.5146 - accuracy: 0.7556 - val_loss: 0.4746 - val_accuracy: 0.7500\n",
      "Epoch 86/100\n",
      "31/31 [==============================] - 0s 2ms/step - loss: 0.5106 - accuracy: 0.7465 - val_loss: 0.4761 - val_accuracy: 0.7450\n",
      "Epoch 87/100\n",
      "31/31 [==============================] - 0s 2ms/step - loss: 0.5053 - accuracy: 0.7586 - val_loss: 0.4754 - val_accuracy: 0.7500\n",
      "Epoch 88/100\n",
      "31/31 [==============================] - 0s 2ms/step - loss: 0.5085 - accuracy: 0.7535 - val_loss: 0.4708 - val_accuracy: 0.7750\n",
      "Epoch 89/100\n",
      "31/31 [==============================] - 0s 2ms/step - loss: 0.5085 - accuracy: 0.7535 - val_loss: 0.4777 - val_accuracy: 0.7600\n",
      "Epoch 90/100\n",
      "31/31 [==============================] - 0s 2ms/step - loss: 0.5033 - accuracy: 0.7535 - val_loss: 0.4761 - val_accuracy: 0.7450\n",
      "Epoch 91/100\n",
      "31/31 [==============================] - 0s 2ms/step - loss: 0.5155 - accuracy: 0.7586 - val_loss: 0.4723 - val_accuracy: 0.7700\n",
      "Epoch 92/100\n",
      "31/31 [==============================] - 0s 2ms/step - loss: 0.5355 - accuracy: 0.7303 - val_loss: 0.5390 - val_accuracy: 0.7250\n",
      "Epoch 93/100\n",
      "31/31 [==============================] - 0s 2ms/step - loss: 0.5206 - accuracy: 0.7455 - val_loss: 0.4741 - val_accuracy: 0.7750\n",
      "Epoch 94/100\n",
      "31/31 [==============================] - 0s 2ms/step - loss: 0.5086 - accuracy: 0.7505 - val_loss: 0.4817 - val_accuracy: 0.7450\n",
      "Epoch 95/100\n",
      "31/31 [==============================] - 0s 2ms/step - loss: 0.5049 - accuracy: 0.7566 - val_loss: 0.4776 - val_accuracy: 0.7500\n",
      "Epoch 96/100\n",
      "31/31 [==============================] - 0s 2ms/step - loss: 0.5063 - accuracy: 0.7545 - val_loss: 0.4763 - val_accuracy: 0.7450\n",
      "Epoch 97/100\n",
      "31/31 [==============================] - 0s 2ms/step - loss: 0.4997 - accuracy: 0.7576 - val_loss: 0.4795 - val_accuracy: 0.7500\n",
      "Epoch 98/100\n",
      "31/31 [==============================] - 0s 2ms/step - loss: 0.5117 - accuracy: 0.7485 - val_loss: 0.4824 - val_accuracy: 0.7700\n",
      "Epoch 99/100\n",
      "31/31 [==============================] - 0s 2ms/step - loss: 0.4990 - accuracy: 0.7646 - val_loss: 0.5008 - val_accuracy: 0.7450\n",
      "Epoch 100/100\n",
      "31/31 [==============================] - 0s 2ms/step - loss: 0.4916 - accuracy: 0.7626 - val_loss: 0.5023 - val_accuracy: 0.7500\n"
     ]
    },
    {
     "data": {
      "text/plain": "<keras.src.callbacks.History at 0x31e2f2150>"
     },
     "execution_count": 42,
     "metadata": {},
     "output_type": "execute_result"
    }
   ],
   "source": [
    "human_model = Sequential([\n",
    "    Conv1D(32, 3, activation='relu', input_shape=(19, 1)),\n",
    "    MaxPooling1D(2),\n",
    "    Conv1D(64, 3, activation='relu'),\n",
    "    MaxPooling1D(2),\n",
    "    Flatten(),\n",
    "    Dense(64, activation='relu'),\n",
    "    Dropout(0.2),\n",
    "    Dense(1, activation='sigmoid')\n",
    "])\n",
    "\n",
    "human_model.compile(\n",
    "    loss=BinaryCrossentropy(from_logits=False),\n",
    "    optimizer='adam',\n",
    "    metrics=['accuracy']\n",
    ")\n",
    "\n",
    "human_model.fit(human_train[0], human_train[1], epochs=100, batch_size=32,\n",
    "                validation_data=(human_test[0], human_test[1]))"
   ],
   "metadata": {
    "collapsed": false,
    "ExecuteTime": {
     "start_time": "2023-05-24T14:31:07.312010Z",
     "end_time": "2023-05-24T14:31:13.633761Z"
    }
   }
  },
  {
   "cell_type": "code",
   "execution_count": 60,
   "outputs": [
    {
     "name": "stdout",
     "output_type": "stream",
     "text": [
      "Epoch 1/40\n",
      "31/31 [==============================] - 0s 3ms/step - loss: 0.1497 - accuracy: 0.9394 - val_loss: 1.1844 - val_accuracy: 0.7200\n",
      "Epoch 2/40\n",
      "31/31 [==============================] - 0s 2ms/step - loss: 0.1230 - accuracy: 0.9586 - val_loss: 1.2192 - val_accuracy: 0.7350\n",
      "Epoch 3/40\n",
      "31/31 [==============================] - 0s 2ms/step - loss: 0.1202 - accuracy: 0.9556 - val_loss: 1.2192 - val_accuracy: 0.7250\n",
      "Epoch 4/40\n",
      "31/31 [==============================] - 0s 2ms/step - loss: 0.1343 - accuracy: 0.9535 - val_loss: 1.1852 - val_accuracy: 0.7250\n",
      "Epoch 5/40\n",
      "31/31 [==============================] - 0s 2ms/step - loss: 0.1284 - accuracy: 0.9515 - val_loss: 1.2307 - val_accuracy: 0.7300\n",
      "Epoch 6/40\n",
      "31/31 [==============================] - 0s 2ms/step - loss: 0.1472 - accuracy: 0.9434 - val_loss: 1.1983 - val_accuracy: 0.7150\n",
      "Epoch 7/40\n",
      "31/31 [==============================] - 0s 2ms/step - loss: 0.1218 - accuracy: 0.9535 - val_loss: 1.2809 - val_accuracy: 0.7250\n",
      "Epoch 8/40\n",
      "31/31 [==============================] - 0s 2ms/step - loss: 0.1370 - accuracy: 0.9525 - val_loss: 1.2200 - val_accuracy: 0.7150\n",
      "Epoch 9/40\n",
      "31/31 [==============================] - 0s 2ms/step - loss: 0.1232 - accuracy: 0.9556 - val_loss: 1.2187 - val_accuracy: 0.7250\n",
      "Epoch 10/40\n",
      "31/31 [==============================] - 0s 2ms/step - loss: 0.1207 - accuracy: 0.9586 - val_loss: 1.2157 - val_accuracy: 0.7400\n",
      "Epoch 11/40\n",
      "31/31 [==============================] - 0s 2ms/step - loss: 0.1125 - accuracy: 0.9667 - val_loss: 1.2647 - val_accuracy: 0.7200\n",
      "Epoch 12/40\n",
      "31/31 [==============================] - 0s 2ms/step - loss: 0.1330 - accuracy: 0.9535 - val_loss: 1.2750 - val_accuracy: 0.7050\n",
      "Epoch 13/40\n",
      "31/31 [==============================] - 0s 2ms/step - loss: 0.1242 - accuracy: 0.9545 - val_loss: 1.2422 - val_accuracy: 0.7100\n",
      "Epoch 14/40\n",
      "31/31 [==============================] - 0s 2ms/step - loss: 0.1190 - accuracy: 0.9586 - val_loss: 1.2040 - val_accuracy: 0.7050\n",
      "Epoch 15/40\n",
      "31/31 [==============================] - 0s 2ms/step - loss: 0.1144 - accuracy: 0.9636 - val_loss: 1.2665 - val_accuracy: 0.7250\n",
      "Epoch 16/40\n",
      "31/31 [==============================] - 0s 2ms/step - loss: 0.1231 - accuracy: 0.9606 - val_loss: 1.2217 - val_accuracy: 0.7200\n",
      "Epoch 17/40\n",
      "31/31 [==============================] - 0s 2ms/step - loss: 0.1079 - accuracy: 0.9707 - val_loss: 1.2696 - val_accuracy: 0.7250\n",
      "Epoch 18/40\n",
      "31/31 [==============================] - 0s 2ms/step - loss: 0.1306 - accuracy: 0.9495 - val_loss: 1.3211 - val_accuracy: 0.7050\n",
      "Epoch 19/40\n",
      "31/31 [==============================] - 0s 2ms/step - loss: 0.1192 - accuracy: 0.9545 - val_loss: 1.2329 - val_accuracy: 0.7250\n",
      "Epoch 20/40\n",
      "31/31 [==============================] - 0s 2ms/step - loss: 0.1358 - accuracy: 0.9465 - val_loss: 1.2065 - val_accuracy: 0.7100\n",
      "Epoch 21/40\n",
      "31/31 [==============================] - 0s 2ms/step - loss: 0.1146 - accuracy: 0.9616 - val_loss: 1.2831 - val_accuracy: 0.7300\n",
      "Epoch 22/40\n",
      "31/31 [==============================] - 0s 2ms/step - loss: 0.1087 - accuracy: 0.9616 - val_loss: 1.2950 - val_accuracy: 0.7150\n",
      "Epoch 23/40\n",
      "31/31 [==============================] - 0s 2ms/step - loss: 0.1020 - accuracy: 0.9707 - val_loss: 1.3307 - val_accuracy: 0.7400\n",
      "Epoch 24/40\n",
      "31/31 [==============================] - 0s 2ms/step - loss: 0.1080 - accuracy: 0.9616 - val_loss: 1.3105 - val_accuracy: 0.7200\n",
      "Epoch 25/40\n",
      "31/31 [==============================] - 0s 2ms/step - loss: 0.1277 - accuracy: 0.9586 - val_loss: 1.2676 - val_accuracy: 0.7300\n",
      "Epoch 26/40\n",
      "31/31 [==============================] - 0s 2ms/step - loss: 0.1569 - accuracy: 0.9404 - val_loss: 1.2378 - val_accuracy: 0.7350\n",
      "Epoch 27/40\n",
      "31/31 [==============================] - 0s 2ms/step - loss: 0.1191 - accuracy: 0.9505 - val_loss: 1.3185 - val_accuracy: 0.7200\n",
      "Epoch 28/40\n",
      "31/31 [==============================] - 0s 2ms/step - loss: 0.1088 - accuracy: 0.9626 - val_loss: 1.3330 - val_accuracy: 0.7300\n",
      "Epoch 29/40\n",
      "31/31 [==============================] - 0s 2ms/step - loss: 0.1174 - accuracy: 0.9606 - val_loss: 1.2669 - val_accuracy: 0.7250\n",
      "Epoch 30/40\n",
      "31/31 [==============================] - 0s 2ms/step - loss: 0.1307 - accuracy: 0.9495 - val_loss: 1.2996 - val_accuracy: 0.7300\n",
      "Epoch 31/40\n",
      "31/31 [==============================] - 0s 2ms/step - loss: 0.1038 - accuracy: 0.9677 - val_loss: 1.2919 - val_accuracy: 0.7350\n",
      "Epoch 32/40\n",
      "31/31 [==============================] - 0s 2ms/step - loss: 0.1084 - accuracy: 0.9636 - val_loss: 1.3221 - val_accuracy: 0.7350\n",
      "Epoch 33/40\n",
      "31/31 [==============================] - 0s 2ms/step - loss: 0.0989 - accuracy: 0.9677 - val_loss: 1.4251 - val_accuracy: 0.7000\n",
      "Epoch 34/40\n",
      "31/31 [==============================] - 0s 2ms/step - loss: 0.1255 - accuracy: 0.9556 - val_loss: 1.4462 - val_accuracy: 0.6950\n",
      "Epoch 35/40\n",
      "31/31 [==============================] - 0s 2ms/step - loss: 0.1809 - accuracy: 0.9323 - val_loss: 1.3609 - val_accuracy: 0.7200\n",
      "Epoch 36/40\n",
      "31/31 [==============================] - 0s 2ms/step - loss: 0.1169 - accuracy: 0.9586 - val_loss: 1.3378 - val_accuracy: 0.7350\n",
      "Epoch 37/40\n",
      "31/31 [==============================] - 0s 2ms/step - loss: 0.1147 - accuracy: 0.9566 - val_loss: 1.3278 - val_accuracy: 0.7200\n",
      "Epoch 38/40\n",
      "31/31 [==============================] - 0s 2ms/step - loss: 0.1028 - accuracy: 0.9626 - val_loss: 1.3470 - val_accuracy: 0.7200\n",
      "Epoch 39/40\n",
      "31/31 [==============================] - 0s 2ms/step - loss: 0.1082 - accuracy: 0.9586 - val_loss: 1.2867 - val_accuracy: 0.7300\n",
      "Epoch 40/40\n",
      "31/31 [==============================] - 0s 2ms/step - loss: 0.1023 - accuracy: 0.9636 - val_loss: 1.3470 - val_accuracy: 0.7450\n"
     ]
    },
    {
     "data": {
      "text/plain": "<keras.src.callbacks.History at 0x32097a550>"
     },
     "execution_count": 60,
     "metadata": {},
     "output_type": "execute_result"
    }
   ],
   "source": [
    "\n",
    "human_model.fit(human_train[0], human_train[1], epochs=40, batch_size=32,\n",
    "                validation_data=(human_test[0], human_test[1]))"
   ],
   "metadata": {
    "collapsed": false,
    "ExecuteTime": {
     "start_time": "2023-05-24T14:35:25.395971Z",
     "end_time": "2023-05-24T14:35:27.839005Z"
    }
   }
  },
  {
   "cell_type": "markdown",
   "source": [
    "### Yeast Training & Testing"
   ],
   "metadata": {
    "collapsed": false
   }
  },
  {
   "cell_type": "code",
   "execution_count": 11,
   "outputs": [],
   "source": [
    "yeast_x_test, yeast_y_test = load_dataset(Species.yeast, independent=True,\n",
    "                                          encoding=lambda x: FeatureEncoder.pstnpss(x, 'sc'))\n",
    "yeast_x_train, yeast_y_train = load_dataset(Species.yeast, independent=False,\n",
    "                                            encoding=lambda x: FeatureEncoder.pstnpss(x, 'sc'))"
   ],
   "metadata": {
    "collapsed": false,
    "ExecuteTime": {
     "start_time": "2023-05-22T15:41:12.289670Z",
     "end_time": "2023-05-22T15:41:12.306689Z"
    }
   }
  },
  {
   "cell_type": "code",
   "execution_count": 14,
   "outputs": [],
   "source": [
    "yeast_model = Sequential([\n",
    "    Dense(29, input_dim=29, activation='relu'),\n",
    "    Dropout(0.2),\n",
    "    Dense(16, activation='relu'),\n",
    "    Dropout(0.5),\n",
    "    Dense(1, activation='sigmoid'),\n",
    "])\n",
    "\n",
    "early_stopping = EarlyStopping(monitor='val_loss', patience=5, mode='min')\n",
    "\n",
    "yeast_model.compile(loss=BinaryCrossentropy(from_logits=False), optimizer='adam', metrics=['accuracy'])"
   ],
   "metadata": {
    "collapsed": false,
    "ExecuteTime": {
     "start_time": "2023-05-22T15:41:46.389870Z",
     "end_time": "2023-05-22T15:41:46.415002Z"
    }
   }
  },
  {
   "cell_type": "code",
   "execution_count": 16,
   "outputs": [
    {
     "name": "stdout",
     "output_type": "stream",
     "text": [
      "Epoch 1/40\n",
      "20/20 [==============================] - 0s 2ms/step - loss: 0.3498 - accuracy: 0.8678 - val_loss: 0.3375 - val_accuracy: 0.8400\n",
      "Epoch 2/40\n",
      "20/20 [==============================] - 0s 1ms/step - loss: 0.3496 - accuracy: 0.8631 - val_loss: 0.3232 - val_accuracy: 0.8400\n",
      "Epoch 3/40\n",
      "20/20 [==============================] - 0s 1ms/step - loss: 0.3691 - accuracy: 0.8567 - val_loss: 0.3369 - val_accuracy: 0.8400\n",
      "Epoch 4/40\n",
      "20/20 [==============================] - 0s 1ms/step - loss: 0.3359 - accuracy: 0.8646 - val_loss: 0.3245 - val_accuracy: 0.8400\n",
      "Epoch 5/40\n",
      "20/20 [==============================] - 0s 1ms/step - loss: 0.3456 - accuracy: 0.8615 - val_loss: 0.3265 - val_accuracy: 0.8400\n",
      "Epoch 6/40\n",
      "20/20 [==============================] - 0s 1ms/step - loss: 0.3616 - accuracy: 0.8567 - val_loss: 0.3297 - val_accuracy: 0.8350\n",
      "Epoch 7/40\n",
      "20/20 [==============================] - 0s 1ms/step - loss: 0.3509 - accuracy: 0.8631 - val_loss: 0.3217 - val_accuracy: 0.8450\n",
      "Epoch 8/40\n",
      "20/20 [==============================] - 0s 1ms/step - loss: 0.3669 - accuracy: 0.8535 - val_loss: 0.3193 - val_accuracy: 0.8450\n",
      "Epoch 9/40\n",
      "20/20 [==============================] - 0s 1ms/step - loss: 0.3438 - accuracy: 0.8694 - val_loss: 0.3230 - val_accuracy: 0.8450\n",
      "Epoch 10/40\n",
      "20/20 [==============================] - 0s 1ms/step - loss: 0.3526 - accuracy: 0.8583 - val_loss: 0.3229 - val_accuracy: 0.8450\n",
      "Epoch 11/40\n",
      "20/20 [==============================] - 0s 1ms/step - loss: 0.3544 - accuracy: 0.8583 - val_loss: 0.3223 - val_accuracy: 0.8450\n",
      "Epoch 12/40\n",
      "20/20 [==============================] - 0s 1ms/step - loss: 0.3423 - accuracy: 0.8694 - val_loss: 0.3300 - val_accuracy: 0.8350\n",
      "Epoch 13/40\n",
      "20/20 [==============================] - 0s 1ms/step - loss: 0.3558 - accuracy: 0.8615 - val_loss: 0.3271 - val_accuracy: 0.8400\n"
     ]
    },
    {
     "data": {
      "text/plain": "<keras.src.callbacks.History at 0x2ce970ad0>"
     },
     "execution_count": 16,
     "metadata": {},
     "output_type": "execute_result"
    }
   ],
   "source": [
    "yeast_model.fit(yeast_x_train, yeast_y_train, epochs=40, callbacks=[early_stopping],\n",
    "                validation_data=(yeast_x_test, yeast_y_test))"
   ],
   "metadata": {
    "collapsed": false,
    "ExecuteTime": {
     "start_time": "2023-05-22T15:41:53.059535Z",
     "end_time": "2023-05-22T15:41:53.429699Z"
    }
   }
  },
  {
   "cell_type": "code",
   "execution_count": 17,
   "outputs": [
    {
     "name": "stdout",
     "output_type": "stream",
     "text": [
      "7/7 [==============================] - 0s 488us/step\n",
      "7/7 [==============================] - 0s 475us/step\n",
      "7/7 [==============================] - 0s 521us/step\n",
      "7/7 [==============================] - 0s 507us/step\n"
     ]
    }
   ],
   "source": [
    "human_model_report = ModelReport.generate(human_model, human_x_test, human_y_test, is_keras=True)\n",
    "yeast_model_report = ModelReport.generate(yeast_model, yeast_x_test, yeast_y_test, is_keras=True)"
   ],
   "metadata": {
    "collapsed": false,
    "ExecuteTime": {
     "start_time": "2023-05-22T15:42:01.373069Z",
     "end_time": "2023-05-22T15:42:01.546150Z"
    }
   }
  },
  {
   "cell_type": "code",
   "execution_count": 18,
   "outputs": [
    {
     "name": "stdout",
     "output_type": "stream",
     "text": [
      "note: Running TeX ...\n",
      "note: Rerunning TeX because \"report.aux\" changed ...\n",
      "note: Running xdvipdfmx ...\n",
      "note: Writing `nn/pstnpss_1/report.pdf` (33.19 KiB)\n",
      "note: Skipped writing 1 intermediate files (use --keep-intermediates to keep them)\n"
     ]
    },
    {
     "data": {
      "text/plain": "<Figure size 640x480 with 0 Axes>"
     },
     "metadata": {},
     "output_type": "display_data"
    },
    {
     "data": {
      "text/plain": "<Figure size 640x480 with 0 Axes>"
     },
     "metadata": {},
     "output_type": "display_data"
    },
    {
     "data": {
      "text/plain": "<Figure size 640x480 with 0 Axes>"
     },
     "metadata": {},
     "output_type": "display_data"
    },
    {
     "data": {
      "text/plain": "<Figure size 640x480 with 0 Axes>"
     },
     "metadata": {},
     "output_type": "display_data"
    },
    {
     "data": {
      "text/plain": "<Figure size 640x480 with 0 Axes>"
     },
     "metadata": {},
     "output_type": "display_data"
    },
    {
     "data": {
      "text/plain": "<Figure size 640x480 with 0 Axes>"
     },
     "metadata": {},
     "output_type": "display_data"
    },
    {
     "data": {
      "text/plain": "<Figure size 640x480 with 0 Axes>"
     },
     "metadata": {},
     "output_type": "display_data"
    },
    {
     "data": {
      "text/plain": "<Figure size 640x480 with 0 Axes>"
     },
     "metadata": {},
     "output_type": "display_data"
    },
    {
     "data": {
      "text/plain": "<Figure size 640x480 with 0 Axes>"
     },
     "metadata": {},
     "output_type": "display_data"
    },
    {
     "data": {
      "text/plain": "<Figure size 640x480 with 0 Axes>"
     },
     "metadata": {},
     "output_type": "display_data"
    },
    {
     "data": {
      "text/plain": "<Figure size 640x480 with 0 Axes>"
     },
     "metadata": {},
     "output_type": "display_data"
    },
    {
     "data": {
      "text/plain": "<Figure size 640x480 with 0 Axes>"
     },
     "metadata": {},
     "output_type": "display_data"
    }
   ],
   "source": [
    "generate_report({Species.human.value: human_model_report, Species.yeast.value: yeast_model_report},\n",
    "                Path('nn/pstnpss_1'))"
   ],
   "metadata": {
    "collapsed": false,
    "ExecuteTime": {
     "start_time": "2023-05-22T15:42:32.017539Z",
     "end_time": "2023-05-22T15:42:35.531633Z"
    }
   }
  },
  {
   "cell_type": "code",
   "execution_count": 20,
   "outputs": [],
   "source": [
    "def select_features(features):\n",
    "    selection = [10, 12, 8, 9, 17, 7, 6, 15, 14, 11, 2, 13, 5, 16, 18, 4, 1, 3, 0]\n",
    "    imp_features = list(map(lambda x: f'pstnpss_{x + 1}', selection))\n",
    "    return features[imp_features]"
   ],
   "metadata": {
    "collapsed": false,
    "ExecuteTime": {
     "start_time": "2023-05-22T15:46:43.199085Z",
     "end_time": "2023-05-22T15:46:43.207801Z"
    }
   }
  },
  {
   "cell_type": "code",
   "execution_count": 21,
   "outputs": [
    {
     "data": {
      "text/plain": "0.8"
     },
     "execution_count": 21,
     "metadata": {},
     "output_type": "execute_result"
    }
   ],
   "source": [
    "human_classifier = XGBClassifier(\n",
    "    base_score=0.5, booster='gbtree', colsample_bynode=1, max_depth=6, verbosity=1, colsample_bytree=0.637482,\n",
    "    subsample=0.901284, learning_rate=0.276002, reg_alpha=0, max_delta_step=0, min_child_weight=1, n_jobs=1,\n",
    "    n_estimators=1082, colsample_bylevel=1, random_state=0, reg_lambda=1, scale_pos_weight=1, gamma=0.103823\n",
    ")\n",
    "\n",
    "human_classifier.fit(select_features(human_x_train), human_y_train)\n",
    "human_classifier.score(select_features(human_x_test), human_y_test)"
   ],
   "metadata": {
    "collapsed": false,
    "ExecuteTime": {
     "start_time": "2023-05-22T15:46:46.210769Z",
     "end_time": "2023-05-22T15:46:47.044258Z"
    }
   }
  },
  {
   "cell_type": "code",
   "execution_count": 22,
   "outputs": [
    {
     "data": {
      "text/plain": "0.775"
     },
     "execution_count": 22,
     "metadata": {},
     "output_type": "execute_result"
    }
   ],
   "source": [
    "yeast_classifier = XGBClassifier(\n",
    "    base_score=0.5, booster='gbtree', colsample_bynode=1, max_depth=6, verbosity=1, colsample_bytree=0.637482,\n",
    "    subsample=0.901284, learning_rate=0.276002, reg_alpha=0, max_delta_step=0, min_child_weight=1, n_jobs=1,\n",
    "    n_estimators=1082, colsample_bylevel=1, random_state=0, reg_lambda=1, scale_pos_weight=1, gamma=0.103823\n",
    ")\n",
    "\n",
    "yeast_classifier.fit(select_features(yeast_x_train), yeast_y_train)\n",
    "yeast_classifier.score(select_features(yeast_x_test), yeast_y_test)"
   ],
   "metadata": {
    "collapsed": false,
    "ExecuteTime": {
     "start_time": "2023-05-22T15:46:48.328256Z",
     "end_time": "2023-05-22T15:46:48.745043Z"
    }
   }
  },
  {
   "cell_type": "code",
   "execution_count": 23,
   "outputs": [],
   "source": [
    "human_model_report = ModelReport.generate(human_classifier, select_features(human_x_test), human_y_test)\n",
    "yeast_model_report = ModelReport.generate(yeast_classifier, select_features(yeast_x_test), yeast_y_test)"
   ],
   "metadata": {
    "collapsed": false,
    "ExecuteTime": {
     "start_time": "2023-05-22T15:47:13.413023Z",
     "end_time": "2023-05-22T15:47:13.439853Z"
    }
   }
  },
  {
   "cell_type": "code",
   "execution_count": 24,
   "outputs": [
    {
     "name": "stdout",
     "output_type": "stream",
     "text": [
      "note: Running TeX ...\n",
      "note: Rerunning TeX because \"report.aux\" changed ...\n",
      "note: Running xdvipdfmx ...\n",
      "note: Writing `ml/pstnpss_1/report.pdf` (32.92 KiB)\n",
      "note: Skipped writing 1 intermediate files (use --keep-intermediates to keep them)\n"
     ]
    },
    {
     "data": {
      "text/plain": "<Figure size 640x480 with 0 Axes>"
     },
     "metadata": {},
     "output_type": "display_data"
    },
    {
     "data": {
      "text/plain": "<Figure size 640x480 with 0 Axes>"
     },
     "metadata": {},
     "output_type": "display_data"
    },
    {
     "data": {
      "text/plain": "<Figure size 640x480 with 0 Axes>"
     },
     "metadata": {},
     "output_type": "display_data"
    },
    {
     "data": {
      "text/plain": "<Figure size 640x480 with 0 Axes>"
     },
     "metadata": {},
     "output_type": "display_data"
    },
    {
     "data": {
      "text/plain": "<Figure size 640x480 with 0 Axes>"
     },
     "metadata": {},
     "output_type": "display_data"
    },
    {
     "data": {
      "text/plain": "<Figure size 640x480 with 0 Axes>"
     },
     "metadata": {},
     "output_type": "display_data"
    },
    {
     "data": {
      "text/plain": "<Figure size 640x480 with 0 Axes>"
     },
     "metadata": {},
     "output_type": "display_data"
    },
    {
     "data": {
      "text/plain": "<Figure size 640x480 with 0 Axes>"
     },
     "metadata": {},
     "output_type": "display_data"
    },
    {
     "data": {
      "text/plain": "<Figure size 640x480 with 0 Axes>"
     },
     "metadata": {},
     "output_type": "display_data"
    },
    {
     "data": {
      "text/plain": "<Figure size 640x480 with 0 Axes>"
     },
     "metadata": {},
     "output_type": "display_data"
    },
    {
     "data": {
      "text/plain": "<Figure size 640x480 with 0 Axes>"
     },
     "metadata": {},
     "output_type": "display_data"
    },
    {
     "data": {
      "text/plain": "<Figure size 640x480 with 0 Axes>"
     },
     "metadata": {},
     "output_type": "display_data"
    }
   ],
   "source": [
    "generate_report({Species.human.value: human_model_report, Species.yeast.value: yeast_model_report},\n",
    "                Path('ml/pstnpss_1'))"
   ],
   "metadata": {
    "collapsed": false,
    "ExecuteTime": {
     "start_time": "2023-05-22T15:47:22.310477Z",
     "end_time": "2023-05-22T15:47:25.883737Z"
    }
   }
  },
  {
   "cell_type": "code",
   "execution_count": null,
   "outputs": [],
   "source": [],
   "metadata": {
    "collapsed": false
   }
  }
 ],
 "metadata": {
  "kernelspec": {
   "display_name": "Python 3",
   "language": "python",
   "name": "python3"
  },
  "language_info": {
   "codemirror_mode": {
    "name": "ipython",
    "version": 2
   },
   "file_extension": ".py",
   "mimetype": "text/x-python",
   "name": "python",
   "nbconvert_exporter": "python",
   "pygments_lexer": "ipython2",
   "version": "2.7.6"
  }
 },
 "nbformat": 4,
 "nbformat_minor": 0
}
