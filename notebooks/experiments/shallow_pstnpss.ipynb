{
 "cells": [
  {
   "cell_type": "code",
   "execution_count": 2,
   "outputs": [],
   "source": [
    "import random\n",
    "import numpy as np\n",
    "import tensorflow as tf\n",
    "\n",
    "random.seed(0)\n",
    "np.random.seed(0)\n",
    "tf.random.set_seed(0)"
   ],
   "metadata": {
    "collapsed": false,
    "ExecuteTime": {
     "end_time": "2023-08-02T11:08:49.610974Z",
     "start_time": "2023-08-02T11:08:49.582232Z"
    }
   }
  },
  {
   "cell_type": "code",
   "execution_count": 3,
   "metadata": {
    "collapsed": true,
    "ExecuteTime": {
     "end_time": "2023-08-02T11:08:52.798837Z",
     "start_time": "2023-08-02T11:08:50.320355Z"
    }
   },
   "outputs": [],
   "source": [
    "from pathlib import Path\n",
    "from keras import Sequential\n",
    "from keras.layers import *\n",
    "from xgboost import XGBClassifier\n",
    "from keras.callbacks import EarlyStopping\n",
    "from keras.losses import BinaryCrossentropy\n",
    "\n",
    "from src.experiment import *\n",
    "from src.data import load_psi, Species\n",
    "from src.features.encodings import pstnpss"
   ]
  },
  {
   "cell_type": "code",
   "execution_count": 4,
   "outputs": [],
   "source": [
    "human_encoder = pstnpss.Encoder(species=Species.human)\n",
    "yeast_encoder = pstnpss.Encoder(species=Species.yeast)"
   ],
   "metadata": {
    "collapsed": false,
    "ExecuteTime": {
     "end_time": "2023-08-02T11:08:53.915798Z",
     "start_time": "2023-08-02T11:08:53.909574Z"
    }
   }
  },
  {
   "cell_type": "code",
   "execution_count": 5,
   "outputs": [],
   "source": [
    "human_test = load_psi(Species.human, independent=True)\n",
    "human_train = load_psi(Species.human, independent=False)\n",
    "\n",
    "yeast_test = load_psi(Species.yeast, independent=True)\n",
    "yeast_train = load_psi(Species.yeast, independent=False)"
   ],
   "metadata": {
    "collapsed": false,
    "ExecuteTime": {
     "end_time": "2023-08-02T11:08:55.027601Z",
     "start_time": "2023-08-02T11:08:55.004895Z"
    }
   }
  },
  {
   "cell_type": "code",
   "execution_count": 6,
   "outputs": [],
   "source": [
    "human_x_train = human_encoder.fit_transform(human_train.samples)\n",
    "human_y_train = human_train.targets\n",
    "human_x_test = human_encoder.fit_transform(human_test.samples)\n",
    "human_y_test = human_test.targets"
   ],
   "metadata": {
    "collapsed": false,
    "ExecuteTime": {
     "end_time": "2023-08-02T11:08:56.492325Z",
     "start_time": "2023-08-02T11:08:56.438737Z"
    }
   }
  },
  {
   "cell_type": "code",
   "execution_count": 7,
   "outputs": [],
   "source": [
    "yeast_x_train = yeast_encoder.fit_transform(yeast_train.samples)\n",
    "yeast_y_train = yeast_train.targets\n",
    "yeast_x_test = yeast_encoder.fit_transform(yeast_test.samples)\n",
    "yeast_y_test = yeast_test.targets"
   ],
   "metadata": {
    "collapsed": false,
    "ExecuteTime": {
     "end_time": "2023-08-02T11:08:57.424737Z",
     "start_time": "2023-08-02T11:08:57.375697Z"
    }
   }
  },
  {
   "cell_type": "code",
   "execution_count": 9,
   "outputs": [
    {
     "name": "stdout",
     "output_type": "stream",
     "text": [
      "Epoch 1/100\n",
      "31/31 [==============================] - 0s 4ms/step - loss: 0.6909 - accuracy: 0.5263 - val_loss: 0.6814 - val_accuracy: 0.6900\n",
      "Epoch 2/100\n",
      "31/31 [==============================] - 0s 2ms/step - loss: 0.6757 - accuracy: 0.6071 - val_loss: 0.6418 - val_accuracy: 0.6750\n",
      "Epoch 3/100\n",
      "31/31 [==============================] - 0s 2ms/step - loss: 0.6430 - accuracy: 0.6576 - val_loss: 0.5833 - val_accuracy: 0.7450\n",
      "Epoch 4/100\n",
      "31/31 [==============================] - 0s 2ms/step - loss: 0.6196 - accuracy: 0.6646 - val_loss: 0.5610 - val_accuracy: 0.7500\n",
      "Epoch 5/100\n",
      "31/31 [==============================] - 0s 2ms/step - loss: 0.6164 - accuracy: 0.6596 - val_loss: 0.5805 - val_accuracy: 0.6950\n",
      "Epoch 6/100\n",
      "31/31 [==============================] - 0s 2ms/step - loss: 0.6083 - accuracy: 0.6626 - val_loss: 0.5371 - val_accuracy: 0.7450\n",
      "Epoch 7/100\n",
      "31/31 [==============================] - 0s 2ms/step - loss: 0.6077 - accuracy: 0.6626 - val_loss: 0.5448 - val_accuracy: 0.7300\n",
      "Epoch 8/100\n",
      "31/31 [==============================] - 0s 2ms/step - loss: 0.6027 - accuracy: 0.6707 - val_loss: 0.5798 - val_accuracy: 0.6750\n",
      "Epoch 9/100\n",
      "31/31 [==============================] - 0s 2ms/step - loss: 0.5971 - accuracy: 0.6778 - val_loss: 0.5128 - val_accuracy: 0.7550\n",
      "Epoch 10/100\n",
      "31/31 [==============================] - 0s 2ms/step - loss: 0.5963 - accuracy: 0.6737 - val_loss: 0.5564 - val_accuracy: 0.7100\n",
      "Epoch 11/100\n",
      "31/31 [==============================] - 0s 2ms/step - loss: 0.5850 - accuracy: 0.6818 - val_loss: 0.5112 - val_accuracy: 0.7450\n",
      "Epoch 12/100\n",
      "31/31 [==============================] - 0s 2ms/step - loss: 0.5856 - accuracy: 0.6899 - val_loss: 0.5222 - val_accuracy: 0.7400\n",
      "Epoch 13/100\n",
      "31/31 [==============================] - 0s 2ms/step - loss: 0.5747 - accuracy: 0.6980 - val_loss: 0.4883 - val_accuracy: 0.7650\n",
      "Epoch 14/100\n",
      "31/31 [==============================] - 0s 2ms/step - loss: 0.5797 - accuracy: 0.6848 - val_loss: 0.4851 - val_accuracy: 0.7700\n",
      "Epoch 15/100\n",
      "31/31 [==============================] - 0s 2ms/step - loss: 0.5719 - accuracy: 0.7273 - val_loss: 0.5129 - val_accuracy: 0.7500\n",
      "Epoch 16/100\n",
      "31/31 [==============================] - 0s 2ms/step - loss: 0.5741 - accuracy: 0.7101 - val_loss: 0.4802 - val_accuracy: 0.7500\n",
      "Epoch 17/100\n",
      "31/31 [==============================] - 0s 2ms/step - loss: 0.5594 - accuracy: 0.7172 - val_loss: 0.4792 - val_accuracy: 0.7800\n",
      "Epoch 18/100\n",
      "31/31 [==============================] - 0s 2ms/step - loss: 0.5600 - accuracy: 0.7192 - val_loss: 0.5142 - val_accuracy: 0.7500\n",
      "Epoch 19/100\n",
      "31/31 [==============================] - 0s 2ms/step - loss: 0.5501 - accuracy: 0.7182 - val_loss: 0.4866 - val_accuracy: 0.7600\n",
      "Epoch 20/100\n",
      "31/31 [==============================] - 0s 2ms/step - loss: 0.5521 - accuracy: 0.7172 - val_loss: 0.4727 - val_accuracy: 0.7450\n",
      "Epoch 21/100\n",
      "31/31 [==============================] - 0s 2ms/step - loss: 0.5502 - accuracy: 0.7263 - val_loss: 0.4674 - val_accuracy: 0.7450\n",
      "Epoch 22/100\n",
      "31/31 [==============================] - 0s 2ms/step - loss: 0.5572 - accuracy: 0.7121 - val_loss: 0.4764 - val_accuracy: 0.7450\n",
      "Epoch 23/100\n",
      "31/31 [==============================] - 0s 2ms/step - loss: 0.5430 - accuracy: 0.7263 - val_loss: 0.5036 - val_accuracy: 0.7300\n",
      "Epoch 24/100\n",
      "31/31 [==============================] - 0s 2ms/step - loss: 0.5498 - accuracy: 0.7141 - val_loss: 0.4743 - val_accuracy: 0.7550\n",
      "Epoch 25/100\n",
      "31/31 [==============================] - 0s 2ms/step - loss: 0.5481 - accuracy: 0.7232 - val_loss: 0.4778 - val_accuracy: 0.7950\n",
      "Epoch 26/100\n",
      "31/31 [==============================] - 0s 2ms/step - loss: 0.5506 - accuracy: 0.7263 - val_loss: 0.4725 - val_accuracy: 0.7550\n"
     ]
    },
    {
     "data": {
      "text/plain": "<keras.src.callbacks.History at 0x29fd5f590>"
     },
     "execution_count": 9,
     "metadata": {},
     "output_type": "execute_result"
    }
   ],
   "source": [
    "human_model = Sequential([\n",
    "    Conv1D(32, 3, activation='relu', input_shape=(19, 1)),\n",
    "    MaxPooling1D(2),\n",
    "    Conv1D(64, 3, activation='relu'),\n",
    "    MaxPooling1D(2),\n",
    "    Flatten(),\n",
    "    Dense(64, activation='relu'),\n",
    "    Dropout(0.2),\n",
    "    Dense(1, activation='sigmoid')\n",
    "])\n",
    "\n",
    "human_model.compile(\n",
    "    loss=BinaryCrossentropy(from_logits=False),\n",
    "    optimizer='adam',\n",
    "    metrics=['accuracy'],\n",
    ")\n",
    "\n",
    "early_stopping = EarlyStopping(\n",
    "    patience=5,\n",
    "    mode='min',\n",
    "    restore_best_weights=True\n",
    ")\n",
    "\n",
    "human_model.fit(human_x_train, human_y_train,\n",
    "                epochs=100, callbacks=[early_stopping],\n",
    "                validation_data=(human_x_test, human_y_test))"
   ],
   "metadata": {
    "collapsed": false,
    "ExecuteTime": {
     "end_time": "2023-08-02T11:09:12.592394Z",
     "start_time": "2023-08-02T11:09:10.952422Z"
    }
   }
  },
  {
   "cell_type": "code",
   "execution_count": 12,
   "outputs": [
    {
     "name": "stdout",
     "output_type": "stream",
     "text": [
      "Epoch 1/100\n",
      "20/20 [==============================] - 0s 4ms/step - loss: 0.6915 - accuracy: 0.5000 - val_loss: 0.6887 - val_accuracy: 0.5350\n",
      "Epoch 2/100\n",
      "20/20 [==============================] - 0s 1ms/step - loss: 0.6874 - accuracy: 0.5462 - val_loss: 0.6838 - val_accuracy: 0.6550\n",
      "Epoch 3/100\n",
      "20/20 [==============================] - 0s 1ms/step - loss: 0.6836 - accuracy: 0.6019 - val_loss: 0.6768 - val_accuracy: 0.7250\n",
      "Epoch 4/100\n",
      "20/20 [==============================] - 0s 1ms/step - loss: 0.6738 - accuracy: 0.6369 - val_loss: 0.6659 - val_accuracy: 0.7150\n",
      "Epoch 5/100\n",
      "20/20 [==============================] - 0s 1ms/step - loss: 0.6647 - accuracy: 0.6704 - val_loss: 0.6528 - val_accuracy: 0.7250\n",
      "Epoch 6/100\n",
      "20/20 [==============================] - 0s 1ms/step - loss: 0.6522 - accuracy: 0.6656 - val_loss: 0.6381 - val_accuracy: 0.7450\n",
      "Epoch 7/100\n",
      "20/20 [==============================] - 0s 1ms/step - loss: 0.6369 - accuracy: 0.7102 - val_loss: 0.6211 - val_accuracy: 0.7550\n",
      "Epoch 8/100\n",
      "20/20 [==============================] - 0s 1ms/step - loss: 0.6181 - accuracy: 0.7086 - val_loss: 0.6019 - val_accuracy: 0.7700\n",
      "Epoch 9/100\n",
      "20/20 [==============================] - 0s 1ms/step - loss: 0.6056 - accuracy: 0.7436 - val_loss: 0.5806 - val_accuracy: 0.8000\n",
      "Epoch 10/100\n",
      "20/20 [==============================] - 0s 1ms/step - loss: 0.5849 - accuracy: 0.7436 - val_loss: 0.5604 - val_accuracy: 0.7950\n",
      "Epoch 11/100\n",
      "20/20 [==============================] - 0s 1ms/step - loss: 0.5593 - accuracy: 0.7643 - val_loss: 0.5357 - val_accuracy: 0.7950\n",
      "Epoch 12/100\n",
      "20/20 [==============================] - 0s 1ms/step - loss: 0.5461 - accuracy: 0.7675 - val_loss: 0.5126 - val_accuracy: 0.8100\n",
      "Epoch 13/100\n",
      "20/20 [==============================] - 0s 1ms/step - loss: 0.5240 - accuracy: 0.7787 - val_loss: 0.4933 - val_accuracy: 0.8200\n",
      "Epoch 14/100\n",
      "20/20 [==============================] - 0s 1ms/step - loss: 0.5273 - accuracy: 0.7787 - val_loss: 0.4696 - val_accuracy: 0.8250\n",
      "Epoch 15/100\n",
      "20/20 [==============================] - 0s 1ms/step - loss: 0.4868 - accuracy: 0.7946 - val_loss: 0.4531 - val_accuracy: 0.8200\n",
      "Epoch 16/100\n",
      "20/20 [==============================] - 0s 1ms/step - loss: 0.4685 - accuracy: 0.7962 - val_loss: 0.4336 - val_accuracy: 0.8350\n",
      "Epoch 17/100\n",
      "20/20 [==============================] - 0s 1ms/step - loss: 0.4618 - accuracy: 0.7962 - val_loss: 0.4193 - val_accuracy: 0.8150\n",
      "Epoch 18/100\n",
      "20/20 [==============================] - 0s 1ms/step - loss: 0.4613 - accuracy: 0.8248 - val_loss: 0.4137 - val_accuracy: 0.8250\n",
      "Epoch 19/100\n",
      "20/20 [==============================] - 0s 1ms/step - loss: 0.4402 - accuracy: 0.8185 - val_loss: 0.3962 - val_accuracy: 0.8200\n",
      "Epoch 20/100\n",
      "20/20 [==============================] - 0s 1ms/step - loss: 0.4238 - accuracy: 0.8376 - val_loss: 0.3910 - val_accuracy: 0.8300\n",
      "Epoch 21/100\n",
      "20/20 [==============================] - 0s 1ms/step - loss: 0.4430 - accuracy: 0.8185 - val_loss: 0.3812 - val_accuracy: 0.8200\n",
      "Epoch 22/100\n",
      "20/20 [==============================] - 0s 1ms/step - loss: 0.4238 - accuracy: 0.8280 - val_loss: 0.3769 - val_accuracy: 0.8200\n",
      "Epoch 23/100\n",
      "20/20 [==============================] - 0s 1ms/step - loss: 0.4083 - accuracy: 0.8392 - val_loss: 0.3742 - val_accuracy: 0.8200\n",
      "Epoch 24/100\n",
      "20/20 [==============================] - 0s 1ms/step - loss: 0.4086 - accuracy: 0.8424 - val_loss: 0.3692 - val_accuracy: 0.8250\n",
      "Epoch 25/100\n",
      "20/20 [==============================] - 0s 1ms/step - loss: 0.3937 - accuracy: 0.8376 - val_loss: 0.3643 - val_accuracy: 0.8250\n",
      "Epoch 26/100\n",
      "20/20 [==============================] - 0s 1ms/step - loss: 0.4057 - accuracy: 0.8344 - val_loss: 0.3616 - val_accuracy: 0.8250\n",
      "Epoch 27/100\n",
      "20/20 [==============================] - 0s 1ms/step - loss: 0.3886 - accuracy: 0.8455 - val_loss: 0.3538 - val_accuracy: 0.8300\n",
      "Epoch 28/100\n",
      "20/20 [==============================] - 0s 1ms/step - loss: 0.4112 - accuracy: 0.8312 - val_loss: 0.3501 - val_accuracy: 0.8400\n",
      "Epoch 29/100\n",
      "20/20 [==============================] - 0s 1ms/step - loss: 0.3754 - accuracy: 0.8694 - val_loss: 0.3436 - val_accuracy: 0.8400\n",
      "Epoch 30/100\n",
      "20/20 [==============================] - 0s 1ms/step - loss: 0.4031 - accuracy: 0.8471 - val_loss: 0.3477 - val_accuracy: 0.8400\n",
      "Epoch 31/100\n",
      "20/20 [==============================] - 0s 1ms/step - loss: 0.3745 - accuracy: 0.8551 - val_loss: 0.3496 - val_accuracy: 0.8350\n",
      "Epoch 32/100\n",
      "20/20 [==============================] - 0s 1ms/step - loss: 0.3915 - accuracy: 0.8487 - val_loss: 0.3450 - val_accuracy: 0.8350\n",
      "Epoch 33/100\n",
      "20/20 [==============================] - 0s 1ms/step - loss: 0.3687 - accuracy: 0.8487 - val_loss: 0.3424 - val_accuracy: 0.8350\n",
      "Epoch 34/100\n",
      "20/20 [==============================] - 0s 1ms/step - loss: 0.3811 - accuracy: 0.8551 - val_loss: 0.3380 - val_accuracy: 0.8450\n",
      "Epoch 35/100\n",
      "20/20 [==============================] - 0s 1ms/step - loss: 0.3648 - accuracy: 0.8487 - val_loss: 0.3389 - val_accuracy: 0.8400\n",
      "Epoch 36/100\n",
      "20/20 [==============================] - 0s 1ms/step - loss: 0.3766 - accuracy: 0.8424 - val_loss: 0.3439 - val_accuracy: 0.8350\n",
      "Epoch 37/100\n",
      "20/20 [==============================] - 0s 1ms/step - loss: 0.3664 - accuracy: 0.8599 - val_loss: 0.3332 - val_accuracy: 0.8400\n",
      "Epoch 38/100\n",
      "20/20 [==============================] - 0s 1ms/step - loss: 0.3618 - accuracy: 0.8694 - val_loss: 0.3336 - val_accuracy: 0.8400\n",
      "Epoch 39/100\n",
      "20/20 [==============================] - 0s 1ms/step - loss: 0.3723 - accuracy: 0.8551 - val_loss: 0.3345 - val_accuracy: 0.8400\n",
      "Epoch 40/100\n",
      "20/20 [==============================] - 0s 1ms/step - loss: 0.3789 - accuracy: 0.8583 - val_loss: 0.3375 - val_accuracy: 0.8350\n",
      "Epoch 41/100\n",
      "20/20 [==============================] - 0s 1ms/step - loss: 0.3781 - accuracy: 0.8583 - val_loss: 0.3339 - val_accuracy: 0.8450\n",
      "Epoch 42/100\n",
      "20/20 [==============================] - 0s 1ms/step - loss: 0.3651 - accuracy: 0.8646 - val_loss: 0.3339 - val_accuracy: 0.8450\n"
     ]
    },
    {
     "data": {
      "text/plain": "<keras.src.callbacks.History at 0x2c9ac1ad0>"
     },
     "execution_count": 12,
     "metadata": {},
     "output_type": "execute_result"
    }
   ],
   "source": [
    "yeast_model = Sequential([\n",
    "    Dense(29, input_dim=29, activation='relu'),\n",
    "    Dropout(0.2),\n",
    "    Dense(16, activation='relu'),\n",
    "    Dropout(0.5),\n",
    "    Dense(1, activation='sigmoid'),\n",
    "])\n",
    "\n",
    "yeast_model.compile(\n",
    "    loss=BinaryCrossentropy(from_logits=False),\n",
    "    optimizer='adam',\n",
    "    metrics=['accuracy']\n",
    ")\n",
    "\n",
    "early_stopping = EarlyStopping(\n",
    "    monitor='val_loss',\n",
    "    patience=5,\n",
    "    mode='min',\n",
    "    restore_best_weights=True,\n",
    ")\n",
    "\n",
    "yeast_model.fit(yeast_x_train, yeast_y_train,\n",
    "                epochs=100, callbacks=[early_stopping],\n",
    "                validation_data=(yeast_x_test, yeast_y_test))"
   ],
   "metadata": {
    "collapsed": false,
    "ExecuteTime": {
     "end_time": "2023-08-02T11:09:54.892423Z",
     "start_time": "2023-08-02T11:09:53.500021Z"
    }
   }
  },
  {
   "cell_type": "code",
   "execution_count": 16,
   "outputs": [],
   "source": [
    "def select_features(features):\n",
    "    selection = [10, 12, 8, 9, 17, 7, 6, 15, 14, 11, 2, 13, 5, 16, 18, 4, 1, 3, 0]\n",
    "    imp_features = list(map(lambda x: f'pstnpss_{x}', selection))\n",
    "    return features[imp_features]"
   ],
   "metadata": {
    "collapsed": false,
    "ExecuteTime": {
     "end_time": "2023-08-02T11:10:57.712149Z",
     "start_time": "2023-08-02T11:10:57.704255Z"
    }
   }
  },
  {
   "cell_type": "code",
   "execution_count": 17,
   "outputs": [],
   "source": [
    "human_classifier = XGBClassifier(\n",
    "    base_score=0.5, booster='gbtree', colsample_bynode=1, max_depth=6, verbosity=1, colsample_bytree=0.637482,\n",
    "    subsample=0.901284, learning_rate=0.276002, reg_alpha=0, max_delta_step=0, min_child_weight=1, n_jobs=1,\n",
    "    n_estimators=1082, colsample_bylevel=1, random_state=0, reg_lambda=1, scale_pos_weight=1, gamma=0.103823\n",
    ")\n",
    "\n",
    "human_classifier.fit(select_features(human_x_train), human_y_train)\n",
    "human_classifier.score(select_features(human_x_test), human_y_test)\n",
    "None"
   ],
   "metadata": {
    "collapsed": false,
    "ExecuteTime": {
     "end_time": "2023-08-02T11:11:03.606471Z",
     "start_time": "2023-08-02T11:11:02.644505Z"
    }
   }
  },
  {
   "cell_type": "code",
   "execution_count": 18,
   "outputs": [],
   "source": [
    "yeast_classifier = XGBClassifier(\n",
    "    base_score=0.5, booster='gbtree', colsample_bynode=1, max_depth=6, verbosity=1, colsample_bytree=0.637482,\n",
    "    subsample=0.901284, learning_rate=0.276002, reg_alpha=0, max_delta_step=0, min_child_weight=1, n_jobs=1,\n",
    "    n_estimators=1082, colsample_bylevel=1, random_state=0, reg_lambda=1, scale_pos_weight=1, gamma=0.103823\n",
    ")\n",
    "\n",
    "yeast_classifier.fit(select_features(yeast_x_train), yeast_y_train)\n",
    "yeast_classifier.score(select_features(yeast_x_test), yeast_y_test)\n",
    "None"
   ],
   "metadata": {
    "collapsed": false,
    "ExecuteTime": {
     "end_time": "2023-08-02T11:11:05.106855Z",
     "start_time": "2023-08-02T11:11:04.561908Z"
    }
   }
  },
  {
   "cell_type": "code",
   "execution_count": 20,
   "outputs": [
    {
     "name": "stdout",
     "output_type": "stream",
     "text": [
      "7/7 [==============================] - 0s 616us/step\n",
      "7/7 [==============================] - 0s 555us/step\n",
      "note: Running TeX ...\n",
      "note: Rerunning TeX because \"human_nn_test.aux\" changed ...\n",
      "note: Running xdvipdfmx ...\n",
      "note: Writing `pstnpss_report/human_nn_test.pdf` (26.38 KiB)\n",
      "note: Skipped writing 1 intermediate files (use --keep-intermediates to keep them)\n",
      "7/7 [==============================] - 0s 525us/step\n",
      "7/7 [==============================] - 0s 537us/step\n",
      "note: Running TeX ...\n",
      "note: Rerunning TeX because \"yeast_nn_test.aux\" changed ...\n",
      "note: Running xdvipdfmx ...\n",
      "note: Writing `pstnpss_report/yeast_nn_test.pdf` (26.55 KiB)\n",
      "note: Skipped writing 1 intermediate files (use --keep-intermediates to keep them)\n",
      "note: Running TeX ...\n",
      "note: Rerunning TeX because \"human_xg_test.aux\" changed ...\n",
      "note: Running xdvipdfmx ...\n",
      "note: Writing `pstnpss_report/human_xg_test.pdf` (26.26 KiB)\n",
      "note: Skipped writing 1 intermediate files (use --keep-intermediates to keep them)\n",
      "note: Running TeX ...\n",
      "note: Rerunning TeX because \"yeast_xg_test.aux\" changed ...\n",
      "note: Running xdvipdfmx ...\n",
      "note: Writing `pstnpss_report/yeast_xg_test.pdf` (27.05 KiB)\n",
      "note: Skipped writing 1 intermediate files (use --keep-intermediates to keep them)\n"
     ]
    }
   ],
   "source": [
    "generate_latex_report(\n",
    "    Report.create_report(human_model, (human_x_test, human_y_test), True),\n",
    "    'human_nn_test',\n",
    "    Path('pstnpss_report'),\n",
    "    True\n",
    ")\n",
    "\n",
    "generate_latex_report(\n",
    "    Report.create_report(yeast_model, (yeast_x_test, yeast_y_test), True),\n",
    "    'yeast_nn_test',\n",
    "    Path('pstnpss_report'),\n",
    "    True\n",
    ")\n",
    "\n",
    "generate_latex_report(\n",
    "    Report.create_report(human_classifier, (select_features(human_x_test), human_y_test)),\n",
    "    'human_xg_test',\n",
    "    Path('pstnpss_report'),\n",
    "    True\n",
    ")\n",
    "\n",
    "generate_latex_report(\n",
    "    Report.create_report(yeast_classifier, (select_features(yeast_x_test), yeast_y_test)),\n",
    "    'yeast_xg_test',\n",
    "    Path('pstnpss_report'),\n",
    "    True\n",
    ")"
   ],
   "metadata": {
    "collapsed": false,
    "ExecuteTime": {
     "end_time": "2023-08-02T11:11:38.207248Z",
     "start_time": "2023-08-02T11:11:31.501415Z"
    }
   }
  },
  {
   "cell_type": "code",
   "execution_count": null,
   "outputs": [],
   "source": [],
   "metadata": {
    "collapsed": false
   }
  }
 ],
 "metadata": {
  "kernelspec": {
   "display_name": "Python 3",
   "language": "python",
   "name": "python3"
  },
  "language_info": {
   "codemirror_mode": {
    "name": "ipython",
    "version": 2
   },
   "file_extension": ".py",
   "mimetype": "text/x-python",
   "name": "python",
   "nbconvert_exporter": "python",
   "pygments_lexer": "ipython2",
   "version": "2.7.6"
  }
 },
 "nbformat": 4,
 "nbformat_minor": 0
}
