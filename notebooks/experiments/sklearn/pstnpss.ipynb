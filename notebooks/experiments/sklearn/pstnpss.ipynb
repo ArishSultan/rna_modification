{
 "cells": [
  {
   "cell_type": "code",
   "execution_count": 2,
   "outputs": [],
   "source": [
    "import random\n",
    "import numpy as np\n",
    "\n",
    "random.seed(0)\n",
    "np.random.seed(0)"
   ],
   "metadata": {
    "collapsed": false,
    "ExecuteTime": {
     "start_time": "2023-05-23T23:42:53.805594Z",
     "end_time": "2023-05-23T23:42:53.811064Z"
    }
   }
  },
  {
   "cell_type": "code",
   "execution_count": 3,
   "metadata": {
    "collapsed": true,
    "ExecuteTime": {
     "start_time": "2023-05-23T23:42:54.610216Z",
     "end_time": "2023-05-23T23:42:55.868638Z"
    }
   },
   "outputs": [],
   "source": [
    "from pathlib import Path\n",
    "from sklearn.ensemble import RandomForestClassifier\n",
    "\n",
    "from src.features.encoder import FeatureEncoder\n",
    "from src.data.data_loader import load_dataset, Species\n",
    "from src.models.reporting.model_report import ModelReport\n",
    "from src.models.reporting.single_report import generate_report"
   ]
  },
  {
   "cell_type": "code",
   "execution_count": 4,
   "outputs": [],
   "source": [
    "human_train = load_dataset(\n",
    "    Species.human,\n",
    "    encoding=lambda x: FeatureEncoder.pstnpss(x, 'hs')\n",
    ")\n",
    "\n",
    "human_test = load_dataset(\n",
    "    Species.human,\n",
    "    independent=True,\n",
    "    encoding=lambda x: FeatureEncoder.pstnpss(x, 'hs')\n",
    ")\n",
    "\n",
    "yeast_train = load_dataset(\n",
    "    Species.yeast,\n",
    "    encoding=lambda x: FeatureEncoder.pstnpss(x, 'sc')\n",
    ")\n",
    "\n",
    "yeast_test = load_dataset(\n",
    "    Species.yeast,\n",
    "    independent=True,\n",
    "    encoding=lambda x: FeatureEncoder.pstnpss(x, 'sc')\n",
    ")"
   ],
   "metadata": {
    "collapsed": false,
    "ExecuteTime": {
     "start_time": "2023-05-23T23:44:10.464601Z",
     "end_time": "2023-05-23T23:44:10.505974Z"
    }
   }
  },
  {
   "cell_type": "code",
   "execution_count": 5,
   "outputs": [],
   "source": [
    "human_classifier = RandomForestClassifier()\n",
    "yeast_classifier = RandomForestClassifier()"
   ],
   "metadata": {
    "collapsed": false,
    "ExecuteTime": {
     "start_time": "2023-05-23T23:44:12.364931Z",
     "end_time": "2023-05-23T23:44:12.372396Z"
    }
   }
  },
  {
   "cell_type": "code",
   "execution_count": 45,
   "outputs": [],
   "source": [
    "human_classifier.fit(human_train[0], human_train[1])\n",
    "yeast_classifier.fit(yeast_train[0], yeast_train[1])\n",
    "None"
   ],
   "metadata": {
    "collapsed": false,
    "ExecuteTime": {
     "start_time": "2023-05-24T15:17:13.109123Z",
     "end_time": "2023-05-24T15:17:13.374172Z"
    }
   }
  },
  {
   "cell_type": "code",
   "execution_count": 7,
   "outputs": [
    {
     "name": "stdout",
     "output_type": "stream",
     "text": [
      "note: Running TeX ...\n",
      "note: Rerunning TeX because \"report.aux\" changed ...\n",
      "note: Running xdvipdfmx ...\n",
      "note: Writing `pstnpss/report.pdf` (31.99 KiB)\n",
      "note: Skipped writing 1 intermediate files (use --keep-intermediates to keep them)\n"
     ]
    },
    {
     "data": {
      "text/plain": "<Figure size 640x480 with 0 Axes>"
     },
     "metadata": {},
     "output_type": "display_data"
    },
    {
     "data": {
      "text/plain": "<Figure size 640x480 with 0 Axes>"
     },
     "metadata": {},
     "output_type": "display_data"
    },
    {
     "data": {
      "text/plain": "<Figure size 640x480 with 0 Axes>"
     },
     "metadata": {},
     "output_type": "display_data"
    },
    {
     "data": {
      "text/plain": "<Figure size 640x480 with 0 Axes>"
     },
     "metadata": {},
     "output_type": "display_data"
    },
    {
     "data": {
      "text/plain": "<Figure size 640x480 with 0 Axes>"
     },
     "metadata": {},
     "output_type": "display_data"
    },
    {
     "data": {
      "text/plain": "<Figure size 640x480 with 0 Axes>"
     },
     "metadata": {},
     "output_type": "display_data"
    },
    {
     "data": {
      "text/plain": "<Figure size 640x480 with 0 Axes>"
     },
     "metadata": {},
     "output_type": "display_data"
    },
    {
     "data": {
      "text/plain": "<Figure size 640x480 with 0 Axes>"
     },
     "metadata": {},
     "output_type": "display_data"
    },
    {
     "data": {
      "text/plain": "<Figure size 640x480 with 0 Axes>"
     },
     "metadata": {},
     "output_type": "display_data"
    },
    {
     "data": {
      "text/plain": "<Figure size 640x480 with 0 Axes>"
     },
     "metadata": {},
     "output_type": "display_data"
    },
    {
     "data": {
      "text/plain": "<Figure size 640x480 with 0 Axes>"
     },
     "metadata": {},
     "output_type": "display_data"
    },
    {
     "data": {
      "text/plain": "<Figure size 640x480 with 0 Axes>"
     },
     "metadata": {},
     "output_type": "display_data"
    }
   ],
   "source": [
    "human_report = ModelReport.generate(human_classifier, human_test[0], human_test[1])\n",
    "yeast_report = ModelReport.generate(yeast_classifier, yeast_test[0], yeast_test[1])\n",
    "generate_report({'human': human_report, 'yeast': yeast_report}, Path('pstnpss'))"
   ],
   "metadata": {
    "collapsed": false,
    "ExecuteTime": {
     "start_time": "2023-05-23T23:45:08.566386Z",
     "end_time": "2023-05-23T23:45:11.803044Z"
    }
   }
  },
  {
   "cell_type": "code",
   "execution_count": null,
   "outputs": [],
   "source": [],
   "metadata": {
    "collapsed": false
   }
  }
 ],
 "metadata": {
  "kernelspec": {
   "display_name": "Python 3",
   "language": "python",
   "name": "python3"
  },
  "language_info": {
   "codemirror_mode": {
    "name": "ipython",
    "version": 2
   },
   "file_extension": ".py",
   "mimetype": "text/x-python",
   "name": "python",
   "nbconvert_exporter": "python",
   "pygments_lexer": "ipython2",
   "version": "2.7.6"
  }
 },
 "nbformat": 4,
 "nbformat_minor": 0
}
