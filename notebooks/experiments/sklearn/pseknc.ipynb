{
 "cells": [
  {
   "cell_type": "code",
   "execution_count": 1,
   "outputs": [],
   "source": [
    "import random\n",
    "import numpy as np\n",
    "\n",
    "from src.model import random_forest\n",
    "from src.experiment import Experiment\n",
    "from src.data import load_psi, Species\n",
    "from src.features.encodings import pstnpss\n",
    "from src.experiment.reports.latex_report import *\n",
    "\n",
    "random.seed(0)\n",
    "np.random.seed(0)"
   ],
   "metadata": {
    "collapsed": false,
    "ExecuteTime": {
     "end_time": "2023-07-25T18:26:02.159856Z",
     "start_time": "2023-07-25T18:26:01.273683Z"
    }
   }
  },
  {
   "cell_type": "code",
   "execution_count": 2,
   "outputs": [],
   "source": [
    "human_encoder = pstnpss.Encoder()\n",
    "yeast_encoder = pstnpss.Encoder(Species.yeast)"
   ],
   "metadata": {
    "collapsed": false,
    "ExecuteTime": {
     "end_time": "2023-07-25T18:26:02.162243Z",
     "start_time": "2023-07-25T18:26:02.160258Z"
    }
   }
  },
  {
   "cell_type": "code",
   "execution_count": 3,
   "outputs": [],
   "source": [
    "human_train = load_psi(Species.human, independent=False)\n",
    "human_test = load_psi(Species.human, independent=True)\n",
    "\n",
    "yeast_train = load_psi(Species.yeast, independent=False)\n",
    "yeast_test = load_psi(Species.yeast, independent=True)"
   ],
   "metadata": {
    "collapsed": false,
    "ExecuteTime": {
     "end_time": "2023-07-25T18:26:02.169628Z",
     "start_time": "2023-07-25T18:26:02.162853Z"
    }
   }
  },
  {
   "cell_type": "code",
   "execution_count": 4,
   "outputs": [],
   "source": [
    "human_report = Experiment(random_forest.Factory(), human_test, human_train, human_encoder).run()\n",
    "yeast_report = Experiment(random_forest.Factory(), yeast_test, yeast_train, yeast_encoder).run()"
   ],
   "metadata": {
    "collapsed": false,
    "ExecuteTime": {
     "end_time": "2023-07-25T18:26:03.533471Z",
     "start_time": "2023-07-25T18:26:02.241247Z"
    }
   }
  },
  {
   "cell_type": "code",
   "execution_count": 5,
   "outputs": [
    {
     "name": "stdout",
     "output_type": "stream",
     "text": [
      "note: Running TeX ...\n",
      "note: Rerunning TeX because \"train.aux\" changed ...\n",
      "note: Running xdvipdfmx ...\n",
      "note: Writing `pseknc_human/train.pdf` (72.40 KiB)\n",
      "note: Skipped writing 1 intermediate files (use --keep-intermediates to keep them)\n",
      "note: Running TeX ...\n",
      "note: Rerunning TeX because \"train.aux\" changed ...\n",
      "note: Running xdvipdfmx ...\n",
      "note: Writing `pseknc_yeast/train.pdf` (60.68 KiB)\n",
      "note: Skipped writing 1 intermediate files (use --keep-intermediates to keep them)\n",
      "note: Running TeX ...\n",
      "note: Rerunning TeX because \"test.aux\" changed ...\n",
      "note: Running xdvipdfmx ...\n",
      "note: Writing `pseknc_human/test.pdf` (26.00 KiB)\n",
      "note: Skipped writing 1 intermediate files (use --keep-intermediates to keep them)\n",
      "note: Running TeX ...\n",
      "note: Rerunning TeX because \"test.aux\" changed ...\n",
      "note: Running xdvipdfmx ...\n",
      "note: Writing `pseknc_yeast/test.pdf` (26.00 KiB)\n",
      "note: Skipped writing 1 intermediate files (use --keep-intermediates to keep them)\n"
     ]
    }
   ],
   "source": [
    "generate_kfold_latex_report(human_report['train'], 'train', Path('pseknc_human'), True)\n",
    "generate_kfold_latex_report(yeast_report['train'], 'train', Path('pseknc_yeast'), True)\n",
    "\n",
    "generate_latex_report(human_report['test'], 'test', Path('pseknc_human'), True)\n",
    "generate_latex_report(yeast_report['test'], 'test', Path('pseknc_yeast'), True)"
   ],
   "metadata": {
    "collapsed": false,
    "ExecuteTime": {
     "end_time": "2023-07-25T18:26:14.448602Z",
     "start_time": "2023-07-25T18:26:03.534611Z"
    }
   }
  }
 ],
 "metadata": {
  "kernelspec": {
   "display_name": "Python 3",
   "language": "python",
   "name": "python3"
  },
  "language_info": {
   "codemirror_mode": {
    "name": "ipython",
    "version": 2
   },
   "file_extension": ".py",
   "mimetype": "text/x-python",
   "name": "python",
   "nbconvert_exporter": "python",
   "pygments_lexer": "ipython2",
   "version": "2.7.6"
  }
 },
 "nbformat": 4,
 "nbformat_minor": 0
}
